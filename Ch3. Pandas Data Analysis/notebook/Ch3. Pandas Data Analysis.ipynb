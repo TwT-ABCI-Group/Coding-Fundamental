{
 "cells": [
  {
   "cell_type": "markdown",
   "metadata": {},
   "source": [
    "## Ch3. Pandas Data Analysis"
   ]
  },
  {
   "cell_type": "markdown",
   "metadata": {},
   "source": [
    "### 0. Introduction\n",
    "\n",
    "Numpy 在向量化的数值计算中表现优异，但是在处理更灵活、复杂的数据任务——如为数据添加标签、处理缺失值、分组和透视表等方面，numpy显得力不从心。本章介绍pandas，pandas是一个强大的工具。  Pandas是基于numpy构建的数据分析库，他为我们提供了许多强大的类和函数以及使数据分析变得更快更简单的高级数据结构与操作工具，能够让我们方便且高效的实现数据分析。Pandas的优势之一是提供了`Dataframe`数据类型，是的我们可以通过一列或多列来分组数据。本章的主要内容如以下：\n",
    "\n",
    "1. Pandas核心对象——Dataframe与Series。\n",
    "2. Pandas Dataframe的属性与相关操作。\n",
    "3. 使用Pandas进行数据分析。"
   ]
  },
  {
   "cell_type": "markdown",
   "metadata": {},
   "source": [
    "### 1. Pandas对象及其创建\n",
    "\n",
    "Pandas为我们提供了许多方便的对象，其中`Dataframe`与`Series`是Pandas的核心对象，他们是pandas数据分析的核心。主要为我们提供了类似excel与电子表格相类似的数据处理分析过程，使我们能够方便快速地进行数据分析操作。在这里我们将为大家简单的介绍pandas相关对象的创建，pandas为我们提供了灵活的实例化方法。"
   ]
  },
  {
   "cell_type": "markdown",
   "metadata": {},
   "source": [
    "#### 1.1 Pandas Series对象的创建"
   ]
  },
  {
   "cell_type": "markdown",
   "metadata": {},
   "source": [
    "在pandas中Series可以看作是是带标签数据的一维数组，我们可以通过`pd.Series`实例化方法来创建该数据结构。一维的Series同时也可以看作是二维数据表格Dataframe的一种特殊形式。在使用`pd.Series(data, index=index, dtype=dtype)`方法时，我们可以通过指定`index`或者`dtype`参数来指定Series的索引与数据类型。\n",
    "\n",
    "1. 通过列表创建\n",
    "\n",
    "我们可以通过将列表直接传入`pd.Series`中来创建一个Series对象，如果index缺省，则默认索引为整数序列"
   ]
  },
  {
   "cell_type": "code",
   "execution_count": 16,
   "metadata": {
    "scrolled": true,
    "ExecuteTime": {
     "end_time": "2024-11-05T08:57:20.328490200Z",
     "start_time": "2024-11-05T08:57:14.786751400Z"
    }
   },
   "outputs": [
    {
     "data": {
      "text/plain": "0    1.5\n1    3.0\n2    4.5\n3    6.0\ndtype: float64"
     },
     "execution_count": 16,
     "metadata": {},
     "output_type": "execute_result"
    }
   ],
   "source": [
    "import pandas as pd\n",
    "\n",
    "data = pd.Series([1.5, 3, 4.5, 6])\n",
    "data"
   ]
  },
  {
   "cell_type": "markdown",
   "metadata": {},
   "source": [
    "除了默认的整数索引，我们也可以显式的传入我们指定的索引序列来增加index"
   ]
  },
  {
   "cell_type": "code",
   "execution_count": 17,
   "metadata": {
    "ExecuteTime": {
     "end_time": "2024-11-05T08:57:24.400163800Z",
     "start_time": "2024-11-05T08:57:14.808480300Z"
    }
   },
   "outputs": [
    {
     "data": {
      "text/plain": "a    1.5\nb    3.0\nc    4.5\nd    6.0\ndtype: float64"
     },
     "execution_count": 17,
     "metadata": {},
     "output_type": "execute_result"
    }
   ],
   "source": [
    "data = pd.Series([1.5, 3, 4.5, 6], index=[\"a\", \"b\", \"c\", \"d\"])\n",
    "data"
   ]
  },
  {
   "cell_type": "markdown",
   "metadata": {},
   "source": [
    "我们可以通过设定`dtype`参数来设定对象的数据类型，如果参数缺省则从传入的数据自动判断"
   ]
  },
  {
   "cell_type": "code",
   "execution_count": 18,
   "metadata": {
    "ExecuteTime": {
     "end_time": "2024-11-05T08:57:24.547074800Z",
     "start_time": "2024-11-05T08:57:14.837829100Z"
    }
   },
   "outputs": [
    {
     "data": {
      "text/plain": "a    1\nb    2\nc    3\nd    4\ndtype: int64"
     },
     "execution_count": 18,
     "metadata": {},
     "output_type": "execute_result"
    }
   ],
   "source": [
    "data = pd.Series([1, 2, 3, 4], index=[\"a\", \"b\", \"c\", \"d\"])\n",
    "data"
   ]
  },
  {
   "cell_type": "code",
   "execution_count": 19,
   "metadata": {
    "scrolled": true,
    "ExecuteTime": {
     "end_time": "2024-11-05T08:57:24.707916400Z",
     "start_time": "2024-11-05T08:57:14.859678700Z"
    }
   },
   "outputs": [
    {
     "data": {
      "text/plain": "a    1.0\nb    2.0\nc    3.0\nd    4.0\ndtype: float64"
     },
     "execution_count": 19,
     "metadata": {},
     "output_type": "execute_result"
    }
   ],
   "source": [
    "data = pd.Series([1, 2, 3, 4], index=[\"a\", \"b\", \"c\", \"d\"], dtype=\"float\")\n",
    "data"
   ]
  },
  {
   "cell_type": "markdown",
   "metadata": {},
   "source": [
    "需要我们注意的是，与numpy数组不同，pandas中数据支持多种类型"
   ]
  },
  {
   "cell_type": "code",
   "execution_count": 20,
   "metadata": {
    "scrolled": true,
    "ExecuteTime": {
     "end_time": "2024-11-05T08:57:24.870191300Z",
     "start_time": "2024-11-05T08:57:14.874659300Z"
    }
   },
   "outputs": [
    {
     "data": {
      "text/plain": "a    1\nb    2\nc    3\nd    4\ndtype: object"
     },
     "execution_count": 20,
     "metadata": {},
     "output_type": "execute_result"
    }
   ],
   "source": [
    "data = pd.Series([1, 2, \"3\", 4], index=[\"a\", \"b\", \"c\", \"d\"])\n",
    "data"
   ]
  },
  {
   "cell_type": "code",
   "execution_count": 21,
   "metadata": {
    "ExecuteTime": {
     "end_time": "2024-11-05T08:57:24.870191300Z",
     "start_time": "2024-11-05T08:57:14.890374800Z"
    }
   },
   "outputs": [
    {
     "data": {
      "text/plain": "1"
     },
     "execution_count": 21,
     "metadata": {},
     "output_type": "execute_result"
    }
   ],
   "source": [
    "data[\"a\"]"
   ]
  },
  {
   "cell_type": "code",
   "execution_count": 22,
   "metadata": {
    "scrolled": true,
    "ExecuteTime": {
     "end_time": "2024-11-05T08:57:24.924889Z",
     "start_time": "2024-11-05T08:57:14.905676400Z"
    }
   },
   "outputs": [
    {
     "data": {
      "text/plain": "'3'"
     },
     "execution_count": 22,
     "metadata": {},
     "output_type": "execute_result"
    }
   ],
   "source": [
    "data[\"c\"]"
   ]
  },
  {
   "cell_type": "markdown",
   "metadata": {},
   "source": [
    "同时我们也可以通过指定`dtype`参数来强制的规定统一的数据类型，数据类型可被强制改变"
   ]
  },
  {
   "cell_type": "code",
   "execution_count": 23,
   "metadata": {
    "ExecuteTime": {
     "end_time": "2024-11-05T08:57:24.924889Z",
     "start_time": "2024-11-05T08:57:14.920256800Z"
    }
   },
   "outputs": [
    {
     "data": {
      "text/plain": "a    1.0\nb    2.0\nc    3.0\nd    4.0\ndtype: float64"
     },
     "execution_count": 23,
     "metadata": {},
     "output_type": "execute_result"
    }
   ],
   "source": [
    "data = pd.Series([1, 2, \"3\", 4], index=[\"a\", \"b\", \"c\", \"d\"], dtype=float)\n",
    "data"
   ]
  },
  {
   "cell_type": "code",
   "execution_count": 24,
   "metadata": {
    "scrolled": true,
    "ExecuteTime": {
     "end_time": "2024-11-05T08:57:24.924889Z",
     "start_time": "2024-11-05T08:57:14.936574200Z"
    }
   },
   "outputs": [
    {
     "data": {
      "text/plain": "3.0"
     },
     "execution_count": 24,
     "metadata": {},
     "output_type": "execute_result"
    }
   ],
   "source": [
    "data[\"c\"]"
   ]
  },
  {
   "cell_type": "code",
   "execution_count": 25,
   "metadata": {
    "ExecuteTime": {
     "end_time": "2024-11-05T08:57:25.107063500Z",
     "start_time": "2024-11-05T08:57:14.951734Z"
    }
   },
   "outputs": [
    {
     "ename": "ValueError",
     "evalue": "could not convert string to float: 'a'",
     "output_type": "error",
     "traceback": [
      "\u001B[1;31m---------------------------------------------------------------------------\u001B[0m",
      "\u001B[1;31mValueError\u001B[0m                                Traceback (most recent call last)",
      "Cell \u001B[1;32mIn[25], line 1\u001B[0m\n\u001B[1;32m----> 1\u001B[0m data \u001B[38;5;241m=\u001B[39m \u001B[43mpd\u001B[49m\u001B[38;5;241;43m.\u001B[39;49m\u001B[43mSeries\u001B[49m\u001B[43m(\u001B[49m\u001B[43m[\u001B[49m\u001B[38;5;241;43m1\u001B[39;49m\u001B[43m,\u001B[49m\u001B[43m \u001B[49m\u001B[38;5;241;43m2\u001B[39;49m\u001B[43m,\u001B[49m\u001B[43m \u001B[49m\u001B[38;5;124;43m\"\u001B[39;49m\u001B[38;5;124;43ma\u001B[39;49m\u001B[38;5;124;43m\"\u001B[39;49m\u001B[43m,\u001B[49m\u001B[43m \u001B[49m\u001B[38;5;241;43m4\u001B[39;49m\u001B[43m]\u001B[49m\u001B[43m,\u001B[49m\u001B[43m \u001B[49m\u001B[43mindex\u001B[49m\u001B[38;5;241;43m=\u001B[39;49m\u001B[43m[\u001B[49m\u001B[38;5;124;43m\"\u001B[39;49m\u001B[38;5;124;43ma\u001B[39;49m\u001B[38;5;124;43m\"\u001B[39;49m\u001B[43m,\u001B[49m\u001B[43m \u001B[49m\u001B[38;5;124;43m\"\u001B[39;49m\u001B[38;5;124;43mb\u001B[39;49m\u001B[38;5;124;43m\"\u001B[39;49m\u001B[43m,\u001B[49m\u001B[43m \u001B[49m\u001B[38;5;124;43m\"\u001B[39;49m\u001B[38;5;124;43mc\u001B[39;49m\u001B[38;5;124;43m\"\u001B[39;49m\u001B[43m,\u001B[49m\u001B[43m \u001B[49m\u001B[38;5;124;43m\"\u001B[39;49m\u001B[38;5;124;43md\u001B[39;49m\u001B[38;5;124;43m\"\u001B[39;49m\u001B[43m]\u001B[49m\u001B[43m,\u001B[49m\u001B[43m \u001B[49m\u001B[43mdtype\u001B[49m\u001B[38;5;241;43m=\u001B[39;49m\u001B[38;5;28;43mfloat\u001B[39;49m\u001B[43m)\u001B[49m\n\u001B[0;32m      2\u001B[0m data\n",
      "File \u001B[1;32mD:\\Anaconda3\\envs\\my_pytorch_env\\lib\\site-packages\\pandas\\core\\series.py:584\u001B[0m, in \u001B[0;36mSeries.__init__\u001B[1;34m(self, data, index, dtype, name, copy, fastpath)\u001B[0m\n\u001B[0;32m    582\u001B[0m         data \u001B[38;5;241m=\u001B[39m data\u001B[38;5;241m.\u001B[39mcopy()\n\u001B[0;32m    583\u001B[0m \u001B[38;5;28;01melse\u001B[39;00m:\n\u001B[1;32m--> 584\u001B[0m     data \u001B[38;5;241m=\u001B[39m \u001B[43msanitize_array\u001B[49m\u001B[43m(\u001B[49m\u001B[43mdata\u001B[49m\u001B[43m,\u001B[49m\u001B[43m \u001B[49m\u001B[43mindex\u001B[49m\u001B[43m,\u001B[49m\u001B[43m \u001B[49m\u001B[43mdtype\u001B[49m\u001B[43m,\u001B[49m\u001B[43m \u001B[49m\u001B[43mcopy\u001B[49m\u001B[43m)\u001B[49m\n\u001B[0;32m    586\u001B[0m     manager \u001B[38;5;241m=\u001B[39m _get_option(\u001B[38;5;124m\"\u001B[39m\u001B[38;5;124mmode.data_manager\u001B[39m\u001B[38;5;124m\"\u001B[39m, silent\u001B[38;5;241m=\u001B[39m\u001B[38;5;28;01mTrue\u001B[39;00m)\n\u001B[0;32m    587\u001B[0m     \u001B[38;5;28;01mif\u001B[39;00m manager \u001B[38;5;241m==\u001B[39m \u001B[38;5;124m\"\u001B[39m\u001B[38;5;124mblock\u001B[39m\u001B[38;5;124m\"\u001B[39m:\n",
      "File \u001B[1;32mD:\\Anaconda3\\envs\\my_pytorch_env\\lib\\site-packages\\pandas\\core\\construction.py:651\u001B[0m, in \u001B[0;36msanitize_array\u001B[1;34m(data, index, dtype, copy, allow_2d)\u001B[0m\n\u001B[0;32m    648\u001B[0m     subarr \u001B[38;5;241m=\u001B[39m np\u001B[38;5;241m.\u001B[39marray([], dtype\u001B[38;5;241m=\u001B[39mnp\u001B[38;5;241m.\u001B[39mfloat64)\n\u001B[0;32m    650\u001B[0m \u001B[38;5;28;01melif\u001B[39;00m dtype \u001B[38;5;129;01mis\u001B[39;00m \u001B[38;5;129;01mnot\u001B[39;00m \u001B[38;5;28;01mNone\u001B[39;00m:\n\u001B[1;32m--> 651\u001B[0m     subarr \u001B[38;5;241m=\u001B[39m \u001B[43m_try_cast\u001B[49m\u001B[43m(\u001B[49m\u001B[43mdata\u001B[49m\u001B[43m,\u001B[49m\u001B[43m \u001B[49m\u001B[43mdtype\u001B[49m\u001B[43m,\u001B[49m\u001B[43m \u001B[49m\u001B[43mcopy\u001B[49m\u001B[43m)\u001B[49m\n\u001B[0;32m    653\u001B[0m \u001B[38;5;28;01melse\u001B[39;00m:\n\u001B[0;32m    654\u001B[0m     subarr \u001B[38;5;241m=\u001B[39m maybe_convert_platform(data)\n",
      "File \u001B[1;32mD:\\Anaconda3\\envs\\my_pytorch_env\\lib\\site-packages\\pandas\\core\\construction.py:820\u001B[0m, in \u001B[0;36m_try_cast\u001B[1;34m(arr, dtype, copy)\u001B[0m\n\u001B[0;32m    818\u001B[0m     subarr \u001B[38;5;241m=\u001B[39m maybe_cast_to_integer_array(arr, dtype)\n\u001B[0;32m    819\u001B[0m \u001B[38;5;28;01melif\u001B[39;00m \u001B[38;5;129;01mnot\u001B[39;00m copy:\n\u001B[1;32m--> 820\u001B[0m     subarr \u001B[38;5;241m=\u001B[39m \u001B[43mnp\u001B[49m\u001B[38;5;241;43m.\u001B[39;49m\u001B[43masarray\u001B[49m\u001B[43m(\u001B[49m\u001B[43marr\u001B[49m\u001B[43m,\u001B[49m\u001B[43m \u001B[49m\u001B[43mdtype\u001B[49m\u001B[38;5;241;43m=\u001B[39;49m\u001B[43mdtype\u001B[49m\u001B[43m)\u001B[49m\n\u001B[0;32m    821\u001B[0m \u001B[38;5;28;01melse\u001B[39;00m:\n\u001B[0;32m    822\u001B[0m     subarr \u001B[38;5;241m=\u001B[39m np\u001B[38;5;241m.\u001B[39marray(arr, dtype\u001B[38;5;241m=\u001B[39mdtype, copy\u001B[38;5;241m=\u001B[39mcopy)\n",
      "\u001B[1;31mValueError\u001B[0m: could not convert string to float: 'a'"
     ]
    }
   ],
   "source": [
    "data = pd.Series([1, 2, \"a\", 4], index=[\"a\", \"b\", \"c\", \"d\"], dtype=float)\n",
    "data"
   ]
  },
  {
   "cell_type": "markdown",
   "metadata": {},
   "source": [
    "2. 用一维numpy数组创建"
   ]
  },
  {
   "cell_type": "code",
   "execution_count": null,
   "metadata": {
    "ExecuteTime": {
     "start_time": "2024-11-05T08:57:15.014755600Z"
    }
   },
   "outputs": [],
   "source": [
    "import numpy as np\n",
    "\n",
    "x = np.arange(5)\n",
    "pd.Series(x)"
   ]
  },
  {
   "cell_type": "markdown",
   "metadata": {},
   "source": [
    "3. 用字典创建"
   ]
  },
  {
   "cell_type": "markdown",
   "metadata": {},
   "source": [
    "当我们使用字典来创建时，pandas会默认以字典的键为index值为data"
   ]
  },
  {
   "cell_type": "code",
   "execution_count": null,
   "metadata": {
    "scrolled": true,
    "ExecuteTime": {
     "start_time": "2024-11-05T08:57:15.016765600Z"
    }
   },
   "outputs": [],
   "source": [
    "population_dict = {\"BeiJing\": 2154,\n",
    "                   \"ShangHai\": 2424,\n",
    "                   \"ShenZhen\": 1303,\n",
    "                   \"HangZhou\": 981}\n",
    "population = pd.Series(population_dict)\n",
    "population"
   ]
  },
  {
   "cell_type": "markdown",
   "metadata": {},
   "source": [
    "当我们使用字典创建pandas对象时，如果指定index，则会到字典的键中筛选，找不到的，键对应的索引的值设为NaN"
   ]
  },
  {
   "cell_type": "code",
   "execution_count": null,
   "metadata": {
    "ExecuteTime": {
     "start_time": "2024-11-05T08:57:15.017766700Z"
    }
   },
   "outputs": [],
   "source": [
    "population = pd.Series(population_dict, index=[\"BeiJing\", \"HangZhou\", \"c\", \"d\"])\n",
    "population"
   ]
  },
  {
   "cell_type": "markdown",
   "metadata": {},
   "source": [
    "4. data为标量的情况\n",
    "\n",
    "当我们传入的data为标量时，pandas为默认复制标量对Series进行填充。"
   ]
  },
  {
   "cell_type": "code",
   "execution_count": null,
   "metadata": {
    "scrolled": true,
    "ExecuteTime": {
     "start_time": "2024-11-05T08:57:15.018765100Z"
    }
   },
   "outputs": [],
   "source": [
    "pd.Series(5, index=[100, 200, 300])"
   ]
  },
  {
   "cell_type": "markdown",
   "metadata": {},
   "source": [
    "#### 1.2 Pandas DataFrame对象的创建\n",
    "\n",
    "在pandas中，DataFrame是带标签数据的多维数组。Dataframe与SQL数据库或者excel中的电子表格十分类似。Dataframe是pandas中的核心类，被用来高效的处理表格数据。我们可以通过`pd.DataFrame(data, index=index, columns=columns)`的构造函数来创建一个Dataframe对象。其中我们可以通过传入`index`索引，为可选参数、`columns`列标签，为可选参数，来指定数组的索引与列名。"
   ]
  },
  {
   "cell_type": "markdown",
   "metadata": {},
   "source": [
    "1. 通过Series对象创建"
   ]
  },
  {
   "cell_type": "code",
   "execution_count": 26,
   "metadata": {
    "ExecuteTime": {
     "end_time": "2024-11-05T08:57:25.243363600Z",
     "start_time": "2024-11-05T08:57:15.050329300Z"
    }
   },
   "outputs": [
    {
     "data": {
      "text/plain": "             0\nBeiJing   2154\nShangHai  2424\nShenZhen  1303\nHangZhou   981",
      "text/html": "<div>\n<style scoped>\n    .dataframe tbody tr th:only-of-type {\n        vertical-align: middle;\n    }\n\n    .dataframe tbody tr th {\n        vertical-align: top;\n    }\n\n    .dataframe thead th {\n        text-align: right;\n    }\n</style>\n<table border=\"1\" class=\"dataframe\">\n  <thead>\n    <tr style=\"text-align: right;\">\n      <th></th>\n      <th>0</th>\n    </tr>\n  </thead>\n  <tbody>\n    <tr>\n      <th>BeiJing</th>\n      <td>2154</td>\n    </tr>\n    <tr>\n      <th>ShangHai</th>\n      <td>2424</td>\n    </tr>\n    <tr>\n      <th>ShenZhen</th>\n      <td>1303</td>\n    </tr>\n    <tr>\n      <th>HangZhou</th>\n      <td>981</td>\n    </tr>\n  </tbody>\n</table>\n</div>"
     },
     "execution_count": 26,
     "metadata": {},
     "output_type": "execute_result"
    }
   ],
   "source": [
    "population_dict = {\"BeiJing\": 2154,\n",
    "                   \"ShangHai\": 2424,\n",
    "                   \"ShenZhen\": 1303,\n",
    "                   \"HangZhou\": 981}\n",
    "\n",
    "population = pd.Series(population_dict)\n",
    "pd.DataFrame(population)"
   ]
  },
  {
   "cell_type": "code",
   "execution_count": 27,
   "metadata": {
    "scrolled": true,
    "ExecuteTime": {
     "end_time": "2024-11-05T08:57:25.243874700Z",
     "start_time": "2024-11-05T08:57:15.060626Z"
    }
   },
   "outputs": [
    {
     "data": {
      "text/plain": "          population\nBeiJing         2154\nShangHai        2424\nShenZhen        1303\nHangZhou         981",
      "text/html": "<div>\n<style scoped>\n    .dataframe tbody tr th:only-of-type {\n        vertical-align: middle;\n    }\n\n    .dataframe tbody tr th {\n        vertical-align: top;\n    }\n\n    .dataframe thead th {\n        text-align: right;\n    }\n</style>\n<table border=\"1\" class=\"dataframe\">\n  <thead>\n    <tr style=\"text-align: right;\">\n      <th></th>\n      <th>population</th>\n    </tr>\n  </thead>\n  <tbody>\n    <tr>\n      <th>BeiJing</th>\n      <td>2154</td>\n    </tr>\n    <tr>\n      <th>ShangHai</th>\n      <td>2424</td>\n    </tr>\n    <tr>\n      <th>ShenZhen</th>\n      <td>1303</td>\n    </tr>\n    <tr>\n      <th>HangZhou</th>\n      <td>981</td>\n    </tr>\n  </tbody>\n</table>\n</div>"
     },
     "execution_count": 27,
     "metadata": {},
     "output_type": "execute_result"
    }
   ],
   "source": [
    "pd.DataFrame(population, columns=[\"population\"])"
   ]
  },
  {
   "cell_type": "markdown",
   "metadata": {},
   "source": [
    "2. 通过Series对象字典创建"
   ]
  },
  {
   "cell_type": "code",
   "execution_count": 28,
   "metadata": {
    "scrolled": true,
    "ExecuteTime": {
     "end_time": "2024-11-05T08:57:25.377726100Z",
     "start_time": "2024-11-05T08:57:15.083288800Z"
    }
   },
   "outputs": [
    {
     "data": {
      "text/plain": "BeiJing     30320\nShangHai    32680\nShenZhen    24222\nHangZhou    13468\ndtype: int64"
     },
     "execution_count": 28,
     "metadata": {},
     "output_type": "execute_result"
    }
   ],
   "source": [
    "GDP_dict = {\"BeiJing\": 30320,\n",
    "            \"ShangHai\": 32680,\n",
    "            \"ShenZhen\": 24222,\n",
    "            \"HangZhou\": 13468}\n",
    "\n",
    "GDP = pd.Series(GDP_dict)\n",
    "GDP"
   ]
  },
  {
   "cell_type": "code",
   "execution_count": 29,
   "metadata": {
    "ExecuteTime": {
     "end_time": "2024-11-05T08:57:25.378715700Z",
     "start_time": "2024-11-05T08:57:15.093318900Z"
    }
   },
   "outputs": [
    {
     "data": {
      "text/plain": "          population    GDP\nBeiJing         2154  30320\nShangHai        2424  32680\nShenZhen        1303  24222\nHangZhou         981  13468",
      "text/html": "<div>\n<style scoped>\n    .dataframe tbody tr th:only-of-type {\n        vertical-align: middle;\n    }\n\n    .dataframe tbody tr th {\n        vertical-align: top;\n    }\n\n    .dataframe thead th {\n        text-align: right;\n    }\n</style>\n<table border=\"1\" class=\"dataframe\">\n  <thead>\n    <tr style=\"text-align: right;\">\n      <th></th>\n      <th>population</th>\n      <th>GDP</th>\n    </tr>\n  </thead>\n  <tbody>\n    <tr>\n      <th>BeiJing</th>\n      <td>2154</td>\n      <td>30320</td>\n    </tr>\n    <tr>\n      <th>ShangHai</th>\n      <td>2424</td>\n      <td>32680</td>\n    </tr>\n    <tr>\n      <th>ShenZhen</th>\n      <td>1303</td>\n      <td>24222</td>\n    </tr>\n    <tr>\n      <th>HangZhou</th>\n      <td>981</td>\n      <td>13468</td>\n    </tr>\n  </tbody>\n</table>\n</div>"
     },
     "execution_count": 29,
     "metadata": {},
     "output_type": "execute_result"
    }
   ],
   "source": [
    "pd.DataFrame({\"population\": population,\n",
    "              \"GDP\": GDP})"
   ]
  },
  {
   "cell_type": "markdown",
   "metadata": {},
   "source": [
    "需要我们注意的是，当碎南瓜的数据数量数量不够时，pandas会自动补齐"
   ]
  },
  {
   "cell_type": "code",
   "execution_count": 30,
   "metadata": {
    "ExecuteTime": {
     "end_time": "2024-11-05T08:57:25.442209900Z",
     "start_time": "2024-11-05T08:57:15.122188700Z"
    }
   },
   "outputs": [
    {
     "data": {
      "text/plain": "          population    GDP country\nBeiJing         2154  30320   China\nShangHai        2424  32680   China\nShenZhen        1303  24222   China\nHangZhou         981  13468   China",
      "text/html": "<div>\n<style scoped>\n    .dataframe tbody tr th:only-of-type {\n        vertical-align: middle;\n    }\n\n    .dataframe tbody tr th {\n        vertical-align: top;\n    }\n\n    .dataframe thead th {\n        text-align: right;\n    }\n</style>\n<table border=\"1\" class=\"dataframe\">\n  <thead>\n    <tr style=\"text-align: right;\">\n      <th></th>\n      <th>population</th>\n      <th>GDP</th>\n      <th>country</th>\n    </tr>\n  </thead>\n  <tbody>\n    <tr>\n      <th>BeiJing</th>\n      <td>2154</td>\n      <td>30320</td>\n      <td>China</td>\n    </tr>\n    <tr>\n      <th>ShangHai</th>\n      <td>2424</td>\n      <td>32680</td>\n      <td>China</td>\n    </tr>\n    <tr>\n      <th>ShenZhen</th>\n      <td>1303</td>\n      <td>24222</td>\n      <td>China</td>\n    </tr>\n    <tr>\n      <th>HangZhou</th>\n      <td>981</td>\n      <td>13468</td>\n      <td>China</td>\n    </tr>\n  </tbody>\n</table>\n</div>"
     },
     "execution_count": 30,
     "metadata": {},
     "output_type": "execute_result"
    }
   ],
   "source": [
    "pd.DataFrame({\"population\": population,\n",
    "              \"GDP\": GDP,\n",
    "              \"country\": \"China\"})"
   ]
  },
  {
   "cell_type": "markdown",
   "metadata": {},
   "source": [
    "3. 通过字典列表对象创建"
   ]
  },
  {
   "cell_type": "markdown",
   "metadata": {},
   "source": [
    "当我们通过字典列表进行创建时，pandas会将字典索引作为index，字典键作为columns"
   ]
  },
  {
   "cell_type": "code",
   "execution_count": 31,
   "metadata": {
    "scrolled": true,
    "ExecuteTime": {
     "end_time": "2024-11-05T08:57:25.783598Z",
     "start_time": "2024-11-05T08:57:15.188362700Z"
    }
   },
   "outputs": [
    {
     "data": {
      "text/plain": "[{'a': 0, 'b': 0}, {'a': 1, 'b': 2}, {'a': 2, 'b': 4}]"
     },
     "execution_count": 31,
     "metadata": {},
     "output_type": "execute_result"
    }
   ],
   "source": [
    "import numpy as np\n",
    "import pandas as pd\n",
    "\n",
    "data = [{\"a\": i, \"b\": 2 * i} for i in range(3)]\n",
    "data"
   ]
  },
  {
   "cell_type": "code",
   "execution_count": 32,
   "metadata": {
    "scrolled": true,
    "ExecuteTime": {
     "end_time": "2024-11-05T08:57:25.784596900Z",
     "start_time": "2024-11-05T08:57:15.203211700Z"
    }
   },
   "outputs": [
    {
     "data": {
      "text/plain": "   a  b\n0  0  0\n1  1  2\n2  2  4",
      "text/html": "<div>\n<style scoped>\n    .dataframe tbody tr th:only-of-type {\n        vertical-align: middle;\n    }\n\n    .dataframe tbody tr th {\n        vertical-align: top;\n    }\n\n    .dataframe thead th {\n        text-align: right;\n    }\n</style>\n<table border=\"1\" class=\"dataframe\">\n  <thead>\n    <tr style=\"text-align: right;\">\n      <th></th>\n      <th>a</th>\n      <th>b</th>\n    </tr>\n  </thead>\n  <tbody>\n    <tr>\n      <th>0</th>\n      <td>0</td>\n      <td>0</td>\n    </tr>\n    <tr>\n      <th>1</th>\n      <td>1</td>\n      <td>2</td>\n    </tr>\n    <tr>\n      <th>2</th>\n      <td>2</td>\n      <td>4</td>\n    </tr>\n  </tbody>\n</table>\n</div>"
     },
     "execution_count": 32,
     "metadata": {},
     "output_type": "execute_result"
    }
   ],
   "source": [
    "data = pd.DataFrame(data)\n",
    "data"
   ]
  },
  {
   "cell_type": "code",
   "execution_count": 33,
   "metadata": {
    "ExecuteTime": {
     "end_time": "2024-11-05T08:57:25.914304900Z",
     "start_time": "2024-11-05T08:57:15.218309600Z"
    }
   },
   "outputs": [
    {
     "data": {
      "text/plain": "0    0\n1    1\n2    2\nName: a, dtype: int64"
     },
     "execution_count": 33,
     "metadata": {},
     "output_type": "execute_result"
    }
   ],
   "source": [
    "data1 = data[\"a\"].copy()\n",
    "data1"
   ]
  },
  {
   "cell_type": "code",
   "execution_count": 34,
   "metadata": {
    "ExecuteTime": {
     "end_time": "2024-11-05T08:57:25.915306100Z",
     "start_time": "2024-11-05T08:57:15.233740200Z"
    }
   },
   "outputs": [
    {
     "data": {
      "text/plain": "0    10\n1     1\n2     2\nName: a, dtype: int64"
     },
     "execution_count": 34,
     "metadata": {},
     "output_type": "execute_result"
    }
   ],
   "source": [
    "data1[0] = 10\n",
    "data1"
   ]
  },
  {
   "cell_type": "code",
   "execution_count": 35,
   "metadata": {
    "ExecuteTime": {
     "end_time": "2024-11-05T08:57:26.046210200Z",
     "start_time": "2024-11-05T08:57:15.248252700Z"
    }
   },
   "outputs": [
    {
     "data": {
      "text/plain": "   a  b\n0  0  0\n1  1  2\n2  2  4",
      "text/html": "<div>\n<style scoped>\n    .dataframe tbody tr th:only-of-type {\n        vertical-align: middle;\n    }\n\n    .dataframe tbody tr th {\n        vertical-align: top;\n    }\n\n    .dataframe thead th {\n        text-align: right;\n    }\n</style>\n<table border=\"1\" class=\"dataframe\">\n  <thead>\n    <tr style=\"text-align: right;\">\n      <th></th>\n      <th>a</th>\n      <th>b</th>\n    </tr>\n  </thead>\n  <tbody>\n    <tr>\n      <th>0</th>\n      <td>0</td>\n      <td>0</td>\n    </tr>\n    <tr>\n      <th>1</th>\n      <td>1</td>\n      <td>2</td>\n    </tr>\n    <tr>\n      <th>2</th>\n      <td>2</td>\n      <td>4</td>\n    </tr>\n  </tbody>\n</table>\n</div>"
     },
     "execution_count": 35,
     "metadata": {},
     "output_type": "execute_result"
    }
   ],
   "source": [
    "data"
   ]
  },
  {
   "cell_type": "markdown",
   "metadata": {},
   "source": [
    "如果遇到不存在的键，pandas会默认值为NaN进行填充"
   ]
  },
  {
   "cell_type": "code",
   "execution_count": 36,
   "metadata": {
    "ExecuteTime": {
     "end_time": "2024-11-05T08:57:26.117357700Z",
     "start_time": "2024-11-05T08:57:15.263518300Z"
    }
   },
   "outputs": [
    {
     "data": {
      "text/plain": "[{'a': 1, 'b': 1}, {'b': 3, 'c': 4}]"
     },
     "execution_count": 36,
     "metadata": {},
     "output_type": "execute_result"
    }
   ],
   "source": [
    "data = [{\"a\": 1, \"b\": 1}, {\"b\": 3, \"c\": 4}]\n",
    "data"
   ]
  },
  {
   "cell_type": "code",
   "execution_count": 37,
   "metadata": {
    "ExecuteTime": {
     "end_time": "2024-11-05T08:57:26.117357700Z",
     "start_time": "2024-11-05T08:57:15.280430200Z"
    }
   },
   "outputs": [
    {
     "data": {
      "text/plain": "     a  b    c\n0  1.0  1  NaN\n1  NaN  3  4.0",
      "text/html": "<div>\n<style scoped>\n    .dataframe tbody tr th:only-of-type {\n        vertical-align: middle;\n    }\n\n    .dataframe tbody tr th {\n        vertical-align: top;\n    }\n\n    .dataframe thead th {\n        text-align: right;\n    }\n</style>\n<table border=\"1\" class=\"dataframe\">\n  <thead>\n    <tr style=\"text-align: right;\">\n      <th></th>\n      <th>a</th>\n      <th>b</th>\n      <th>c</th>\n    </tr>\n  </thead>\n  <tbody>\n    <tr>\n      <th>0</th>\n      <td>1.0</td>\n      <td>1</td>\n      <td>NaN</td>\n    </tr>\n    <tr>\n      <th>1</th>\n      <td>NaN</td>\n      <td>3</td>\n      <td>4.0</td>\n    </tr>\n  </tbody>\n</table>\n</div>"
     },
     "execution_count": 37,
     "metadata": {},
     "output_type": "execute_result"
    }
   ],
   "source": [
    "pd.DataFrame(data)"
   ]
  },
  {
   "cell_type": "markdown",
   "metadata": {},
   "source": [
    "4. 通过Numpy二维数组创建"
   ]
  },
  {
   "cell_type": "code",
   "execution_count": 38,
   "metadata": {
    "ExecuteTime": {
     "end_time": "2024-11-05T08:57:26.118360200Z",
     "start_time": "2024-11-05T08:57:15.295635200Z"
    }
   },
   "outputs": [
    {
     "data": {
      "text/plain": "array([[1, 1],\n       [1, 7],\n       [7, 7]])"
     },
     "execution_count": 38,
     "metadata": {},
     "output_type": "execute_result"
    }
   ],
   "source": [
    "data = np.random.randint(10, size=(3, 2))\n",
    "data"
   ]
  },
  {
   "cell_type": "code",
   "execution_count": 39,
   "metadata": {
    "ExecuteTime": {
     "end_time": "2024-11-05T08:57:26.180350700Z",
     "start_time": "2024-11-05T08:57:15.310729200Z"
    }
   },
   "outputs": [
    {
     "data": {
      "text/plain": "   foo  bar\na    1    1\nb    1    7\nc    7    7",
      "text/html": "<div>\n<style scoped>\n    .dataframe tbody tr th:only-of-type {\n        vertical-align: middle;\n    }\n\n    .dataframe tbody tr th {\n        vertical-align: top;\n    }\n\n    .dataframe thead th {\n        text-align: right;\n    }\n</style>\n<table border=\"1\" class=\"dataframe\">\n  <thead>\n    <tr style=\"text-align: right;\">\n      <th></th>\n      <th>foo</th>\n      <th>bar</th>\n    </tr>\n  </thead>\n  <tbody>\n    <tr>\n      <th>a</th>\n      <td>1</td>\n      <td>1</td>\n    </tr>\n    <tr>\n      <th>b</th>\n      <td>1</td>\n      <td>7</td>\n    </tr>\n    <tr>\n      <th>c</th>\n      <td>7</td>\n      <td>7</td>\n    </tr>\n  </tbody>\n</table>\n</div>"
     },
     "execution_count": 39,
     "metadata": {},
     "output_type": "execute_result"
    }
   ],
   "source": [
    "pd.DataFrame(data, columns=[\"foo\", \"bar\"], index=[\"a\", \"b\", \"c\"])"
   ]
  },
  {
   "cell_type": "markdown",
   "metadata": {},
   "source": [
    "### 2. DataFrame的属性与操作\n",
    "\n",
    "#### 2.1 Dataframe的元属性\n",
    "\n",
    "与numpy类似，pandas也为我们提供了方便快捷的接口来获取到Dataframe的一些属性。"
   ]
  },
  {
   "cell_type": "code",
   "execution_count": 40,
   "metadata": {
    "scrolled": true,
    "ExecuteTime": {
     "end_time": "2024-11-05T08:57:26.181347900Z",
     "start_time": "2024-11-05T08:57:15.326638800Z"
    }
   },
   "outputs": [
    {
     "data": {
      "text/plain": "           pop    GDP\nBeiJing   2154  30320\nShangHai  2424  32680\nShenZhen  1303  24222\nHangZhou   981  13468",
      "text/html": "<div>\n<style scoped>\n    .dataframe tbody tr th:only-of-type {\n        vertical-align: middle;\n    }\n\n    .dataframe tbody tr th {\n        vertical-align: top;\n    }\n\n    .dataframe thead th {\n        text-align: right;\n    }\n</style>\n<table border=\"1\" class=\"dataframe\">\n  <thead>\n    <tr style=\"text-align: right;\">\n      <th></th>\n      <th>pop</th>\n      <th>GDP</th>\n    </tr>\n  </thead>\n  <tbody>\n    <tr>\n      <th>BeiJing</th>\n      <td>2154</td>\n      <td>30320</td>\n    </tr>\n    <tr>\n      <th>ShangHai</th>\n      <td>2424</td>\n      <td>32680</td>\n    </tr>\n    <tr>\n      <th>ShenZhen</th>\n      <td>1303</td>\n      <td>24222</td>\n    </tr>\n    <tr>\n      <th>HangZhou</th>\n      <td>981</td>\n      <td>13468</td>\n    </tr>\n  </tbody>\n</table>\n</div>"
     },
     "execution_count": 40,
     "metadata": {},
     "output_type": "execute_result"
    }
   ],
   "source": [
    "data = pd.DataFrame({\"pop\": population, \"GDP\": GDP})\n",
    "data"
   ]
  },
  {
   "cell_type": "markdown",
   "metadata": {},
   "source": [
    "1. df.values返回numpy数组表示的数据"
   ]
  },
  {
   "cell_type": "code",
   "execution_count": 41,
   "metadata": {
    "ExecuteTime": {
     "end_time": "2024-11-05T08:57:26.240003200Z",
     "start_time": "2024-11-05T08:57:15.342132100Z"
    }
   },
   "outputs": [
    {
     "data": {
      "text/plain": "array([[ 2154, 30320],\n       [ 2424, 32680],\n       [ 1303, 24222],\n       [  981, 13468]], dtype=int64)"
     },
     "execution_count": 41,
     "metadata": {},
     "output_type": "execute_result"
    }
   ],
   "source": [
    "data.values"
   ]
  },
  {
   "cell_type": "markdown",
   "metadata": {},
   "source": [
    "2. df.index返回行索引"
   ]
  },
  {
   "cell_type": "code",
   "execution_count": 42,
   "metadata": {
    "scrolled": true,
    "ExecuteTime": {
     "end_time": "2024-11-05T08:57:26.240003200Z",
     "start_time": "2024-11-05T08:57:15.357376500Z"
    }
   },
   "outputs": [
    {
     "data": {
      "text/plain": "Index(['BeiJing', 'ShangHai', 'ShenZhen', 'HangZhou'], dtype='object')"
     },
     "execution_count": 42,
     "metadata": {},
     "output_type": "execute_result"
    }
   ],
   "source": [
    "data.index"
   ]
  },
  {
   "cell_type": "markdown",
   "metadata": {},
   "source": [
    "3. df.columns返回列索引"
   ]
  },
  {
   "cell_type": "code",
   "execution_count": 43,
   "metadata": {
    "scrolled": false,
    "ExecuteTime": {
     "end_time": "2024-11-05T08:57:26.308623100Z",
     "start_time": "2024-11-05T08:57:15.382339500Z"
    }
   },
   "outputs": [
    {
     "data": {
      "text/plain": "Index(['pop', 'GDP'], dtype='object')"
     },
     "execution_count": 43,
     "metadata": {},
     "output_type": "execute_result"
    }
   ],
   "source": [
    "data.columns"
   ]
  },
  {
   "cell_type": "markdown",
   "metadata": {},
   "source": [
    "4. df.shape形状"
   ]
  },
  {
   "cell_type": "code",
   "execution_count": 44,
   "metadata": {
    "ExecuteTime": {
     "end_time": "2024-11-05T08:57:26.366073800Z",
     "start_time": "2024-11-05T08:57:15.420089600Z"
    }
   },
   "outputs": [
    {
     "data": {
      "text/plain": "(4, 2)"
     },
     "execution_count": 44,
     "metadata": {},
     "output_type": "execute_result"
    }
   ],
   "source": [
    "data.shape"
   ]
  },
  {
   "cell_type": "markdown",
   "metadata": {},
   "source": [
    "5. pd.size大小"
   ]
  },
  {
   "cell_type": "code",
   "execution_count": 45,
   "metadata": {
    "ExecuteTime": {
     "end_time": "2024-11-05T08:57:26.423548400Z",
     "start_time": "2024-11-05T08:57:15.456501800Z"
    }
   },
   "outputs": [
    {
     "data": {
      "text/plain": "8"
     },
     "execution_count": 45,
     "metadata": {},
     "output_type": "execute_result"
    }
   ],
   "source": [
    "data.size"
   ]
  },
  {
   "cell_type": "markdown",
   "metadata": {},
   "source": [
    "6. pd.dtypes返回每列数据类型"
   ]
  },
  {
   "cell_type": "code",
   "execution_count": 46,
   "metadata": {
    "scrolled": true,
    "ExecuteTime": {
     "end_time": "2024-11-05T08:57:26.482552800Z",
     "start_time": "2024-11-05T08:57:15.492636400Z"
    }
   },
   "outputs": [
    {
     "data": {
      "text/plain": "pop    int64\nGDP    int64\ndtype: object"
     },
     "execution_count": 46,
     "metadata": {},
     "output_type": "execute_result"
    }
   ],
   "source": [
    "data.dtypes"
   ]
  },
  {
   "cell_type": "markdown",
   "metadata": {},
   "source": [
    "#### 2.2 Dataframe的索引操作"
   ]
  },
  {
   "cell_type": "code",
   "execution_count": 47,
   "metadata": {
    "scrolled": true,
    "ExecuteTime": {
     "end_time": "2024-11-05T08:57:26.540182700Z",
     "start_time": "2024-11-05T08:57:15.529791Z"
    }
   },
   "outputs": [
    {
     "data": {
      "text/plain": "           pop    GDP\nBeiJing   2154  30320\nShangHai  2424  32680\nShenZhen  1303  24222\nHangZhou   981  13468",
      "text/html": "<div>\n<style scoped>\n    .dataframe tbody tr th:only-of-type {\n        vertical-align: middle;\n    }\n\n    .dataframe tbody tr th {\n        vertical-align: top;\n    }\n\n    .dataframe thead th {\n        text-align: right;\n    }\n</style>\n<table border=\"1\" class=\"dataframe\">\n  <thead>\n    <tr style=\"text-align: right;\">\n      <th></th>\n      <th>pop</th>\n      <th>GDP</th>\n    </tr>\n  </thead>\n  <tbody>\n    <tr>\n      <th>BeiJing</th>\n      <td>2154</td>\n      <td>30320</td>\n    </tr>\n    <tr>\n      <th>ShangHai</th>\n      <td>2424</td>\n      <td>32680</td>\n    </tr>\n    <tr>\n      <th>ShenZhen</th>\n      <td>1303</td>\n      <td>24222</td>\n    </tr>\n    <tr>\n      <th>HangZhou</th>\n      <td>981</td>\n      <td>13468</td>\n    </tr>\n  </tbody>\n</table>\n</div>"
     },
     "execution_count": 47,
     "metadata": {},
     "output_type": "execute_result"
    }
   ],
   "source": [
    "data"
   ]
  },
  {
   "cell_type": "markdown",
   "metadata": {},
   "source": [
    "##### 2.2.1 列索引\n",
    "\n",
    "1. 字典式索引"
   ]
  },
  {
   "cell_type": "code",
   "execution_count": 48,
   "metadata": {
    "scrolled": true,
    "ExecuteTime": {
     "end_time": "2024-11-05T08:57:26.654061700Z",
     "start_time": "2024-11-05T08:57:15.570578100Z"
    }
   },
   "outputs": [
    {
     "data": {
      "text/plain": "BeiJing     2154\nShangHai    2424\nShenZhen    1303\nHangZhou     981\nName: pop, dtype: int64"
     },
     "execution_count": 48,
     "metadata": {},
     "output_type": "execute_result"
    }
   ],
   "source": [
    "data[\"pop\"]"
   ]
  },
  {
   "cell_type": "code",
   "execution_count": 49,
   "metadata": {
    "ExecuteTime": {
     "end_time": "2024-11-05T08:57:26.713979Z",
     "start_time": "2024-11-05T08:57:15.592649200Z"
    }
   },
   "outputs": [
    {
     "data": {
      "text/plain": "            GDP   pop\nBeiJing   30320  2154\nShangHai  32680  2424\nShenZhen  24222  1303\nHangZhou  13468   981",
      "text/html": "<div>\n<style scoped>\n    .dataframe tbody tr th:only-of-type {\n        vertical-align: middle;\n    }\n\n    .dataframe tbody tr th {\n        vertical-align: top;\n    }\n\n    .dataframe thead th {\n        text-align: right;\n    }\n</style>\n<table border=\"1\" class=\"dataframe\">\n  <thead>\n    <tr style=\"text-align: right;\">\n      <th></th>\n      <th>GDP</th>\n      <th>pop</th>\n    </tr>\n  </thead>\n  <tbody>\n    <tr>\n      <th>BeiJing</th>\n      <td>30320</td>\n      <td>2154</td>\n    </tr>\n    <tr>\n      <th>ShangHai</th>\n      <td>32680</td>\n      <td>2424</td>\n    </tr>\n    <tr>\n      <th>ShenZhen</th>\n      <td>24222</td>\n      <td>1303</td>\n    </tr>\n    <tr>\n      <th>HangZhou</th>\n      <td>13468</td>\n      <td>981</td>\n    </tr>\n  </tbody>\n</table>\n</div>"
     },
     "execution_count": 49,
     "metadata": {},
     "output_type": "execute_result"
    }
   ],
   "source": [
    "data[[\"GDP\", \"pop\"]]"
   ]
  },
  {
   "cell_type": "markdown",
   "metadata": {},
   "source": [
    "2. 对象属性式"
   ]
  },
  {
   "cell_type": "code",
   "execution_count": 50,
   "metadata": {
    "scrolled": true,
    "ExecuteTime": {
     "end_time": "2024-11-05T08:57:26.714983400Z",
     "start_time": "2024-11-05T08:57:15.605941Z"
    }
   },
   "outputs": [
    {
     "data": {
      "text/plain": "BeiJing     30320\nShangHai    32680\nShenZhen    24222\nHangZhou    13468\nName: GDP, dtype: int64"
     },
     "execution_count": 50,
     "metadata": {},
     "output_type": "execute_result"
    }
   ],
   "source": [
    "data.GDP"
   ]
  },
  {
   "cell_type": "markdown",
   "metadata": {},
   "source": [
    "##### 2.2.2 行索引"
   ]
  },
  {
   "cell_type": "markdown",
   "metadata": {},
   "source": [
    "1. 绝对索引 df.loc"
   ]
  },
  {
   "cell_type": "code",
   "execution_count": 51,
   "metadata": {
    "ExecuteTime": {
     "end_time": "2024-11-05T08:57:33.040549100Z",
     "start_time": "2024-11-05T08:57:15.679885Z"
    }
   },
   "outputs": [
    {
     "data": {
      "text/plain": "pop     2154\nGDP    30320\nName: BeiJing, dtype: int64"
     },
     "execution_count": 51,
     "metadata": {},
     "output_type": "execute_result"
    }
   ],
   "source": [
    "data.loc[\"BeiJing\"]"
   ]
  },
  {
   "cell_type": "code",
   "execution_count": 52,
   "metadata": {
    "ExecuteTime": {
     "end_time": "2024-11-05T08:57:33.042607500Z",
     "start_time": "2024-11-05T08:57:15.699649500Z"
    }
   },
   "outputs": [
    {
     "data": {
      "text/plain": "           pop    GDP\nBeiJing   2154  30320\nHangZhou   981  13468",
      "text/html": "<div>\n<style scoped>\n    .dataframe tbody tr th:only-of-type {\n        vertical-align: middle;\n    }\n\n    .dataframe tbody tr th {\n        vertical-align: top;\n    }\n\n    .dataframe thead th {\n        text-align: right;\n    }\n</style>\n<table border=\"1\" class=\"dataframe\">\n  <thead>\n    <tr style=\"text-align: right;\">\n      <th></th>\n      <th>pop</th>\n      <th>GDP</th>\n    </tr>\n  </thead>\n  <tbody>\n    <tr>\n      <th>BeiJing</th>\n      <td>2154</td>\n      <td>30320</td>\n    </tr>\n    <tr>\n      <th>HangZhou</th>\n      <td>981</td>\n      <td>13468</td>\n    </tr>\n  </tbody>\n</table>\n</div>"
     },
     "execution_count": 52,
     "metadata": {},
     "output_type": "execute_result"
    }
   ],
   "source": [
    "data.loc[[\"BeiJing\", \"HangZhou\"]]"
   ]
  },
  {
   "cell_type": "markdown",
   "metadata": {},
   "source": [
    "2. 相对索引 df.iloc"
   ]
  },
  {
   "cell_type": "code",
   "execution_count": 53,
   "metadata": {
    "ExecuteTime": {
     "end_time": "2024-11-05T08:57:33.258249100Z",
     "start_time": "2024-11-05T08:57:15.719278700Z"
    }
   },
   "outputs": [
    {
     "data": {
      "text/plain": "           pop    GDP\nBeiJing   2154  30320\nShangHai  2424  32680\nShenZhen  1303  24222\nHangZhou   981  13468",
      "text/html": "<div>\n<style scoped>\n    .dataframe tbody tr th:only-of-type {\n        vertical-align: middle;\n    }\n\n    .dataframe tbody tr th {\n        vertical-align: top;\n    }\n\n    .dataframe thead th {\n        text-align: right;\n    }\n</style>\n<table border=\"1\" class=\"dataframe\">\n  <thead>\n    <tr style=\"text-align: right;\">\n      <th></th>\n      <th>pop</th>\n      <th>GDP</th>\n    </tr>\n  </thead>\n  <tbody>\n    <tr>\n      <th>BeiJing</th>\n      <td>2154</td>\n      <td>30320</td>\n    </tr>\n    <tr>\n      <th>ShangHai</th>\n      <td>2424</td>\n      <td>32680</td>\n    </tr>\n    <tr>\n      <th>ShenZhen</th>\n      <td>1303</td>\n      <td>24222</td>\n    </tr>\n    <tr>\n      <th>HangZhou</th>\n      <td>981</td>\n      <td>13468</td>\n    </tr>\n  </tbody>\n</table>\n</div>"
     },
     "execution_count": 53,
     "metadata": {},
     "output_type": "execute_result"
    }
   ],
   "source": [
    "data"
   ]
  },
  {
   "cell_type": "code",
   "execution_count": 54,
   "metadata": {
    "ExecuteTime": {
     "end_time": "2024-11-05T08:57:33.259248600Z",
     "start_time": "2024-11-05T08:57:15.730312400Z"
    }
   },
   "outputs": [
    {
     "data": {
      "text/plain": "pop     2154\nGDP    30320\nName: BeiJing, dtype: int64"
     },
     "execution_count": 54,
     "metadata": {},
     "output_type": "execute_result"
    }
   ],
   "source": [
    "data.iloc[0]"
   ]
  },
  {
   "cell_type": "code",
   "execution_count": 55,
   "metadata": {
    "ExecuteTime": {
     "end_time": "2024-11-05T08:57:33.513255100Z",
     "start_time": "2024-11-05T08:57:15.745502500Z"
    }
   },
   "outputs": [
    {
     "data": {
      "text/plain": "           pop    GDP\nShangHai  2424  32680\nHangZhou   981  13468",
      "text/html": "<div>\n<style scoped>\n    .dataframe tbody tr th:only-of-type {\n        vertical-align: middle;\n    }\n\n    .dataframe tbody tr th {\n        vertical-align: top;\n    }\n\n    .dataframe thead th {\n        text-align: right;\n    }\n</style>\n<table border=\"1\" class=\"dataframe\">\n  <thead>\n    <tr style=\"text-align: right;\">\n      <th></th>\n      <th>pop</th>\n      <th>GDP</th>\n    </tr>\n  </thead>\n  <tbody>\n    <tr>\n      <th>ShangHai</th>\n      <td>2424</td>\n      <td>32680</td>\n    </tr>\n    <tr>\n      <th>HangZhou</th>\n      <td>981</td>\n      <td>13468</td>\n    </tr>\n  </tbody>\n</table>\n</div>"
     },
     "execution_count": 55,
     "metadata": {},
     "output_type": "execute_result"
    }
   ],
   "source": [
    "data.iloc[[1, 3]]"
   ]
  },
  {
   "cell_type": "markdown",
   "metadata": {},
   "source": [
    "##### 2.2.3 获取标量"
   ]
  },
  {
   "cell_type": "code",
   "execution_count": 56,
   "metadata": {
    "scrolled": true,
    "ExecuteTime": {
     "end_time": "2024-11-05T08:57:33.514256700Z",
     "start_time": "2024-11-05T08:57:15.760569800Z"
    }
   },
   "outputs": [
    {
     "data": {
      "text/plain": "           pop    GDP\nBeiJing   2154  30320\nShangHai  2424  32680\nShenZhen  1303  24222\nHangZhou   981  13468",
      "text/html": "<div>\n<style scoped>\n    .dataframe tbody tr th:only-of-type {\n        vertical-align: middle;\n    }\n\n    .dataframe tbody tr th {\n        vertical-align: top;\n    }\n\n    .dataframe thead th {\n        text-align: right;\n    }\n</style>\n<table border=\"1\" class=\"dataframe\">\n  <thead>\n    <tr style=\"text-align: right;\">\n      <th></th>\n      <th>pop</th>\n      <th>GDP</th>\n    </tr>\n  </thead>\n  <tbody>\n    <tr>\n      <th>BeiJing</th>\n      <td>2154</td>\n      <td>30320</td>\n    </tr>\n    <tr>\n      <th>ShangHai</th>\n      <td>2424</td>\n      <td>32680</td>\n    </tr>\n    <tr>\n      <th>ShenZhen</th>\n      <td>1303</td>\n      <td>24222</td>\n    </tr>\n    <tr>\n      <th>HangZhou</th>\n      <td>981</td>\n      <td>13468</td>\n    </tr>\n  </tbody>\n</table>\n</div>"
     },
     "execution_count": 56,
     "metadata": {},
     "output_type": "execute_result"
    }
   ],
   "source": [
    "data"
   ]
  },
  {
   "cell_type": "code",
   "execution_count": 57,
   "metadata": {
    "scrolled": true,
    "ExecuteTime": {
     "end_time": "2024-11-05T08:57:33.514256700Z",
     "start_time": "2024-11-05T08:57:15.776011600Z"
    }
   },
   "outputs": [
    {
     "data": {
      "text/plain": "30320"
     },
     "execution_count": 57,
     "metadata": {},
     "output_type": "execute_result"
    }
   ],
   "source": [
    "data.loc[\"BeiJing\", \"GDP\"]"
   ]
  },
  {
   "cell_type": "code",
   "execution_count": 58,
   "metadata": {
    "ExecuteTime": {
     "end_time": "2024-11-05T08:57:33.708525600Z",
     "start_time": "2024-11-05T08:57:15.791613600Z"
    }
   },
   "outputs": [
    {
     "data": {
      "text/plain": "30320"
     },
     "execution_count": 58,
     "metadata": {},
     "output_type": "execute_result"
    }
   ],
   "source": [
    "data.iloc[0, 1]"
   ]
  },
  {
   "cell_type": "code",
   "execution_count": 59,
   "metadata": {
    "ExecuteTime": {
     "end_time": "2024-11-05T08:57:33.709526200Z",
     "start_time": "2024-11-05T08:57:15.806683500Z"
    }
   },
   "outputs": [
    {
     "data": {
      "text/plain": "30320"
     },
     "execution_count": 59,
     "metadata": {},
     "output_type": "execute_result"
    }
   ],
   "source": [
    "data.values[0][1]"
   ]
  },
  {
   "cell_type": "markdown",
   "metadata": {},
   "source": [
    "##### 2.2.4 Series对象的索引"
   ]
  },
  {
   "cell_type": "code",
   "execution_count": 60,
   "metadata": {
    "ExecuteTime": {
     "end_time": "2024-11-05T08:57:33.709526200Z",
     "start_time": "2024-11-05T08:57:15.823459600Z"
    }
   },
   "outputs": [
    {
     "data": {
      "text/plain": "pandas.core.series.Series"
     },
     "execution_count": 60,
     "metadata": {},
     "output_type": "execute_result"
    }
   ],
   "source": [
    "type(data.GDP)"
   ]
  },
  {
   "cell_type": "code",
   "execution_count": 61,
   "metadata": {
    "scrolled": true,
    "ExecuteTime": {
     "end_time": "2024-11-05T08:57:33.844375600Z",
     "start_time": "2024-11-05T08:57:15.838180900Z"
    }
   },
   "outputs": [
    {
     "data": {
      "text/plain": "BeiJing     30320\nShangHai    32680\nShenZhen    24222\nHangZhou    13468\ndtype: int64"
     },
     "execution_count": 61,
     "metadata": {},
     "output_type": "execute_result"
    }
   ],
   "source": [
    "GDP"
   ]
  },
  {
   "cell_type": "code",
   "execution_count": 62,
   "metadata": {
    "scrolled": true,
    "ExecuteTime": {
     "end_time": "2024-11-05T08:57:33.845797300Z",
     "start_time": "2024-11-05T08:57:15.855874500Z"
    }
   },
   "outputs": [
    {
     "data": {
      "text/plain": "30320"
     },
     "execution_count": 62,
     "metadata": {},
     "output_type": "execute_result"
    }
   ],
   "source": [
    "GDP[\"BeiJing\"]"
   ]
  },
  {
   "cell_type": "markdown",
   "metadata": {},
   "source": [
    "#### 2.3 切片操作"
   ]
  },
  {
   "cell_type": "code",
   "execution_count": 63,
   "metadata": {
    "scrolled": true,
    "ExecuteTime": {
     "end_time": "2024-11-05T08:57:34.062428700Z",
     "start_time": "2024-11-05T08:57:15.872477900Z"
    }
   },
   "outputs": [
    {
     "data": {
      "text/plain": "DatetimeIndex(['2019-01-01', '2019-01-02', '2019-01-03', '2019-01-04',\n               '2019-01-05', '2019-01-06'],\n              dtype='datetime64[ns]', freq='D')"
     },
     "execution_count": 63,
     "metadata": {},
     "output_type": "execute_result"
    }
   ],
   "source": [
    "dates = pd.date_range(start='2019-01-01', periods=6)\n",
    "dates"
   ]
  },
  {
   "cell_type": "code",
   "execution_count": 64,
   "metadata": {
    "ExecuteTime": {
     "end_time": "2024-11-05T08:57:34.063447Z",
     "start_time": "2024-11-05T08:57:15.886513900Z"
    }
   },
   "outputs": [
    {
     "data": {
      "text/plain": "                   A         B         C         D\n2019-01-01  1.243281 -0.517116 -1.785556  0.824034\n2019-01-02 -0.830950  0.271291  0.222845 -0.160498\n2019-01-03  0.309368  0.640691  0.084062  0.270913\n2019-01-04 -0.125982 -0.351524 -1.379903 -0.408959\n2019-01-05 -0.908592  1.848314 -0.112071 -1.059779\n2019-01-06  0.940659 -0.361001  0.947651  0.110191",
      "text/html": "<div>\n<style scoped>\n    .dataframe tbody tr th:only-of-type {\n        vertical-align: middle;\n    }\n\n    .dataframe tbody tr th {\n        vertical-align: top;\n    }\n\n    .dataframe thead th {\n        text-align: right;\n    }\n</style>\n<table border=\"1\" class=\"dataframe\">\n  <thead>\n    <tr style=\"text-align: right;\">\n      <th></th>\n      <th>A</th>\n      <th>B</th>\n      <th>C</th>\n      <th>D</th>\n    </tr>\n  </thead>\n  <tbody>\n    <tr>\n      <th>2019-01-01</th>\n      <td>1.243281</td>\n      <td>-0.517116</td>\n      <td>-1.785556</td>\n      <td>0.824034</td>\n    </tr>\n    <tr>\n      <th>2019-01-02</th>\n      <td>-0.830950</td>\n      <td>0.271291</td>\n      <td>0.222845</td>\n      <td>-0.160498</td>\n    </tr>\n    <tr>\n      <th>2019-01-03</th>\n      <td>0.309368</td>\n      <td>0.640691</td>\n      <td>0.084062</td>\n      <td>0.270913</td>\n    </tr>\n    <tr>\n      <th>2019-01-04</th>\n      <td>-0.125982</td>\n      <td>-0.351524</td>\n      <td>-1.379903</td>\n      <td>-0.408959</td>\n    </tr>\n    <tr>\n      <th>2019-01-05</th>\n      <td>-0.908592</td>\n      <td>1.848314</td>\n      <td>-0.112071</td>\n      <td>-1.059779</td>\n    </tr>\n    <tr>\n      <th>2019-01-06</th>\n      <td>0.940659</td>\n      <td>-0.361001</td>\n      <td>0.947651</td>\n      <td>0.110191</td>\n    </tr>\n  </tbody>\n</table>\n</div>"
     },
     "execution_count": 64,
     "metadata": {},
     "output_type": "execute_result"
    }
   ],
   "source": [
    "df = pd.DataFrame(np.random.randn(6, 4), index=dates, columns=[\"A\", \"B\", \"C\", \"D\"])\n",
    "df"
   ]
  },
  {
   "cell_type": "markdown",
   "metadata": {},
   "source": [
    "##### 2.3.1 行切片"
   ]
  },
  {
   "cell_type": "code",
   "execution_count": 65,
   "metadata": {
    "scrolled": false,
    "ExecuteTime": {
     "end_time": "2024-11-05T08:57:34.064445900Z",
     "start_time": "2024-11-05T08:57:15.903412Z"
    }
   },
   "outputs": [
    {
     "data": {
      "text/plain": "                   A         B         C         D\n2019-01-01  1.243281 -0.517116 -1.785556  0.824034\n2019-01-02 -0.830950  0.271291  0.222845 -0.160498\n2019-01-03  0.309368  0.640691  0.084062  0.270913",
      "text/html": "<div>\n<style scoped>\n    .dataframe tbody tr th:only-of-type {\n        vertical-align: middle;\n    }\n\n    .dataframe tbody tr th {\n        vertical-align: top;\n    }\n\n    .dataframe thead th {\n        text-align: right;\n    }\n</style>\n<table border=\"1\" class=\"dataframe\">\n  <thead>\n    <tr style=\"text-align: right;\">\n      <th></th>\n      <th>A</th>\n      <th>B</th>\n      <th>C</th>\n      <th>D</th>\n    </tr>\n  </thead>\n  <tbody>\n    <tr>\n      <th>2019-01-01</th>\n      <td>1.243281</td>\n      <td>-0.517116</td>\n      <td>-1.785556</td>\n      <td>0.824034</td>\n    </tr>\n    <tr>\n      <th>2019-01-02</th>\n      <td>-0.830950</td>\n      <td>0.271291</td>\n      <td>0.222845</td>\n      <td>-0.160498</td>\n    </tr>\n    <tr>\n      <th>2019-01-03</th>\n      <td>0.309368</td>\n      <td>0.640691</td>\n      <td>0.084062</td>\n      <td>0.270913</td>\n    </tr>\n  </tbody>\n</table>\n</div>"
     },
     "execution_count": 65,
     "metadata": {},
     "output_type": "execute_result"
    }
   ],
   "source": [
    "df[\"2019-01-01\": \"2019-01-03\"]"
   ]
  },
  {
   "cell_type": "code",
   "execution_count": 66,
   "metadata": {
    "ExecuteTime": {
     "end_time": "2024-11-05T08:57:34.295651500Z",
     "start_time": "2024-11-05T08:57:15.921527700Z"
    }
   },
   "outputs": [
    {
     "data": {
      "text/plain": "                   A         B         C         D\n2019-01-01  1.243281 -0.517116 -1.785556  0.824034\n2019-01-02 -0.830950  0.271291  0.222845 -0.160498\n2019-01-03  0.309368  0.640691  0.084062  0.270913",
      "text/html": "<div>\n<style scoped>\n    .dataframe tbody tr th:only-of-type {\n        vertical-align: middle;\n    }\n\n    .dataframe tbody tr th {\n        vertical-align: top;\n    }\n\n    .dataframe thead th {\n        text-align: right;\n    }\n</style>\n<table border=\"1\" class=\"dataframe\">\n  <thead>\n    <tr style=\"text-align: right;\">\n      <th></th>\n      <th>A</th>\n      <th>B</th>\n      <th>C</th>\n      <th>D</th>\n    </tr>\n  </thead>\n  <tbody>\n    <tr>\n      <th>2019-01-01</th>\n      <td>1.243281</td>\n      <td>-0.517116</td>\n      <td>-1.785556</td>\n      <td>0.824034</td>\n    </tr>\n    <tr>\n      <th>2019-01-02</th>\n      <td>-0.830950</td>\n      <td>0.271291</td>\n      <td>0.222845</td>\n      <td>-0.160498</td>\n    </tr>\n    <tr>\n      <th>2019-01-03</th>\n      <td>0.309368</td>\n      <td>0.640691</td>\n      <td>0.084062</td>\n      <td>0.270913</td>\n    </tr>\n  </tbody>\n</table>\n</div>"
     },
     "execution_count": 66,
     "metadata": {},
     "output_type": "execute_result"
    }
   ],
   "source": [
    "df.loc[\"2019-01-01\": \"2019-01-03\"]"
   ]
  },
  {
   "cell_type": "code",
   "execution_count": 67,
   "metadata": {
    "scrolled": true,
    "ExecuteTime": {
     "end_time": "2024-11-05T08:57:34.296643800Z",
     "start_time": "2024-11-05T08:57:15.934665Z"
    }
   },
   "outputs": [
    {
     "data": {
      "text/plain": "                   A         B         C         D\n2019-01-01  1.243281 -0.517116 -1.785556  0.824034\n2019-01-02 -0.830950  0.271291  0.222845 -0.160498\n2019-01-03  0.309368  0.640691  0.084062  0.270913",
      "text/html": "<div>\n<style scoped>\n    .dataframe tbody tr th:only-of-type {\n        vertical-align: middle;\n    }\n\n    .dataframe tbody tr th {\n        vertical-align: top;\n    }\n\n    .dataframe thead th {\n        text-align: right;\n    }\n</style>\n<table border=\"1\" class=\"dataframe\">\n  <thead>\n    <tr style=\"text-align: right;\">\n      <th></th>\n      <th>A</th>\n      <th>B</th>\n      <th>C</th>\n      <th>D</th>\n    </tr>\n  </thead>\n  <tbody>\n    <tr>\n      <th>2019-01-01</th>\n      <td>1.243281</td>\n      <td>-0.517116</td>\n      <td>-1.785556</td>\n      <td>0.824034</td>\n    </tr>\n    <tr>\n      <th>2019-01-02</th>\n      <td>-0.830950</td>\n      <td>0.271291</td>\n      <td>0.222845</td>\n      <td>-0.160498</td>\n    </tr>\n    <tr>\n      <th>2019-01-03</th>\n      <td>0.309368</td>\n      <td>0.640691</td>\n      <td>0.084062</td>\n      <td>0.270913</td>\n    </tr>\n  </tbody>\n</table>\n</div>"
     },
     "execution_count": 67,
     "metadata": {},
     "output_type": "execute_result"
    }
   ],
   "source": [
    "df.iloc[0: 3]"
   ]
  },
  {
   "cell_type": "markdown",
   "metadata": {},
   "source": [
    "##### 2.3.2 列切片"
   ]
  },
  {
   "cell_type": "code",
   "execution_count": 68,
   "metadata": {
    "ExecuteTime": {
     "end_time": "2024-11-05T08:57:34.297643600Z",
     "start_time": "2024-11-05T08:57:15.950804300Z"
    }
   },
   "outputs": [
    {
     "data": {
      "text/plain": "                   A         B         C         D\n2019-01-01  1.243281 -0.517116 -1.785556  0.824034\n2019-01-02 -0.830950  0.271291  0.222845 -0.160498\n2019-01-03  0.309368  0.640691  0.084062  0.270913\n2019-01-04 -0.125982 -0.351524 -1.379903 -0.408959\n2019-01-05 -0.908592  1.848314 -0.112071 -1.059779\n2019-01-06  0.940659 -0.361001  0.947651  0.110191",
      "text/html": "<div>\n<style scoped>\n    .dataframe tbody tr th:only-of-type {\n        vertical-align: middle;\n    }\n\n    .dataframe tbody tr th {\n        vertical-align: top;\n    }\n\n    .dataframe thead th {\n        text-align: right;\n    }\n</style>\n<table border=\"1\" class=\"dataframe\">\n  <thead>\n    <tr style=\"text-align: right;\">\n      <th></th>\n      <th>A</th>\n      <th>B</th>\n      <th>C</th>\n      <th>D</th>\n    </tr>\n  </thead>\n  <tbody>\n    <tr>\n      <th>2019-01-01</th>\n      <td>1.243281</td>\n      <td>-0.517116</td>\n      <td>-1.785556</td>\n      <td>0.824034</td>\n    </tr>\n    <tr>\n      <th>2019-01-02</th>\n      <td>-0.830950</td>\n      <td>0.271291</td>\n      <td>0.222845</td>\n      <td>-0.160498</td>\n    </tr>\n    <tr>\n      <th>2019-01-03</th>\n      <td>0.309368</td>\n      <td>0.640691</td>\n      <td>0.084062</td>\n      <td>0.270913</td>\n    </tr>\n    <tr>\n      <th>2019-01-04</th>\n      <td>-0.125982</td>\n      <td>-0.351524</td>\n      <td>-1.379903</td>\n      <td>-0.408959</td>\n    </tr>\n    <tr>\n      <th>2019-01-05</th>\n      <td>-0.908592</td>\n      <td>1.848314</td>\n      <td>-0.112071</td>\n      <td>-1.059779</td>\n    </tr>\n    <tr>\n      <th>2019-01-06</th>\n      <td>0.940659</td>\n      <td>-0.361001</td>\n      <td>0.947651</td>\n      <td>0.110191</td>\n    </tr>\n  </tbody>\n</table>\n</div>"
     },
     "execution_count": 68,
     "metadata": {},
     "output_type": "execute_result"
    }
   ],
   "source": [
    "df"
   ]
  },
  {
   "cell_type": "code",
   "execution_count": 69,
   "metadata": {
    "scrolled": false,
    "ExecuteTime": {
     "end_time": "2024-11-05T08:57:34.374040900Z",
     "start_time": "2024-11-05T08:57:15.965548100Z"
    }
   },
   "outputs": [
    {
     "data": {
      "text/plain": "                   A         B         C\n2019-01-01  1.243281 -0.517116 -1.785556\n2019-01-02 -0.830950  0.271291  0.222845\n2019-01-03  0.309368  0.640691  0.084062\n2019-01-04 -0.125982 -0.351524 -1.379903\n2019-01-05 -0.908592  1.848314 -0.112071\n2019-01-06  0.940659 -0.361001  0.947651",
      "text/html": "<div>\n<style scoped>\n    .dataframe tbody tr th:only-of-type {\n        vertical-align: middle;\n    }\n\n    .dataframe tbody tr th {\n        vertical-align: top;\n    }\n\n    .dataframe thead th {\n        text-align: right;\n    }\n</style>\n<table border=\"1\" class=\"dataframe\">\n  <thead>\n    <tr style=\"text-align: right;\">\n      <th></th>\n      <th>A</th>\n      <th>B</th>\n      <th>C</th>\n    </tr>\n  </thead>\n  <tbody>\n    <tr>\n      <th>2019-01-01</th>\n      <td>1.243281</td>\n      <td>-0.517116</td>\n      <td>-1.785556</td>\n    </tr>\n    <tr>\n      <th>2019-01-02</th>\n      <td>-0.830950</td>\n      <td>0.271291</td>\n      <td>0.222845</td>\n    </tr>\n    <tr>\n      <th>2019-01-03</th>\n      <td>0.309368</td>\n      <td>0.640691</td>\n      <td>0.084062</td>\n    </tr>\n    <tr>\n      <th>2019-01-04</th>\n      <td>-0.125982</td>\n      <td>-0.351524</td>\n      <td>-1.379903</td>\n    </tr>\n    <tr>\n      <th>2019-01-05</th>\n      <td>-0.908592</td>\n      <td>1.848314</td>\n      <td>-0.112071</td>\n    </tr>\n    <tr>\n      <th>2019-01-06</th>\n      <td>0.940659</td>\n      <td>-0.361001</td>\n      <td>0.947651</td>\n    </tr>\n  </tbody>\n</table>\n</div>"
     },
     "execution_count": 69,
     "metadata": {},
     "output_type": "execute_result"
    }
   ],
   "source": [
    "df.loc[:, \"A\": \"C\"]"
   ]
  },
  {
   "cell_type": "code",
   "execution_count": 70,
   "metadata": {
    "ExecuteTime": {
     "end_time": "2024-11-05T08:57:34.375044Z",
     "start_time": "2024-11-05T08:57:15.981398200Z"
    }
   },
   "outputs": [
    {
     "data": {
      "text/plain": "                   A         B         C\n2019-01-01  1.243281 -0.517116 -1.785556\n2019-01-02 -0.830950  0.271291  0.222845\n2019-01-03  0.309368  0.640691  0.084062\n2019-01-04 -0.125982 -0.351524 -1.379903\n2019-01-05 -0.908592  1.848314 -0.112071\n2019-01-06  0.940659 -0.361001  0.947651",
      "text/html": "<div>\n<style scoped>\n    .dataframe tbody tr th:only-of-type {\n        vertical-align: middle;\n    }\n\n    .dataframe tbody tr th {\n        vertical-align: top;\n    }\n\n    .dataframe thead th {\n        text-align: right;\n    }\n</style>\n<table border=\"1\" class=\"dataframe\">\n  <thead>\n    <tr style=\"text-align: right;\">\n      <th></th>\n      <th>A</th>\n      <th>B</th>\n      <th>C</th>\n    </tr>\n  </thead>\n  <tbody>\n    <tr>\n      <th>2019-01-01</th>\n      <td>1.243281</td>\n      <td>-0.517116</td>\n      <td>-1.785556</td>\n    </tr>\n    <tr>\n      <th>2019-01-02</th>\n      <td>-0.830950</td>\n      <td>0.271291</td>\n      <td>0.222845</td>\n    </tr>\n    <tr>\n      <th>2019-01-03</th>\n      <td>0.309368</td>\n      <td>0.640691</td>\n      <td>0.084062</td>\n    </tr>\n    <tr>\n      <th>2019-01-04</th>\n      <td>-0.125982</td>\n      <td>-0.351524</td>\n      <td>-1.379903</td>\n    </tr>\n    <tr>\n      <th>2019-01-05</th>\n      <td>-0.908592</td>\n      <td>1.848314</td>\n      <td>-0.112071</td>\n    </tr>\n    <tr>\n      <th>2019-01-06</th>\n      <td>0.940659</td>\n      <td>-0.361001</td>\n      <td>0.947651</td>\n    </tr>\n  </tbody>\n</table>\n</div>"
     },
     "execution_count": 70,
     "metadata": {},
     "output_type": "execute_result"
    }
   ],
   "source": [
    "df.iloc[:, 0: 3]"
   ]
  },
  {
   "cell_type": "markdown",
   "metadata": {},
   "source": [
    "##### 2.3.3 多种取值方式"
   ]
  },
  {
   "cell_type": "code",
   "execution_count": 71,
   "metadata": {
    "ExecuteTime": {
     "end_time": "2024-11-05T08:57:34.376045500Z",
     "start_time": "2024-11-05T08:57:15.997310600Z"
    }
   },
   "outputs": [
    {
     "data": {
      "text/plain": "                   A         B         C         D\n2019-01-01  1.243281 -0.517116 -1.785556  0.824034\n2019-01-02 -0.830950  0.271291  0.222845 -0.160498\n2019-01-03  0.309368  0.640691  0.084062  0.270913\n2019-01-04 -0.125982 -0.351524 -1.379903 -0.408959\n2019-01-05 -0.908592  1.848314 -0.112071 -1.059779\n2019-01-06  0.940659 -0.361001  0.947651  0.110191",
      "text/html": "<div>\n<style scoped>\n    .dataframe tbody tr th:only-of-type {\n        vertical-align: middle;\n    }\n\n    .dataframe tbody tr th {\n        vertical-align: top;\n    }\n\n    .dataframe thead th {\n        text-align: right;\n    }\n</style>\n<table border=\"1\" class=\"dataframe\">\n  <thead>\n    <tr style=\"text-align: right;\">\n      <th></th>\n      <th>A</th>\n      <th>B</th>\n      <th>C</th>\n      <th>D</th>\n    </tr>\n  </thead>\n  <tbody>\n    <tr>\n      <th>2019-01-01</th>\n      <td>1.243281</td>\n      <td>-0.517116</td>\n      <td>-1.785556</td>\n      <td>0.824034</td>\n    </tr>\n    <tr>\n      <th>2019-01-02</th>\n      <td>-0.830950</td>\n      <td>0.271291</td>\n      <td>0.222845</td>\n      <td>-0.160498</td>\n    </tr>\n    <tr>\n      <th>2019-01-03</th>\n      <td>0.309368</td>\n      <td>0.640691</td>\n      <td>0.084062</td>\n      <td>0.270913</td>\n    </tr>\n    <tr>\n      <th>2019-01-04</th>\n      <td>-0.125982</td>\n      <td>-0.351524</td>\n      <td>-1.379903</td>\n      <td>-0.408959</td>\n    </tr>\n    <tr>\n      <th>2019-01-05</th>\n      <td>-0.908592</td>\n      <td>1.848314</td>\n      <td>-0.112071</td>\n      <td>-1.059779</td>\n    </tr>\n    <tr>\n      <th>2019-01-06</th>\n      <td>0.940659</td>\n      <td>-0.361001</td>\n      <td>0.947651</td>\n      <td>0.110191</td>\n    </tr>\n  </tbody>\n</table>\n</div>"
     },
     "execution_count": 71,
     "metadata": {},
     "output_type": "execute_result"
    }
   ],
   "source": [
    "df"
   ]
  },
  {
   "cell_type": "markdown",
   "metadata": {},
   "source": [
    "1. 行、列同时切片"
   ]
  },
  {
   "cell_type": "code",
   "execution_count": 72,
   "metadata": {
    "scrolled": true,
    "ExecuteTime": {
     "end_time": "2024-11-05T08:57:34.532221100Z",
     "start_time": "2024-11-05T08:57:16.019779400Z"
    }
   },
   "outputs": [
    {
     "data": {
      "text/plain": "                   C         D\n2019-01-02  0.222845 -0.160498\n2019-01-03  0.084062  0.270913",
      "text/html": "<div>\n<style scoped>\n    .dataframe tbody tr th:only-of-type {\n        vertical-align: middle;\n    }\n\n    .dataframe tbody tr th {\n        vertical-align: top;\n    }\n\n    .dataframe thead th {\n        text-align: right;\n    }\n</style>\n<table border=\"1\" class=\"dataframe\">\n  <thead>\n    <tr style=\"text-align: right;\">\n      <th></th>\n      <th>C</th>\n      <th>D</th>\n    </tr>\n  </thead>\n  <tbody>\n    <tr>\n      <th>2019-01-02</th>\n      <td>0.222845</td>\n      <td>-0.160498</td>\n    </tr>\n    <tr>\n      <th>2019-01-03</th>\n      <td>0.084062</td>\n      <td>0.270913</td>\n    </tr>\n  </tbody>\n</table>\n</div>"
     },
     "execution_count": 72,
     "metadata": {},
     "output_type": "execute_result"
    }
   ],
   "source": [
    "df.loc[\"2019-01-02\": \"2019-01-03\", \"C\":\"D\"]"
   ]
  },
  {
   "cell_type": "code",
   "execution_count": 73,
   "metadata": {
    "scrolled": false,
    "ExecuteTime": {
     "end_time": "2024-11-05T08:57:34.680716900Z",
     "start_time": "2024-11-05T08:57:16.045398600Z"
    }
   },
   "outputs": [
    {
     "data": {
      "text/plain": "                   C         D\n2019-01-02  0.222845 -0.160498\n2019-01-03  0.084062  0.270913",
      "text/html": "<div>\n<style scoped>\n    .dataframe tbody tr th:only-of-type {\n        vertical-align: middle;\n    }\n\n    .dataframe tbody tr th {\n        vertical-align: top;\n    }\n\n    .dataframe thead th {\n        text-align: right;\n    }\n</style>\n<table border=\"1\" class=\"dataframe\">\n  <thead>\n    <tr style=\"text-align: right;\">\n      <th></th>\n      <th>C</th>\n      <th>D</th>\n    </tr>\n  </thead>\n  <tbody>\n    <tr>\n      <th>2019-01-02</th>\n      <td>0.222845</td>\n      <td>-0.160498</td>\n    </tr>\n    <tr>\n      <th>2019-01-03</th>\n      <td>0.084062</td>\n      <td>0.270913</td>\n    </tr>\n  </tbody>\n</table>\n</div>"
     },
     "execution_count": 73,
     "metadata": {},
     "output_type": "execute_result"
    }
   ],
   "source": [
    "df.iloc[1: 3, 2:]"
   ]
  },
  {
   "cell_type": "markdown",
   "metadata": {},
   "source": [
    "2. 行切片，列分散取值"
   ]
  },
  {
   "cell_type": "code",
   "execution_count": 74,
   "metadata": {
    "scrolled": false,
    "ExecuteTime": {
     "end_time": "2024-11-05T08:57:34.680716900Z",
     "start_time": "2024-11-05T08:57:16.063621300Z"
    }
   },
   "outputs": [
    {
     "data": {
      "text/plain": "                   A         C\n2019-01-04 -0.125982 -1.379903\n2019-01-05 -0.908592 -0.112071\n2019-01-06  0.940659  0.947651",
      "text/html": "<div>\n<style scoped>\n    .dataframe tbody tr th:only-of-type {\n        vertical-align: middle;\n    }\n\n    .dataframe tbody tr th {\n        vertical-align: top;\n    }\n\n    .dataframe thead th {\n        text-align: right;\n    }\n</style>\n<table border=\"1\" class=\"dataframe\">\n  <thead>\n    <tr style=\"text-align: right;\">\n      <th></th>\n      <th>A</th>\n      <th>C</th>\n    </tr>\n  </thead>\n  <tbody>\n    <tr>\n      <th>2019-01-04</th>\n      <td>-0.125982</td>\n      <td>-1.379903</td>\n    </tr>\n    <tr>\n      <th>2019-01-05</th>\n      <td>-0.908592</td>\n      <td>-0.112071</td>\n    </tr>\n    <tr>\n      <th>2019-01-06</th>\n      <td>0.940659</td>\n      <td>0.947651</td>\n    </tr>\n  </tbody>\n</table>\n</div>"
     },
     "execution_count": 74,
     "metadata": {},
     "output_type": "execute_result"
    }
   ],
   "source": [
    "df.loc[\"2019-01-04\": \"2019-01-06\", [\"A\", \"C\"]]"
   ]
  },
  {
   "cell_type": "code",
   "execution_count": 75,
   "metadata": {
    "ExecuteTime": {
     "end_time": "2024-11-05T08:57:34.681715800Z",
     "start_time": "2024-11-05T08:57:16.075806900Z"
    }
   },
   "outputs": [
    {
     "data": {
      "text/plain": "                   A         C\n2019-01-04 -0.125982 -1.379903\n2019-01-05 -0.908592 -0.112071\n2019-01-06  0.940659  0.947651",
      "text/html": "<div>\n<style scoped>\n    .dataframe tbody tr th:only-of-type {\n        vertical-align: middle;\n    }\n\n    .dataframe tbody tr th {\n        vertical-align: top;\n    }\n\n    .dataframe thead th {\n        text-align: right;\n    }\n</style>\n<table border=\"1\" class=\"dataframe\">\n  <thead>\n    <tr style=\"text-align: right;\">\n      <th></th>\n      <th>A</th>\n      <th>C</th>\n    </tr>\n  </thead>\n  <tbody>\n    <tr>\n      <th>2019-01-04</th>\n      <td>-0.125982</td>\n      <td>-1.379903</td>\n    </tr>\n    <tr>\n      <th>2019-01-05</th>\n      <td>-0.908592</td>\n      <td>-0.112071</td>\n    </tr>\n    <tr>\n      <th>2019-01-06</th>\n      <td>0.940659</td>\n      <td>0.947651</td>\n    </tr>\n  </tbody>\n</table>\n</div>"
     },
     "execution_count": 75,
     "metadata": {},
     "output_type": "execute_result"
    }
   ],
   "source": [
    "df.iloc[3:, [0, 2]]"
   ]
  },
  {
   "cell_type": "markdown",
   "metadata": {},
   "source": [
    "3. 行分散取值，列切片"
   ]
  },
  {
   "cell_type": "code",
   "execution_count": 76,
   "metadata": {
    "ExecuteTime": {
     "end_time": "2024-11-05T08:57:34.832269400Z",
     "start_time": "2024-11-05T08:57:16.106580800Z"
    }
   },
   "outputs": [
    {
     "data": {
      "text/plain": "                   C         D\n2019-01-02  0.222845 -0.160498\n2019-01-06  0.947651  0.110191",
      "text/html": "<div>\n<style scoped>\n    .dataframe tbody tr th:only-of-type {\n        vertical-align: middle;\n    }\n\n    .dataframe tbody tr th {\n        vertical-align: top;\n    }\n\n    .dataframe thead th {\n        text-align: right;\n    }\n</style>\n<table border=\"1\" class=\"dataframe\">\n  <thead>\n    <tr style=\"text-align: right;\">\n      <th></th>\n      <th>C</th>\n      <th>D</th>\n    </tr>\n  </thead>\n  <tbody>\n    <tr>\n      <th>2019-01-02</th>\n      <td>0.222845</td>\n      <td>-0.160498</td>\n    </tr>\n    <tr>\n      <th>2019-01-06</th>\n      <td>0.947651</td>\n      <td>0.110191</td>\n    </tr>\n  </tbody>\n</table>\n</div>"
     },
     "execution_count": 76,
     "metadata": {},
     "output_type": "execute_result"
    }
   ],
   "source": [
    "df.loc[[\"2019-01-02\", \"2019-01-06\"], \"C\": \"D\"]"
   ]
  },
  {
   "cell_type": "code",
   "execution_count": 77,
   "metadata": {
    "scrolled": true,
    "ExecuteTime": {
     "end_time": "2024-11-05T08:57:34.832269400Z",
     "start_time": "2024-11-05T08:57:16.120472300Z"
    }
   },
   "outputs": [
    {
     "data": {
      "text/plain": "                   A         B         C\n2019-01-02 -0.830950  0.271291  0.222845\n2019-01-06  0.940659 -0.361001  0.947651",
      "text/html": "<div>\n<style scoped>\n    .dataframe tbody tr th:only-of-type {\n        vertical-align: middle;\n    }\n\n    .dataframe tbody tr th {\n        vertical-align: top;\n    }\n\n    .dataframe thead th {\n        text-align: right;\n    }\n</style>\n<table border=\"1\" class=\"dataframe\">\n  <thead>\n    <tr style=\"text-align: right;\">\n      <th></th>\n      <th>A</th>\n      <th>B</th>\n      <th>C</th>\n    </tr>\n  </thead>\n  <tbody>\n    <tr>\n      <th>2019-01-02</th>\n      <td>-0.830950</td>\n      <td>0.271291</td>\n      <td>0.222845</td>\n    </tr>\n    <tr>\n      <th>2019-01-06</th>\n      <td>0.940659</td>\n      <td>-0.361001</td>\n      <td>0.947651</td>\n    </tr>\n  </tbody>\n</table>\n</div>"
     },
     "execution_count": 77,
     "metadata": {},
     "output_type": "execute_result"
    }
   ],
   "source": [
    "df.iloc[[1, 5], 0: 3]"
   ]
  },
  {
   "cell_type": "markdown",
   "metadata": {},
   "source": [
    "4. 行、列均分散取值"
   ]
  },
  {
   "cell_type": "code",
   "execution_count": 78,
   "metadata": {
    "ExecuteTime": {
     "end_time": "2024-11-05T08:57:34.981938500Z",
     "start_time": "2024-11-05T08:57:16.150574600Z"
    }
   },
   "outputs": [
    {
     "data": {
      "text/plain": "                   A         D\n2019-01-04 -0.125982 -0.408959\n2019-01-06  0.940659  0.110191",
      "text/html": "<div>\n<style scoped>\n    .dataframe tbody tr th:only-of-type {\n        vertical-align: middle;\n    }\n\n    .dataframe tbody tr th {\n        vertical-align: top;\n    }\n\n    .dataframe thead th {\n        text-align: right;\n    }\n</style>\n<table border=\"1\" class=\"dataframe\">\n  <thead>\n    <tr style=\"text-align: right;\">\n      <th></th>\n      <th>A</th>\n      <th>D</th>\n    </tr>\n  </thead>\n  <tbody>\n    <tr>\n      <th>2019-01-04</th>\n      <td>-0.125982</td>\n      <td>-0.408959</td>\n    </tr>\n    <tr>\n      <th>2019-01-06</th>\n      <td>0.940659</td>\n      <td>0.110191</td>\n    </tr>\n  </tbody>\n</table>\n</div>"
     },
     "execution_count": 78,
     "metadata": {},
     "output_type": "execute_result"
    }
   ],
   "source": [
    "df.loc[[\"2019-01-04\", \"2019-01-06\"], [\"A\", \"D\"]]"
   ]
  },
  {
   "cell_type": "code",
   "execution_count": 79,
   "metadata": {
    "scrolled": true,
    "ExecuteTime": {
     "end_time": "2024-11-05T08:57:34.982446700Z",
     "start_time": "2024-11-05T08:57:16.170508Z"
    }
   },
   "outputs": [
    {
     "data": {
      "text/plain": "                   A         D\n2019-01-02 -0.830950 -0.160498\n2019-01-06  0.940659  0.110191",
      "text/html": "<div>\n<style scoped>\n    .dataframe tbody tr th:only-of-type {\n        vertical-align: middle;\n    }\n\n    .dataframe tbody tr th {\n        vertical-align: top;\n    }\n\n    .dataframe thead th {\n        text-align: right;\n    }\n</style>\n<table border=\"1\" class=\"dataframe\">\n  <thead>\n    <tr style=\"text-align: right;\">\n      <th></th>\n      <th>A</th>\n      <th>D</th>\n    </tr>\n  </thead>\n  <tbody>\n    <tr>\n      <th>2019-01-02</th>\n      <td>-0.830950</td>\n      <td>-0.160498</td>\n    </tr>\n    <tr>\n      <th>2019-01-06</th>\n      <td>0.940659</td>\n      <td>0.110191</td>\n    </tr>\n  </tbody>\n</table>\n</div>"
     },
     "execution_count": 79,
     "metadata": {},
     "output_type": "execute_result"
    }
   ],
   "source": [
    "df.iloc[[1, 5], [0, 3]]"
   ]
  },
  {
   "cell_type": "markdown",
   "metadata": {},
   "source": [
    "##### 2.3.4 布尔索引"
   ]
  },
  {
   "cell_type": "code",
   "execution_count": 80,
   "metadata": {
    "scrolled": false,
    "ExecuteTime": {
     "end_time": "2024-11-05T08:57:35.373175300Z",
     "start_time": "2024-11-05T08:57:16.193785900Z"
    }
   },
   "outputs": [
    {
     "data": {
      "text/plain": "                   A         B         C         D\n2019-01-01  1.243281 -0.517116 -1.785556  0.824034\n2019-01-02 -0.830950  0.271291  0.222845 -0.160498\n2019-01-03  0.309368  0.640691  0.084062  0.270913\n2019-01-04 -0.125982 -0.351524 -1.379903 -0.408959\n2019-01-05 -0.908592  1.848314 -0.112071 -1.059779\n2019-01-06  0.940659 -0.361001  0.947651  0.110191",
      "text/html": "<div>\n<style scoped>\n    .dataframe tbody tr th:only-of-type {\n        vertical-align: middle;\n    }\n\n    .dataframe tbody tr th {\n        vertical-align: top;\n    }\n\n    .dataframe thead th {\n        text-align: right;\n    }\n</style>\n<table border=\"1\" class=\"dataframe\">\n  <thead>\n    <tr style=\"text-align: right;\">\n      <th></th>\n      <th>A</th>\n      <th>B</th>\n      <th>C</th>\n      <th>D</th>\n    </tr>\n  </thead>\n  <tbody>\n    <tr>\n      <th>2019-01-01</th>\n      <td>1.243281</td>\n      <td>-0.517116</td>\n      <td>-1.785556</td>\n      <td>0.824034</td>\n    </tr>\n    <tr>\n      <th>2019-01-02</th>\n      <td>-0.830950</td>\n      <td>0.271291</td>\n      <td>0.222845</td>\n      <td>-0.160498</td>\n    </tr>\n    <tr>\n      <th>2019-01-03</th>\n      <td>0.309368</td>\n      <td>0.640691</td>\n      <td>0.084062</td>\n      <td>0.270913</td>\n    </tr>\n    <tr>\n      <th>2019-01-04</th>\n      <td>-0.125982</td>\n      <td>-0.351524</td>\n      <td>-1.379903</td>\n      <td>-0.408959</td>\n    </tr>\n    <tr>\n      <th>2019-01-05</th>\n      <td>-0.908592</td>\n      <td>1.848314</td>\n      <td>-0.112071</td>\n      <td>-1.059779</td>\n    </tr>\n    <tr>\n      <th>2019-01-06</th>\n      <td>0.940659</td>\n      <td>-0.361001</td>\n      <td>0.947651</td>\n      <td>0.110191</td>\n    </tr>\n  </tbody>\n</table>\n</div>"
     },
     "execution_count": 80,
     "metadata": {},
     "output_type": "execute_result"
    }
   ],
   "source": [
    "df"
   ]
  },
  {
   "cell_type": "code",
   "execution_count": 81,
   "metadata": {
    "scrolled": false,
    "ExecuteTime": {
     "end_time": "2024-11-05T08:57:35.373989Z",
     "start_time": "2024-11-05T08:57:16.216478800Z"
    }
   },
   "outputs": [
    {
     "data": {
      "text/plain": "                A      B      C      D\n2019-01-01   True  False  False   True\n2019-01-02  False   True   True  False\n2019-01-03   True   True   True   True\n2019-01-04  False  False  False  False\n2019-01-05  False   True  False  False\n2019-01-06   True  False   True   True",
      "text/html": "<div>\n<style scoped>\n    .dataframe tbody tr th:only-of-type {\n        vertical-align: middle;\n    }\n\n    .dataframe tbody tr th {\n        vertical-align: top;\n    }\n\n    .dataframe thead th {\n        text-align: right;\n    }\n</style>\n<table border=\"1\" class=\"dataframe\">\n  <thead>\n    <tr style=\"text-align: right;\">\n      <th></th>\n      <th>A</th>\n      <th>B</th>\n      <th>C</th>\n      <th>D</th>\n    </tr>\n  </thead>\n  <tbody>\n    <tr>\n      <th>2019-01-01</th>\n      <td>True</td>\n      <td>False</td>\n      <td>False</td>\n      <td>True</td>\n    </tr>\n    <tr>\n      <th>2019-01-02</th>\n      <td>False</td>\n      <td>True</td>\n      <td>True</td>\n      <td>False</td>\n    </tr>\n    <tr>\n      <th>2019-01-03</th>\n      <td>True</td>\n      <td>True</td>\n      <td>True</td>\n      <td>True</td>\n    </tr>\n    <tr>\n      <th>2019-01-04</th>\n      <td>False</td>\n      <td>False</td>\n      <td>False</td>\n      <td>False</td>\n    </tr>\n    <tr>\n      <th>2019-01-05</th>\n      <td>False</td>\n      <td>True</td>\n      <td>False</td>\n      <td>False</td>\n    </tr>\n    <tr>\n      <th>2019-01-06</th>\n      <td>True</td>\n      <td>False</td>\n      <td>True</td>\n      <td>True</td>\n    </tr>\n  </tbody>\n</table>\n</div>"
     },
     "execution_count": 81,
     "metadata": {},
     "output_type": "execute_result"
    }
   ],
   "source": [
    "df > 0"
   ]
  },
  {
   "cell_type": "code",
   "execution_count": 82,
   "metadata": {
    "scrolled": false,
    "ExecuteTime": {
     "end_time": "2024-11-05T08:57:35.593056200Z",
     "start_time": "2024-11-05T08:57:16.231504500Z"
    }
   },
   "outputs": [
    {
     "data": {
      "text/plain": "                   A         B         C         D\n2019-01-01  1.243281       NaN       NaN  0.824034\n2019-01-02       NaN  0.271291  0.222845       NaN\n2019-01-03  0.309368  0.640691  0.084062  0.270913\n2019-01-04       NaN       NaN       NaN       NaN\n2019-01-05       NaN  1.848314       NaN       NaN\n2019-01-06  0.940659       NaN  0.947651  0.110191",
      "text/html": "<div>\n<style scoped>\n    .dataframe tbody tr th:only-of-type {\n        vertical-align: middle;\n    }\n\n    .dataframe tbody tr th {\n        vertical-align: top;\n    }\n\n    .dataframe thead th {\n        text-align: right;\n    }\n</style>\n<table border=\"1\" class=\"dataframe\">\n  <thead>\n    <tr style=\"text-align: right;\">\n      <th></th>\n      <th>A</th>\n      <th>B</th>\n      <th>C</th>\n      <th>D</th>\n    </tr>\n  </thead>\n  <tbody>\n    <tr>\n      <th>2019-01-01</th>\n      <td>1.243281</td>\n      <td>NaN</td>\n      <td>NaN</td>\n      <td>0.824034</td>\n    </tr>\n    <tr>\n      <th>2019-01-02</th>\n      <td>NaN</td>\n      <td>0.271291</td>\n      <td>0.222845</td>\n      <td>NaN</td>\n    </tr>\n    <tr>\n      <th>2019-01-03</th>\n      <td>0.309368</td>\n      <td>0.640691</td>\n      <td>0.084062</td>\n      <td>0.270913</td>\n    </tr>\n    <tr>\n      <th>2019-01-04</th>\n      <td>NaN</td>\n      <td>NaN</td>\n      <td>NaN</td>\n      <td>NaN</td>\n    </tr>\n    <tr>\n      <th>2019-01-05</th>\n      <td>NaN</td>\n      <td>1.848314</td>\n      <td>NaN</td>\n      <td>NaN</td>\n    </tr>\n    <tr>\n      <th>2019-01-06</th>\n      <td>0.940659</td>\n      <td>NaN</td>\n      <td>0.947651</td>\n      <td>0.110191</td>\n    </tr>\n  </tbody>\n</table>\n</div>"
     },
     "execution_count": 82,
     "metadata": {},
     "output_type": "execute_result"
    }
   ],
   "source": [
    "df[df > 0]"
   ]
  },
  {
   "cell_type": "code",
   "execution_count": 83,
   "metadata": {
    "ExecuteTime": {
     "end_time": "2024-11-05T08:57:27.187925600Z",
     "start_time": "2024-11-05T08:57:16.246361600Z"
    }
   },
   "outputs": [
    {
     "data": {
      "text/plain": "2019-01-01     True\n2019-01-02    False\n2019-01-03     True\n2019-01-04    False\n2019-01-05    False\n2019-01-06     True\nFreq: D, Name: A, dtype: bool"
     },
     "execution_count": 83,
     "metadata": {},
     "output_type": "execute_result"
    }
   ],
   "source": [
    "df.A > 0"
   ]
  },
  {
   "cell_type": "code",
   "execution_count": 84,
   "metadata": {
    "scrolled": false,
    "ExecuteTime": {
     "end_time": "2024-11-05T08:57:27.187925600Z",
     "start_time": "2024-11-05T08:57:16.262676Z"
    }
   },
   "outputs": [
    {
     "data": {
      "text/plain": "                   A         B         C         D\n2019-01-01  1.243281 -0.517116 -1.785556  0.824034\n2019-01-03  0.309368  0.640691  0.084062  0.270913\n2019-01-06  0.940659 -0.361001  0.947651  0.110191",
      "text/html": "<div>\n<style scoped>\n    .dataframe tbody tr th:only-of-type {\n        vertical-align: middle;\n    }\n\n    .dataframe tbody tr th {\n        vertical-align: top;\n    }\n\n    .dataframe thead th {\n        text-align: right;\n    }\n</style>\n<table border=\"1\" class=\"dataframe\">\n  <thead>\n    <tr style=\"text-align: right;\">\n      <th></th>\n      <th>A</th>\n      <th>B</th>\n      <th>C</th>\n      <th>D</th>\n    </tr>\n  </thead>\n  <tbody>\n    <tr>\n      <th>2019-01-01</th>\n      <td>1.243281</td>\n      <td>-0.517116</td>\n      <td>-1.785556</td>\n      <td>0.824034</td>\n    </tr>\n    <tr>\n      <th>2019-01-03</th>\n      <td>0.309368</td>\n      <td>0.640691</td>\n      <td>0.084062</td>\n      <td>0.270913</td>\n    </tr>\n    <tr>\n      <th>2019-01-06</th>\n      <td>0.940659</td>\n      <td>-0.361001</td>\n      <td>0.947651</td>\n      <td>0.110191</td>\n    </tr>\n  </tbody>\n</table>\n</div>"
     },
     "execution_count": 84,
     "metadata": {},
     "output_type": "execute_result"
    }
   ],
   "source": [
    "df[df.A > 0]"
   ]
  },
  {
   "cell_type": "markdown",
   "metadata": {},
   "source": [
    "1. isin（）方法"
   ]
  },
  {
   "cell_type": "code",
   "execution_count": 85,
   "metadata": {
    "scrolled": true,
    "ExecuteTime": {
     "end_time": "2024-11-05T08:57:27.270391600Z",
     "start_time": "2024-11-05T08:57:16.277443400Z"
    }
   },
   "outputs": [
    {
     "data": {
      "text/plain": "                   A         B         C         D      E\n2019-01-01  1.243281 -0.517116 -1.785556  0.824034    one\n2019-01-02 -0.830950  0.271291  0.222845 -0.160498    one\n2019-01-03  0.309368  0.640691  0.084062  0.270913    two\n2019-01-04 -0.125982 -0.351524 -1.379903 -0.408959  three\n2019-01-05 -0.908592  1.848314 -0.112071 -1.059779   four\n2019-01-06  0.940659 -0.361001  0.947651  0.110191  three",
      "text/html": "<div>\n<style scoped>\n    .dataframe tbody tr th:only-of-type {\n        vertical-align: middle;\n    }\n\n    .dataframe tbody tr th {\n        vertical-align: top;\n    }\n\n    .dataframe thead th {\n        text-align: right;\n    }\n</style>\n<table border=\"1\" class=\"dataframe\">\n  <thead>\n    <tr style=\"text-align: right;\">\n      <th></th>\n      <th>A</th>\n      <th>B</th>\n      <th>C</th>\n      <th>D</th>\n      <th>E</th>\n    </tr>\n  </thead>\n  <tbody>\n    <tr>\n      <th>2019-01-01</th>\n      <td>1.243281</td>\n      <td>-0.517116</td>\n      <td>-1.785556</td>\n      <td>0.824034</td>\n      <td>one</td>\n    </tr>\n    <tr>\n      <th>2019-01-02</th>\n      <td>-0.830950</td>\n      <td>0.271291</td>\n      <td>0.222845</td>\n      <td>-0.160498</td>\n      <td>one</td>\n    </tr>\n    <tr>\n      <th>2019-01-03</th>\n      <td>0.309368</td>\n      <td>0.640691</td>\n      <td>0.084062</td>\n      <td>0.270913</td>\n      <td>two</td>\n    </tr>\n    <tr>\n      <th>2019-01-04</th>\n      <td>-0.125982</td>\n      <td>-0.351524</td>\n      <td>-1.379903</td>\n      <td>-0.408959</td>\n      <td>three</td>\n    </tr>\n    <tr>\n      <th>2019-01-05</th>\n      <td>-0.908592</td>\n      <td>1.848314</td>\n      <td>-0.112071</td>\n      <td>-1.059779</td>\n      <td>four</td>\n    </tr>\n    <tr>\n      <th>2019-01-06</th>\n      <td>0.940659</td>\n      <td>-0.361001</td>\n      <td>0.947651</td>\n      <td>0.110191</td>\n      <td>three</td>\n    </tr>\n  </tbody>\n</table>\n</div>"
     },
     "execution_count": 85,
     "metadata": {},
     "output_type": "execute_result"
    }
   ],
   "source": [
    "df2 = df.copy()\n",
    "df2['E'] = ['one', 'one', 'two', 'three', 'four', 'three']\n",
    "df2"
   ]
  },
  {
   "cell_type": "code",
   "execution_count": 86,
   "metadata": {
    "ExecuteTime": {
     "end_time": "2024-11-05T08:57:27.271388Z",
     "start_time": "2024-11-05T08:57:16.291523Z"
    }
   },
   "outputs": [
    {
     "data": {
      "text/plain": "2019-01-01    False\n2019-01-02    False\n2019-01-03     True\n2019-01-04    False\n2019-01-05     True\n2019-01-06    False\nFreq: D, Name: E, dtype: bool"
     },
     "execution_count": 86,
     "metadata": {},
     "output_type": "execute_result"
    }
   ],
   "source": [
    "ind = df2[\"E\"].isin([\"two\", \"four\"])\n",
    "ind"
   ]
  },
  {
   "cell_type": "code",
   "execution_count": 87,
   "metadata": {
    "ExecuteTime": {
     "end_time": "2024-11-05T08:57:35.818259400Z",
     "start_time": "2024-11-05T08:57:16.308126300Z"
    }
   },
   "outputs": [
    {
     "data": {
      "text/plain": "                   A         B         C         D     E\n2019-01-03  0.309368  0.640691  0.084062  0.270913   two\n2019-01-05 -0.908592  1.848314 -0.112071 -1.059779  four",
      "text/html": "<div>\n<style scoped>\n    .dataframe tbody tr th:only-of-type {\n        vertical-align: middle;\n    }\n\n    .dataframe tbody tr th {\n        vertical-align: top;\n    }\n\n    .dataframe thead th {\n        text-align: right;\n    }\n</style>\n<table border=\"1\" class=\"dataframe\">\n  <thead>\n    <tr style=\"text-align: right;\">\n      <th></th>\n      <th>A</th>\n      <th>B</th>\n      <th>C</th>\n      <th>D</th>\n      <th>E</th>\n    </tr>\n  </thead>\n  <tbody>\n    <tr>\n      <th>2019-01-03</th>\n      <td>0.309368</td>\n      <td>0.640691</td>\n      <td>0.084062</td>\n      <td>0.270913</td>\n      <td>two</td>\n    </tr>\n    <tr>\n      <th>2019-01-05</th>\n      <td>-0.908592</td>\n      <td>1.848314</td>\n      <td>-0.112071</td>\n      <td>-1.059779</td>\n      <td>four</td>\n    </tr>\n  </tbody>\n</table>\n</div>"
     },
     "execution_count": 87,
     "metadata": {},
     "output_type": "execute_result"
    }
   ],
   "source": [
    "df2[ind]"
   ]
  },
  {
   "cell_type": "markdown",
   "metadata": {},
   "source": [
    "#### 2.4 Dataframe的赋值操作"
   ]
  },
  {
   "cell_type": "code",
   "execution_count": 88,
   "metadata": {
    "scrolled": true,
    "ExecuteTime": {
     "end_time": "2024-11-05T08:57:35.819260300Z",
     "start_time": "2024-11-05T08:57:16.323908Z"
    }
   },
   "outputs": [
    {
     "data": {
      "text/plain": "                   A         B         C         D\n2019-01-01  1.243281 -0.517116 -1.785556  0.824034\n2019-01-02 -0.830950  0.271291  0.222845 -0.160498\n2019-01-03  0.309368  0.640691  0.084062  0.270913\n2019-01-04 -0.125982 -0.351524 -1.379903 -0.408959\n2019-01-05 -0.908592  1.848314 -0.112071 -1.059779\n2019-01-06  0.940659 -0.361001  0.947651  0.110191",
      "text/html": "<div>\n<style scoped>\n    .dataframe tbody tr th:only-of-type {\n        vertical-align: middle;\n    }\n\n    .dataframe tbody tr th {\n        vertical-align: top;\n    }\n\n    .dataframe thead th {\n        text-align: right;\n    }\n</style>\n<table border=\"1\" class=\"dataframe\">\n  <thead>\n    <tr style=\"text-align: right;\">\n      <th></th>\n      <th>A</th>\n      <th>B</th>\n      <th>C</th>\n      <th>D</th>\n    </tr>\n  </thead>\n  <tbody>\n    <tr>\n      <th>2019-01-01</th>\n      <td>1.243281</td>\n      <td>-0.517116</td>\n      <td>-1.785556</td>\n      <td>0.824034</td>\n    </tr>\n    <tr>\n      <th>2019-01-02</th>\n      <td>-0.830950</td>\n      <td>0.271291</td>\n      <td>0.222845</td>\n      <td>-0.160498</td>\n    </tr>\n    <tr>\n      <th>2019-01-03</th>\n      <td>0.309368</td>\n      <td>0.640691</td>\n      <td>0.084062</td>\n      <td>0.270913</td>\n    </tr>\n    <tr>\n      <th>2019-01-04</th>\n      <td>-0.125982</td>\n      <td>-0.351524</td>\n      <td>-1.379903</td>\n      <td>-0.408959</td>\n    </tr>\n    <tr>\n      <th>2019-01-05</th>\n      <td>-0.908592</td>\n      <td>1.848314</td>\n      <td>-0.112071</td>\n      <td>-1.059779</td>\n    </tr>\n    <tr>\n      <th>2019-01-06</th>\n      <td>0.940659</td>\n      <td>-0.361001</td>\n      <td>0.947651</td>\n      <td>0.110191</td>\n    </tr>\n  </tbody>\n</table>\n</div>"
     },
     "execution_count": 88,
     "metadata": {},
     "output_type": "execute_result"
    }
   ],
   "source": [
    "df"
   ]
  },
  {
   "cell_type": "markdown",
   "metadata": {},
   "source": [
    "1. DataFrame 增加新列"
   ]
  },
  {
   "cell_type": "code",
   "execution_count": 89,
   "metadata": {
    "scrolled": true,
    "ExecuteTime": {
     "end_time": "2024-11-05T08:57:35.820260Z",
     "start_time": "2024-11-05T08:57:16.338492300Z"
    }
   },
   "outputs": [
    {
     "data": {
      "text/plain": "2019-01-01    1\n2019-01-02    2\n2019-01-03    3\n2019-01-04    4\n2019-01-05    5\n2019-01-06    6\nFreq: D, dtype: int64"
     },
     "execution_count": 89,
     "metadata": {},
     "output_type": "execute_result"
    }
   ],
   "source": [
    "s1 = pd.Series([1, 2, 3, 4, 5, 6], index=pd.date_range('20190101', periods=6))\n",
    "s1"
   ]
  },
  {
   "cell_type": "code",
   "execution_count": 90,
   "metadata": {
    "scrolled": true,
    "ExecuteTime": {
     "end_time": "2024-11-05T08:57:36.026964Z",
     "start_time": "2024-11-05T08:57:16.352985Z"
    }
   },
   "outputs": [
    {
     "data": {
      "text/plain": "                   A         B         C         D  E\n2019-01-01  1.243281 -0.517116 -1.785556  0.824034  1\n2019-01-02 -0.830950  0.271291  0.222845 -0.160498  2\n2019-01-03  0.309368  0.640691  0.084062  0.270913  3\n2019-01-04 -0.125982 -0.351524 -1.379903 -0.408959  4\n2019-01-05 -0.908592  1.848314 -0.112071 -1.059779  5\n2019-01-06  0.940659 -0.361001  0.947651  0.110191  6",
      "text/html": "<div>\n<style scoped>\n    .dataframe tbody tr th:only-of-type {\n        vertical-align: middle;\n    }\n\n    .dataframe tbody tr th {\n        vertical-align: top;\n    }\n\n    .dataframe thead th {\n        text-align: right;\n    }\n</style>\n<table border=\"1\" class=\"dataframe\">\n  <thead>\n    <tr style=\"text-align: right;\">\n      <th></th>\n      <th>A</th>\n      <th>B</th>\n      <th>C</th>\n      <th>D</th>\n      <th>E</th>\n    </tr>\n  </thead>\n  <tbody>\n    <tr>\n      <th>2019-01-01</th>\n      <td>1.243281</td>\n      <td>-0.517116</td>\n      <td>-1.785556</td>\n      <td>0.824034</td>\n      <td>1</td>\n    </tr>\n    <tr>\n      <th>2019-01-02</th>\n      <td>-0.830950</td>\n      <td>0.271291</td>\n      <td>0.222845</td>\n      <td>-0.160498</td>\n      <td>2</td>\n    </tr>\n    <tr>\n      <th>2019-01-03</th>\n      <td>0.309368</td>\n      <td>0.640691</td>\n      <td>0.084062</td>\n      <td>0.270913</td>\n      <td>3</td>\n    </tr>\n    <tr>\n      <th>2019-01-04</th>\n      <td>-0.125982</td>\n      <td>-0.351524</td>\n      <td>-1.379903</td>\n      <td>-0.408959</td>\n      <td>4</td>\n    </tr>\n    <tr>\n      <th>2019-01-05</th>\n      <td>-0.908592</td>\n      <td>1.848314</td>\n      <td>-0.112071</td>\n      <td>-1.059779</td>\n      <td>5</td>\n    </tr>\n    <tr>\n      <th>2019-01-06</th>\n      <td>0.940659</td>\n      <td>-0.361001</td>\n      <td>0.947651</td>\n      <td>0.110191</td>\n      <td>6</td>\n    </tr>\n  </tbody>\n</table>\n</div>"
     },
     "execution_count": 90,
     "metadata": {},
     "output_type": "execute_result"
    }
   ],
   "source": [
    "df[\"E\"] = s1\n",
    "df"
   ]
  },
  {
   "cell_type": "markdown",
   "metadata": {},
   "source": [
    "2. 修改赋值"
   ]
  },
  {
   "cell_type": "code",
   "execution_count": 91,
   "metadata": {
    "ExecuteTime": {
     "end_time": "2024-11-05T08:57:36.027955800Z",
     "start_time": "2024-11-05T08:57:16.370539300Z"
    }
   },
   "outputs": [
    {
     "data": {
      "text/plain": "                   A         B         C         D  E\n2019-01-01  0.000000 -0.517116 -1.785556  0.824034  1\n2019-01-02 -0.830950  0.271291  0.222845 -0.160498  2\n2019-01-03  0.309368  0.640691  0.084062  0.270913  3\n2019-01-04 -0.125982 -0.351524 -1.379903 -0.408959  4\n2019-01-05 -0.908592  1.848314 -0.112071 -1.059779  5\n2019-01-06  0.940659 -0.361001  0.947651  0.110191  6",
      "text/html": "<div>\n<style scoped>\n    .dataframe tbody tr th:only-of-type {\n        vertical-align: middle;\n    }\n\n    .dataframe tbody tr th {\n        vertical-align: top;\n    }\n\n    .dataframe thead th {\n        text-align: right;\n    }\n</style>\n<table border=\"1\" class=\"dataframe\">\n  <thead>\n    <tr style=\"text-align: right;\">\n      <th></th>\n      <th>A</th>\n      <th>B</th>\n      <th>C</th>\n      <th>D</th>\n      <th>E</th>\n    </tr>\n  </thead>\n  <tbody>\n    <tr>\n      <th>2019-01-01</th>\n      <td>0.000000</td>\n      <td>-0.517116</td>\n      <td>-1.785556</td>\n      <td>0.824034</td>\n      <td>1</td>\n    </tr>\n    <tr>\n      <th>2019-01-02</th>\n      <td>-0.830950</td>\n      <td>0.271291</td>\n      <td>0.222845</td>\n      <td>-0.160498</td>\n      <td>2</td>\n    </tr>\n    <tr>\n      <th>2019-01-03</th>\n      <td>0.309368</td>\n      <td>0.640691</td>\n      <td>0.084062</td>\n      <td>0.270913</td>\n      <td>3</td>\n    </tr>\n    <tr>\n      <th>2019-01-04</th>\n      <td>-0.125982</td>\n      <td>-0.351524</td>\n      <td>-1.379903</td>\n      <td>-0.408959</td>\n      <td>4</td>\n    </tr>\n    <tr>\n      <th>2019-01-05</th>\n      <td>-0.908592</td>\n      <td>1.848314</td>\n      <td>-0.112071</td>\n      <td>-1.059779</td>\n      <td>5</td>\n    </tr>\n    <tr>\n      <th>2019-01-06</th>\n      <td>0.940659</td>\n      <td>-0.361001</td>\n      <td>0.947651</td>\n      <td>0.110191</td>\n      <td>6</td>\n    </tr>\n  </tbody>\n</table>\n</div>"
     },
     "execution_count": 91,
     "metadata": {},
     "output_type": "execute_result"
    }
   ],
   "source": [
    "df.loc[\"2019-01-01\", \"A\"] = 0\n",
    "df"
   ]
  },
  {
   "cell_type": "code",
   "execution_count": 92,
   "metadata": {
    "ExecuteTime": {
     "end_time": "2024-11-05T08:57:36.027955800Z",
     "start_time": "2024-11-05T08:57:16.385549400Z"
    }
   },
   "outputs": [
    {
     "data": {
      "text/plain": "                   A         B         C         D  E\n2019-01-01  0.000000  0.000000 -1.785556  0.824034  1\n2019-01-02 -0.830950  0.271291  0.222845 -0.160498  2\n2019-01-03  0.309368  0.640691  0.084062  0.270913  3\n2019-01-04 -0.125982 -0.351524 -1.379903 -0.408959  4\n2019-01-05 -0.908592  1.848314 -0.112071 -1.059779  5\n2019-01-06  0.940659 -0.361001  0.947651  0.110191  6",
      "text/html": "<div>\n<style scoped>\n    .dataframe tbody tr th:only-of-type {\n        vertical-align: middle;\n    }\n\n    .dataframe tbody tr th {\n        vertical-align: top;\n    }\n\n    .dataframe thead th {\n        text-align: right;\n    }\n</style>\n<table border=\"1\" class=\"dataframe\">\n  <thead>\n    <tr style=\"text-align: right;\">\n      <th></th>\n      <th>A</th>\n      <th>B</th>\n      <th>C</th>\n      <th>D</th>\n      <th>E</th>\n    </tr>\n  </thead>\n  <tbody>\n    <tr>\n      <th>2019-01-01</th>\n      <td>0.000000</td>\n      <td>0.000000</td>\n      <td>-1.785556</td>\n      <td>0.824034</td>\n      <td>1</td>\n    </tr>\n    <tr>\n      <th>2019-01-02</th>\n      <td>-0.830950</td>\n      <td>0.271291</td>\n      <td>0.222845</td>\n      <td>-0.160498</td>\n      <td>2</td>\n    </tr>\n    <tr>\n      <th>2019-01-03</th>\n      <td>0.309368</td>\n      <td>0.640691</td>\n      <td>0.084062</td>\n      <td>0.270913</td>\n      <td>3</td>\n    </tr>\n    <tr>\n      <th>2019-01-04</th>\n      <td>-0.125982</td>\n      <td>-0.351524</td>\n      <td>-1.379903</td>\n      <td>-0.408959</td>\n      <td>4</td>\n    </tr>\n    <tr>\n      <th>2019-01-05</th>\n      <td>-0.908592</td>\n      <td>1.848314</td>\n      <td>-0.112071</td>\n      <td>-1.059779</td>\n      <td>5</td>\n    </tr>\n    <tr>\n      <th>2019-01-06</th>\n      <td>0.940659</td>\n      <td>-0.361001</td>\n      <td>0.947651</td>\n      <td>0.110191</td>\n      <td>6</td>\n    </tr>\n  </tbody>\n</table>\n</div>"
     },
     "execution_count": 92,
     "metadata": {},
     "output_type": "execute_result"
    }
   ],
   "source": [
    "df.iloc[0, 1] = 0\n",
    "df"
   ]
  },
  {
   "cell_type": "code",
   "execution_count": 93,
   "metadata": {
    "ExecuteTime": {
     "end_time": "2024-11-05T08:57:36.160523900Z",
     "start_time": "2024-11-05T08:57:16.402240200Z"
    }
   },
   "outputs": [
    {
     "data": {
      "text/plain": "                   A         B         C  D  E\n2019-01-01  0.000000  0.000000 -1.785556  5  1\n2019-01-02 -0.830950  0.271291  0.222845  5  2\n2019-01-03  0.309368  0.640691  0.084062  5  3\n2019-01-04 -0.125982 -0.351524 -1.379903  5  4\n2019-01-05 -0.908592  1.848314 -0.112071  5  5\n2019-01-06  0.940659 -0.361001  0.947651  5  6",
      "text/html": "<div>\n<style scoped>\n    .dataframe tbody tr th:only-of-type {\n        vertical-align: middle;\n    }\n\n    .dataframe tbody tr th {\n        vertical-align: top;\n    }\n\n    .dataframe thead th {\n        text-align: right;\n    }\n</style>\n<table border=\"1\" class=\"dataframe\">\n  <thead>\n    <tr style=\"text-align: right;\">\n      <th></th>\n      <th>A</th>\n      <th>B</th>\n      <th>C</th>\n      <th>D</th>\n      <th>E</th>\n    </tr>\n  </thead>\n  <tbody>\n    <tr>\n      <th>2019-01-01</th>\n      <td>0.000000</td>\n      <td>0.000000</td>\n      <td>-1.785556</td>\n      <td>5</td>\n      <td>1</td>\n    </tr>\n    <tr>\n      <th>2019-01-02</th>\n      <td>-0.830950</td>\n      <td>0.271291</td>\n      <td>0.222845</td>\n      <td>5</td>\n      <td>2</td>\n    </tr>\n    <tr>\n      <th>2019-01-03</th>\n      <td>0.309368</td>\n      <td>0.640691</td>\n      <td>0.084062</td>\n      <td>5</td>\n      <td>3</td>\n    </tr>\n    <tr>\n      <th>2019-01-04</th>\n      <td>-0.125982</td>\n      <td>-0.351524</td>\n      <td>-1.379903</td>\n      <td>5</td>\n      <td>4</td>\n    </tr>\n    <tr>\n      <th>2019-01-05</th>\n      <td>-0.908592</td>\n      <td>1.848314</td>\n      <td>-0.112071</td>\n      <td>5</td>\n      <td>5</td>\n    </tr>\n    <tr>\n      <th>2019-01-06</th>\n      <td>0.940659</td>\n      <td>-0.361001</td>\n      <td>0.947651</td>\n      <td>5</td>\n      <td>6</td>\n    </tr>\n  </tbody>\n</table>\n</div>"
     },
     "execution_count": 93,
     "metadata": {},
     "output_type": "execute_result"
    }
   ],
   "source": [
    "df[\"D\"] = np.array([5] * len(df))  # 可简化成df[\"D\"] = 5\n",
    "df"
   ]
  },
  {
   "cell_type": "markdown",
   "metadata": {},
   "source": [
    "3. 修改index和columns"
   ]
  },
  {
   "cell_type": "code",
   "execution_count": 94,
   "metadata": {
    "scrolled": false,
    "ExecuteTime": {
     "end_time": "2024-11-05T08:57:36.162032400Z",
     "start_time": "2024-11-05T08:57:16.418636600Z"
    }
   },
   "outputs": [
    {
     "data": {
      "text/plain": "          A         B         C  D  E\n0  0.000000  0.000000 -1.785556  5  1\n1 -0.830950  0.271291  0.222845  5  2\n2  0.309368  0.640691  0.084062  5  3\n3 -0.125982 -0.351524 -1.379903  5  4\n4 -0.908592  1.848314 -0.112071  5  5\n5  0.940659 -0.361001  0.947651  5  6",
      "text/html": "<div>\n<style scoped>\n    .dataframe tbody tr th:only-of-type {\n        vertical-align: middle;\n    }\n\n    .dataframe tbody tr th {\n        vertical-align: top;\n    }\n\n    .dataframe thead th {\n        text-align: right;\n    }\n</style>\n<table border=\"1\" class=\"dataframe\">\n  <thead>\n    <tr style=\"text-align: right;\">\n      <th></th>\n      <th>A</th>\n      <th>B</th>\n      <th>C</th>\n      <th>D</th>\n      <th>E</th>\n    </tr>\n  </thead>\n  <tbody>\n    <tr>\n      <th>0</th>\n      <td>0.000000</td>\n      <td>0.000000</td>\n      <td>-1.785556</td>\n      <td>5</td>\n      <td>1</td>\n    </tr>\n    <tr>\n      <th>1</th>\n      <td>-0.830950</td>\n      <td>0.271291</td>\n      <td>0.222845</td>\n      <td>5</td>\n      <td>2</td>\n    </tr>\n    <tr>\n      <th>2</th>\n      <td>0.309368</td>\n      <td>0.640691</td>\n      <td>0.084062</td>\n      <td>5</td>\n      <td>3</td>\n    </tr>\n    <tr>\n      <th>3</th>\n      <td>-0.125982</td>\n      <td>-0.351524</td>\n      <td>-1.379903</td>\n      <td>5</td>\n      <td>4</td>\n    </tr>\n    <tr>\n      <th>4</th>\n      <td>-0.908592</td>\n      <td>1.848314</td>\n      <td>-0.112071</td>\n      <td>5</td>\n      <td>5</td>\n    </tr>\n    <tr>\n      <th>5</th>\n      <td>0.940659</td>\n      <td>-0.361001</td>\n      <td>0.947651</td>\n      <td>5</td>\n      <td>6</td>\n    </tr>\n  </tbody>\n</table>\n</div>"
     },
     "execution_count": 94,
     "metadata": {},
     "output_type": "execute_result"
    }
   ],
   "source": [
    "df.index = [i for i in range(len(df))]\n",
    "df"
   ]
  },
  {
   "cell_type": "code",
   "execution_count": 95,
   "metadata": {
    "ExecuteTime": {
     "end_time": "2024-11-05T08:57:36.162539500Z",
     "start_time": "2024-11-05T08:57:16.433253300Z"
    }
   },
   "outputs": [
    {
     "data": {
      "text/plain": "          0         1         2  3  4\n0  0.000000  0.000000 -1.785556  5  1\n1 -0.830950  0.271291  0.222845  5  2\n2  0.309368  0.640691  0.084062  5  3\n3 -0.125982 -0.351524 -1.379903  5  4\n4 -0.908592  1.848314 -0.112071  5  5\n5  0.940659 -0.361001  0.947651  5  6",
      "text/html": "<div>\n<style scoped>\n    .dataframe tbody tr th:only-of-type {\n        vertical-align: middle;\n    }\n\n    .dataframe tbody tr th {\n        vertical-align: top;\n    }\n\n    .dataframe thead th {\n        text-align: right;\n    }\n</style>\n<table border=\"1\" class=\"dataframe\">\n  <thead>\n    <tr style=\"text-align: right;\">\n      <th></th>\n      <th>0</th>\n      <th>1</th>\n      <th>2</th>\n      <th>3</th>\n      <th>4</th>\n    </tr>\n  </thead>\n  <tbody>\n    <tr>\n      <th>0</th>\n      <td>0.000000</td>\n      <td>0.000000</td>\n      <td>-1.785556</td>\n      <td>5</td>\n      <td>1</td>\n    </tr>\n    <tr>\n      <th>1</th>\n      <td>-0.830950</td>\n      <td>0.271291</td>\n      <td>0.222845</td>\n      <td>5</td>\n      <td>2</td>\n    </tr>\n    <tr>\n      <th>2</th>\n      <td>0.309368</td>\n      <td>0.640691</td>\n      <td>0.084062</td>\n      <td>5</td>\n      <td>3</td>\n    </tr>\n    <tr>\n      <th>3</th>\n      <td>-0.125982</td>\n      <td>-0.351524</td>\n      <td>-1.379903</td>\n      <td>5</td>\n      <td>4</td>\n    </tr>\n    <tr>\n      <th>4</th>\n      <td>-0.908592</td>\n      <td>1.848314</td>\n      <td>-0.112071</td>\n      <td>5</td>\n      <td>5</td>\n    </tr>\n    <tr>\n      <th>5</th>\n      <td>0.940659</td>\n      <td>-0.361001</td>\n      <td>0.947651</td>\n      <td>5</td>\n      <td>6</td>\n    </tr>\n  </tbody>\n</table>\n</div>"
     },
     "execution_count": 95,
     "metadata": {},
     "output_type": "execute_result"
    }
   ],
   "source": [
    "df.columns = [i for i in range(df.shape[1])]\n",
    "df"
   ]
  },
  {
   "cell_type": "markdown",
   "metadata": {},
   "source": [
    "### 3. 数值运算及统计分析\n",
    "\n",
    "#### 3.1 使用Pandas进行数据查看"
   ]
  },
  {
   "cell_type": "code",
   "execution_count": 96,
   "metadata": {
    "scrolled": true,
    "ExecuteTime": {
     "end_time": "2024-11-05T08:57:36.232428900Z",
     "start_time": "2024-11-05T08:57:16.461479200Z"
    }
   },
   "outputs": [
    {
     "data": {
      "text/plain": "                   A         B         C         D\n2019-01-01  0.283006  1.466351  1.203834 -1.308291\n2019-01-02 -0.834916 -0.191414  0.724722  1.555550\n2019-01-03 -0.301687 -1.673420 -1.090074 -0.300752\n2019-01-04  0.570251  1.042976 -0.209767  0.717229\n2019-01-05 -0.342912 -1.362499 -0.884297  0.486291\n2019-01-06 -0.801791  0.297029  0.447690 -0.848404",
      "text/html": "<div>\n<style scoped>\n    .dataframe tbody tr th:only-of-type {\n        vertical-align: middle;\n    }\n\n    .dataframe tbody tr th {\n        vertical-align: top;\n    }\n\n    .dataframe thead th {\n        text-align: right;\n    }\n</style>\n<table border=\"1\" class=\"dataframe\">\n  <thead>\n    <tr style=\"text-align: right;\">\n      <th></th>\n      <th>A</th>\n      <th>B</th>\n      <th>C</th>\n      <th>D</th>\n    </tr>\n  </thead>\n  <tbody>\n    <tr>\n      <th>2019-01-01</th>\n      <td>0.283006</td>\n      <td>1.466351</td>\n      <td>1.203834</td>\n      <td>-1.308291</td>\n    </tr>\n    <tr>\n      <th>2019-01-02</th>\n      <td>-0.834916</td>\n      <td>-0.191414</td>\n      <td>0.724722</td>\n      <td>1.555550</td>\n    </tr>\n    <tr>\n      <th>2019-01-03</th>\n      <td>-0.301687</td>\n      <td>-1.673420</td>\n      <td>-1.090074</td>\n      <td>-0.300752</td>\n    </tr>\n    <tr>\n      <th>2019-01-04</th>\n      <td>0.570251</td>\n      <td>1.042976</td>\n      <td>-0.209767</td>\n      <td>0.717229</td>\n    </tr>\n    <tr>\n      <th>2019-01-05</th>\n      <td>-0.342912</td>\n      <td>-1.362499</td>\n      <td>-0.884297</td>\n      <td>0.486291</td>\n    </tr>\n    <tr>\n      <th>2019-01-06</th>\n      <td>-0.801791</td>\n      <td>0.297029</td>\n      <td>0.447690</td>\n      <td>-0.848404</td>\n    </tr>\n  </tbody>\n</table>\n</div>"
     },
     "execution_count": 96,
     "metadata": {},
     "output_type": "execute_result"
    }
   ],
   "source": [
    "import pandas as pd\n",
    "import numpy as np\n",
    "\n",
    "dates = pd.date_range(start='2019-01-01', periods=6)\n",
    "df = pd.DataFrame(np.random.randn(6, 4), index=dates, columns=[\"A\", \"B\", \"C\", \"D\"])\n",
    "df"
   ]
  },
  {
   "cell_type": "markdown",
   "metadata": {},
   "source": [
    "1. 查看头部数据"
   ]
  },
  {
   "cell_type": "code",
   "execution_count": 97,
   "metadata": {
    "scrolled": true,
    "ExecuteTime": {
     "end_time": "2024-11-05T08:57:36.363133300Z",
     "start_time": "2024-11-05T08:57:16.505282200Z"
    }
   },
   "outputs": [
    {
     "data": {
      "text/plain": "                   A         B         C         D\n2019-01-01  0.283006  1.466351  1.203834 -1.308291\n2019-01-02 -0.834916 -0.191414  0.724722  1.555550\n2019-01-03 -0.301687 -1.673420 -1.090074 -0.300752\n2019-01-04  0.570251  1.042976 -0.209767  0.717229\n2019-01-05 -0.342912 -1.362499 -0.884297  0.486291",
      "text/html": "<div>\n<style scoped>\n    .dataframe tbody tr th:only-of-type {\n        vertical-align: middle;\n    }\n\n    .dataframe tbody tr th {\n        vertical-align: top;\n    }\n\n    .dataframe thead th {\n        text-align: right;\n    }\n</style>\n<table border=\"1\" class=\"dataframe\">\n  <thead>\n    <tr style=\"text-align: right;\">\n      <th></th>\n      <th>A</th>\n      <th>B</th>\n      <th>C</th>\n      <th>D</th>\n    </tr>\n  </thead>\n  <tbody>\n    <tr>\n      <th>2019-01-01</th>\n      <td>0.283006</td>\n      <td>1.466351</td>\n      <td>1.203834</td>\n      <td>-1.308291</td>\n    </tr>\n    <tr>\n      <th>2019-01-02</th>\n      <td>-0.834916</td>\n      <td>-0.191414</td>\n      <td>0.724722</td>\n      <td>1.555550</td>\n    </tr>\n    <tr>\n      <th>2019-01-03</th>\n      <td>-0.301687</td>\n      <td>-1.673420</td>\n      <td>-1.090074</td>\n      <td>-0.300752</td>\n    </tr>\n    <tr>\n      <th>2019-01-04</th>\n      <td>0.570251</td>\n      <td>1.042976</td>\n      <td>-0.209767</td>\n      <td>0.717229</td>\n    </tr>\n    <tr>\n      <th>2019-01-05</th>\n      <td>-0.342912</td>\n      <td>-1.362499</td>\n      <td>-0.884297</td>\n      <td>0.486291</td>\n    </tr>\n  </tbody>\n</table>\n</div>"
     },
     "execution_count": 97,
     "metadata": {},
     "output_type": "execute_result"
    }
   ],
   "source": [
    "df.head()  # 默认5行"
   ]
  },
  {
   "cell_type": "code",
   "execution_count": 98,
   "metadata": {
    "ExecuteTime": {
     "end_time": "2024-11-05T08:57:36.364147400Z",
     "start_time": "2024-11-05T08:57:16.527396700Z"
    }
   },
   "outputs": [
    {
     "data": {
      "text/plain": "                   A         B         C         D\n2019-01-01  0.283006  1.466351  1.203834 -1.308291\n2019-01-02 -0.834916 -0.191414  0.724722  1.555550",
      "text/html": "<div>\n<style scoped>\n    .dataframe tbody tr th:only-of-type {\n        vertical-align: middle;\n    }\n\n    .dataframe tbody tr th {\n        vertical-align: top;\n    }\n\n    .dataframe thead th {\n        text-align: right;\n    }\n</style>\n<table border=\"1\" class=\"dataframe\">\n  <thead>\n    <tr style=\"text-align: right;\">\n      <th></th>\n      <th>A</th>\n      <th>B</th>\n      <th>C</th>\n      <th>D</th>\n    </tr>\n  </thead>\n  <tbody>\n    <tr>\n      <th>2019-01-01</th>\n      <td>0.283006</td>\n      <td>1.466351</td>\n      <td>1.203834</td>\n      <td>-1.308291</td>\n    </tr>\n    <tr>\n      <th>2019-01-02</th>\n      <td>-0.834916</td>\n      <td>-0.191414</td>\n      <td>0.724722</td>\n      <td>1.555550</td>\n    </tr>\n  </tbody>\n</table>\n</div>"
     },
     "execution_count": 98,
     "metadata": {},
     "output_type": "execute_result"
    }
   ],
   "source": [
    "df.head(2)"
   ]
  },
  {
   "cell_type": "markdown",
   "metadata": {},
   "source": [
    "2. 查看尾部数据"
   ]
  },
  {
   "cell_type": "code",
   "execution_count": 99,
   "metadata": {
    "ExecuteTime": {
     "end_time": "2024-11-05T08:57:36.496307600Z",
     "start_time": "2024-11-05T08:57:16.550554900Z"
    }
   },
   "outputs": [
    {
     "data": {
      "text/plain": "                   A         B         C         D\n2019-01-02 -0.834916 -0.191414  0.724722  1.555550\n2019-01-03 -0.301687 -1.673420 -1.090074 -0.300752\n2019-01-04  0.570251  1.042976 -0.209767  0.717229\n2019-01-05 -0.342912 -1.362499 -0.884297  0.486291\n2019-01-06 -0.801791  0.297029  0.447690 -0.848404",
      "text/html": "<div>\n<style scoped>\n    .dataframe tbody tr th:only-of-type {\n        vertical-align: middle;\n    }\n\n    .dataframe tbody tr th {\n        vertical-align: top;\n    }\n\n    .dataframe thead th {\n        text-align: right;\n    }\n</style>\n<table border=\"1\" class=\"dataframe\">\n  <thead>\n    <tr style=\"text-align: right;\">\n      <th></th>\n      <th>A</th>\n      <th>B</th>\n      <th>C</th>\n      <th>D</th>\n    </tr>\n  </thead>\n  <tbody>\n    <tr>\n      <th>2019-01-02</th>\n      <td>-0.834916</td>\n      <td>-0.191414</td>\n      <td>0.724722</td>\n      <td>1.555550</td>\n    </tr>\n    <tr>\n      <th>2019-01-03</th>\n      <td>-0.301687</td>\n      <td>-1.673420</td>\n      <td>-1.090074</td>\n      <td>-0.300752</td>\n    </tr>\n    <tr>\n      <th>2019-01-04</th>\n      <td>0.570251</td>\n      <td>1.042976</td>\n      <td>-0.209767</td>\n      <td>0.717229</td>\n    </tr>\n    <tr>\n      <th>2019-01-05</th>\n      <td>-0.342912</td>\n      <td>-1.362499</td>\n      <td>-0.884297</td>\n      <td>0.486291</td>\n    </tr>\n    <tr>\n      <th>2019-01-06</th>\n      <td>-0.801791</td>\n      <td>0.297029</td>\n      <td>0.447690</td>\n      <td>-0.848404</td>\n    </tr>\n  </tbody>\n</table>\n</div>"
     },
     "execution_count": 99,
     "metadata": {},
     "output_type": "execute_result"
    }
   ],
   "source": [
    "df.tail()  # 默认5行"
   ]
  },
  {
   "cell_type": "code",
   "execution_count": 100,
   "metadata": {
    "scrolled": false,
    "ExecuteTime": {
     "end_time": "2024-11-05T08:57:36.497315400Z",
     "start_time": "2024-11-05T08:57:16.575497800Z"
    }
   },
   "outputs": [
    {
     "data": {
      "text/plain": "                   A         B         C         D\n2019-01-04  0.570251  1.042976 -0.209767  0.717229\n2019-01-05 -0.342912 -1.362499 -0.884297  0.486291\n2019-01-06 -0.801791  0.297029  0.447690 -0.848404",
      "text/html": "<div>\n<style scoped>\n    .dataframe tbody tr th:only-of-type {\n        vertical-align: middle;\n    }\n\n    .dataframe tbody tr th {\n        vertical-align: top;\n    }\n\n    .dataframe thead th {\n        text-align: right;\n    }\n</style>\n<table border=\"1\" class=\"dataframe\">\n  <thead>\n    <tr style=\"text-align: right;\">\n      <th></th>\n      <th>A</th>\n      <th>B</th>\n      <th>C</th>\n      <th>D</th>\n    </tr>\n  </thead>\n  <tbody>\n    <tr>\n      <th>2019-01-04</th>\n      <td>0.570251</td>\n      <td>1.042976</td>\n      <td>-0.209767</td>\n      <td>0.717229</td>\n    </tr>\n    <tr>\n      <th>2019-01-05</th>\n      <td>-0.342912</td>\n      <td>-1.362499</td>\n      <td>-0.884297</td>\n      <td>0.486291</td>\n    </tr>\n    <tr>\n      <th>2019-01-06</th>\n      <td>-0.801791</td>\n      <td>0.297029</td>\n      <td>0.447690</td>\n      <td>-0.848404</td>\n    </tr>\n  </tbody>\n</table>\n</div>"
     },
     "execution_count": 100,
     "metadata": {},
     "output_type": "execute_result"
    }
   ],
   "source": [
    "df.tail(3)"
   ]
  },
  {
   "cell_type": "markdown",
   "metadata": {},
   "source": [
    "3. 查看总体的数据信息"
   ]
  },
  {
   "cell_type": "code",
   "execution_count": 101,
   "metadata": {
    "scrolled": true,
    "ExecuteTime": {
     "end_time": "2024-11-05T08:57:36.631852100Z",
     "start_time": "2024-11-05T08:57:16.594538200Z"
    }
   },
   "outputs": [
    {
     "data": {
      "text/plain": "                   A         B         C         D\n2019-01-01  0.283006  1.466351  1.203834       NaN\n2019-01-02 -0.834916 -0.191414  0.724722  1.555550\n2019-01-03 -0.301687 -1.673420 -1.090074 -0.300752\n2019-01-04  0.570251  1.042976 -0.209767  0.717229\n2019-01-05 -0.342912 -1.362499 -0.884297  0.486291\n2019-01-06 -0.801791  0.297029  0.447690 -0.848404",
      "text/html": "<div>\n<style scoped>\n    .dataframe tbody tr th:only-of-type {\n        vertical-align: middle;\n    }\n\n    .dataframe tbody tr th {\n        vertical-align: top;\n    }\n\n    .dataframe thead th {\n        text-align: right;\n    }\n</style>\n<table border=\"1\" class=\"dataframe\">\n  <thead>\n    <tr style=\"text-align: right;\">\n      <th></th>\n      <th>A</th>\n      <th>B</th>\n      <th>C</th>\n      <th>D</th>\n    </tr>\n  </thead>\n  <tbody>\n    <tr>\n      <th>2019-01-01</th>\n      <td>0.283006</td>\n      <td>1.466351</td>\n      <td>1.203834</td>\n      <td>NaN</td>\n    </tr>\n    <tr>\n      <th>2019-01-02</th>\n      <td>-0.834916</td>\n      <td>-0.191414</td>\n      <td>0.724722</td>\n      <td>1.555550</td>\n    </tr>\n    <tr>\n      <th>2019-01-03</th>\n      <td>-0.301687</td>\n      <td>-1.673420</td>\n      <td>-1.090074</td>\n      <td>-0.300752</td>\n    </tr>\n    <tr>\n      <th>2019-01-04</th>\n      <td>0.570251</td>\n      <td>1.042976</td>\n      <td>-0.209767</td>\n      <td>0.717229</td>\n    </tr>\n    <tr>\n      <th>2019-01-05</th>\n      <td>-0.342912</td>\n      <td>-1.362499</td>\n      <td>-0.884297</td>\n      <td>0.486291</td>\n    </tr>\n    <tr>\n      <th>2019-01-06</th>\n      <td>-0.801791</td>\n      <td>0.297029</td>\n      <td>0.447690</td>\n      <td>-0.848404</td>\n    </tr>\n  </tbody>\n</table>\n</div>"
     },
     "execution_count": 101,
     "metadata": {},
     "output_type": "execute_result"
    }
   ],
   "source": [
    "df.iloc[0, 3] = np.nan\n",
    "df"
   ]
  },
  {
   "cell_type": "code",
   "execution_count": 102,
   "metadata": {
    "ExecuteTime": {
     "end_time": "2024-11-05T08:57:36.632386Z",
     "start_time": "2024-11-05T08:57:16.622167500Z"
    }
   },
   "outputs": [
    {
     "name": "stdout",
     "output_type": "stream",
     "text": [
      "<class 'pandas.core.frame.DataFrame'>\n",
      "DatetimeIndex: 6 entries, 2019-01-01 to 2019-01-06\n",
      "Freq: D\n",
      "Data columns (total 4 columns):\n",
      " #   Column  Non-Null Count  Dtype  \n",
      "---  ------  --------------  -----  \n",
      " 0   A       6 non-null      float64\n",
      " 1   B       6 non-null      float64\n",
      " 2   C       6 non-null      float64\n",
      " 3   D       5 non-null      float64\n",
      "dtypes: float64(4)\n",
      "memory usage: 240.0 bytes\n"
     ]
    }
   ],
   "source": [
    "df.info()"
   ]
  },
  {
   "cell_type": "markdown",
   "metadata": {},
   "source": [
    "#### 3.2 Numpy的通用函数计算\n",
    "\n",
    "##### 3.2.1 向量化运算"
   ]
  },
  {
   "cell_type": "code",
   "execution_count": 103,
   "metadata": {
    "scrolled": true,
    "ExecuteTime": {
     "end_time": "2024-11-05T08:57:36.958634500Z",
     "start_time": "2024-11-05T08:57:16.642533Z"
    }
   },
   "outputs": [
    {
     "data": {
      "text/plain": "   0  1  2  3\n0  0  1  2  3",
      "text/html": "<div>\n<style scoped>\n    .dataframe tbody tr th:only-of-type {\n        vertical-align: middle;\n    }\n\n    .dataframe tbody tr th {\n        vertical-align: top;\n    }\n\n    .dataframe thead th {\n        text-align: right;\n    }\n</style>\n<table border=\"1\" class=\"dataframe\">\n  <thead>\n    <tr style=\"text-align: right;\">\n      <th></th>\n      <th>0</th>\n      <th>1</th>\n      <th>2</th>\n      <th>3</th>\n    </tr>\n  </thead>\n  <tbody>\n    <tr>\n      <th>0</th>\n      <td>0</td>\n      <td>1</td>\n      <td>2</td>\n      <td>3</td>\n    </tr>\n  </tbody>\n</table>\n</div>"
     },
     "execution_count": 103,
     "metadata": {},
     "output_type": "execute_result"
    }
   ],
   "source": [
    "x = pd.DataFrame(np.arange(4).reshape(1, 4))\n",
    "x"
   ]
  },
  {
   "cell_type": "code",
   "execution_count": 104,
   "metadata": {
    "scrolled": true,
    "ExecuteTime": {
     "end_time": "2024-11-05T08:57:37.022566600Z",
     "start_time": "2024-11-05T08:57:16.667552Z"
    }
   },
   "outputs": [
    {
     "data": {
      "text/plain": "   0  1  2  3\n0  5  6  7  8",
      "text/html": "<div>\n<style scoped>\n    .dataframe tbody tr th:only-of-type {\n        vertical-align: middle;\n    }\n\n    .dataframe tbody tr th {\n        vertical-align: top;\n    }\n\n    .dataframe thead th {\n        text-align: right;\n    }\n</style>\n<table border=\"1\" class=\"dataframe\">\n  <thead>\n    <tr style=\"text-align: right;\">\n      <th></th>\n      <th>0</th>\n      <th>1</th>\n      <th>2</th>\n      <th>3</th>\n    </tr>\n  </thead>\n  <tbody>\n    <tr>\n      <th>0</th>\n      <td>5</td>\n      <td>6</td>\n      <td>7</td>\n      <td>8</td>\n    </tr>\n  </tbody>\n</table>\n</div>"
     },
     "execution_count": 104,
     "metadata": {},
     "output_type": "execute_result"
    }
   ],
   "source": [
    "x + 5"
   ]
  },
  {
   "cell_type": "code",
   "execution_count": 105,
   "metadata": {
    "ExecuteTime": {
     "end_time": "2024-11-05T08:57:37.022566600Z",
     "start_time": "2024-11-05T08:57:16.684727300Z"
    }
   },
   "outputs": [
    {
     "data": {
      "text/plain": "     0         1         2          3\n0  1.0  2.718282  7.389056  20.085537",
      "text/html": "<div>\n<style scoped>\n    .dataframe tbody tr th:only-of-type {\n        vertical-align: middle;\n    }\n\n    .dataframe tbody tr th {\n        vertical-align: top;\n    }\n\n    .dataframe thead th {\n        text-align: right;\n    }\n</style>\n<table border=\"1\" class=\"dataframe\">\n  <thead>\n    <tr style=\"text-align: right;\">\n      <th></th>\n      <th>0</th>\n      <th>1</th>\n      <th>2</th>\n      <th>3</th>\n    </tr>\n  </thead>\n  <tbody>\n    <tr>\n      <th>0</th>\n      <td>1.0</td>\n      <td>2.718282</td>\n      <td>7.389056</td>\n      <td>20.085537</td>\n    </tr>\n  </tbody>\n</table>\n</div>"
     },
     "execution_count": 105,
     "metadata": {},
     "output_type": "execute_result"
    }
   ],
   "source": [
    "np.exp(x)"
   ]
  },
  {
   "cell_type": "code",
   "execution_count": 106,
   "metadata": {
    "scrolled": true,
    "ExecuteTime": {
     "end_time": "2024-11-05T08:57:37.023689Z",
     "start_time": "2024-11-05T08:57:16.698419300Z"
    }
   },
   "outputs": [
    {
     "data": {
      "text/plain": "   0  1  2  3\n0  4  5  6  7",
      "text/html": "<div>\n<style scoped>\n    .dataframe tbody tr th:only-of-type {\n        vertical-align: middle;\n    }\n\n    .dataframe tbody tr th {\n        vertical-align: top;\n    }\n\n    .dataframe thead th {\n        text-align: right;\n    }\n</style>\n<table border=\"1\" class=\"dataframe\">\n  <thead>\n    <tr style=\"text-align: right;\">\n      <th></th>\n      <th>0</th>\n      <th>1</th>\n      <th>2</th>\n      <th>3</th>\n    </tr>\n  </thead>\n  <tbody>\n    <tr>\n      <th>0</th>\n      <td>4</td>\n      <td>5</td>\n      <td>6</td>\n      <td>7</td>\n    </tr>\n  </tbody>\n</table>\n</div>"
     },
     "execution_count": 106,
     "metadata": {},
     "output_type": "execute_result"
    }
   ],
   "source": [
    "y = pd.DataFrame(np.arange(4, 8).reshape(1, 4))\n",
    "y"
   ]
  },
  {
   "cell_type": "code",
   "execution_count": 107,
   "metadata": {
    "scrolled": true,
    "ExecuteTime": {
     "end_time": "2024-11-05T08:57:37.024694200Z",
     "start_time": "2024-11-05T08:57:16.712345200Z"
    }
   },
   "outputs": [
    {
     "data": {
      "text/plain": "   0  1   2   3\n0  0  5  12  21",
      "text/html": "<div>\n<style scoped>\n    .dataframe tbody tr th:only-of-type {\n        vertical-align: middle;\n    }\n\n    .dataframe tbody tr th {\n        vertical-align: top;\n    }\n\n    .dataframe thead th {\n        text-align: right;\n    }\n</style>\n<table border=\"1\" class=\"dataframe\">\n  <thead>\n    <tr style=\"text-align: right;\">\n      <th></th>\n      <th>0</th>\n      <th>1</th>\n      <th>2</th>\n      <th>3</th>\n    </tr>\n  </thead>\n  <tbody>\n    <tr>\n      <th>0</th>\n      <td>0</td>\n      <td>5</td>\n      <td>12</td>\n      <td>21</td>\n    </tr>\n  </tbody>\n</table>\n</div>"
     },
     "execution_count": 107,
     "metadata": {},
     "output_type": "execute_result"
    }
   ],
   "source": [
    "x * y"
   ]
  },
  {
   "cell_type": "markdown",
   "metadata": {},
   "source": [
    "##### 3.2.2 矩阵运算"
   ]
  },
  {
   "cell_type": "code",
   "execution_count": 108,
   "metadata": {
    "scrolled": false,
    "ExecuteTime": {
     "end_time": "2024-11-05T08:57:37.364423Z",
     "start_time": "2024-11-05T08:57:16.729133500Z"
    }
   },
   "outputs": [
    {
     "data": {
      "text/plain": "    0   1   2   3   4   5   6   7   8   9   ...  20  21  22  23  24  25  26  \\\n0    6   3   7   4   6   9   2   6   7   4  ...   4   0   9   5   8   0   9   \n1    8   2   4   2   6   4   8   6   1   3  ...   2   0   3   1   7   3   1   \n2    3   5   1   9   1   9   3   7   6   8  ...   6   8   7   0   7   7   2   \n3    2   0   4   9   6   9   8   6   8   7  ...   0   2   4   2   0   4   9   \n4    9   9   2   6   0   3   3   4   6   6  ...   9   6   8   6   0   0   8   \n5    2   6   5   7   8   4   0   2   9   7  ...   2   0   4   0   7   0   0   \n6    6   4   0   0   2   1   4   9   5   6  ...   5   0   8   5   2   3   3   \n7    2   3   6   3   8   0   7   6   1   7  ...   3   0   1   0   4   4   6   \n8    2   2   3   7   5   7   0   7   3   0  ...   1   1   5   2   8   3   0   \n9    3   7   7   6   2   0   0   2   5   6  ...   4   2   3   2   0   0   4   \n10   4   7   0   4   2   0   3   4   6   0  ...   5   6   1   9   1   9   0   \n11   5   6   9   6   9   2   1   8   7   9  ...   6   5   2   8   9   5   9   \n12   3   9   5   5   4   0   7   4   4   6  ...   0   7   2   9   6   9   4   \n13   8   4   0   9   9   0   1   5   8   7  ...   5   8   4   0   3   4   9   \n14   3   0   4   6   9   9   5   4   3   1  ...   6   1   0   3   7   1   2   \n15   4   2   0   0   7   9   1   2   1   2  ...   6   3   9   4   1   7   3   \n16   3   9   4   8   7   2   0   2   3   1  ...   8   0   0   3   8   5   2   \n17   2   8   6   3   2   9   4   4   2   8  ...   6   9   4   2   6   1   8   \n18   5   6   7   9   8   1   9   1   4   4  ...   3   5   2   5   6   9   9   \n19   1   9   3   7   8   6   0   2   8   0  ...   4   3   2   2   3   8   1   \n20   4   5   5   2   6   8   9   7   5   7  ...   3   5   0   8   0   4   3   \n21   2   4   8   1   9   7   1   4   6   7  ...   0   1   8   2   0   4   6   \n22   4   5   2   4   6   4   4   4   9   9  ...   1   7   6   9   9   1   5   \n23   0   5   4   8   0   6   4   4   1   2  ...   8   5   0   7   6   9   2   \n24   9   7   0   9   0   3   7   4   1   5  ...   3   7   8   2   2   1   9   \n25   4   1   9   5   4   5   0   4   8   9  ...   9   3   0   7   0   2   3   \n26   6   7   1   9   7   2   6   2   6   1  ...   0   6   5   9   8   0   3   \n27   2   8   1   3   5   1   7   7   0   2  ...   8   0   4   5   4   5   5   \n28   6   8   6   2   2   7   4   3   7   5  ...   1   7   9   2   4   5   9   \n29   3   0   3   0   0   9   5   4   3   2  ...   1   3   0   4   8   0   8   \n\n    27  28  29  \n0    2   6   3  \n1    5   5   9  \n2    0   7   2  \n3    6   6   8  \n4    8   3   8  \n5    1   1   5  \n6    2   9   2  \n7    8   8   2  \n8    3   0   4  \n9    5   2   8  \n10   7   0   8  \n11   9   5   0  \n12   9   4   6  \n13   9   4   6  \n14   0   0   2  \n15   8   4   8  \n16   0   3   8  \n17   9   9   0  \n18   2   6   2  \n19   8   0   0  \n20   2   5   1  \n21   5   0   4  \n22   5   2   1  \n23   0   4   3  \n24   2   2   4  \n25   7   5   9  \n26   8   3   9  \n27   6   3   7  \n28   5   3   2  \n29   7   5   6  \n\n[30 rows x 30 columns]",
      "text/html": "<div>\n<style scoped>\n    .dataframe tbody tr th:only-of-type {\n        vertical-align: middle;\n    }\n\n    .dataframe tbody tr th {\n        vertical-align: top;\n    }\n\n    .dataframe thead th {\n        text-align: right;\n    }\n</style>\n<table border=\"1\" class=\"dataframe\">\n  <thead>\n    <tr style=\"text-align: right;\">\n      <th></th>\n      <th>0</th>\n      <th>1</th>\n      <th>2</th>\n      <th>3</th>\n      <th>4</th>\n      <th>5</th>\n      <th>6</th>\n      <th>7</th>\n      <th>8</th>\n      <th>9</th>\n      <th>...</th>\n      <th>20</th>\n      <th>21</th>\n      <th>22</th>\n      <th>23</th>\n      <th>24</th>\n      <th>25</th>\n      <th>26</th>\n      <th>27</th>\n      <th>28</th>\n      <th>29</th>\n    </tr>\n  </thead>\n  <tbody>\n    <tr>\n      <th>0</th>\n      <td>6</td>\n      <td>3</td>\n      <td>7</td>\n      <td>4</td>\n      <td>6</td>\n      <td>9</td>\n      <td>2</td>\n      <td>6</td>\n      <td>7</td>\n      <td>4</td>\n      <td>...</td>\n      <td>4</td>\n      <td>0</td>\n      <td>9</td>\n      <td>5</td>\n      <td>8</td>\n      <td>0</td>\n      <td>9</td>\n      <td>2</td>\n      <td>6</td>\n      <td>3</td>\n    </tr>\n    <tr>\n      <th>1</th>\n      <td>8</td>\n      <td>2</td>\n      <td>4</td>\n      <td>2</td>\n      <td>6</td>\n      <td>4</td>\n      <td>8</td>\n      <td>6</td>\n      <td>1</td>\n      <td>3</td>\n      <td>...</td>\n      <td>2</td>\n      <td>0</td>\n      <td>3</td>\n      <td>1</td>\n      <td>7</td>\n      <td>3</td>\n      <td>1</td>\n      <td>5</td>\n      <td>5</td>\n      <td>9</td>\n    </tr>\n    <tr>\n      <th>2</th>\n      <td>3</td>\n      <td>5</td>\n      <td>1</td>\n      <td>9</td>\n      <td>1</td>\n      <td>9</td>\n      <td>3</td>\n      <td>7</td>\n      <td>6</td>\n      <td>8</td>\n      <td>...</td>\n      <td>6</td>\n      <td>8</td>\n      <td>7</td>\n      <td>0</td>\n      <td>7</td>\n      <td>7</td>\n      <td>2</td>\n      <td>0</td>\n      <td>7</td>\n      <td>2</td>\n    </tr>\n    <tr>\n      <th>3</th>\n      <td>2</td>\n      <td>0</td>\n      <td>4</td>\n      <td>9</td>\n      <td>6</td>\n      <td>9</td>\n      <td>8</td>\n      <td>6</td>\n      <td>8</td>\n      <td>7</td>\n      <td>...</td>\n      <td>0</td>\n      <td>2</td>\n      <td>4</td>\n      <td>2</td>\n      <td>0</td>\n      <td>4</td>\n      <td>9</td>\n      <td>6</td>\n      <td>6</td>\n      <td>8</td>\n    </tr>\n    <tr>\n      <th>4</th>\n      <td>9</td>\n      <td>9</td>\n      <td>2</td>\n      <td>6</td>\n      <td>0</td>\n      <td>3</td>\n      <td>3</td>\n      <td>4</td>\n      <td>6</td>\n      <td>6</td>\n      <td>...</td>\n      <td>9</td>\n      <td>6</td>\n      <td>8</td>\n      <td>6</td>\n      <td>0</td>\n      <td>0</td>\n      <td>8</td>\n      <td>8</td>\n      <td>3</td>\n      <td>8</td>\n    </tr>\n    <tr>\n      <th>5</th>\n      <td>2</td>\n      <td>6</td>\n      <td>5</td>\n      <td>7</td>\n      <td>8</td>\n      <td>4</td>\n      <td>0</td>\n      <td>2</td>\n      <td>9</td>\n      <td>7</td>\n      <td>...</td>\n      <td>2</td>\n      <td>0</td>\n      <td>4</td>\n      <td>0</td>\n      <td>7</td>\n      <td>0</td>\n      <td>0</td>\n      <td>1</td>\n      <td>1</td>\n      <td>5</td>\n    </tr>\n    <tr>\n      <th>6</th>\n      <td>6</td>\n      <td>4</td>\n      <td>0</td>\n      <td>0</td>\n      <td>2</td>\n      <td>1</td>\n      <td>4</td>\n      <td>9</td>\n      <td>5</td>\n      <td>6</td>\n      <td>...</td>\n      <td>5</td>\n      <td>0</td>\n      <td>8</td>\n      <td>5</td>\n      <td>2</td>\n      <td>3</td>\n      <td>3</td>\n      <td>2</td>\n      <td>9</td>\n      <td>2</td>\n    </tr>\n    <tr>\n      <th>7</th>\n      <td>2</td>\n      <td>3</td>\n      <td>6</td>\n      <td>3</td>\n      <td>8</td>\n      <td>0</td>\n      <td>7</td>\n      <td>6</td>\n      <td>1</td>\n      <td>7</td>\n      <td>...</td>\n      <td>3</td>\n      <td>0</td>\n      <td>1</td>\n      <td>0</td>\n      <td>4</td>\n      <td>4</td>\n      <td>6</td>\n      <td>8</td>\n      <td>8</td>\n      <td>2</td>\n    </tr>\n    <tr>\n      <th>8</th>\n      <td>2</td>\n      <td>2</td>\n      <td>3</td>\n      <td>7</td>\n      <td>5</td>\n      <td>7</td>\n      <td>0</td>\n      <td>7</td>\n      <td>3</td>\n      <td>0</td>\n      <td>...</td>\n      <td>1</td>\n      <td>1</td>\n      <td>5</td>\n      <td>2</td>\n      <td>8</td>\n      <td>3</td>\n      <td>0</td>\n      <td>3</td>\n      <td>0</td>\n      <td>4</td>\n    </tr>\n    <tr>\n      <th>9</th>\n      <td>3</td>\n      <td>7</td>\n      <td>7</td>\n      <td>6</td>\n      <td>2</td>\n      <td>0</td>\n      <td>0</td>\n      <td>2</td>\n      <td>5</td>\n      <td>6</td>\n      <td>...</td>\n      <td>4</td>\n      <td>2</td>\n      <td>3</td>\n      <td>2</td>\n      <td>0</td>\n      <td>0</td>\n      <td>4</td>\n      <td>5</td>\n      <td>2</td>\n      <td>8</td>\n    </tr>\n    <tr>\n      <th>10</th>\n      <td>4</td>\n      <td>7</td>\n      <td>0</td>\n      <td>4</td>\n      <td>2</td>\n      <td>0</td>\n      <td>3</td>\n      <td>4</td>\n      <td>6</td>\n      <td>0</td>\n      <td>...</td>\n      <td>5</td>\n      <td>6</td>\n      <td>1</td>\n      <td>9</td>\n      <td>1</td>\n      <td>9</td>\n      <td>0</td>\n      <td>7</td>\n      <td>0</td>\n      <td>8</td>\n    </tr>\n    <tr>\n      <th>11</th>\n      <td>5</td>\n      <td>6</td>\n      <td>9</td>\n      <td>6</td>\n      <td>9</td>\n      <td>2</td>\n      <td>1</td>\n      <td>8</td>\n      <td>7</td>\n      <td>9</td>\n      <td>...</td>\n      <td>6</td>\n      <td>5</td>\n      <td>2</td>\n      <td>8</td>\n      <td>9</td>\n      <td>5</td>\n      <td>9</td>\n      <td>9</td>\n      <td>5</td>\n      <td>0</td>\n    </tr>\n    <tr>\n      <th>12</th>\n      <td>3</td>\n      <td>9</td>\n      <td>5</td>\n      <td>5</td>\n      <td>4</td>\n      <td>0</td>\n      <td>7</td>\n      <td>4</td>\n      <td>4</td>\n      <td>6</td>\n      <td>...</td>\n      <td>0</td>\n      <td>7</td>\n      <td>2</td>\n      <td>9</td>\n      <td>6</td>\n      <td>9</td>\n      <td>4</td>\n      <td>9</td>\n      <td>4</td>\n      <td>6</td>\n    </tr>\n    <tr>\n      <th>13</th>\n      <td>8</td>\n      <td>4</td>\n      <td>0</td>\n      <td>9</td>\n      <td>9</td>\n      <td>0</td>\n      <td>1</td>\n      <td>5</td>\n      <td>8</td>\n      <td>7</td>\n      <td>...</td>\n      <td>5</td>\n      <td>8</td>\n      <td>4</td>\n      <td>0</td>\n      <td>3</td>\n      <td>4</td>\n      <td>9</td>\n      <td>9</td>\n      <td>4</td>\n      <td>6</td>\n    </tr>\n    <tr>\n      <th>14</th>\n      <td>3</td>\n      <td>0</td>\n      <td>4</td>\n      <td>6</td>\n      <td>9</td>\n      <td>9</td>\n      <td>5</td>\n      <td>4</td>\n      <td>3</td>\n      <td>1</td>\n      <td>...</td>\n      <td>6</td>\n      <td>1</td>\n      <td>0</td>\n      <td>3</td>\n      <td>7</td>\n      <td>1</td>\n      <td>2</td>\n      <td>0</td>\n      <td>0</td>\n      <td>2</td>\n    </tr>\n    <tr>\n      <th>15</th>\n      <td>4</td>\n      <td>2</td>\n      <td>0</td>\n      <td>0</td>\n      <td>7</td>\n      <td>9</td>\n      <td>1</td>\n      <td>2</td>\n      <td>1</td>\n      <td>2</td>\n      <td>...</td>\n      <td>6</td>\n      <td>3</td>\n      <td>9</td>\n      <td>4</td>\n      <td>1</td>\n      <td>7</td>\n      <td>3</td>\n      <td>8</td>\n      <td>4</td>\n      <td>8</td>\n    </tr>\n    <tr>\n      <th>16</th>\n      <td>3</td>\n      <td>9</td>\n      <td>4</td>\n      <td>8</td>\n      <td>7</td>\n      <td>2</td>\n      <td>0</td>\n      <td>2</td>\n      <td>3</td>\n      <td>1</td>\n      <td>...</td>\n      <td>8</td>\n      <td>0</td>\n      <td>0</td>\n      <td>3</td>\n      <td>8</td>\n      <td>5</td>\n      <td>2</td>\n      <td>0</td>\n      <td>3</td>\n      <td>8</td>\n    </tr>\n    <tr>\n      <th>17</th>\n      <td>2</td>\n      <td>8</td>\n      <td>6</td>\n      <td>3</td>\n      <td>2</td>\n      <td>9</td>\n      <td>4</td>\n      <td>4</td>\n      <td>2</td>\n      <td>8</td>\n      <td>...</td>\n      <td>6</td>\n      <td>9</td>\n      <td>4</td>\n      <td>2</td>\n      <td>6</td>\n      <td>1</td>\n      <td>8</td>\n      <td>9</td>\n      <td>9</td>\n      <td>0</td>\n    </tr>\n    <tr>\n      <th>18</th>\n      <td>5</td>\n      <td>6</td>\n      <td>7</td>\n      <td>9</td>\n      <td>8</td>\n      <td>1</td>\n      <td>9</td>\n      <td>1</td>\n      <td>4</td>\n      <td>4</td>\n      <td>...</td>\n      <td>3</td>\n      <td>5</td>\n      <td>2</td>\n      <td>5</td>\n      <td>6</td>\n      <td>9</td>\n      <td>9</td>\n      <td>2</td>\n      <td>6</td>\n      <td>2</td>\n    </tr>\n    <tr>\n      <th>19</th>\n      <td>1</td>\n      <td>9</td>\n      <td>3</td>\n      <td>7</td>\n      <td>8</td>\n      <td>6</td>\n      <td>0</td>\n      <td>2</td>\n      <td>8</td>\n      <td>0</td>\n      <td>...</td>\n      <td>4</td>\n      <td>3</td>\n      <td>2</td>\n      <td>2</td>\n      <td>3</td>\n      <td>8</td>\n      <td>1</td>\n      <td>8</td>\n      <td>0</td>\n      <td>0</td>\n    </tr>\n    <tr>\n      <th>20</th>\n      <td>4</td>\n      <td>5</td>\n      <td>5</td>\n      <td>2</td>\n      <td>6</td>\n      <td>8</td>\n      <td>9</td>\n      <td>7</td>\n      <td>5</td>\n      <td>7</td>\n      <td>...</td>\n      <td>3</td>\n      <td>5</td>\n      <td>0</td>\n      <td>8</td>\n      <td>0</td>\n      <td>4</td>\n      <td>3</td>\n      <td>2</td>\n      <td>5</td>\n      <td>1</td>\n    </tr>\n    <tr>\n      <th>21</th>\n      <td>2</td>\n      <td>4</td>\n      <td>8</td>\n      <td>1</td>\n      <td>9</td>\n      <td>7</td>\n      <td>1</td>\n      <td>4</td>\n      <td>6</td>\n      <td>7</td>\n      <td>...</td>\n      <td>0</td>\n      <td>1</td>\n      <td>8</td>\n      <td>2</td>\n      <td>0</td>\n      <td>4</td>\n      <td>6</td>\n      <td>5</td>\n      <td>0</td>\n      <td>4</td>\n    </tr>\n    <tr>\n      <th>22</th>\n      <td>4</td>\n      <td>5</td>\n      <td>2</td>\n      <td>4</td>\n      <td>6</td>\n      <td>4</td>\n      <td>4</td>\n      <td>4</td>\n      <td>9</td>\n      <td>9</td>\n      <td>...</td>\n      <td>1</td>\n      <td>7</td>\n      <td>6</td>\n      <td>9</td>\n      <td>9</td>\n      <td>1</td>\n      <td>5</td>\n      <td>5</td>\n      <td>2</td>\n      <td>1</td>\n    </tr>\n    <tr>\n      <th>23</th>\n      <td>0</td>\n      <td>5</td>\n      <td>4</td>\n      <td>8</td>\n      <td>0</td>\n      <td>6</td>\n      <td>4</td>\n      <td>4</td>\n      <td>1</td>\n      <td>2</td>\n      <td>...</td>\n      <td>8</td>\n      <td>5</td>\n      <td>0</td>\n      <td>7</td>\n      <td>6</td>\n      <td>9</td>\n      <td>2</td>\n      <td>0</td>\n      <td>4</td>\n      <td>3</td>\n    </tr>\n    <tr>\n      <th>24</th>\n      <td>9</td>\n      <td>7</td>\n      <td>0</td>\n      <td>9</td>\n      <td>0</td>\n      <td>3</td>\n      <td>7</td>\n      <td>4</td>\n      <td>1</td>\n      <td>5</td>\n      <td>...</td>\n      <td>3</td>\n      <td>7</td>\n      <td>8</td>\n      <td>2</td>\n      <td>2</td>\n      <td>1</td>\n      <td>9</td>\n      <td>2</td>\n      <td>2</td>\n      <td>4</td>\n    </tr>\n    <tr>\n      <th>25</th>\n      <td>4</td>\n      <td>1</td>\n      <td>9</td>\n      <td>5</td>\n      <td>4</td>\n      <td>5</td>\n      <td>0</td>\n      <td>4</td>\n      <td>8</td>\n      <td>9</td>\n      <td>...</td>\n      <td>9</td>\n      <td>3</td>\n      <td>0</td>\n      <td>7</td>\n      <td>0</td>\n      <td>2</td>\n      <td>3</td>\n      <td>7</td>\n      <td>5</td>\n      <td>9</td>\n    </tr>\n    <tr>\n      <th>26</th>\n      <td>6</td>\n      <td>7</td>\n      <td>1</td>\n      <td>9</td>\n      <td>7</td>\n      <td>2</td>\n      <td>6</td>\n      <td>2</td>\n      <td>6</td>\n      <td>1</td>\n      <td>...</td>\n      <td>0</td>\n      <td>6</td>\n      <td>5</td>\n      <td>9</td>\n      <td>8</td>\n      <td>0</td>\n      <td>3</td>\n      <td>8</td>\n      <td>3</td>\n      <td>9</td>\n    </tr>\n    <tr>\n      <th>27</th>\n      <td>2</td>\n      <td>8</td>\n      <td>1</td>\n      <td>3</td>\n      <td>5</td>\n      <td>1</td>\n      <td>7</td>\n      <td>7</td>\n      <td>0</td>\n      <td>2</td>\n      <td>...</td>\n      <td>8</td>\n      <td>0</td>\n      <td>4</td>\n      <td>5</td>\n      <td>4</td>\n      <td>5</td>\n      <td>5</td>\n      <td>6</td>\n      <td>3</td>\n      <td>7</td>\n    </tr>\n    <tr>\n      <th>28</th>\n      <td>6</td>\n      <td>8</td>\n      <td>6</td>\n      <td>2</td>\n      <td>2</td>\n      <td>7</td>\n      <td>4</td>\n      <td>3</td>\n      <td>7</td>\n      <td>5</td>\n      <td>...</td>\n      <td>1</td>\n      <td>7</td>\n      <td>9</td>\n      <td>2</td>\n      <td>4</td>\n      <td>5</td>\n      <td>9</td>\n      <td>5</td>\n      <td>3</td>\n      <td>2</td>\n    </tr>\n    <tr>\n      <th>29</th>\n      <td>3</td>\n      <td>0</td>\n      <td>3</td>\n      <td>0</td>\n      <td>0</td>\n      <td>9</td>\n      <td>5</td>\n      <td>4</td>\n      <td>3</td>\n      <td>2</td>\n      <td>...</td>\n      <td>1</td>\n      <td>3</td>\n      <td>0</td>\n      <td>4</td>\n      <td>8</td>\n      <td>0</td>\n      <td>8</td>\n      <td>7</td>\n      <td>5</td>\n      <td>6</td>\n    </tr>\n  </tbody>\n</table>\n<p>30 rows × 30 columns</p>\n</div>"
     },
     "execution_count": 108,
     "metadata": {},
     "output_type": "execute_result"
    }
   ],
   "source": [
    "np.random.seed(42)\n",
    "x = pd.DataFrame(np.random.randint(10, size=(30, 30)))\n",
    "x"
   ]
  },
  {
   "cell_type": "markdown",
   "metadata": {},
   "source": [
    "1. 转置"
   ]
  },
  {
   "cell_type": "code",
   "execution_count": 109,
   "metadata": {
    "ExecuteTime": {
     "end_time": "2024-11-05T08:57:37.876801500Z",
     "start_time": "2024-11-05T08:57:16.761569Z"
    }
   },
   "outputs": [
    {
     "data": {
      "text/plain": "    0   1   2   3   4   5   6   7   8   9   ...  20  21  22  23  24  25  26  \\\n0    6   8   3   2   9   2   6   2   2   3  ...   4   2   4   0   9   4   6   \n1    3   2   5   0   9   6   4   3   2   7  ...   5   4   5   5   7   1   7   \n2    7   4   1   4   2   5   0   6   3   7  ...   5   8   2   4   0   9   1   \n3    4   2   9   9   6   7   0   3   7   6  ...   2   1   4   8   9   5   9   \n4    6   6   1   6   0   8   2   8   5   2  ...   6   9   6   0   0   4   7   \n5    9   4   9   9   3   4   1   0   7   0  ...   8   7   4   6   3   5   2   \n6    2   8   3   8   3   0   4   7   0   0  ...   9   1   4   4   7   0   6   \n7    6   6   7   6   4   2   9   6   7   2  ...   7   4   4   4   4   4   2   \n8    7   1   6   8   6   9   5   1   3   5  ...   5   6   9   1   1   8   6   \n9    4   3   8   7   6   7   6   7   0   6  ...   7   7   9   2   5   9   1   \n10   3   8   7   1   3   5   3   0   7   5  ...   4   0   2   6   4   1   9   \n11   7   1   4   0   6   7   6   8   3   5  ...   7   5   0   5   1   0   5   \n12   7   9   1   6   2   8   7   8   5   5  ...   9   0   4   1   2   9   2   \n13   2   8   4   6   5   3   0   1   7   2  ...   3   1   8   5   8   8   2   \n14   5   9   7   7   1   0   5   6   3   5  ...   9   0   0   1   6   9   8   \n15   4   4   9   4   9   0   7   9   2   7  ...   7   4   2   1   6   8   6   \n16   1   1   8   2   8   9   4   2   8   1  ...   9   9   3   1   5   8   4   \n17   7   3   8   7   4   3   3   6   2   4  ...   1   8   0   2   7   5   9   \n18   5   6   0   5   5   6   1   9   8   0  ...   4   5   0   1   3   7   6   \n19   1   7   8   2   3   1   5   8   1   0  ...   8   0   7   3   7   0   8   \n20   4   2   6   0   9   2   5   3   1   4  ...   3   0   1   8   3   9   0   \n21   0   0   8   2   6   0   0   0   1   2  ...   5   1   7   5   7   3   6   \n22   9   3   7   4   8   4   8   1   5   3  ...   0   8   6   0   8   0   5   \n23   5   1   0   2   6   0   5   0   2   2  ...   8   2   9   7   2   7   9   \n24   8   7   7   0   0   7   2   4   8   0  ...   0   0   9   6   2   0   8   \n25   0   3   7   4   0   0   3   4   3   0  ...   4   4   1   9   1   2   0   \n26   9   1   2   9   8   0   3   6   0   4  ...   3   6   5   2   9   3   3   \n27   2   5   0   6   8   1   2   8   3   5  ...   2   5   5   0   2   7   8   \n28   6   5   7   6   3   1   9   8   0   2  ...   5   0   2   4   2   5   3   \n29   3   9   2   8   8   5   2   2   4   8  ...   1   4   1   3   4   9   9   \n\n    27  28  29  \n0    2   6   3  \n1    8   8   0  \n2    1   6   3  \n3    3   2   0  \n4    5   2   0  \n5    1   7   9  \n6    7   4   5  \n7    7   3   4  \n8    0   7   3  \n9    2   5   2  \n10   9   1   0  \n11   8   3   5  \n12   4   3   1  \n13   5   5   7  \n14   3   5   9  \n15   9   0   4  \n16   1   7   6  \n17   7   5   9  \n18   5   2   1  \n19   4   8   7  \n20   8   1   1  \n21   0   7   3  \n22   4   9   0  \n23   5   2   4  \n24   4   4   8  \n25   5   5   0  \n26   5   9   8  \n27   6   5   7  \n28   3   3   5  \n29   7   2   6  \n\n[30 rows x 30 columns]",
      "text/html": "<div>\n<style scoped>\n    .dataframe tbody tr th:only-of-type {\n        vertical-align: middle;\n    }\n\n    .dataframe tbody tr th {\n        vertical-align: top;\n    }\n\n    .dataframe thead th {\n        text-align: right;\n    }\n</style>\n<table border=\"1\" class=\"dataframe\">\n  <thead>\n    <tr style=\"text-align: right;\">\n      <th></th>\n      <th>0</th>\n      <th>1</th>\n      <th>2</th>\n      <th>3</th>\n      <th>4</th>\n      <th>5</th>\n      <th>6</th>\n      <th>7</th>\n      <th>8</th>\n      <th>9</th>\n      <th>...</th>\n      <th>20</th>\n      <th>21</th>\n      <th>22</th>\n      <th>23</th>\n      <th>24</th>\n      <th>25</th>\n      <th>26</th>\n      <th>27</th>\n      <th>28</th>\n      <th>29</th>\n    </tr>\n  </thead>\n  <tbody>\n    <tr>\n      <th>0</th>\n      <td>6</td>\n      <td>8</td>\n      <td>3</td>\n      <td>2</td>\n      <td>9</td>\n      <td>2</td>\n      <td>6</td>\n      <td>2</td>\n      <td>2</td>\n      <td>3</td>\n      <td>...</td>\n      <td>4</td>\n      <td>2</td>\n      <td>4</td>\n      <td>0</td>\n      <td>9</td>\n      <td>4</td>\n      <td>6</td>\n      <td>2</td>\n      <td>6</td>\n      <td>3</td>\n    </tr>\n    <tr>\n      <th>1</th>\n      <td>3</td>\n      <td>2</td>\n      <td>5</td>\n      <td>0</td>\n      <td>9</td>\n      <td>6</td>\n      <td>4</td>\n      <td>3</td>\n      <td>2</td>\n      <td>7</td>\n      <td>...</td>\n      <td>5</td>\n      <td>4</td>\n      <td>5</td>\n      <td>5</td>\n      <td>7</td>\n      <td>1</td>\n      <td>7</td>\n      <td>8</td>\n      <td>8</td>\n      <td>0</td>\n    </tr>\n    <tr>\n      <th>2</th>\n      <td>7</td>\n      <td>4</td>\n      <td>1</td>\n      <td>4</td>\n      <td>2</td>\n      <td>5</td>\n      <td>0</td>\n      <td>6</td>\n      <td>3</td>\n      <td>7</td>\n      <td>...</td>\n      <td>5</td>\n      <td>8</td>\n      <td>2</td>\n      <td>4</td>\n      <td>0</td>\n      <td>9</td>\n      <td>1</td>\n      <td>1</td>\n      <td>6</td>\n      <td>3</td>\n    </tr>\n    <tr>\n      <th>3</th>\n      <td>4</td>\n      <td>2</td>\n      <td>9</td>\n      <td>9</td>\n      <td>6</td>\n      <td>7</td>\n      <td>0</td>\n      <td>3</td>\n      <td>7</td>\n      <td>6</td>\n      <td>...</td>\n      <td>2</td>\n      <td>1</td>\n      <td>4</td>\n      <td>8</td>\n      <td>9</td>\n      <td>5</td>\n      <td>9</td>\n      <td>3</td>\n      <td>2</td>\n      <td>0</td>\n    </tr>\n    <tr>\n      <th>4</th>\n      <td>6</td>\n      <td>6</td>\n      <td>1</td>\n      <td>6</td>\n      <td>0</td>\n      <td>8</td>\n      <td>2</td>\n      <td>8</td>\n      <td>5</td>\n      <td>2</td>\n      <td>...</td>\n      <td>6</td>\n      <td>9</td>\n      <td>6</td>\n      <td>0</td>\n      <td>0</td>\n      <td>4</td>\n      <td>7</td>\n      <td>5</td>\n      <td>2</td>\n      <td>0</td>\n    </tr>\n    <tr>\n      <th>5</th>\n      <td>9</td>\n      <td>4</td>\n      <td>9</td>\n      <td>9</td>\n      <td>3</td>\n      <td>4</td>\n      <td>1</td>\n      <td>0</td>\n      <td>7</td>\n      <td>0</td>\n      <td>...</td>\n      <td>8</td>\n      <td>7</td>\n      <td>4</td>\n      <td>6</td>\n      <td>3</td>\n      <td>5</td>\n      <td>2</td>\n      <td>1</td>\n      <td>7</td>\n      <td>9</td>\n    </tr>\n    <tr>\n      <th>6</th>\n      <td>2</td>\n      <td>8</td>\n      <td>3</td>\n      <td>8</td>\n      <td>3</td>\n      <td>0</td>\n      <td>4</td>\n      <td>7</td>\n      <td>0</td>\n      <td>0</td>\n      <td>...</td>\n      <td>9</td>\n      <td>1</td>\n      <td>4</td>\n      <td>4</td>\n      <td>7</td>\n      <td>0</td>\n      <td>6</td>\n      <td>7</td>\n      <td>4</td>\n      <td>5</td>\n    </tr>\n    <tr>\n      <th>7</th>\n      <td>6</td>\n      <td>6</td>\n      <td>7</td>\n      <td>6</td>\n      <td>4</td>\n      <td>2</td>\n      <td>9</td>\n      <td>6</td>\n      <td>7</td>\n      <td>2</td>\n      <td>...</td>\n      <td>7</td>\n      <td>4</td>\n      <td>4</td>\n      <td>4</td>\n      <td>4</td>\n      <td>4</td>\n      <td>2</td>\n      <td>7</td>\n      <td>3</td>\n      <td>4</td>\n    </tr>\n    <tr>\n      <th>8</th>\n      <td>7</td>\n      <td>1</td>\n      <td>6</td>\n      <td>8</td>\n      <td>6</td>\n      <td>9</td>\n      <td>5</td>\n      <td>1</td>\n      <td>3</td>\n      <td>5</td>\n      <td>...</td>\n      <td>5</td>\n      <td>6</td>\n      <td>9</td>\n      <td>1</td>\n      <td>1</td>\n      <td>8</td>\n      <td>6</td>\n      <td>0</td>\n      <td>7</td>\n      <td>3</td>\n    </tr>\n    <tr>\n      <th>9</th>\n      <td>4</td>\n      <td>3</td>\n      <td>8</td>\n      <td>7</td>\n      <td>6</td>\n      <td>7</td>\n      <td>6</td>\n      <td>7</td>\n      <td>0</td>\n      <td>6</td>\n      <td>...</td>\n      <td>7</td>\n      <td>7</td>\n      <td>9</td>\n      <td>2</td>\n      <td>5</td>\n      <td>9</td>\n      <td>1</td>\n      <td>2</td>\n      <td>5</td>\n      <td>2</td>\n    </tr>\n    <tr>\n      <th>10</th>\n      <td>3</td>\n      <td>8</td>\n      <td>7</td>\n      <td>1</td>\n      <td>3</td>\n      <td>5</td>\n      <td>3</td>\n      <td>0</td>\n      <td>7</td>\n      <td>5</td>\n      <td>...</td>\n      <td>4</td>\n      <td>0</td>\n      <td>2</td>\n      <td>6</td>\n      <td>4</td>\n      <td>1</td>\n      <td>9</td>\n      <td>9</td>\n      <td>1</td>\n      <td>0</td>\n    </tr>\n    <tr>\n      <th>11</th>\n      <td>7</td>\n      <td>1</td>\n      <td>4</td>\n      <td>0</td>\n      <td>6</td>\n      <td>7</td>\n      <td>6</td>\n      <td>8</td>\n      <td>3</td>\n      <td>5</td>\n      <td>...</td>\n      <td>7</td>\n      <td>5</td>\n      <td>0</td>\n      <td>5</td>\n      <td>1</td>\n      <td>0</td>\n      <td>5</td>\n      <td>8</td>\n      <td>3</td>\n      <td>5</td>\n    </tr>\n    <tr>\n      <th>12</th>\n      <td>7</td>\n      <td>9</td>\n      <td>1</td>\n      <td>6</td>\n      <td>2</td>\n      <td>8</td>\n      <td>7</td>\n      <td>8</td>\n      <td>5</td>\n      <td>5</td>\n      <td>...</td>\n      <td>9</td>\n      <td>0</td>\n      <td>4</td>\n      <td>1</td>\n      <td>2</td>\n      <td>9</td>\n      <td>2</td>\n      <td>4</td>\n      <td>3</td>\n      <td>1</td>\n    </tr>\n    <tr>\n      <th>13</th>\n      <td>2</td>\n      <td>8</td>\n      <td>4</td>\n      <td>6</td>\n      <td>5</td>\n      <td>3</td>\n      <td>0</td>\n      <td>1</td>\n      <td>7</td>\n      <td>2</td>\n      <td>...</td>\n      <td>3</td>\n      <td>1</td>\n      <td>8</td>\n      <td>5</td>\n      <td>8</td>\n      <td>8</td>\n      <td>2</td>\n      <td>5</td>\n      <td>5</td>\n      <td>7</td>\n    </tr>\n    <tr>\n      <th>14</th>\n      <td>5</td>\n      <td>9</td>\n      <td>7</td>\n      <td>7</td>\n      <td>1</td>\n      <td>0</td>\n      <td>5</td>\n      <td>6</td>\n      <td>3</td>\n      <td>5</td>\n      <td>...</td>\n      <td>9</td>\n      <td>0</td>\n      <td>0</td>\n      <td>1</td>\n      <td>6</td>\n      <td>9</td>\n      <td>8</td>\n      <td>3</td>\n      <td>5</td>\n      <td>9</td>\n    </tr>\n    <tr>\n      <th>15</th>\n      <td>4</td>\n      <td>4</td>\n      <td>9</td>\n      <td>4</td>\n      <td>9</td>\n      <td>0</td>\n      <td>7</td>\n      <td>9</td>\n      <td>2</td>\n      <td>7</td>\n      <td>...</td>\n      <td>7</td>\n      <td>4</td>\n      <td>2</td>\n      <td>1</td>\n      <td>6</td>\n      <td>8</td>\n      <td>6</td>\n      <td>9</td>\n      <td>0</td>\n      <td>4</td>\n    </tr>\n    <tr>\n      <th>16</th>\n      <td>1</td>\n      <td>1</td>\n      <td>8</td>\n      <td>2</td>\n      <td>8</td>\n      <td>9</td>\n      <td>4</td>\n      <td>2</td>\n      <td>8</td>\n      <td>1</td>\n      <td>...</td>\n      <td>9</td>\n      <td>9</td>\n      <td>3</td>\n      <td>1</td>\n      <td>5</td>\n      <td>8</td>\n      <td>4</td>\n      <td>1</td>\n      <td>7</td>\n      <td>6</td>\n    </tr>\n    <tr>\n      <th>17</th>\n      <td>7</td>\n      <td>3</td>\n      <td>8</td>\n      <td>7</td>\n      <td>4</td>\n      <td>3</td>\n      <td>3</td>\n      <td>6</td>\n      <td>2</td>\n      <td>4</td>\n      <td>...</td>\n      <td>1</td>\n      <td>8</td>\n      <td>0</td>\n      <td>2</td>\n      <td>7</td>\n      <td>5</td>\n      <td>9</td>\n      <td>7</td>\n      <td>5</td>\n      <td>9</td>\n    </tr>\n    <tr>\n      <th>18</th>\n      <td>5</td>\n      <td>6</td>\n      <td>0</td>\n      <td>5</td>\n      <td>5</td>\n      <td>6</td>\n      <td>1</td>\n      <td>9</td>\n      <td>8</td>\n      <td>0</td>\n      <td>...</td>\n      <td>4</td>\n      <td>5</td>\n      <td>0</td>\n      <td>1</td>\n      <td>3</td>\n      <td>7</td>\n      <td>6</td>\n      <td>5</td>\n      <td>2</td>\n      <td>1</td>\n    </tr>\n    <tr>\n      <th>19</th>\n      <td>1</td>\n      <td>7</td>\n      <td>8</td>\n      <td>2</td>\n      <td>3</td>\n      <td>1</td>\n      <td>5</td>\n      <td>8</td>\n      <td>1</td>\n      <td>0</td>\n      <td>...</td>\n      <td>8</td>\n      <td>0</td>\n      <td>7</td>\n      <td>3</td>\n      <td>7</td>\n      <td>0</td>\n      <td>8</td>\n      <td>4</td>\n      <td>8</td>\n      <td>7</td>\n    </tr>\n    <tr>\n      <th>20</th>\n      <td>4</td>\n      <td>2</td>\n      <td>6</td>\n      <td>0</td>\n      <td>9</td>\n      <td>2</td>\n      <td>5</td>\n      <td>3</td>\n      <td>1</td>\n      <td>4</td>\n      <td>...</td>\n      <td>3</td>\n      <td>0</td>\n      <td>1</td>\n      <td>8</td>\n      <td>3</td>\n      <td>9</td>\n      <td>0</td>\n      <td>8</td>\n      <td>1</td>\n      <td>1</td>\n    </tr>\n    <tr>\n      <th>21</th>\n      <td>0</td>\n      <td>0</td>\n      <td>8</td>\n      <td>2</td>\n      <td>6</td>\n      <td>0</td>\n      <td>0</td>\n      <td>0</td>\n      <td>1</td>\n      <td>2</td>\n      <td>...</td>\n      <td>5</td>\n      <td>1</td>\n      <td>7</td>\n      <td>5</td>\n      <td>7</td>\n      <td>3</td>\n      <td>6</td>\n      <td>0</td>\n      <td>7</td>\n      <td>3</td>\n    </tr>\n    <tr>\n      <th>22</th>\n      <td>9</td>\n      <td>3</td>\n      <td>7</td>\n      <td>4</td>\n      <td>8</td>\n      <td>4</td>\n      <td>8</td>\n      <td>1</td>\n      <td>5</td>\n      <td>3</td>\n      <td>...</td>\n      <td>0</td>\n      <td>8</td>\n      <td>6</td>\n      <td>0</td>\n      <td>8</td>\n      <td>0</td>\n      <td>5</td>\n      <td>4</td>\n      <td>9</td>\n      <td>0</td>\n    </tr>\n    <tr>\n      <th>23</th>\n      <td>5</td>\n      <td>1</td>\n      <td>0</td>\n      <td>2</td>\n      <td>6</td>\n      <td>0</td>\n      <td>5</td>\n      <td>0</td>\n      <td>2</td>\n      <td>2</td>\n      <td>...</td>\n      <td>8</td>\n      <td>2</td>\n      <td>9</td>\n      <td>7</td>\n      <td>2</td>\n      <td>7</td>\n      <td>9</td>\n      <td>5</td>\n      <td>2</td>\n      <td>4</td>\n    </tr>\n    <tr>\n      <th>24</th>\n      <td>8</td>\n      <td>7</td>\n      <td>7</td>\n      <td>0</td>\n      <td>0</td>\n      <td>7</td>\n      <td>2</td>\n      <td>4</td>\n      <td>8</td>\n      <td>0</td>\n      <td>...</td>\n      <td>0</td>\n      <td>0</td>\n      <td>9</td>\n      <td>6</td>\n      <td>2</td>\n      <td>0</td>\n      <td>8</td>\n      <td>4</td>\n      <td>4</td>\n      <td>8</td>\n    </tr>\n    <tr>\n      <th>25</th>\n      <td>0</td>\n      <td>3</td>\n      <td>7</td>\n      <td>4</td>\n      <td>0</td>\n      <td>0</td>\n      <td>3</td>\n      <td>4</td>\n      <td>3</td>\n      <td>0</td>\n      <td>...</td>\n      <td>4</td>\n      <td>4</td>\n      <td>1</td>\n      <td>9</td>\n      <td>1</td>\n      <td>2</td>\n      <td>0</td>\n      <td>5</td>\n      <td>5</td>\n      <td>0</td>\n    </tr>\n    <tr>\n      <th>26</th>\n      <td>9</td>\n      <td>1</td>\n      <td>2</td>\n      <td>9</td>\n      <td>8</td>\n      <td>0</td>\n      <td>3</td>\n      <td>6</td>\n      <td>0</td>\n      <td>4</td>\n      <td>...</td>\n      <td>3</td>\n      <td>6</td>\n      <td>5</td>\n      <td>2</td>\n      <td>9</td>\n      <td>3</td>\n      <td>3</td>\n      <td>5</td>\n      <td>9</td>\n      <td>8</td>\n    </tr>\n    <tr>\n      <th>27</th>\n      <td>2</td>\n      <td>5</td>\n      <td>0</td>\n      <td>6</td>\n      <td>8</td>\n      <td>1</td>\n      <td>2</td>\n      <td>8</td>\n      <td>3</td>\n      <td>5</td>\n      <td>...</td>\n      <td>2</td>\n      <td>5</td>\n      <td>5</td>\n      <td>0</td>\n      <td>2</td>\n      <td>7</td>\n      <td>8</td>\n      <td>6</td>\n      <td>5</td>\n      <td>7</td>\n    </tr>\n    <tr>\n      <th>28</th>\n      <td>6</td>\n      <td>5</td>\n      <td>7</td>\n      <td>6</td>\n      <td>3</td>\n      <td>1</td>\n      <td>9</td>\n      <td>8</td>\n      <td>0</td>\n      <td>2</td>\n      <td>...</td>\n      <td>5</td>\n      <td>0</td>\n      <td>2</td>\n      <td>4</td>\n      <td>2</td>\n      <td>5</td>\n      <td>3</td>\n      <td>3</td>\n      <td>3</td>\n      <td>5</td>\n    </tr>\n    <tr>\n      <th>29</th>\n      <td>3</td>\n      <td>9</td>\n      <td>2</td>\n      <td>8</td>\n      <td>8</td>\n      <td>5</td>\n      <td>2</td>\n      <td>2</td>\n      <td>4</td>\n      <td>8</td>\n      <td>...</td>\n      <td>1</td>\n      <td>4</td>\n      <td>1</td>\n      <td>3</td>\n      <td>4</td>\n      <td>9</td>\n      <td>9</td>\n      <td>7</td>\n      <td>2</td>\n      <td>6</td>\n    </tr>\n  </tbody>\n</table>\n<p>30 rows × 30 columns</p>\n</div>"
     },
     "execution_count": 109,
     "metadata": {},
     "output_type": "execute_result"
    }
   ],
   "source": [
    "z = x.T\n",
    "z"
   ]
  },
  {
   "cell_type": "code",
   "execution_count": 110,
   "metadata": {
    "scrolled": false,
    "ExecuteTime": {
     "end_time": "2024-11-05T08:57:37.877802300Z",
     "start_time": "2024-11-05T08:57:16.788837100Z"
    }
   },
   "outputs": [
    {
     "data": {
      "text/plain": "    0   1   2   3   4   5   6   7   8   9   ...  20  21  22  23  24  25  26  \\\n0    5   8   9   5   0   0   1   7   6   9  ...   1   7   0   6   9   9   7   \n1    0   1   8   8   3   9   8   7   3   6  ...   9   2   0   4   9   2   7   \n2    6   9   3   7   7   4   5   9   3   6  ...   7   7   1   1   3   0   8   \n3    6   2   5   7   8   4   4   7   7   4  ...   0   1   9   8   2   3   1   \n4    6   0   9   2   6   6   2   7   7   0  ...   1   5   4   0   7   8   9   \n5    9   3   9   1   4   4   6   8   8   9  ...   1   8   7   0   3   4   2   \n6    1   2   4   3   0   6   0   7   2   8  ...   4   3   3   6   7   3   5   \n7    4   0   3   3   8   3   5   6   7   5  ...   1   7   3   1   6   6   9   \n8    0   0   2   9   6   0   6   7   0   3  ...   6   7   9   5   4   9   5   \n9    6   8   7   7   7   2   6   0   5   2  ...   7   0   6   2   4   3   6   \n10   0   6   4   7   6   2   9   5   9   9  ...   4   9   3   9   1   2   5   \n11   2   3   9   9   4   4   8   2   1   6  ...   0   5   9   8   6   6   0   \n12   0   1   6   0   6   1   6   4   2   5  ...   8   8   0   7   2   0   7   \n13   5   1   5   9   6   4   9   8   7   5  ...   2   4   3   2   0   0   4   \n14   0   3   8   5   3   1   4   7   3   2  ...   8   5   5   7   5   9   1   \n15   3   3   6   1   3   0   5   0   5   2  ...   7   1   7   7   3   8   3   \n16   0   6   5   9   6   4   6   6   2   2  ...   3   6   8   6   5   1   3   \n17   6   7   2   8   0   1   8   6   0   0  ...   5   6   2   5   4   3   0   \n18   9   4   4   0   9   8   7   7   6   1  ...   7   9   9   7   1   1   4   \n19   4   1   1   5   1   2   6   2   3   3  ...   0   0   0   9   8   5   9   \n20   9   8   6   3   9   9   0   8   1   6  ...   2   9   0   1   3   9   4   \n21   2   8   6   4   9   0   5   5   6   1  ...   6   7   5   6   8   7   4   \n22   0   3   5   9   0   3   6   5   1   1  ...   6   2   5   3   9   3   9   \n23   7   7   0   8   6   1   2   0   4   4  ...   1   9   6   0   2   8   3   \n24   6   0   4   2   3   1   0   5   7   0  ...   1   1   2   7   5   2   9   \n25   5   0   2   1   4   9   4   6   9   3  ...   5   5   3   5   9   2   7   \n26   9   8   1   8   1   6   2   6   1   8  ...   2   5   1   2   5   3   3   \n27   1   8   6   4   6   9   5   4   7   2  ...   9   3   1   5   1   1   7   \n28   0   7   7   4   3   2   7   8   5   2  ...   0   2   8   3   7   3   9   \n29   8   0   2   6   8   3   6   4   9   7  ...   6   7   8   5   7   2   5   \n\n    27  28  29  \n0    6   9   1  \n1    7   9   8  \n2    6   4   5  \n3    2   7   2  \n4    5   7   0  \n5    0   3   5  \n6    3   2   4  \n7    6   9   6  \n8    2   5   6  \n9    7   6   3  \n10   4   0   8  \n11   4   7   3  \n12   1   1   9  \n13   2   5   0  \n14   3   9   3  \n15   0   6   3  \n16   2   6   3  \n17   6   2   1  \n18   6   5   6  \n19   3   4   0  \n20   8   8   8  \n21   2   4   0  \n22   5   1   9  \n23   7   2   5  \n24   4   7   3  \n25   4   1   6  \n26   6   1   8  \n27   1   2   6  \n28   2   3   8  \n29   3   4   5  \n\n[30 rows x 30 columns]",
      "text/html": "<div>\n<style scoped>\n    .dataframe tbody tr th:only-of-type {\n        vertical-align: middle;\n    }\n\n    .dataframe tbody tr th {\n        vertical-align: top;\n    }\n\n    .dataframe thead th {\n        text-align: right;\n    }\n</style>\n<table border=\"1\" class=\"dataframe\">\n  <thead>\n    <tr style=\"text-align: right;\">\n      <th></th>\n      <th>0</th>\n      <th>1</th>\n      <th>2</th>\n      <th>3</th>\n      <th>4</th>\n      <th>5</th>\n      <th>6</th>\n      <th>7</th>\n      <th>8</th>\n      <th>9</th>\n      <th>...</th>\n      <th>20</th>\n      <th>21</th>\n      <th>22</th>\n      <th>23</th>\n      <th>24</th>\n      <th>25</th>\n      <th>26</th>\n      <th>27</th>\n      <th>28</th>\n      <th>29</th>\n    </tr>\n  </thead>\n  <tbody>\n    <tr>\n      <th>0</th>\n      <td>5</td>\n      <td>8</td>\n      <td>9</td>\n      <td>5</td>\n      <td>0</td>\n      <td>0</td>\n      <td>1</td>\n      <td>7</td>\n      <td>6</td>\n      <td>9</td>\n      <td>...</td>\n      <td>1</td>\n      <td>7</td>\n      <td>0</td>\n      <td>6</td>\n      <td>9</td>\n      <td>9</td>\n      <td>7</td>\n      <td>6</td>\n      <td>9</td>\n      <td>1</td>\n    </tr>\n    <tr>\n      <th>1</th>\n      <td>0</td>\n      <td>1</td>\n      <td>8</td>\n      <td>8</td>\n      <td>3</td>\n      <td>9</td>\n      <td>8</td>\n      <td>7</td>\n      <td>3</td>\n      <td>6</td>\n      <td>...</td>\n      <td>9</td>\n      <td>2</td>\n      <td>0</td>\n      <td>4</td>\n      <td>9</td>\n      <td>2</td>\n      <td>7</td>\n      <td>7</td>\n      <td>9</td>\n      <td>8</td>\n    </tr>\n    <tr>\n      <th>2</th>\n      <td>6</td>\n      <td>9</td>\n      <td>3</td>\n      <td>7</td>\n      <td>7</td>\n      <td>4</td>\n      <td>5</td>\n      <td>9</td>\n      <td>3</td>\n      <td>6</td>\n      <td>...</td>\n      <td>7</td>\n      <td>7</td>\n      <td>1</td>\n      <td>1</td>\n      <td>3</td>\n      <td>0</td>\n      <td>8</td>\n      <td>6</td>\n      <td>4</td>\n      <td>5</td>\n    </tr>\n    <tr>\n      <th>3</th>\n      <td>6</td>\n      <td>2</td>\n      <td>5</td>\n      <td>7</td>\n      <td>8</td>\n      <td>4</td>\n      <td>4</td>\n      <td>7</td>\n      <td>7</td>\n      <td>4</td>\n      <td>...</td>\n      <td>0</td>\n      <td>1</td>\n      <td>9</td>\n      <td>8</td>\n      <td>2</td>\n      <td>3</td>\n      <td>1</td>\n      <td>2</td>\n      <td>7</td>\n      <td>2</td>\n    </tr>\n    <tr>\n      <th>4</th>\n      <td>6</td>\n      <td>0</td>\n      <td>9</td>\n      <td>2</td>\n      <td>6</td>\n      <td>6</td>\n      <td>2</td>\n      <td>7</td>\n      <td>7</td>\n      <td>0</td>\n      <td>...</td>\n      <td>1</td>\n      <td>5</td>\n      <td>4</td>\n      <td>0</td>\n      <td>7</td>\n      <td>8</td>\n      <td>9</td>\n      <td>5</td>\n      <td>7</td>\n      <td>0</td>\n    </tr>\n    <tr>\n      <th>5</th>\n      <td>9</td>\n      <td>3</td>\n      <td>9</td>\n      <td>1</td>\n      <td>4</td>\n      <td>4</td>\n      <td>6</td>\n      <td>8</td>\n      <td>8</td>\n      <td>9</td>\n      <td>...</td>\n      <td>1</td>\n      <td>8</td>\n      <td>7</td>\n      <td>0</td>\n      <td>3</td>\n      <td>4</td>\n      <td>2</td>\n      <td>0</td>\n      <td>3</td>\n      <td>5</td>\n    </tr>\n    <tr>\n      <th>6</th>\n      <td>1</td>\n      <td>2</td>\n      <td>4</td>\n      <td>3</td>\n      <td>0</td>\n      <td>6</td>\n      <td>0</td>\n      <td>7</td>\n      <td>2</td>\n      <td>8</td>\n      <td>...</td>\n      <td>4</td>\n      <td>3</td>\n      <td>3</td>\n      <td>6</td>\n      <td>7</td>\n      <td>3</td>\n      <td>5</td>\n      <td>3</td>\n      <td>2</td>\n      <td>4</td>\n    </tr>\n    <tr>\n      <th>7</th>\n      <td>4</td>\n      <td>0</td>\n      <td>3</td>\n      <td>3</td>\n      <td>8</td>\n      <td>3</td>\n      <td>5</td>\n      <td>6</td>\n      <td>7</td>\n      <td>5</td>\n      <td>...</td>\n      <td>1</td>\n      <td>7</td>\n      <td>3</td>\n      <td>1</td>\n      <td>6</td>\n      <td>6</td>\n      <td>9</td>\n      <td>6</td>\n      <td>9</td>\n      <td>6</td>\n    </tr>\n    <tr>\n      <th>8</th>\n      <td>0</td>\n      <td>0</td>\n      <td>2</td>\n      <td>9</td>\n      <td>6</td>\n      <td>0</td>\n      <td>6</td>\n      <td>7</td>\n      <td>0</td>\n      <td>3</td>\n      <td>...</td>\n      <td>6</td>\n      <td>7</td>\n      <td>9</td>\n      <td>5</td>\n      <td>4</td>\n      <td>9</td>\n      <td>5</td>\n      <td>2</td>\n      <td>5</td>\n      <td>6</td>\n    </tr>\n    <tr>\n      <th>9</th>\n      <td>6</td>\n      <td>8</td>\n      <td>7</td>\n      <td>7</td>\n      <td>7</td>\n      <td>2</td>\n      <td>6</td>\n      <td>0</td>\n      <td>5</td>\n      <td>2</td>\n      <td>...</td>\n      <td>7</td>\n      <td>0</td>\n      <td>6</td>\n      <td>2</td>\n      <td>4</td>\n      <td>3</td>\n      <td>6</td>\n      <td>7</td>\n      <td>6</td>\n      <td>3</td>\n    </tr>\n    <tr>\n      <th>10</th>\n      <td>0</td>\n      <td>6</td>\n      <td>4</td>\n      <td>7</td>\n      <td>6</td>\n      <td>2</td>\n      <td>9</td>\n      <td>5</td>\n      <td>9</td>\n      <td>9</td>\n      <td>...</td>\n      <td>4</td>\n      <td>9</td>\n      <td>3</td>\n      <td>9</td>\n      <td>1</td>\n      <td>2</td>\n      <td>5</td>\n      <td>4</td>\n      <td>0</td>\n      <td>8</td>\n    </tr>\n    <tr>\n      <th>11</th>\n      <td>2</td>\n      <td>3</td>\n      <td>9</td>\n      <td>9</td>\n      <td>4</td>\n      <td>4</td>\n      <td>8</td>\n      <td>2</td>\n      <td>1</td>\n      <td>6</td>\n      <td>...</td>\n      <td>0</td>\n      <td>5</td>\n      <td>9</td>\n      <td>8</td>\n      <td>6</td>\n      <td>6</td>\n      <td>0</td>\n      <td>4</td>\n      <td>7</td>\n      <td>3</td>\n    </tr>\n    <tr>\n      <th>12</th>\n      <td>0</td>\n      <td>1</td>\n      <td>6</td>\n      <td>0</td>\n      <td>6</td>\n      <td>1</td>\n      <td>6</td>\n      <td>4</td>\n      <td>2</td>\n      <td>5</td>\n      <td>...</td>\n      <td>8</td>\n      <td>8</td>\n      <td>0</td>\n      <td>7</td>\n      <td>2</td>\n      <td>0</td>\n      <td>7</td>\n      <td>1</td>\n      <td>1</td>\n      <td>9</td>\n    </tr>\n    <tr>\n      <th>13</th>\n      <td>5</td>\n      <td>1</td>\n      <td>5</td>\n      <td>9</td>\n      <td>6</td>\n      <td>4</td>\n      <td>9</td>\n      <td>8</td>\n      <td>7</td>\n      <td>5</td>\n      <td>...</td>\n      <td>2</td>\n      <td>4</td>\n      <td>3</td>\n      <td>2</td>\n      <td>0</td>\n      <td>0</td>\n      <td>4</td>\n      <td>2</td>\n      <td>5</td>\n      <td>0</td>\n    </tr>\n    <tr>\n      <th>14</th>\n      <td>0</td>\n      <td>3</td>\n      <td>8</td>\n      <td>5</td>\n      <td>3</td>\n      <td>1</td>\n      <td>4</td>\n      <td>7</td>\n      <td>3</td>\n      <td>2</td>\n      <td>...</td>\n      <td>8</td>\n      <td>5</td>\n      <td>5</td>\n      <td>7</td>\n      <td>5</td>\n      <td>9</td>\n      <td>1</td>\n      <td>3</td>\n      <td>9</td>\n      <td>3</td>\n    </tr>\n    <tr>\n      <th>15</th>\n      <td>3</td>\n      <td>3</td>\n      <td>6</td>\n      <td>1</td>\n      <td>3</td>\n      <td>0</td>\n      <td>5</td>\n      <td>0</td>\n      <td>5</td>\n      <td>2</td>\n      <td>...</td>\n      <td>7</td>\n      <td>1</td>\n      <td>7</td>\n      <td>7</td>\n      <td>3</td>\n      <td>8</td>\n      <td>3</td>\n      <td>0</td>\n      <td>6</td>\n      <td>3</td>\n    </tr>\n    <tr>\n      <th>16</th>\n      <td>0</td>\n      <td>6</td>\n      <td>5</td>\n      <td>9</td>\n      <td>6</td>\n      <td>4</td>\n      <td>6</td>\n      <td>6</td>\n      <td>2</td>\n      <td>2</td>\n      <td>...</td>\n      <td>3</td>\n      <td>6</td>\n      <td>8</td>\n      <td>6</td>\n      <td>5</td>\n      <td>1</td>\n      <td>3</td>\n      <td>2</td>\n      <td>6</td>\n      <td>3</td>\n    </tr>\n    <tr>\n      <th>17</th>\n      <td>6</td>\n      <td>7</td>\n      <td>2</td>\n      <td>8</td>\n      <td>0</td>\n      <td>1</td>\n      <td>8</td>\n      <td>6</td>\n      <td>0</td>\n      <td>0</td>\n      <td>...</td>\n      <td>5</td>\n      <td>6</td>\n      <td>2</td>\n      <td>5</td>\n      <td>4</td>\n      <td>3</td>\n      <td>0</td>\n      <td>6</td>\n      <td>2</td>\n      <td>1</td>\n    </tr>\n    <tr>\n      <th>18</th>\n      <td>9</td>\n      <td>4</td>\n      <td>4</td>\n      <td>0</td>\n      <td>9</td>\n      <td>8</td>\n      <td>7</td>\n      <td>7</td>\n      <td>6</td>\n      <td>1</td>\n      <td>...</td>\n      <td>7</td>\n      <td>9</td>\n      <td>9</td>\n      <td>7</td>\n      <td>1</td>\n      <td>1</td>\n      <td>4</td>\n      <td>6</td>\n      <td>5</td>\n      <td>6</td>\n    </tr>\n    <tr>\n      <th>19</th>\n      <td>4</td>\n      <td>1</td>\n      <td>1</td>\n      <td>5</td>\n      <td>1</td>\n      <td>2</td>\n      <td>6</td>\n      <td>2</td>\n      <td>3</td>\n      <td>3</td>\n      <td>...</td>\n      <td>0</td>\n      <td>0</td>\n      <td>0</td>\n      <td>9</td>\n      <td>8</td>\n      <td>5</td>\n      <td>9</td>\n      <td>3</td>\n      <td>4</td>\n      <td>0</td>\n    </tr>\n    <tr>\n      <th>20</th>\n      <td>9</td>\n      <td>8</td>\n      <td>6</td>\n      <td>3</td>\n      <td>9</td>\n      <td>9</td>\n      <td>0</td>\n      <td>8</td>\n      <td>1</td>\n      <td>6</td>\n      <td>...</td>\n      <td>2</td>\n      <td>9</td>\n      <td>0</td>\n      <td>1</td>\n      <td>3</td>\n      <td>9</td>\n      <td>4</td>\n      <td>8</td>\n      <td>8</td>\n      <td>8</td>\n    </tr>\n    <tr>\n      <th>21</th>\n      <td>2</td>\n      <td>8</td>\n      <td>6</td>\n      <td>4</td>\n      <td>9</td>\n      <td>0</td>\n      <td>5</td>\n      <td>5</td>\n      <td>6</td>\n      <td>1</td>\n      <td>...</td>\n      <td>6</td>\n      <td>7</td>\n      <td>5</td>\n      <td>6</td>\n      <td>8</td>\n      <td>7</td>\n      <td>4</td>\n      <td>2</td>\n      <td>4</td>\n      <td>0</td>\n    </tr>\n    <tr>\n      <th>22</th>\n      <td>0</td>\n      <td>3</td>\n      <td>5</td>\n      <td>9</td>\n      <td>0</td>\n      <td>3</td>\n      <td>6</td>\n      <td>5</td>\n      <td>1</td>\n      <td>1</td>\n      <td>...</td>\n      <td>6</td>\n      <td>2</td>\n      <td>5</td>\n      <td>3</td>\n      <td>9</td>\n      <td>3</td>\n      <td>9</td>\n      <td>5</td>\n      <td>1</td>\n      <td>9</td>\n    </tr>\n    <tr>\n      <th>23</th>\n      <td>7</td>\n      <td>7</td>\n      <td>0</td>\n      <td>8</td>\n      <td>6</td>\n      <td>1</td>\n      <td>2</td>\n      <td>0</td>\n      <td>4</td>\n      <td>4</td>\n      <td>...</td>\n      <td>1</td>\n      <td>9</td>\n      <td>6</td>\n      <td>0</td>\n      <td>2</td>\n      <td>8</td>\n      <td>3</td>\n      <td>7</td>\n      <td>2</td>\n      <td>5</td>\n    </tr>\n    <tr>\n      <th>24</th>\n      <td>6</td>\n      <td>0</td>\n      <td>4</td>\n      <td>2</td>\n      <td>3</td>\n      <td>1</td>\n      <td>0</td>\n      <td>5</td>\n      <td>7</td>\n      <td>0</td>\n      <td>...</td>\n      <td>1</td>\n      <td>1</td>\n      <td>2</td>\n      <td>7</td>\n      <td>5</td>\n      <td>2</td>\n      <td>9</td>\n      <td>4</td>\n      <td>7</td>\n      <td>3</td>\n    </tr>\n    <tr>\n      <th>25</th>\n      <td>5</td>\n      <td>0</td>\n      <td>2</td>\n      <td>1</td>\n      <td>4</td>\n      <td>9</td>\n      <td>4</td>\n      <td>6</td>\n      <td>9</td>\n      <td>3</td>\n      <td>...</td>\n      <td>5</td>\n      <td>5</td>\n      <td>3</td>\n      <td>5</td>\n      <td>9</td>\n      <td>2</td>\n      <td>7</td>\n      <td>4</td>\n      <td>1</td>\n      <td>6</td>\n    </tr>\n    <tr>\n      <th>26</th>\n      <td>9</td>\n      <td>8</td>\n      <td>1</td>\n      <td>8</td>\n      <td>1</td>\n      <td>6</td>\n      <td>2</td>\n      <td>6</td>\n      <td>1</td>\n      <td>8</td>\n      <td>...</td>\n      <td>2</td>\n      <td>5</td>\n      <td>1</td>\n      <td>2</td>\n      <td>5</td>\n      <td>3</td>\n      <td>3</td>\n      <td>6</td>\n      <td>1</td>\n      <td>8</td>\n    </tr>\n    <tr>\n      <th>27</th>\n      <td>1</td>\n      <td>8</td>\n      <td>6</td>\n      <td>4</td>\n      <td>6</td>\n      <td>9</td>\n      <td>5</td>\n      <td>4</td>\n      <td>7</td>\n      <td>2</td>\n      <td>...</td>\n      <td>9</td>\n      <td>3</td>\n      <td>1</td>\n      <td>5</td>\n      <td>1</td>\n      <td>1</td>\n      <td>7</td>\n      <td>1</td>\n      <td>2</td>\n      <td>6</td>\n    </tr>\n    <tr>\n      <th>28</th>\n      <td>0</td>\n      <td>7</td>\n      <td>7</td>\n      <td>4</td>\n      <td>3</td>\n      <td>2</td>\n      <td>7</td>\n      <td>8</td>\n      <td>5</td>\n      <td>2</td>\n      <td>...</td>\n      <td>0</td>\n      <td>2</td>\n      <td>8</td>\n      <td>3</td>\n      <td>7</td>\n      <td>3</td>\n      <td>9</td>\n      <td>2</td>\n      <td>3</td>\n      <td>8</td>\n    </tr>\n    <tr>\n      <th>29</th>\n      <td>8</td>\n      <td>0</td>\n      <td>2</td>\n      <td>6</td>\n      <td>8</td>\n      <td>3</td>\n      <td>6</td>\n      <td>4</td>\n      <td>9</td>\n      <td>7</td>\n      <td>...</td>\n      <td>6</td>\n      <td>7</td>\n      <td>8</td>\n      <td>5</td>\n      <td>7</td>\n      <td>2</td>\n      <td>5</td>\n      <td>3</td>\n      <td>4</td>\n      <td>5</td>\n    </tr>\n  </tbody>\n</table>\n<p>30 rows × 30 columns</p>\n</div>"
     },
     "execution_count": 110,
     "metadata": {},
     "output_type": "execute_result"
    }
   ],
   "source": [
    "np.random.seed(1)\n",
    "y = pd.DataFrame(np.random.randint(10, size=(30, 30)))\n",
    "y"
   ]
  },
  {
   "cell_type": "code",
   "execution_count": 111,
   "metadata": {
    "ExecuteTime": {
     "end_time": "2024-11-05T08:57:37.878809900Z",
     "start_time": "2024-11-05T08:57:16.822661700Z"
    }
   },
   "outputs": [
    {
     "data": {
      "text/plain": "     0    1    2    3    4    5    6    7    8    9   ...   20   21   22   23  \\\n0   616  560  723  739  612  457  681  799  575  590  ...  523  739  613  580   \n1   520  438  691  600  612  455  666  764  707  592  ...  555  681  503  679   \n2   557  570  786  807  690  469  804  828  704  573  ...  563  675  712  758   \n3   605  507  664  701  660  496  698  806  651  575  ...  582  685  668  586   \n4   599  681  753  873  721  563  754  770  620  654  ...  633  747  661  677   \n5   422  354  602  627  613  396  617  627  489  423  ...  456  572  559  537   \n6   359  446  599  599  481  357  577  572  451  464  ...  449  550  495  532   \n7   531  520  698  590  607  537  665  696  571  472  ...  576  588  551  665   \n8   449  322  547  533  593  399  584  638  587  424  ...  402  596  523  523   \n9   373  433  525  601  522  345  551  521  434  447  ...  508  498  438  478   \n10  500  427  574  607  667  477  652  656  615  477  ...  622  702  531  610   \n11  664  694  772  841  779  574  730  810  711  608  ...  591  760  616  638   \n12  545  547  687  701  721  576  689  724  710  532  ...  674  684  648  694   \n13  574  586  723  750  691  494  696  787  667  523  ...  618  681  568  682   \n14  502  382  645  557  570  403  538  677  500  501  ...  369  650  507  576   \n15  510  505  736  651  649  510  719  733  694  557  ...  605  717  574  642   \n16  567  376  614  612  643  514  598  724  547  464  ...  456  639  520  560   \n17  626  716  828  765  740  603  809  852  692  591  ...  664  716  655  721   \n18  600  559  667  664  641  556  624  815  638  564  ...  581  701  559  677   \n19  445  431  661  681  641  552  690  719  602  474  ...  515  637  576  620   \n20  523  569  784  725  713  501  740  772  638  640  ...  589  775  664  686   \n21  487  465  553  639  517  449  592  609  454  398  ...  492  567  534  404   \n22  479  449  574  686  583  377  566  614  563  455  ...  453  539  491  501   \n23  483  386  476  526  550  426  492  585  536  482  ...  322  541  438  456   \n24  523  551  658  767  537  444  663  731  576  577  ...  522  590  525  664   \n25  652  656  738  753  853  508  752  815  669  576  ...  694  833  693  606   \n26  578  577  744  856  699  497  779  800  733  587  ...  630  754  704  834   \n27  554  494  665  689  630  574  695  703  636  599  ...  554  685  532  658   \n28  498  552  659  784  552  492  690  775  544  551  ...  567  636  518  599   \n29  513  491  563  642  477  367  589  647  516  484  ...  428  574  504  548   \n\n     24   25   26   27   28   29  \n0   668  602  733  585  657  700  \n1   641  506  779  494  633  590  \n2   793  672  754  550  756  638  \n3   629  534  678  484  591  626  \n4   726  649  716  610  735  706  \n5   499  384  589  436  574  507  \n6   633  554  663  476  565  602  \n7   652  527  742  528  650  599  \n8   447  362  561  386  529  484  \n9   459  418  488  407  503  496  \n10  558  532  598  471  582  561  \n11  721  676  846  678  754  708  \n12  710  564  757  571  671  656  \n13  715  644  756  557  690  604  \n14  546  531  554  437  616  463  \n15  678  576  755  455  598  654  \n16  569  442  596  517  659  532  \n17  742  612  819  593  744  712  \n18  710  554  748  597  614  657  \n19  572  512  599  455  622  538  \n20  726  672  747  548  723  645  \n21  554  417  561  466  498  492  \n22  596  520  722  478  565  501  \n23  487  408  502  426  474  481  \n24  691  548  635  526  641  538  \n25  575  616  704  559  728  672  \n26  760  680  765  592  731  629  \n27  649  554  693  577  634  668  \n28  742  521  733  533  605  604  \n29  553  483  540  407  547  455  \n\n[30 rows x 30 columns]",
      "text/html": "<div>\n<style scoped>\n    .dataframe tbody tr th:only-of-type {\n        vertical-align: middle;\n    }\n\n    .dataframe tbody tr th {\n        vertical-align: top;\n    }\n\n    .dataframe thead th {\n        text-align: right;\n    }\n</style>\n<table border=\"1\" class=\"dataframe\">\n  <thead>\n    <tr style=\"text-align: right;\">\n      <th></th>\n      <th>0</th>\n      <th>1</th>\n      <th>2</th>\n      <th>3</th>\n      <th>4</th>\n      <th>5</th>\n      <th>6</th>\n      <th>7</th>\n      <th>8</th>\n      <th>9</th>\n      <th>...</th>\n      <th>20</th>\n      <th>21</th>\n      <th>22</th>\n      <th>23</th>\n      <th>24</th>\n      <th>25</th>\n      <th>26</th>\n      <th>27</th>\n      <th>28</th>\n      <th>29</th>\n    </tr>\n  </thead>\n  <tbody>\n    <tr>\n      <th>0</th>\n      <td>616</td>\n      <td>560</td>\n      <td>723</td>\n      <td>739</td>\n      <td>612</td>\n      <td>457</td>\n      <td>681</td>\n      <td>799</td>\n      <td>575</td>\n      <td>590</td>\n      <td>...</td>\n      <td>523</td>\n      <td>739</td>\n      <td>613</td>\n      <td>580</td>\n      <td>668</td>\n      <td>602</td>\n      <td>733</td>\n      <td>585</td>\n      <td>657</td>\n      <td>700</td>\n    </tr>\n    <tr>\n      <th>1</th>\n      <td>520</td>\n      <td>438</td>\n      <td>691</td>\n      <td>600</td>\n      <td>612</td>\n      <td>455</td>\n      <td>666</td>\n      <td>764</td>\n      <td>707</td>\n      <td>592</td>\n      <td>...</td>\n      <td>555</td>\n      <td>681</td>\n      <td>503</td>\n      <td>679</td>\n      <td>641</td>\n      <td>506</td>\n      <td>779</td>\n      <td>494</td>\n      <td>633</td>\n      <td>590</td>\n    </tr>\n    <tr>\n      <th>2</th>\n      <td>557</td>\n      <td>570</td>\n      <td>786</td>\n      <td>807</td>\n      <td>690</td>\n      <td>469</td>\n      <td>804</td>\n      <td>828</td>\n      <td>704</td>\n      <td>573</td>\n      <td>...</td>\n      <td>563</td>\n      <td>675</td>\n      <td>712</td>\n      <td>758</td>\n      <td>793</td>\n      <td>672</td>\n      <td>754</td>\n      <td>550</td>\n      <td>756</td>\n      <td>638</td>\n    </tr>\n    <tr>\n      <th>3</th>\n      <td>605</td>\n      <td>507</td>\n      <td>664</td>\n      <td>701</td>\n      <td>660</td>\n      <td>496</td>\n      <td>698</td>\n      <td>806</td>\n      <td>651</td>\n      <td>575</td>\n      <td>...</td>\n      <td>582</td>\n      <td>685</td>\n      <td>668</td>\n      <td>586</td>\n      <td>629</td>\n      <td>534</td>\n      <td>678</td>\n      <td>484</td>\n      <td>591</td>\n      <td>626</td>\n    </tr>\n    <tr>\n      <th>4</th>\n      <td>599</td>\n      <td>681</td>\n      <td>753</td>\n      <td>873</td>\n      <td>721</td>\n      <td>563</td>\n      <td>754</td>\n      <td>770</td>\n      <td>620</td>\n      <td>654</td>\n      <td>...</td>\n      <td>633</td>\n      <td>747</td>\n      <td>661</td>\n      <td>677</td>\n      <td>726</td>\n      <td>649</td>\n      <td>716</td>\n      <td>610</td>\n      <td>735</td>\n      <td>706</td>\n    </tr>\n    <tr>\n      <th>5</th>\n      <td>422</td>\n      <td>354</td>\n      <td>602</td>\n      <td>627</td>\n      <td>613</td>\n      <td>396</td>\n      <td>617</td>\n      <td>627</td>\n      <td>489</td>\n      <td>423</td>\n      <td>...</td>\n      <td>456</td>\n      <td>572</td>\n      <td>559</td>\n      <td>537</td>\n      <td>499</td>\n      <td>384</td>\n      <td>589</td>\n      <td>436</td>\n      <td>574</td>\n      <td>507</td>\n    </tr>\n    <tr>\n      <th>6</th>\n      <td>359</td>\n      <td>446</td>\n      <td>599</td>\n      <td>599</td>\n      <td>481</td>\n      <td>357</td>\n      <td>577</td>\n      <td>572</td>\n      <td>451</td>\n      <td>464</td>\n      <td>...</td>\n      <td>449</td>\n      <td>550</td>\n      <td>495</td>\n      <td>532</td>\n      <td>633</td>\n      <td>554</td>\n      <td>663</td>\n      <td>476</td>\n      <td>565</td>\n      <td>602</td>\n    </tr>\n    <tr>\n      <th>7</th>\n      <td>531</td>\n      <td>520</td>\n      <td>698</td>\n      <td>590</td>\n      <td>607</td>\n      <td>537</td>\n      <td>665</td>\n      <td>696</td>\n      <td>571</td>\n      <td>472</td>\n      <td>...</td>\n      <td>576</td>\n      <td>588</td>\n      <td>551</td>\n      <td>665</td>\n      <td>652</td>\n      <td>527</td>\n      <td>742</td>\n      <td>528</td>\n      <td>650</td>\n      <td>599</td>\n    </tr>\n    <tr>\n      <th>8</th>\n      <td>449</td>\n      <td>322</td>\n      <td>547</td>\n      <td>533</td>\n      <td>593</td>\n      <td>399</td>\n      <td>584</td>\n      <td>638</td>\n      <td>587</td>\n      <td>424</td>\n      <td>...</td>\n      <td>402</td>\n      <td>596</td>\n      <td>523</td>\n      <td>523</td>\n      <td>447</td>\n      <td>362</td>\n      <td>561</td>\n      <td>386</td>\n      <td>529</td>\n      <td>484</td>\n    </tr>\n    <tr>\n      <th>9</th>\n      <td>373</td>\n      <td>433</td>\n      <td>525</td>\n      <td>601</td>\n      <td>522</td>\n      <td>345</td>\n      <td>551</td>\n      <td>521</td>\n      <td>434</td>\n      <td>447</td>\n      <td>...</td>\n      <td>508</td>\n      <td>498</td>\n      <td>438</td>\n      <td>478</td>\n      <td>459</td>\n      <td>418</td>\n      <td>488</td>\n      <td>407</td>\n      <td>503</td>\n      <td>496</td>\n    </tr>\n    <tr>\n      <th>10</th>\n      <td>500</td>\n      <td>427</td>\n      <td>574</td>\n      <td>607</td>\n      <td>667</td>\n      <td>477</td>\n      <td>652</td>\n      <td>656</td>\n      <td>615</td>\n      <td>477</td>\n      <td>...</td>\n      <td>622</td>\n      <td>702</td>\n      <td>531</td>\n      <td>610</td>\n      <td>558</td>\n      <td>532</td>\n      <td>598</td>\n      <td>471</td>\n      <td>582</td>\n      <td>561</td>\n    </tr>\n    <tr>\n      <th>11</th>\n      <td>664</td>\n      <td>694</td>\n      <td>772</td>\n      <td>841</td>\n      <td>779</td>\n      <td>574</td>\n      <td>730</td>\n      <td>810</td>\n      <td>711</td>\n      <td>608</td>\n      <td>...</td>\n      <td>591</td>\n      <td>760</td>\n      <td>616</td>\n      <td>638</td>\n      <td>721</td>\n      <td>676</td>\n      <td>846</td>\n      <td>678</td>\n      <td>754</td>\n      <td>708</td>\n    </tr>\n    <tr>\n      <th>12</th>\n      <td>545</td>\n      <td>547</td>\n      <td>687</td>\n      <td>701</td>\n      <td>721</td>\n      <td>576</td>\n      <td>689</td>\n      <td>724</td>\n      <td>710</td>\n      <td>532</td>\n      <td>...</td>\n      <td>674</td>\n      <td>684</td>\n      <td>648</td>\n      <td>694</td>\n      <td>710</td>\n      <td>564</td>\n      <td>757</td>\n      <td>571</td>\n      <td>671</td>\n      <td>656</td>\n    </tr>\n    <tr>\n      <th>13</th>\n      <td>574</td>\n      <td>586</td>\n      <td>723</td>\n      <td>750</td>\n      <td>691</td>\n      <td>494</td>\n      <td>696</td>\n      <td>787</td>\n      <td>667</td>\n      <td>523</td>\n      <td>...</td>\n      <td>618</td>\n      <td>681</td>\n      <td>568</td>\n      <td>682</td>\n      <td>715</td>\n      <td>644</td>\n      <td>756</td>\n      <td>557</td>\n      <td>690</td>\n      <td>604</td>\n    </tr>\n    <tr>\n      <th>14</th>\n      <td>502</td>\n      <td>382</td>\n      <td>645</td>\n      <td>557</td>\n      <td>570</td>\n      <td>403</td>\n      <td>538</td>\n      <td>677</td>\n      <td>500</td>\n      <td>501</td>\n      <td>...</td>\n      <td>369</td>\n      <td>650</td>\n      <td>507</td>\n      <td>576</td>\n      <td>546</td>\n      <td>531</td>\n      <td>554</td>\n      <td>437</td>\n      <td>616</td>\n      <td>463</td>\n    </tr>\n    <tr>\n      <th>15</th>\n      <td>510</td>\n      <td>505</td>\n      <td>736</td>\n      <td>651</td>\n      <td>649</td>\n      <td>510</td>\n      <td>719</td>\n      <td>733</td>\n      <td>694</td>\n      <td>557</td>\n      <td>...</td>\n      <td>605</td>\n      <td>717</td>\n      <td>574</td>\n      <td>642</td>\n      <td>678</td>\n      <td>576</td>\n      <td>755</td>\n      <td>455</td>\n      <td>598</td>\n      <td>654</td>\n    </tr>\n    <tr>\n      <th>16</th>\n      <td>567</td>\n      <td>376</td>\n      <td>614</td>\n      <td>612</td>\n      <td>643</td>\n      <td>514</td>\n      <td>598</td>\n      <td>724</td>\n      <td>547</td>\n      <td>464</td>\n      <td>...</td>\n      <td>456</td>\n      <td>639</td>\n      <td>520</td>\n      <td>560</td>\n      <td>569</td>\n      <td>442</td>\n      <td>596</td>\n      <td>517</td>\n      <td>659</td>\n      <td>532</td>\n    </tr>\n    <tr>\n      <th>17</th>\n      <td>626</td>\n      <td>716</td>\n      <td>828</td>\n      <td>765</td>\n      <td>740</td>\n      <td>603</td>\n      <td>809</td>\n      <td>852</td>\n      <td>692</td>\n      <td>591</td>\n      <td>...</td>\n      <td>664</td>\n      <td>716</td>\n      <td>655</td>\n      <td>721</td>\n      <td>742</td>\n      <td>612</td>\n      <td>819</td>\n      <td>593</td>\n      <td>744</td>\n      <td>712</td>\n    </tr>\n    <tr>\n      <th>18</th>\n      <td>600</td>\n      <td>559</td>\n      <td>667</td>\n      <td>664</td>\n      <td>641</td>\n      <td>556</td>\n      <td>624</td>\n      <td>815</td>\n      <td>638</td>\n      <td>564</td>\n      <td>...</td>\n      <td>581</td>\n      <td>701</td>\n      <td>559</td>\n      <td>677</td>\n      <td>710</td>\n      <td>554</td>\n      <td>748</td>\n      <td>597</td>\n      <td>614</td>\n      <td>657</td>\n    </tr>\n    <tr>\n      <th>19</th>\n      <td>445</td>\n      <td>431</td>\n      <td>661</td>\n      <td>681</td>\n      <td>641</td>\n      <td>552</td>\n      <td>690</td>\n      <td>719</td>\n      <td>602</td>\n      <td>474</td>\n      <td>...</td>\n      <td>515</td>\n      <td>637</td>\n      <td>576</td>\n      <td>620</td>\n      <td>572</td>\n      <td>512</td>\n      <td>599</td>\n      <td>455</td>\n      <td>622</td>\n      <td>538</td>\n    </tr>\n    <tr>\n      <th>20</th>\n      <td>523</td>\n      <td>569</td>\n      <td>784</td>\n      <td>725</td>\n      <td>713</td>\n      <td>501</td>\n      <td>740</td>\n      <td>772</td>\n      <td>638</td>\n      <td>640</td>\n      <td>...</td>\n      <td>589</td>\n      <td>775</td>\n      <td>664</td>\n      <td>686</td>\n      <td>726</td>\n      <td>672</td>\n      <td>747</td>\n      <td>548</td>\n      <td>723</td>\n      <td>645</td>\n    </tr>\n    <tr>\n      <th>21</th>\n      <td>487</td>\n      <td>465</td>\n      <td>553</td>\n      <td>639</td>\n      <td>517</td>\n      <td>449</td>\n      <td>592</td>\n      <td>609</td>\n      <td>454</td>\n      <td>398</td>\n      <td>...</td>\n      <td>492</td>\n      <td>567</td>\n      <td>534</td>\n      <td>404</td>\n      <td>554</td>\n      <td>417</td>\n      <td>561</td>\n      <td>466</td>\n      <td>498</td>\n      <td>492</td>\n    </tr>\n    <tr>\n      <th>22</th>\n      <td>479</td>\n      <td>449</td>\n      <td>574</td>\n      <td>686</td>\n      <td>583</td>\n      <td>377</td>\n      <td>566</td>\n      <td>614</td>\n      <td>563</td>\n      <td>455</td>\n      <td>...</td>\n      <td>453</td>\n      <td>539</td>\n      <td>491</td>\n      <td>501</td>\n      <td>596</td>\n      <td>520</td>\n      <td>722</td>\n      <td>478</td>\n      <td>565</td>\n      <td>501</td>\n    </tr>\n    <tr>\n      <th>23</th>\n      <td>483</td>\n      <td>386</td>\n      <td>476</td>\n      <td>526</td>\n      <td>550</td>\n      <td>426</td>\n      <td>492</td>\n      <td>585</td>\n      <td>536</td>\n      <td>482</td>\n      <td>...</td>\n      <td>322</td>\n      <td>541</td>\n      <td>438</td>\n      <td>456</td>\n      <td>487</td>\n      <td>408</td>\n      <td>502</td>\n      <td>426</td>\n      <td>474</td>\n      <td>481</td>\n    </tr>\n    <tr>\n      <th>24</th>\n      <td>523</td>\n      <td>551</td>\n      <td>658</td>\n      <td>767</td>\n      <td>537</td>\n      <td>444</td>\n      <td>663</td>\n      <td>731</td>\n      <td>576</td>\n      <td>577</td>\n      <td>...</td>\n      <td>522</td>\n      <td>590</td>\n      <td>525</td>\n      <td>664</td>\n      <td>691</td>\n      <td>548</td>\n      <td>635</td>\n      <td>526</td>\n      <td>641</td>\n      <td>538</td>\n    </tr>\n    <tr>\n      <th>25</th>\n      <td>652</td>\n      <td>656</td>\n      <td>738</td>\n      <td>753</td>\n      <td>853</td>\n      <td>508</td>\n      <td>752</td>\n      <td>815</td>\n      <td>669</td>\n      <td>576</td>\n      <td>...</td>\n      <td>694</td>\n      <td>833</td>\n      <td>693</td>\n      <td>606</td>\n      <td>575</td>\n      <td>616</td>\n      <td>704</td>\n      <td>559</td>\n      <td>728</td>\n      <td>672</td>\n    </tr>\n    <tr>\n      <th>26</th>\n      <td>578</td>\n      <td>577</td>\n      <td>744</td>\n      <td>856</td>\n      <td>699</td>\n      <td>497</td>\n      <td>779</td>\n      <td>800</td>\n      <td>733</td>\n      <td>587</td>\n      <td>...</td>\n      <td>630</td>\n      <td>754</td>\n      <td>704</td>\n      <td>834</td>\n      <td>760</td>\n      <td>680</td>\n      <td>765</td>\n      <td>592</td>\n      <td>731</td>\n      <td>629</td>\n    </tr>\n    <tr>\n      <th>27</th>\n      <td>554</td>\n      <td>494</td>\n      <td>665</td>\n      <td>689</td>\n      <td>630</td>\n      <td>574</td>\n      <td>695</td>\n      <td>703</td>\n      <td>636</td>\n      <td>599</td>\n      <td>...</td>\n      <td>554</td>\n      <td>685</td>\n      <td>532</td>\n      <td>658</td>\n      <td>649</td>\n      <td>554</td>\n      <td>693</td>\n      <td>577</td>\n      <td>634</td>\n      <td>668</td>\n    </tr>\n    <tr>\n      <th>28</th>\n      <td>498</td>\n      <td>552</td>\n      <td>659</td>\n      <td>784</td>\n      <td>552</td>\n      <td>492</td>\n      <td>690</td>\n      <td>775</td>\n      <td>544</td>\n      <td>551</td>\n      <td>...</td>\n      <td>567</td>\n      <td>636</td>\n      <td>518</td>\n      <td>599</td>\n      <td>742</td>\n      <td>521</td>\n      <td>733</td>\n      <td>533</td>\n      <td>605</td>\n      <td>604</td>\n    </tr>\n    <tr>\n      <th>29</th>\n      <td>513</td>\n      <td>491</td>\n      <td>563</td>\n      <td>642</td>\n      <td>477</td>\n      <td>367</td>\n      <td>589</td>\n      <td>647</td>\n      <td>516</td>\n      <td>484</td>\n      <td>...</td>\n      <td>428</td>\n      <td>574</td>\n      <td>504</td>\n      <td>548</td>\n      <td>553</td>\n      <td>483</td>\n      <td>540</td>\n      <td>407</td>\n      <td>547</td>\n      <td>455</td>\n    </tr>\n  </tbody>\n</table>\n<p>30 rows × 30 columns</p>\n</div>"
     },
     "execution_count": 111,
     "metadata": {},
     "output_type": "execute_result"
    }
   ],
   "source": [
    "x.dot(y)"
   ]
  },
  {
   "cell_type": "code",
   "execution_count": 112,
   "metadata": {
    "scrolled": true,
    "ExecuteTime": {
     "end_time": "2024-11-05T08:57:42.265819200Z",
     "start_time": "2024-11-05T08:57:16.852582200Z"
    }
   },
   "outputs": [
    {
     "name": "stdout",
     "output_type": "stream",
     "text": [
      "248 µs ± 18.2 µs per loop (mean ± std. dev. of 7 runs, 1,000 loops each)\n"
     ]
    }
   ],
   "source": [
    "%timeit x.dot(y)"
   ]
  },
  {
   "cell_type": "code",
   "execution_count": 113,
   "metadata": {
    "scrolled": true,
    "ExecuteTime": {
     "end_time": "2024-11-05T08:57:43.312059400Z",
     "start_time": "2024-11-05T08:57:18.859591900Z"
    }
   },
   "outputs": [
    {
     "name": "stdout",
     "output_type": "stream",
     "text": [
      "63.7 µs ± 3.77 µs per loop (mean ± std. dev. of 7 runs, 10,000 loops each)\n"
     ]
    }
   ],
   "source": [
    "%timeit np.dot(x, y)"
   ]
  },
  {
   "cell_type": "markdown",
   "metadata": {},
   "source": [
    "2. 执行相同运算，Numpy与Pandas的对比"
   ]
  },
  {
   "cell_type": "code",
   "execution_count": 114,
   "metadata": {
    "ExecuteTime": {
     "end_time": "2024-11-05T08:57:43.312567400Z",
     "start_time": "2024-11-05T08:57:24.057571500Z"
    }
   },
   "outputs": [
    {
     "data": {
      "text/plain": "array([[6, 3, 7, 4, 6, 9, 2, 6, 7, 4, 3, 7, 7, 2, 5, 4, 1, 7, 5, 1, 4, 0,\n        9, 5, 8, 0, 9, 2, 6, 3],\n       [8, 2, 4, 2, 6, 4, 8, 6, 1, 3, 8, 1, 9, 8, 9, 4, 1, 3, 6, 7, 2, 0,\n        3, 1, 7, 3, 1, 5, 5, 9],\n       [3, 5, 1, 9, 1, 9, 3, 7, 6, 8, 7, 4, 1, 4, 7, 9, 8, 8, 0, 8, 6, 8,\n        7, 0, 7, 7, 2, 0, 7, 2],\n       [2, 0, 4, 9, 6, 9, 8, 6, 8, 7, 1, 0, 6, 6, 7, 4, 2, 7, 5, 2, 0, 2,\n        4, 2, 0, 4, 9, 6, 6, 8],\n       [9, 9, 2, 6, 0, 3, 3, 4, 6, 6, 3, 6, 2, 5, 1, 9, 8, 4, 5, 3, 9, 6,\n        8, 6, 0, 0, 8, 8, 3, 8],\n       [2, 6, 5, 7, 8, 4, 0, 2, 9, 7, 5, 7, 8, 3, 0, 0, 9, 3, 6, 1, 2, 0,\n        4, 0, 7, 0, 0, 1, 1, 5],\n       [6, 4, 0, 0, 2, 1, 4, 9, 5, 6, 3, 6, 7, 0, 5, 7, 4, 3, 1, 5, 5, 0,\n        8, 5, 2, 3, 3, 2, 9, 2],\n       [2, 3, 6, 3, 8, 0, 7, 6, 1, 7, 0, 8, 8, 1, 6, 9, 2, 6, 9, 8, 3, 0,\n        1, 0, 4, 4, 6, 8, 8, 2],\n       [2, 2, 3, 7, 5, 7, 0, 7, 3, 0, 7, 3, 5, 7, 3, 2, 8, 2, 8, 1, 1, 1,\n        5, 2, 8, 3, 0, 3, 0, 4],\n       [3, 7, 7, 6, 2, 0, 0, 2, 5, 6, 5, 5, 5, 2, 5, 7, 1, 4, 0, 0, 4, 2,\n        3, 2, 0, 0, 4, 5, 2, 8],\n       [4, 7, 0, 4, 2, 0, 3, 4, 6, 0, 2, 1, 8, 9, 5, 9, 2, 7, 7, 1, 5, 6,\n        1, 9, 1, 9, 0, 7, 0, 8],\n       [5, 6, 9, 6, 9, 2, 1, 8, 7, 9, 6, 8, 3, 3, 0, 7, 2, 6, 1, 1, 6, 5,\n        2, 8, 9, 5, 9, 9, 5, 0],\n       [3, 9, 5, 5, 4, 0, 7, 4, 4, 6, 3, 5, 3, 2, 6, 7, 3, 1, 9, 2, 0, 7,\n        2, 9, 6, 9, 4, 9, 4, 6],\n       [8, 4, 0, 9, 9, 0, 1, 5, 8, 7, 4, 0, 6, 4, 5, 6, 2, 9, 2, 4, 5, 8,\n        4, 0, 3, 4, 9, 9, 4, 6],\n       [3, 0, 4, 6, 9, 9, 5, 4, 3, 1, 3, 9, 9, 2, 9, 0, 7, 4, 3, 7, 6, 1,\n        0, 3, 7, 1, 2, 0, 0, 2],\n       [4, 2, 0, 0, 7, 9, 1, 2, 1, 2, 6, 0, 9, 7, 9, 9, 9, 1, 2, 8, 6, 3,\n        9, 4, 1, 7, 3, 8, 4, 8],\n       [3, 9, 4, 8, 7, 2, 0, 2, 3, 1, 0, 6, 7, 6, 4, 0, 6, 6, 8, 2, 8, 0,\n        0, 3, 8, 5, 2, 0, 3, 8],\n       [2, 8, 6, 3, 2, 9, 4, 4, 2, 8, 3, 4, 3, 4, 6, 8, 6, 4, 9, 9, 6, 9,\n        4, 2, 6, 1, 8, 9, 9, 0],\n       [5, 6, 7, 9, 8, 1, 9, 1, 4, 4, 5, 2, 7, 0, 5, 3, 0, 6, 8, 3, 3, 5,\n        2, 5, 6, 9, 9, 2, 6, 2],\n       [1, 9, 3, 7, 8, 6, 0, 2, 8, 0, 8, 7, 0, 5, 4, 5, 9, 4, 5, 4, 4, 3,\n        2, 2, 3, 8, 1, 8, 0, 0],\n       [4, 5, 5, 2, 6, 8, 9, 7, 5, 7, 4, 7, 9, 3, 9, 7, 9, 1, 4, 8, 3, 5,\n        0, 8, 0, 4, 3, 2, 5, 1],\n       [2, 4, 8, 1, 9, 7, 1, 4, 6, 7, 0, 5, 0, 1, 0, 4, 9, 8, 5, 0, 0, 1,\n        8, 2, 0, 4, 6, 5, 0, 4],\n       [4, 5, 2, 4, 6, 4, 4, 4, 9, 9, 2, 0, 4, 8, 0, 2, 3, 0, 0, 7, 1, 7,\n        6, 9, 9, 1, 5, 5, 2, 1],\n       [0, 5, 4, 8, 0, 6, 4, 4, 1, 2, 6, 5, 1, 5, 1, 1, 1, 2, 1, 3, 8, 5,\n        0, 7, 6, 9, 2, 0, 4, 3],\n       [9, 7, 0, 9, 0, 3, 7, 4, 1, 5, 4, 1, 2, 8, 6, 6, 5, 7, 3, 7, 3, 7,\n        8, 2, 2, 1, 9, 2, 2, 4],\n       [4, 1, 9, 5, 4, 5, 0, 4, 8, 9, 1, 0, 9, 8, 9, 8, 8, 5, 7, 0, 9, 3,\n        0, 7, 0, 2, 3, 7, 5, 9],\n       [6, 7, 1, 9, 7, 2, 6, 2, 6, 1, 9, 5, 2, 2, 8, 6, 4, 9, 6, 8, 0, 6,\n        5, 9, 8, 0, 3, 8, 3, 9],\n       [2, 8, 1, 3, 5, 1, 7, 7, 0, 2, 9, 8, 4, 5, 3, 9, 1, 7, 5, 4, 8, 0,\n        4, 5, 4, 5, 5, 6, 3, 7],\n       [6, 8, 6, 2, 2, 7, 4, 3, 7, 5, 1, 3, 3, 5, 5, 0, 7, 5, 2, 8, 1, 7,\n        9, 2, 4, 5, 9, 5, 3, 2],\n       [3, 0, 3, 0, 0, 9, 5, 4, 3, 2, 0, 5, 1, 7, 9, 4, 6, 9, 1, 7, 1, 3,\n        0, 4, 8, 0, 8, 7, 5, 6]])"
     },
     "execution_count": 114,
     "metadata": {},
     "output_type": "execute_result"
    }
   ],
   "source": [
    "x1 = np.array(x)\n",
    "x1"
   ]
  },
  {
   "cell_type": "code",
   "execution_count": 115,
   "metadata": {
    "ExecuteTime": {
     "end_time": "2024-11-05T08:57:43.312567400Z",
     "start_time": "2024-11-05T08:57:24.073808300Z"
    }
   },
   "outputs": [
    {
     "data": {
      "text/plain": "array([[5, 8, 9, 5, 0, 0, 1, 7, 6, 9, 2, 4, 5, 2, 4, 2, 4, 7, 7, 9, 1, 7,\n        0, 6, 9, 9, 7, 6, 9, 1],\n       [0, 1, 8, 8, 3, 9, 8, 7, 3, 6, 5, 1, 9, 3, 4, 8, 1, 4, 0, 3, 9, 2,\n        0, 4, 9, 2, 7, 7, 9, 8],\n       [6, 9, 3, 7, 7, 4, 5, 9, 3, 6, 8, 0, 2, 7, 7, 9, 7, 3, 0, 8, 7, 7,\n        1, 1, 3, 0, 8, 6, 4, 5],\n       [6, 2, 5, 7, 8, 4, 4, 7, 7, 4, 9, 0, 2, 0, 7, 1, 7, 9, 8, 4, 0, 1,\n        9, 8, 2, 3, 1, 2, 7, 2],\n       [6, 0, 9, 2, 6, 6, 2, 7, 7, 0, 6, 5, 1, 4, 6, 0, 6, 5, 1, 2, 1, 5,\n        4, 0, 7, 8, 9, 5, 7, 0],\n       [9, 3, 9, 1, 4, 4, 6, 8, 8, 9, 2, 7, 5, 5, 4, 5, 8, 5, 8, 1, 1, 8,\n        7, 0, 3, 4, 2, 0, 3, 5],\n       [1, 2, 4, 3, 0, 6, 0, 7, 2, 8, 3, 0, 8, 4, 2, 9, 0, 3, 8, 1, 4, 3,\n        3, 6, 7, 3, 5, 3, 2, 4],\n       [4, 0, 3, 3, 8, 3, 5, 6, 7, 5, 1, 7, 0, 2, 8, 2, 1, 4, 0, 4, 1, 7,\n        3, 1, 6, 6, 9, 6, 9, 6],\n       [0, 0, 2, 9, 6, 0, 6, 7, 0, 3, 9, 0, 3, 4, 7, 5, 3, 8, 8, 0, 6, 7,\n        9, 5, 4, 9, 5, 2, 5, 6],\n       [6, 8, 7, 7, 7, 2, 6, 0, 5, 2, 1, 8, 5, 9, 4, 9, 1, 2, 0, 4, 7, 0,\n        6, 2, 4, 3, 6, 7, 6, 3],\n       [0, 6, 4, 7, 6, 2, 9, 5, 9, 9, 9, 8, 6, 4, 2, 9, 4, 0, 0, 3, 4, 9,\n        3, 9, 1, 2, 5, 4, 0, 8],\n       [2, 3, 9, 9, 4, 4, 8, 2, 1, 6, 3, 8, 9, 7, 0, 5, 2, 2, 8, 5, 0, 5,\n        9, 8, 6, 6, 0, 4, 7, 3],\n       [0, 1, 6, 0, 6, 1, 6, 4, 2, 5, 4, 6, 2, 9, 2, 7, 5, 0, 7, 8, 8, 8,\n        0, 7, 2, 0, 7, 1, 1, 9],\n       [5, 1, 5, 9, 6, 4, 9, 8, 7, 5, 1, 8, 0, 5, 3, 9, 0, 4, 8, 6, 2, 4,\n        3, 2, 0, 0, 4, 2, 5, 0],\n       [0, 3, 8, 5, 3, 1, 4, 7, 3, 2, 2, 2, 6, 6, 0, 1, 5, 6, 5, 8, 8, 5,\n        5, 7, 5, 9, 1, 3, 9, 3],\n       [3, 3, 6, 1, 3, 0, 5, 0, 5, 2, 7, 6, 4, 0, 2, 4, 8, 7, 6, 7, 7, 1,\n        7, 7, 3, 8, 3, 0, 6, 3],\n       [0, 6, 5, 9, 6, 4, 6, 6, 2, 2, 4, 1, 2, 3, 9, 3, 6, 7, 0, 3, 3, 6,\n        8, 6, 5, 1, 3, 2, 6, 3],\n       [6, 7, 2, 8, 0, 1, 8, 6, 0, 0, 1, 2, 7, 7, 4, 4, 0, 1, 0, 8, 5, 6,\n        2, 5, 4, 3, 0, 6, 2, 1],\n       [9, 4, 4, 0, 9, 8, 7, 7, 6, 1, 7, 2, 4, 5, 6, 7, 2, 0, 5, 2, 7, 9,\n        9, 7, 1, 1, 4, 6, 5, 6],\n       [4, 1, 1, 5, 1, 2, 6, 2, 3, 3, 2, 3, 0, 0, 1, 5, 0, 5, 8, 8, 0, 0,\n        0, 9, 8, 5, 9, 3, 4, 0],\n       [9, 8, 6, 3, 9, 9, 0, 8, 1, 6, 6, 1, 3, 7, 3, 2, 3, 0, 2, 8, 2, 9,\n        0, 1, 3, 9, 4, 8, 8, 8],\n       [2, 8, 6, 4, 9, 0, 5, 5, 6, 1, 7, 6, 5, 7, 1, 9, 7, 5, 6, 7, 6, 7,\n        5, 6, 8, 7, 4, 2, 4, 0],\n       [0, 3, 5, 9, 0, 3, 6, 5, 1, 1, 8, 4, 7, 0, 1, 7, 1, 5, 4, 5, 6, 2,\n        5, 3, 9, 3, 9, 5, 1, 9],\n       [7, 7, 0, 8, 6, 1, 2, 0, 4, 4, 6, 1, 0, 9, 4, 9, 3, 0, 5, 1, 1, 9,\n        6, 0, 2, 8, 3, 7, 2, 5],\n       [6, 0, 4, 2, 3, 1, 0, 5, 7, 0, 2, 2, 0, 9, 5, 1, 1, 6, 3, 2, 1, 1,\n        2, 7, 5, 2, 9, 4, 7, 3],\n       [5, 0, 2, 1, 4, 9, 4, 6, 9, 3, 8, 8, 7, 1, 8, 7, 8, 9, 2, 2, 5, 5,\n        3, 5, 9, 2, 7, 4, 1, 6],\n       [9, 8, 1, 8, 1, 6, 2, 6, 1, 8, 3, 7, 0, 7, 0, 0, 7, 3, 9, 5, 2, 5,\n        1, 2, 5, 3, 3, 6, 1, 8],\n       [1, 8, 6, 4, 6, 9, 5, 4, 7, 2, 0, 2, 0, 5, 9, 4, 1, 4, 5, 2, 9, 3,\n        1, 5, 1, 1, 7, 1, 2, 6],\n       [0, 7, 7, 4, 3, 2, 7, 8, 5, 2, 4, 9, 2, 2, 3, 5, 9, 6, 4, 9, 0, 2,\n        8, 3, 7, 3, 9, 2, 3, 8],\n       [8, 0, 2, 6, 8, 3, 6, 4, 9, 7, 6, 3, 2, 9, 1, 5, 5, 6, 9, 4, 6, 7,\n        8, 5, 7, 2, 5, 3, 4, 5]])"
     },
     "execution_count": 115,
     "metadata": {},
     "output_type": "execute_result"
    }
   ],
   "source": [
    "y1 = np.array(y)\n",
    "y1"
   ]
  },
  {
   "cell_type": "code",
   "execution_count": 116,
   "metadata": {
    "scrolled": true,
    "ExecuteTime": {
     "end_time": "2024-11-05T08:57:47.933062100Z",
     "start_time": "2024-11-05T08:57:24.089030600Z"
    }
   },
   "outputs": [
    {
     "name": "stdout",
     "output_type": "stream",
     "text": [
      "17.8 µs ± 798 ns per loop (mean ± std. dev. of 7 runs, 100,000 loops each)\n"
     ]
    }
   ],
   "source": [
    "%timeit x1.dot(y1)"
   ]
  },
  {
   "cell_type": "code",
   "execution_count": 117,
   "metadata": {
    "ExecuteTime": {
     "end_time": "2024-11-05T08:57:53.514836100Z",
     "start_time": "2024-11-05T08:57:38.355794200Z"
    }
   },
   "outputs": [
    {
     "name": "stdout",
     "output_type": "stream",
     "text": [
      "15.9 µs ± 394 ns per loop (mean ± std. dev. of 7 runs, 100,000 loops each)\n"
     ]
    }
   ],
   "source": [
    "%timeit np.dot(x1, y1)"
   ]
  },
  {
   "cell_type": "code",
   "execution_count": 118,
   "metadata": {
    "ExecuteTime": {
     "end_time": "2024-11-05T08:57:53.532623800Z",
     "start_time": "2024-11-05T08:57:51.236431200Z"
    }
   },
   "outputs": [
    {
     "name": "stdout",
     "output_type": "stream",
     "text": [
      "21.7 µs ± 694 ns per loop (mean ± std. dev. of 7 runs, 10,000 loops each)\n"
     ]
    }
   ],
   "source": [
    "%timeit np.dot(x.values, y.values)"
   ]
  },
  {
   "cell_type": "code",
   "execution_count": 119,
   "metadata": {
    "ExecuteTime": {
     "end_time": "2024-11-05T08:57:53.533856200Z",
     "start_time": "2024-11-05T08:57:53.004779300Z"
    }
   },
   "outputs": [],
   "source": [
    "x2 = list(x1)\n",
    "y2 = list(y1)\n",
    "x3 = []\n",
    "y3 = []\n",
    "for i in x2:\n",
    "    res = []\n",
    "    for j in i:\n",
    "        res.append(int(j))\n",
    "    x3.append(res)\n",
    "for i in y2:\n",
    "    res = []\n",
    "    for j in i:\n",
    "        res.append(int(j))\n",
    "    y3.append(res)"
   ]
  },
  {
   "cell_type": "code",
   "execution_count": 120,
   "metadata": {
    "ExecuteTime": {
     "end_time": "2024-11-05T08:57:53.533856200Z",
     "start_time": "2024-11-05T08:57:53.021335200Z"
    }
   },
   "outputs": [],
   "source": [
    "def f(x, y):\n",
    "    res = []\n",
    "    for i in range(len(x)):\n",
    "        row = []\n",
    "        for j in range(len(y[0])):\n",
    "            sum_row = 0\n",
    "            for k in range(len(x[0])):\n",
    "                sum_row += x[i][k] * y[k][j]\n",
    "            row.append(sum_row)\n",
    "        res.append(row)\n",
    "    return res"
   ]
  },
  {
   "cell_type": "code",
   "execution_count": 121,
   "metadata": {
    "ExecuteTime": {
     "end_time": "2024-11-05T08:57:57.468317Z",
     "start_time": "2024-11-05T08:57:53.035550800Z"
    }
   },
   "outputs": [
    {
     "name": "stdout",
     "output_type": "stream",
     "text": [
      "5.38 ms ± 1.51 ms per loop (mean ± std. dev. of 7 runs, 100 loops each)\n"
     ]
    }
   ],
   "source": [
    "%timeit f(x3, y3)"
   ]
  },
  {
   "cell_type": "markdown",
   "metadata": {},
   "source": [
    "需要注意的是，一般来说，纯粹的计算在Numpy里执行的更快。因此在实践中我们使用Numpy更侧重于计算，Pandas更侧重于数据处理"
   ]
  },
  {
   "cell_type": "markdown",
   "metadata": {},
   "source": [
    "##### 3.2.3 广播运算"
   ]
  },
  {
   "cell_type": "code",
   "execution_count": 122,
   "metadata": {
    "ExecuteTime": {
     "end_time": "2024-11-05T08:57:57.571503200Z",
     "start_time": "2024-11-05T08:57:57.467317200Z"
    }
   },
   "outputs": [
    {
     "data": {
      "text/plain": "   A  B  C\n0  6  3  7\n1  4  6  9\n2  2  6  7",
      "text/html": "<div>\n<style scoped>\n    .dataframe tbody tr th:only-of-type {\n        vertical-align: middle;\n    }\n\n    .dataframe tbody tr th {\n        vertical-align: top;\n    }\n\n    .dataframe thead th {\n        text-align: right;\n    }\n</style>\n<table border=\"1\" class=\"dataframe\">\n  <thead>\n    <tr style=\"text-align: right;\">\n      <th></th>\n      <th>A</th>\n      <th>B</th>\n      <th>C</th>\n    </tr>\n  </thead>\n  <tbody>\n    <tr>\n      <th>0</th>\n      <td>6</td>\n      <td>3</td>\n      <td>7</td>\n    </tr>\n    <tr>\n      <th>1</th>\n      <td>4</td>\n      <td>6</td>\n      <td>9</td>\n    </tr>\n    <tr>\n      <th>2</th>\n      <td>2</td>\n      <td>6</td>\n      <td>7</td>\n    </tr>\n  </tbody>\n</table>\n</div>"
     },
     "execution_count": 122,
     "metadata": {},
     "output_type": "execute_result"
    }
   ],
   "source": [
    "np.random.seed(42)\n",
    "x = pd.DataFrame(np.random.randint(10, size=(3, 3)), columns=list(\"ABC\"))\n",
    "x"
   ]
  },
  {
   "cell_type": "markdown",
   "metadata": {},
   "source": [
    "1. 按行广播"
   ]
  },
  {
   "cell_type": "code",
   "execution_count": 123,
   "metadata": {
    "ExecuteTime": {
     "end_time": "2024-11-05T08:57:57.610741100Z",
     "start_time": "2024-11-05T08:57:57.483825500Z"
    }
   },
   "outputs": [
    {
     "data": {
      "text/plain": "A    6\nB    3\nC    7\nName: 0, dtype: int32"
     },
     "execution_count": 123,
     "metadata": {},
     "output_type": "execute_result"
    }
   ],
   "source": [
    "x.iloc[0]"
   ]
  },
  {
   "cell_type": "code",
   "execution_count": 124,
   "metadata": {
    "scrolled": false,
    "ExecuteTime": {
     "end_time": "2024-11-05T08:57:57.612255700Z",
     "start_time": "2024-11-05T08:57:57.497562Z"
    }
   },
   "outputs": [
    {
     "data": {
      "text/plain": "          A    B         C\n0  1.000000  1.0  1.000000\n1  0.666667  2.0  1.285714\n2  0.333333  2.0  1.000000",
      "text/html": "<div>\n<style scoped>\n    .dataframe tbody tr th:only-of-type {\n        vertical-align: middle;\n    }\n\n    .dataframe tbody tr th {\n        vertical-align: top;\n    }\n\n    .dataframe thead th {\n        text-align: right;\n    }\n</style>\n<table border=\"1\" class=\"dataframe\">\n  <thead>\n    <tr style=\"text-align: right;\">\n      <th></th>\n      <th>A</th>\n      <th>B</th>\n      <th>C</th>\n    </tr>\n  </thead>\n  <tbody>\n    <tr>\n      <th>0</th>\n      <td>1.000000</td>\n      <td>1.0</td>\n      <td>1.000000</td>\n    </tr>\n    <tr>\n      <th>1</th>\n      <td>0.666667</td>\n      <td>2.0</td>\n      <td>1.285714</td>\n    </tr>\n    <tr>\n      <th>2</th>\n      <td>0.333333</td>\n      <td>2.0</td>\n      <td>1.000000</td>\n    </tr>\n  </tbody>\n</table>\n</div>"
     },
     "execution_count": 124,
     "metadata": {},
     "output_type": "execute_result"
    }
   ],
   "source": [
    "x / x.iloc[0]"
   ]
  },
  {
   "cell_type": "markdown",
   "metadata": {},
   "source": [
    "2. 按列广播"
   ]
  },
  {
   "cell_type": "code",
   "execution_count": 125,
   "metadata": {
    "scrolled": true,
    "ExecuteTime": {
     "end_time": "2024-11-05T08:57:57.648858700Z",
     "start_time": "2024-11-05T08:57:57.515611700Z"
    }
   },
   "outputs": [
    {
     "data": {
      "text/plain": "0    6\n1    4\n2    2\nName: A, dtype: int32"
     },
     "execution_count": 125,
     "metadata": {},
     "output_type": "execute_result"
    }
   ],
   "source": [
    "x.A"
   ]
  },
  {
   "cell_type": "code",
   "execution_count": 126,
   "metadata": {
    "scrolled": true,
    "ExecuteTime": {
     "end_time": "2024-11-05T08:57:57.675241900Z",
     "start_time": "2024-11-05T08:57:57.528740500Z"
    }
   },
   "outputs": [
    {
     "data": {
      "text/plain": "     A    B         C\n0  1.0  0.5  1.166667\n1  1.0  1.5  2.250000\n2  1.0  3.0  3.500000",
      "text/html": "<div>\n<style scoped>\n    .dataframe tbody tr th:only-of-type {\n        vertical-align: middle;\n    }\n\n    .dataframe tbody tr th {\n        vertical-align: top;\n    }\n\n    .dataframe thead th {\n        text-align: right;\n    }\n</style>\n<table border=\"1\" class=\"dataframe\">\n  <thead>\n    <tr style=\"text-align: right;\">\n      <th></th>\n      <th>A</th>\n      <th>B</th>\n      <th>C</th>\n    </tr>\n  </thead>\n  <tbody>\n    <tr>\n      <th>0</th>\n      <td>1.0</td>\n      <td>0.5</td>\n      <td>1.166667</td>\n    </tr>\n    <tr>\n      <th>1</th>\n      <td>1.0</td>\n      <td>1.5</td>\n      <td>2.250000</td>\n    </tr>\n    <tr>\n      <th>2</th>\n      <td>1.0</td>\n      <td>3.0</td>\n      <td>3.500000</td>\n    </tr>\n  </tbody>\n</table>\n</div>"
     },
     "execution_count": 126,
     "metadata": {},
     "output_type": "execute_result"
    }
   ],
   "source": [
    "x.div(x.A, axis=0)  # add sub div mul"
   ]
  },
  {
   "cell_type": "code",
   "execution_count": 127,
   "metadata": {
    "scrolled": false,
    "ExecuteTime": {
     "end_time": "2024-11-05T08:57:57.676242200Z",
     "start_time": "2024-11-05T08:57:57.544094800Z"
    }
   },
   "outputs": [
    {
     "data": {
      "text/plain": "          A    B         C\n0  1.000000  1.0  1.000000\n1  0.666667  2.0  1.285714\n2  0.333333  2.0  1.000000",
      "text/html": "<div>\n<style scoped>\n    .dataframe tbody tr th:only-of-type {\n        vertical-align: middle;\n    }\n\n    .dataframe tbody tr th {\n        vertical-align: top;\n    }\n\n    .dataframe thead th {\n        text-align: right;\n    }\n</style>\n<table border=\"1\" class=\"dataframe\">\n  <thead>\n    <tr style=\"text-align: right;\">\n      <th></th>\n      <th>A</th>\n      <th>B</th>\n      <th>C</th>\n    </tr>\n  </thead>\n  <tbody>\n    <tr>\n      <th>0</th>\n      <td>1.000000</td>\n      <td>1.0</td>\n      <td>1.000000</td>\n    </tr>\n    <tr>\n      <th>1</th>\n      <td>0.666667</td>\n      <td>2.0</td>\n      <td>1.285714</td>\n    </tr>\n    <tr>\n      <th>2</th>\n      <td>0.333333</td>\n      <td>2.0</td>\n      <td>1.000000</td>\n    </tr>\n  </tbody>\n</table>\n</div>"
     },
     "execution_count": 127,
     "metadata": {},
     "output_type": "execute_result"
    }
   ],
   "source": [
    "x.div(x.iloc[0], axis=1)"
   ]
  },
  {
   "cell_type": "markdown",
   "metadata": {},
   "source": [
    "#### 3.3 更多的高级用法"
   ]
  },
  {
   "cell_type": "markdown",
   "metadata": {},
   "source": [
    "##### 3.3.1 索引对齐"
   ]
  },
  {
   "cell_type": "code",
   "execution_count": 128,
   "metadata": {
    "ExecuteTime": {
     "end_time": "2024-11-05T08:57:57.740587700Z",
     "start_time": "2024-11-05T08:57:57.560116100Z"
    }
   },
   "outputs": [
    {
     "data": {
      "text/plain": "   A  B\n0  3  7\n1  2  1",
      "text/html": "<div>\n<style scoped>\n    .dataframe tbody tr th:only-of-type {\n        vertical-align: middle;\n    }\n\n    .dataframe tbody tr th {\n        vertical-align: top;\n    }\n\n    .dataframe thead th {\n        text-align: right;\n    }\n</style>\n<table border=\"1\" class=\"dataframe\">\n  <thead>\n    <tr style=\"text-align: right;\">\n      <th></th>\n      <th>A</th>\n      <th>B</th>\n    </tr>\n  </thead>\n  <tbody>\n    <tr>\n      <th>0</th>\n      <td>3</td>\n      <td>7</td>\n    </tr>\n    <tr>\n      <th>1</th>\n      <td>2</td>\n      <td>1</td>\n    </tr>\n  </tbody>\n</table>\n</div>"
     },
     "execution_count": 128,
     "metadata": {},
     "output_type": "execute_result"
    }
   ],
   "source": [
    "A = pd.DataFrame(np.random.randint(0, 20, size=(2, 2)), columns=list(\"AB\"))\n",
    "A"
   ]
  },
  {
   "cell_type": "code",
   "execution_count": 129,
   "metadata": {
    "scrolled": false,
    "ExecuteTime": {
     "end_time": "2024-11-05T08:57:57.741579600Z",
     "start_time": "2024-11-05T08:57:57.575685700Z"
    }
   },
   "outputs": [
    {
     "data": {
      "text/plain": "   A  B  C\n0  7  5  1\n1  4  0  9\n2  5  8  0",
      "text/html": "<div>\n<style scoped>\n    .dataframe tbody tr th:only-of-type {\n        vertical-align: middle;\n    }\n\n    .dataframe tbody tr th {\n        vertical-align: top;\n    }\n\n    .dataframe thead th {\n        text-align: right;\n    }\n</style>\n<table border=\"1\" class=\"dataframe\">\n  <thead>\n    <tr style=\"text-align: right;\">\n      <th></th>\n      <th>A</th>\n      <th>B</th>\n      <th>C</th>\n    </tr>\n  </thead>\n  <tbody>\n    <tr>\n      <th>0</th>\n      <td>7</td>\n      <td>5</td>\n      <td>1</td>\n    </tr>\n    <tr>\n      <th>1</th>\n      <td>4</td>\n      <td>0</td>\n      <td>9</td>\n    </tr>\n    <tr>\n      <th>2</th>\n      <td>5</td>\n      <td>8</td>\n      <td>0</td>\n    </tr>\n  </tbody>\n</table>\n</div>"
     },
     "execution_count": 129,
     "metadata": {},
     "output_type": "execute_result"
    }
   ],
   "source": [
    "B = pd.DataFrame(np.random.randint(0, 10, size=(3, 3)), columns=list(\"ABC\"))\n",
    "B"
   ]
  },
  {
   "cell_type": "markdown",
   "metadata": {},
   "source": [
    "pandas会自动对齐两个对象的索引，没有的值用np.nan表示"
   ]
  },
  {
   "cell_type": "code",
   "execution_count": 130,
   "metadata": {
    "scrolled": false,
    "ExecuteTime": {
     "end_time": "2024-11-05T08:57:57.950008700Z",
     "start_time": "2024-11-05T08:57:57.589353800Z"
    }
   },
   "outputs": [
    {
     "data": {
      "text/plain": "      A     B   C\n0  10.0  12.0 NaN\n1   6.0   1.0 NaN\n2   NaN   NaN NaN",
      "text/html": "<div>\n<style scoped>\n    .dataframe tbody tr th:only-of-type {\n        vertical-align: middle;\n    }\n\n    .dataframe tbody tr th {\n        vertical-align: top;\n    }\n\n    .dataframe thead th {\n        text-align: right;\n    }\n</style>\n<table border=\"1\" class=\"dataframe\">\n  <thead>\n    <tr style=\"text-align: right;\">\n      <th></th>\n      <th>A</th>\n      <th>B</th>\n      <th>C</th>\n    </tr>\n  </thead>\n  <tbody>\n    <tr>\n      <th>0</th>\n      <td>10.0</td>\n      <td>12.0</td>\n      <td>NaN</td>\n    </tr>\n    <tr>\n      <th>1</th>\n      <td>6.0</td>\n      <td>1.0</td>\n      <td>NaN</td>\n    </tr>\n    <tr>\n      <th>2</th>\n      <td>NaN</td>\n      <td>NaN</td>\n      <td>NaN</td>\n    </tr>\n  </tbody>\n</table>\n</div>"
     },
     "execution_count": 130,
     "metadata": {},
     "output_type": "execute_result"
    }
   ],
   "source": [
    "A + B"
   ]
  },
  {
   "cell_type": "markdown",
   "metadata": {},
   "source": [
    "缺省值也可用fill_value来填充"
   ]
  },
  {
   "cell_type": "code",
   "execution_count": 131,
   "metadata": {
    "scrolled": true,
    "ExecuteTime": {
     "end_time": "2024-11-05T08:57:58.105691800Z",
     "start_time": "2024-11-05T08:57:57.605740500Z"
    }
   },
   "outputs": [
    {
     "data": {
      "text/plain": "      A     B    C\n0  10.0  12.0  1.0\n1   6.0   1.0  9.0\n2   5.0   8.0  0.0",
      "text/html": "<div>\n<style scoped>\n    .dataframe tbody tr th:only-of-type {\n        vertical-align: middle;\n    }\n\n    .dataframe tbody tr th {\n        vertical-align: top;\n    }\n\n    .dataframe thead th {\n        text-align: right;\n    }\n</style>\n<table border=\"1\" class=\"dataframe\">\n  <thead>\n    <tr style=\"text-align: right;\">\n      <th></th>\n      <th>A</th>\n      <th>B</th>\n      <th>C</th>\n    </tr>\n  </thead>\n  <tbody>\n    <tr>\n      <th>0</th>\n      <td>10.0</td>\n      <td>12.0</td>\n      <td>1.0</td>\n    </tr>\n    <tr>\n      <th>1</th>\n      <td>6.0</td>\n      <td>1.0</td>\n      <td>9.0</td>\n    </tr>\n    <tr>\n      <th>2</th>\n      <td>5.0</td>\n      <td>8.0</td>\n      <td>0.0</td>\n    </tr>\n  </tbody>\n</table>\n</div>"
     },
     "execution_count": 131,
     "metadata": {},
     "output_type": "execute_result"
    }
   ],
   "source": [
    "A.add(B, fill_value=0)"
   ]
  },
  {
   "cell_type": "code",
   "execution_count": 132,
   "metadata": {
    "ExecuteTime": {
     "end_time": "2024-11-05T08:57:58.109698500Z",
     "start_time": "2024-11-05T08:57:57.622305300Z"
    }
   },
   "outputs": [
    {
     "data": {
      "text/plain": "      A     B   C\n0  21.0  35.0 NaN\n1   8.0   0.0 NaN\n2   NaN   NaN NaN",
      "text/html": "<div>\n<style scoped>\n    .dataframe tbody tr th:only-of-type {\n        vertical-align: middle;\n    }\n\n    .dataframe tbody tr th {\n        vertical-align: top;\n    }\n\n    .dataframe thead th {\n        text-align: right;\n    }\n</style>\n<table border=\"1\" class=\"dataframe\">\n  <thead>\n    <tr style=\"text-align: right;\">\n      <th></th>\n      <th>A</th>\n      <th>B</th>\n      <th>C</th>\n    </tr>\n  </thead>\n  <tbody>\n    <tr>\n      <th>0</th>\n      <td>21.0</td>\n      <td>35.0</td>\n      <td>NaN</td>\n    </tr>\n    <tr>\n      <th>1</th>\n      <td>8.0</td>\n      <td>0.0</td>\n      <td>NaN</td>\n    </tr>\n    <tr>\n      <th>2</th>\n      <td>NaN</td>\n      <td>NaN</td>\n      <td>NaN</td>\n    </tr>\n  </tbody>\n</table>\n</div>"
     },
     "execution_count": 132,
     "metadata": {},
     "output_type": "execute_result"
    }
   ],
   "source": [
    "A * B"
   ]
  },
  {
   "cell_type": "markdown",
   "metadata": {},
   "source": [
    "#### 3.4 数据统计分析\n",
    "\n",
    "##### 3.4.1 数据种类统计与排序\n",
    "\n",
    "1. 使用Numpy"
   ]
  },
  {
   "cell_type": "code",
   "execution_count": 133,
   "metadata": {
    "scrolled": true,
    "ExecuteTime": {
     "end_time": "2024-11-05T08:57:58.187815900Z",
     "start_time": "2024-11-05T08:57:57.637598700Z"
    }
   },
   "outputs": [
    {
     "data": {
      "text/plain": "array([2, 2, 2, 1, 2, 1, 1, 2, 1, 2, 2, 0, 2, 0, 2, 2, 0, 0, 2, 1])"
     },
     "execution_count": 133,
     "metadata": {},
     "output_type": "execute_result"
    }
   ],
   "source": [
    "y = np.random.randint(3, size=20)\n",
    "y"
   ]
  },
  {
   "cell_type": "code",
   "execution_count": 134,
   "metadata": {
    "ExecuteTime": {
     "end_time": "2024-11-05T08:57:58.188816700Z",
     "start_time": "2024-11-05T08:57:57.652369600Z"
    }
   },
   "outputs": [
    {
     "data": {
      "text/plain": "array([0, 1, 2])"
     },
     "execution_count": 134,
     "metadata": {},
     "output_type": "execute_result"
    }
   ],
   "source": [
    "np.unique(y)"
   ]
  },
  {
   "cell_type": "code",
   "execution_count": 135,
   "metadata": {
    "ExecuteTime": {
     "end_time": "2024-11-05T08:57:58.286432100Z",
     "start_time": "2024-11-05T08:57:57.667605100Z"
    }
   },
   "outputs": [
    {
     "data": {
      "text/plain": "Counter({2: 11, 1: 5, 0: 4})"
     },
     "execution_count": 135,
     "metadata": {},
     "output_type": "execute_result"
    }
   ],
   "source": [
    "from collections import Counter\n",
    "\n",
    "Counter(y)"
   ]
  },
  {
   "cell_type": "markdown",
   "source": [
    "2. 使用pandas"
   ],
   "metadata": {
    "collapsed": false
   }
  },
  {
   "cell_type": "code",
   "execution_count": 136,
   "metadata": {
    "ExecuteTime": {
     "end_time": "2024-11-05T08:57:58.287429400Z",
     "start_time": "2024-11-05T08:57:57.684441400Z"
    }
   },
   "outputs": [
    {
     "data": {
      "text/plain": "    A\n0   2\n1   2\n2   2\n3   1\n4   2\n5   1\n6   1\n7   2\n8   1\n9   2\n10  2\n11  0\n12  2\n13  0\n14  2\n15  2\n16  0\n17  0\n18  2\n19  1",
      "text/html": "<div>\n<style scoped>\n    .dataframe tbody tr th:only-of-type {\n        vertical-align: middle;\n    }\n\n    .dataframe tbody tr th {\n        vertical-align: top;\n    }\n\n    .dataframe thead th {\n        text-align: right;\n    }\n</style>\n<table border=\"1\" class=\"dataframe\">\n  <thead>\n    <tr style=\"text-align: right;\">\n      <th></th>\n      <th>A</th>\n    </tr>\n  </thead>\n  <tbody>\n    <tr>\n      <th>0</th>\n      <td>2</td>\n    </tr>\n    <tr>\n      <th>1</th>\n      <td>2</td>\n    </tr>\n    <tr>\n      <th>2</th>\n      <td>2</td>\n    </tr>\n    <tr>\n      <th>3</th>\n      <td>1</td>\n    </tr>\n    <tr>\n      <th>4</th>\n      <td>2</td>\n    </tr>\n    <tr>\n      <th>5</th>\n      <td>1</td>\n    </tr>\n    <tr>\n      <th>6</th>\n      <td>1</td>\n    </tr>\n    <tr>\n      <th>7</th>\n      <td>2</td>\n    </tr>\n    <tr>\n      <th>8</th>\n      <td>1</td>\n    </tr>\n    <tr>\n      <th>9</th>\n      <td>2</td>\n    </tr>\n    <tr>\n      <th>10</th>\n      <td>2</td>\n    </tr>\n    <tr>\n      <th>11</th>\n      <td>0</td>\n    </tr>\n    <tr>\n      <th>12</th>\n      <td>2</td>\n    </tr>\n    <tr>\n      <th>13</th>\n      <td>0</td>\n    </tr>\n    <tr>\n      <th>14</th>\n      <td>2</td>\n    </tr>\n    <tr>\n      <th>15</th>\n      <td>2</td>\n    </tr>\n    <tr>\n      <th>16</th>\n      <td>0</td>\n    </tr>\n    <tr>\n      <th>17</th>\n      <td>0</td>\n    </tr>\n    <tr>\n      <th>18</th>\n      <td>2</td>\n    </tr>\n    <tr>\n      <th>19</th>\n      <td>1</td>\n    </tr>\n  </tbody>\n</table>\n</div>"
     },
     "execution_count": 136,
     "metadata": {},
     "output_type": "execute_result"
    }
   ],
   "source": [
    "y1 = pd.DataFrame(y, columns=[\"A\"])\n",
    "y1"
   ]
  },
  {
   "cell_type": "code",
   "execution_count": 137,
   "metadata": {
    "ExecuteTime": {
     "end_time": "2024-11-05T08:57:58.288428700Z",
     "start_time": "2024-11-05T08:57:57.699905400Z"
    }
   },
   "outputs": [
    {
     "data": {
      "text/plain": "array([0, 1, 2])"
     },
     "execution_count": 137,
     "metadata": {},
     "output_type": "execute_result"
    }
   ],
   "source": [
    "np.unique(y1)"
   ]
  },
  {
   "cell_type": "code",
   "execution_count": 138,
   "metadata": {
    "scrolled": true,
    "ExecuteTime": {
     "end_time": "2024-11-05T08:57:58.289428400Z",
     "start_time": "2024-11-05T08:57:57.715822200Z"
    }
   },
   "outputs": [
    {
     "data": {
      "text/plain": "A\n2    11\n1     5\n0     4\nName: count, dtype: int64"
     },
     "execution_count": 138,
     "metadata": {},
     "output_type": "execute_result"
    }
   ],
   "source": [
    "y1[\"A\"].value_counts()"
   ]
  },
  {
   "cell_type": "markdown",
   "metadata": {},
   "source": [
    "3. 产生新的结果，并进行排序"
   ]
  },
  {
   "cell_type": "code",
   "execution_count": 139,
   "metadata": {
    "ExecuteTime": {
     "end_time": "2024-11-05T08:57:58.376683500Z",
     "start_time": "2024-11-05T08:57:57.731720Z"
    }
   },
   "outputs": [
    {
     "data": {
      "text/plain": "          population    GDP\nBeiJing         2154  30320\nShangHai        2424  32680\nShenZhen        1303  24222\nHangZhou         981  13468",
      "text/html": "<div>\n<style scoped>\n    .dataframe tbody tr th:only-of-type {\n        vertical-align: middle;\n    }\n\n    .dataframe tbody tr th {\n        vertical-align: top;\n    }\n\n    .dataframe thead th {\n        text-align: right;\n    }\n</style>\n<table border=\"1\" class=\"dataframe\">\n  <thead>\n    <tr style=\"text-align: right;\">\n      <th></th>\n      <th>population</th>\n      <th>GDP</th>\n    </tr>\n  </thead>\n  <tbody>\n    <tr>\n      <th>BeiJing</th>\n      <td>2154</td>\n      <td>30320</td>\n    </tr>\n    <tr>\n      <th>ShangHai</th>\n      <td>2424</td>\n      <td>32680</td>\n    </tr>\n    <tr>\n      <th>ShenZhen</th>\n      <td>1303</td>\n      <td>24222</td>\n    </tr>\n    <tr>\n      <th>HangZhou</th>\n      <td>981</td>\n      <td>13468</td>\n    </tr>\n  </tbody>\n</table>\n</div>"
     },
     "execution_count": 139,
     "metadata": {},
     "output_type": "execute_result"
    }
   ],
   "source": [
    "population_dict = {\"BeiJing\": 2154,\n",
    "                   \"ShangHai\": 2424,\n",
    "                   \"ShenZhen\": 1303,\n",
    "                   \"HangZhou\": 981}\n",
    "population = pd.Series(population_dict)\n",
    "\n",
    "GDP_dict = {\"BeiJing\": 30320,\n",
    "            \"ShangHai\": 32680,\n",
    "            \"ShenZhen\": 24222,\n",
    "            \"HangZhou\": 13468}\n",
    "GDP = pd.Series(GDP_dict)\n",
    "\n",
    "city_info = pd.DataFrame({\"population\": population, \"GDP\": GDP})\n",
    "city_info"
   ]
  },
  {
   "cell_type": "code",
   "execution_count": 140,
   "metadata": {
    "scrolled": false,
    "ExecuteTime": {
     "end_time": "2024-11-05T08:57:58.377682100Z",
     "start_time": "2024-11-05T08:57:57.746142500Z"
    }
   },
   "outputs": [
    {
     "data": {
      "text/plain": "          population    GDP    per_GDP\nBeiJing         2154  30320  14.076137\nShangHai        2424  32680  13.481848\nShenZhen        1303  24222  18.589409\nHangZhou         981  13468  13.728848",
      "text/html": "<div>\n<style scoped>\n    .dataframe tbody tr th:only-of-type {\n        vertical-align: middle;\n    }\n\n    .dataframe tbody tr th {\n        vertical-align: top;\n    }\n\n    .dataframe thead th {\n        text-align: right;\n    }\n</style>\n<table border=\"1\" class=\"dataframe\">\n  <thead>\n    <tr style=\"text-align: right;\">\n      <th></th>\n      <th>population</th>\n      <th>GDP</th>\n      <th>per_GDP</th>\n    </tr>\n  </thead>\n  <tbody>\n    <tr>\n      <th>BeiJing</th>\n      <td>2154</td>\n      <td>30320</td>\n      <td>14.076137</td>\n    </tr>\n    <tr>\n      <th>ShangHai</th>\n      <td>2424</td>\n      <td>32680</td>\n      <td>13.481848</td>\n    </tr>\n    <tr>\n      <th>ShenZhen</th>\n      <td>1303</td>\n      <td>24222</td>\n      <td>18.589409</td>\n    </tr>\n    <tr>\n      <th>HangZhou</th>\n      <td>981</td>\n      <td>13468</td>\n      <td>13.728848</td>\n    </tr>\n  </tbody>\n</table>\n</div>"
     },
     "execution_count": 140,
     "metadata": {},
     "output_type": "execute_result"
    }
   ],
   "source": [
    "city_info[\"per_GDP\"] = city_info[\"GDP\"] / city_info[\"population\"]\n",
    "city_info"
   ]
  },
  {
   "cell_type": "markdown",
   "metadata": {},
   "source": [
    "4. 递增排序"
   ]
  },
  {
   "cell_type": "code",
   "execution_count": 141,
   "metadata": {
    "scrolled": true,
    "ExecuteTime": {
     "end_time": "2024-11-05T08:57:58.378694900Z",
     "start_time": "2024-11-05T08:57:57.759903100Z"
    }
   },
   "outputs": [
    {
     "data": {
      "text/plain": "          population    GDP    per_GDP\nShangHai        2424  32680  13.481848\nHangZhou         981  13468  13.728848\nBeiJing         2154  30320  14.076137\nShenZhen        1303  24222  18.589409",
      "text/html": "<div>\n<style scoped>\n    .dataframe tbody tr th:only-of-type {\n        vertical-align: middle;\n    }\n\n    .dataframe tbody tr th {\n        vertical-align: top;\n    }\n\n    .dataframe thead th {\n        text-align: right;\n    }\n</style>\n<table border=\"1\" class=\"dataframe\">\n  <thead>\n    <tr style=\"text-align: right;\">\n      <th></th>\n      <th>population</th>\n      <th>GDP</th>\n      <th>per_GDP</th>\n    </tr>\n  </thead>\n  <tbody>\n    <tr>\n      <th>ShangHai</th>\n      <td>2424</td>\n      <td>32680</td>\n      <td>13.481848</td>\n    </tr>\n    <tr>\n      <th>HangZhou</th>\n      <td>981</td>\n      <td>13468</td>\n      <td>13.728848</td>\n    </tr>\n    <tr>\n      <th>BeiJing</th>\n      <td>2154</td>\n      <td>30320</td>\n      <td>14.076137</td>\n    </tr>\n    <tr>\n      <th>ShenZhen</th>\n      <td>1303</td>\n      <td>24222</td>\n      <td>18.589409</td>\n    </tr>\n  </tbody>\n</table>\n</div>"
     },
     "execution_count": 141,
     "metadata": {},
     "output_type": "execute_result"
    }
   ],
   "source": [
    "city_info.sort_values(by=\"per_GDP\")"
   ]
  },
  {
   "cell_type": "markdown",
   "metadata": {},
   "source": [
    "5. 递减排序"
   ]
  },
  {
   "cell_type": "code",
   "execution_count": 142,
   "metadata": {
    "scrolled": false,
    "ExecuteTime": {
     "end_time": "2024-11-05T08:57:58.423647300Z",
     "start_time": "2024-11-05T08:57:57.777276600Z"
    }
   },
   "outputs": [
    {
     "data": {
      "text/plain": "          population    GDP    per_GDP\nShenZhen        1303  24222  18.589409\nBeiJing         2154  30320  14.076137\nHangZhou         981  13468  13.728848\nShangHai        2424  32680  13.481848",
      "text/html": "<div>\n<style scoped>\n    .dataframe tbody tr th:only-of-type {\n        vertical-align: middle;\n    }\n\n    .dataframe tbody tr th {\n        vertical-align: top;\n    }\n\n    .dataframe thead th {\n        text-align: right;\n    }\n</style>\n<table border=\"1\" class=\"dataframe\">\n  <thead>\n    <tr style=\"text-align: right;\">\n      <th></th>\n      <th>population</th>\n      <th>GDP</th>\n      <th>per_GDP</th>\n    </tr>\n  </thead>\n  <tbody>\n    <tr>\n      <th>ShenZhen</th>\n      <td>1303</td>\n      <td>24222</td>\n      <td>18.589409</td>\n    </tr>\n    <tr>\n      <th>BeiJing</th>\n      <td>2154</td>\n      <td>30320</td>\n      <td>14.076137</td>\n    </tr>\n    <tr>\n      <th>HangZhou</th>\n      <td>981</td>\n      <td>13468</td>\n      <td>13.728848</td>\n    </tr>\n    <tr>\n      <th>ShangHai</th>\n      <td>2424</td>\n      <td>32680</td>\n      <td>13.481848</td>\n    </tr>\n  </tbody>\n</table>\n</div>"
     },
     "execution_count": 142,
     "metadata": {},
     "output_type": "execute_result"
    }
   ],
   "source": [
    "city_info.sort_values(by=\"per_GDP\", ascending=False)"
   ]
  },
  {
   "cell_type": "markdown",
   "metadata": {},
   "source": [
    "6. 按轴进行排序"
   ]
  },
  {
   "cell_type": "code",
   "execution_count": 143,
   "metadata": {
    "scrolled": false,
    "ExecuteTime": {
     "end_time": "2024-11-05T08:57:58.423647300Z",
     "start_time": "2024-11-05T08:57:57.793479200Z"
    }
   },
   "outputs": [
    {
     "data": {
      "text/plain": "    C   B   A  D\n2   3  13  17  8\n1   1  19  14  6\n0  11   7  14  2",
      "text/html": "<div>\n<style scoped>\n    .dataframe tbody tr th:only-of-type {\n        vertical-align: middle;\n    }\n\n    .dataframe tbody tr th {\n        vertical-align: top;\n    }\n\n    .dataframe thead th {\n        text-align: right;\n    }\n</style>\n<table border=\"1\" class=\"dataframe\">\n  <thead>\n    <tr style=\"text-align: right;\">\n      <th></th>\n      <th>C</th>\n      <th>B</th>\n      <th>A</th>\n      <th>D</th>\n    </tr>\n  </thead>\n  <tbody>\n    <tr>\n      <th>2</th>\n      <td>3</td>\n      <td>13</td>\n      <td>17</td>\n      <td>8</td>\n    </tr>\n    <tr>\n      <th>1</th>\n      <td>1</td>\n      <td>19</td>\n      <td>14</td>\n      <td>6</td>\n    </tr>\n    <tr>\n      <th>0</th>\n      <td>11</td>\n      <td>7</td>\n      <td>14</td>\n      <td>2</td>\n    </tr>\n  </tbody>\n</table>\n</div>"
     },
     "execution_count": 143,
     "metadata": {},
     "output_type": "execute_result"
    }
   ],
   "source": [
    "data = pd.DataFrame(np.random.randint(20, size=(3, 4)), index=[2, 1, 0], columns=list(\"CBAD\"))\n",
    "data"
   ]
  },
  {
   "cell_type": "markdown",
   "metadata": {},
   "source": [
    "7. 行排序"
   ]
  },
  {
   "cell_type": "code",
   "execution_count": 144,
   "metadata": {
    "scrolled": true,
    "ExecuteTime": {
     "end_time": "2024-11-05T08:57:58.503753600Z",
     "start_time": "2024-11-05T08:57:57.807702100Z"
    }
   },
   "outputs": [
    {
     "data": {
      "text/plain": "    C   B   A  D\n0  11   7  14  2\n1   1  19  14  6\n2   3  13  17  8",
      "text/html": "<div>\n<style scoped>\n    .dataframe tbody tr th:only-of-type {\n        vertical-align: middle;\n    }\n\n    .dataframe tbody tr th {\n        vertical-align: top;\n    }\n\n    .dataframe thead th {\n        text-align: right;\n    }\n</style>\n<table border=\"1\" class=\"dataframe\">\n  <thead>\n    <tr style=\"text-align: right;\">\n      <th></th>\n      <th>C</th>\n      <th>B</th>\n      <th>A</th>\n      <th>D</th>\n    </tr>\n  </thead>\n  <tbody>\n    <tr>\n      <th>0</th>\n      <td>11</td>\n      <td>7</td>\n      <td>14</td>\n      <td>2</td>\n    </tr>\n    <tr>\n      <th>1</th>\n      <td>1</td>\n      <td>19</td>\n      <td>14</td>\n      <td>6</td>\n    </tr>\n    <tr>\n      <th>2</th>\n      <td>3</td>\n      <td>13</td>\n      <td>17</td>\n      <td>8</td>\n    </tr>\n  </tbody>\n</table>\n</div>"
     },
     "execution_count": 144,
     "metadata": {},
     "output_type": "execute_result"
    }
   ],
   "source": [
    "data.sort_index()"
   ]
  },
  {
   "cell_type": "markdown",
   "metadata": {},
   "source": [
    "8. 列排序"
   ]
  },
  {
   "cell_type": "code",
   "execution_count": 145,
   "metadata": {
    "scrolled": true,
    "ExecuteTime": {
     "end_time": "2024-11-05T08:57:58.581380900Z",
     "start_time": "2024-11-05T08:57:57.823678200Z"
    }
   },
   "outputs": [
    {
     "data": {
      "text/plain": "    A   B   C  D\n2  17  13   3  8\n1  14  19   1  6\n0  14   7  11  2",
      "text/html": "<div>\n<style scoped>\n    .dataframe tbody tr th:only-of-type {\n        vertical-align: middle;\n    }\n\n    .dataframe tbody tr th {\n        vertical-align: top;\n    }\n\n    .dataframe thead th {\n        text-align: right;\n    }\n</style>\n<table border=\"1\" class=\"dataframe\">\n  <thead>\n    <tr style=\"text-align: right;\">\n      <th></th>\n      <th>A</th>\n      <th>B</th>\n      <th>C</th>\n      <th>D</th>\n    </tr>\n  </thead>\n  <tbody>\n    <tr>\n      <th>2</th>\n      <td>17</td>\n      <td>13</td>\n      <td>3</td>\n      <td>8</td>\n    </tr>\n    <tr>\n      <th>1</th>\n      <td>14</td>\n      <td>19</td>\n      <td>1</td>\n      <td>6</td>\n    </tr>\n    <tr>\n      <th>0</th>\n      <td>14</td>\n      <td>7</td>\n      <td>11</td>\n      <td>2</td>\n    </tr>\n  </tbody>\n</table>\n</div>"
     },
     "execution_count": 145,
     "metadata": {},
     "output_type": "execute_result"
    }
   ],
   "source": [
    "data.sort_index(axis=1)"
   ]
  },
  {
   "cell_type": "code",
   "execution_count": 146,
   "metadata": {
    "ExecuteTime": {
     "end_time": "2024-11-05T08:57:58.581898800Z",
     "start_time": "2024-11-05T08:57:57.839255600Z"
    }
   },
   "outputs": [
    {
     "data": {
      "text/plain": "   D   C   B   A\n2  8   3  13  17\n1  6   1  19  14\n0  2  11   7  14",
      "text/html": "<div>\n<style scoped>\n    .dataframe tbody tr th:only-of-type {\n        vertical-align: middle;\n    }\n\n    .dataframe tbody tr th {\n        vertical-align: top;\n    }\n\n    .dataframe thead th {\n        text-align: right;\n    }\n</style>\n<table border=\"1\" class=\"dataframe\">\n  <thead>\n    <tr style=\"text-align: right;\">\n      <th></th>\n      <th>D</th>\n      <th>C</th>\n      <th>B</th>\n      <th>A</th>\n    </tr>\n  </thead>\n  <tbody>\n    <tr>\n      <th>2</th>\n      <td>8</td>\n      <td>3</td>\n      <td>13</td>\n      <td>17</td>\n    </tr>\n    <tr>\n      <th>1</th>\n      <td>6</td>\n      <td>1</td>\n      <td>19</td>\n      <td>14</td>\n    </tr>\n    <tr>\n      <th>0</th>\n      <td>2</td>\n      <td>11</td>\n      <td>7</td>\n      <td>14</td>\n    </tr>\n  </tbody>\n</table>\n</div>"
     },
     "execution_count": 146,
     "metadata": {},
     "output_type": "execute_result"
    }
   ],
   "source": [
    "data.sort_index(axis=1, ascending=False)"
   ]
  },
  {
   "cell_type": "markdown",
   "metadata": {},
   "source": [
    "##### 3.4.2 pandas统计方法"
   ]
  },
  {
   "cell_type": "code",
   "execution_count": 147,
   "metadata": {
    "scrolled": true,
    "ExecuteTime": {
     "end_time": "2024-11-05T08:57:58.732197700Z",
     "start_time": "2024-11-05T08:57:57.854985800Z"
    }
   },
   "outputs": [
    {
     "data": {
      "text/plain": "           A         B         C         D\n0   1.082198  3.557396 -3.060476  6.367969\n1  13.113252  6.774559  2.874553  5.527044\n2  -2.036341 -4.333177  5.094802 -0.152567\n3  -3.386712 -1.522365 -2.522209  2.537716\n4   4.328491  5.550994  5.577329  5.019991\n5   1.171336 -0.493910 -4.032613  6.398588",
      "text/html": "<div>\n<style scoped>\n    .dataframe tbody tr th:only-of-type {\n        vertical-align: middle;\n    }\n\n    .dataframe tbody tr th {\n        vertical-align: top;\n    }\n\n    .dataframe thead th {\n        text-align: right;\n    }\n</style>\n<table border=\"1\" class=\"dataframe\">\n  <thead>\n    <tr style=\"text-align: right;\">\n      <th></th>\n      <th>A</th>\n      <th>B</th>\n      <th>C</th>\n      <th>D</th>\n    </tr>\n  </thead>\n  <tbody>\n    <tr>\n      <th>0</th>\n      <td>1.082198</td>\n      <td>3.557396</td>\n      <td>-3.060476</td>\n      <td>6.367969</td>\n    </tr>\n    <tr>\n      <th>1</th>\n      <td>13.113252</td>\n      <td>6.774559</td>\n      <td>2.874553</td>\n      <td>5.527044</td>\n    </tr>\n    <tr>\n      <th>2</th>\n      <td>-2.036341</td>\n      <td>-4.333177</td>\n      <td>5.094802</td>\n      <td>-0.152567</td>\n    </tr>\n    <tr>\n      <th>3</th>\n      <td>-3.386712</td>\n      <td>-1.522365</td>\n      <td>-2.522209</td>\n      <td>2.537716</td>\n    </tr>\n    <tr>\n      <th>4</th>\n      <td>4.328491</td>\n      <td>5.550994</td>\n      <td>5.577329</td>\n      <td>5.019991</td>\n    </tr>\n    <tr>\n      <th>5</th>\n      <td>1.171336</td>\n      <td>-0.493910</td>\n      <td>-4.032613</td>\n      <td>6.398588</td>\n    </tr>\n  </tbody>\n</table>\n</div>"
     },
     "execution_count": 147,
     "metadata": {},
     "output_type": "execute_result"
    }
   ],
   "source": [
    "df = pd.DataFrame(np.random.normal(2, 4, size=(6, 4)), columns=list(\"ABCD\"))\n",
    "df"
   ]
  },
  {
   "cell_type": "markdown",
   "metadata": {},
   "source": [
    "1. 非空个数"
   ]
  },
  {
   "cell_type": "code",
   "execution_count": 148,
   "metadata": {
    "ExecuteTime": {
     "end_time": "2024-11-05T08:57:58.733227400Z",
     "start_time": "2024-11-05T08:57:57.870006400Z"
    }
   },
   "outputs": [
    {
     "data": {
      "text/plain": "A    6\nB    6\nC    6\nD    6\ndtype: int64"
     },
     "execution_count": 148,
     "metadata": {},
     "output_type": "execute_result"
    }
   ],
   "source": [
    "df.count()"
   ]
  },
  {
   "cell_type": "markdown",
   "metadata": {},
   "source": [
    "2. 求和"
   ]
  },
  {
   "cell_type": "code",
   "execution_count": 149,
   "metadata": {
    "ExecuteTime": {
     "end_time": "2024-11-05T08:57:58.783336200Z",
     "start_time": "2024-11-05T08:57:57.885827Z"
    }
   },
   "outputs": [
    {
     "data": {
      "text/plain": "A    14.272224\nB     9.533497\nC     3.931385\nD    25.698741\ndtype: float64"
     },
     "execution_count": 149,
     "metadata": {},
     "output_type": "execute_result"
    }
   ],
   "source": [
    "df.sum()"
   ]
  },
  {
   "cell_type": "code",
   "execution_count": 150,
   "metadata": {
    "ExecuteTime": {
     "end_time": "2024-11-05T08:57:58.784226600Z",
     "start_time": "2024-11-05T08:57:57.901635400Z"
    }
   },
   "outputs": [
    {
     "data": {
      "text/plain": "0     7.947086\n1    28.289408\n2    -1.427283\n3    -4.893571\n4    20.476806\n5     3.043402\ndtype: float64"
     },
     "execution_count": 150,
     "metadata": {},
     "output_type": "execute_result"
    }
   ],
   "source": [
    "df.sum(axis=1)"
   ]
  },
  {
   "cell_type": "markdown",
   "metadata": {},
   "source": [
    "3. 最大值与最小值"
   ]
  },
  {
   "cell_type": "code",
   "execution_count": 151,
   "metadata": {
    "ExecuteTime": {
     "end_time": "2024-11-05T08:57:58.784226600Z",
     "start_time": "2024-11-05T08:57:57.917088800Z"
    }
   },
   "outputs": [
    {
     "data": {
      "text/plain": "A   -3.386712\nB   -4.333177\nC   -4.032613\nD   -0.152567\ndtype: float64"
     },
     "execution_count": 151,
     "metadata": {},
     "output_type": "execute_result"
    }
   ],
   "source": [
    "df.min()"
   ]
  },
  {
   "cell_type": "code",
   "execution_count": 152,
   "metadata": {
    "scrolled": true,
    "ExecuteTime": {
     "end_time": "2024-11-05T08:57:58.785225700Z",
     "start_time": "2024-11-05T08:57:57.934379300Z"
    }
   },
   "outputs": [
    {
     "data": {
      "text/plain": "0     6.367969\n1    13.113252\n2     5.094802\n3     2.537716\n4     5.577329\n5     6.398588\ndtype: float64"
     },
     "execution_count": 152,
     "metadata": {},
     "output_type": "execute_result"
    }
   ],
   "source": [
    "df.max(axis=1)"
   ]
  },
  {
   "cell_type": "code",
   "execution_count": 153,
   "metadata": {
    "ExecuteTime": {
     "end_time": "2024-11-05T08:57:58.832493700Z",
     "start_time": "2024-11-05T08:57:57.948008600Z"
    }
   },
   "outputs": [
    {
     "data": {
      "text/plain": "           A         B         C         D\n0   1.082198  3.557396 -3.060476  6.367969\n1  13.113252  6.774559  2.874553  5.527044\n2  -2.036341 -4.333177  5.094802 -0.152567\n3  -3.386712 -1.522365 -2.522209  2.537716\n4   4.328491  5.550994  5.577329  5.019991\n5   1.171336 -0.493910 -4.032613  6.398588",
      "text/html": "<div>\n<style scoped>\n    .dataframe tbody tr th:only-of-type {\n        vertical-align: middle;\n    }\n\n    .dataframe tbody tr th {\n        vertical-align: top;\n    }\n\n    .dataframe thead th {\n        text-align: right;\n    }\n</style>\n<table border=\"1\" class=\"dataframe\">\n  <thead>\n    <tr style=\"text-align: right;\">\n      <th></th>\n      <th>A</th>\n      <th>B</th>\n      <th>C</th>\n      <th>D</th>\n    </tr>\n  </thead>\n  <tbody>\n    <tr>\n      <th>0</th>\n      <td>1.082198</td>\n      <td>3.557396</td>\n      <td>-3.060476</td>\n      <td>6.367969</td>\n    </tr>\n    <tr>\n      <th>1</th>\n      <td>13.113252</td>\n      <td>6.774559</td>\n      <td>2.874553</td>\n      <td>5.527044</td>\n    </tr>\n    <tr>\n      <th>2</th>\n      <td>-2.036341</td>\n      <td>-4.333177</td>\n      <td>5.094802</td>\n      <td>-0.152567</td>\n    </tr>\n    <tr>\n      <th>3</th>\n      <td>-3.386712</td>\n      <td>-1.522365</td>\n      <td>-2.522209</td>\n      <td>2.537716</td>\n    </tr>\n    <tr>\n      <th>4</th>\n      <td>4.328491</td>\n      <td>5.550994</td>\n      <td>5.577329</td>\n      <td>5.019991</td>\n    </tr>\n    <tr>\n      <th>5</th>\n      <td>1.171336</td>\n      <td>-0.493910</td>\n      <td>-4.032613</td>\n      <td>6.398588</td>\n    </tr>\n  </tbody>\n</table>\n</div>"
     },
     "execution_count": 153,
     "metadata": {},
     "output_type": "execute_result"
    }
   ],
   "source": [
    "df"
   ]
  },
  {
   "cell_type": "code",
   "execution_count": 154,
   "metadata": {
    "ExecuteTime": {
     "end_time": "2024-11-05T08:57:59.459404200Z",
     "start_time": "2024-11-05T08:57:57.963209200Z"
    }
   },
   "outputs": [
    {
     "data": {
      "text/plain": "A    1\nB    1\nC    4\nD    5\ndtype: int64"
     },
     "execution_count": 154,
     "metadata": {},
     "output_type": "execute_result"
    }
   ],
   "source": [
    "df.idxmax()"
   ]
  },
  {
   "cell_type": "markdown",
   "metadata": {},
   "source": [
    "4. 均值"
   ]
  },
  {
   "cell_type": "code",
   "execution_count": 155,
   "metadata": {
    "ExecuteTime": {
     "end_time": "2024-11-05T08:57:59.460404600Z",
     "start_time": "2024-11-05T08:57:57.979263800Z"
    }
   },
   "outputs": [
    {
     "data": {
      "text/plain": "A    2.378704\nB    1.588916\nC    0.655231\nD    4.283124\ndtype: float64"
     },
     "execution_count": 155,
     "metadata": {},
     "output_type": "execute_result"
    }
   ],
   "source": [
    "df.mean()"
   ]
  },
  {
   "cell_type": "markdown",
   "metadata": {},
   "source": [
    "5. 方差"
   ]
  },
  {
   "cell_type": "code",
   "execution_count": 156,
   "metadata": {
    "ExecuteTime": {
     "end_time": "2024-11-05T08:57:59.460404600Z",
     "start_time": "2024-11-05T08:57:57.994304100Z"
    }
   },
   "outputs": [
    {
     "data": {
      "text/plain": "A    34.980702\nB    19.110656\nC    18.948144\nD     6.726776\ndtype: float64"
     },
     "execution_count": 156,
     "metadata": {},
     "output_type": "execute_result"
    }
   ],
   "source": [
    "df.var()"
   ]
  },
  {
   "cell_type": "markdown",
   "metadata": {},
   "source": [
    "6. 标准差"
   ]
  },
  {
   "cell_type": "code",
   "execution_count": 157,
   "metadata": {
    "ExecuteTime": {
     "end_time": "2024-11-05T08:57:59.460404600Z",
     "start_time": "2024-11-05T08:57:58.009564800Z"
    }
   },
   "outputs": [
    {
     "data": {
      "text/plain": "A    5.914449\nB    4.371574\nC    4.352947\nD    2.593603\ndtype: float64"
     },
     "execution_count": 157,
     "metadata": {},
     "output_type": "execute_result"
    }
   ],
   "source": [
    "df.std()"
   ]
  },
  {
   "cell_type": "markdown",
   "metadata": {},
   "source": [
    "7. 中位数"
   ]
  },
  {
   "cell_type": "code",
   "execution_count": 158,
   "metadata": {
    "ExecuteTime": {
     "end_time": "2024-11-05T08:57:59.461408500Z",
     "start_time": "2024-11-05T08:57:58.024778400Z"
    }
   },
   "outputs": [
    {
     "data": {
      "text/plain": "A    1.126767\nB    1.531743\nC    0.176172\nD    5.273518\ndtype: float64"
     },
     "execution_count": 158,
     "metadata": {},
     "output_type": "execute_result"
    }
   ],
   "source": [
    "df.median()"
   ]
  },
  {
   "cell_type": "markdown",
   "metadata": {},
   "source": [
    "8. 众数"
   ]
  },
  {
   "cell_type": "code",
   "execution_count": 159,
   "metadata": {
    "scrolled": true,
    "ExecuteTime": {
     "end_time": "2024-11-05T08:57:59.461931200Z",
     "start_time": "2024-11-05T08:57:58.041331500Z"
    }
   },
   "outputs": [
    {
     "data": {
      "text/plain": "   A  B\n0  4  2\n1  3  2\n2  2  0\n3  2  4\n4  2  0\n5  4  1\n6  2  0\n7  1  1\n8  3  4\n9  2  0",
      "text/html": "<div>\n<style scoped>\n    .dataframe tbody tr th:only-of-type {\n        vertical-align: middle;\n    }\n\n    .dataframe tbody tr th {\n        vertical-align: top;\n    }\n\n    .dataframe thead th {\n        text-align: right;\n    }\n</style>\n<table border=\"1\" class=\"dataframe\">\n  <thead>\n    <tr style=\"text-align: right;\">\n      <th></th>\n      <th>A</th>\n      <th>B</th>\n    </tr>\n  </thead>\n  <tbody>\n    <tr>\n      <th>0</th>\n      <td>4</td>\n      <td>2</td>\n    </tr>\n    <tr>\n      <th>1</th>\n      <td>3</td>\n      <td>2</td>\n    </tr>\n    <tr>\n      <th>2</th>\n      <td>2</td>\n      <td>0</td>\n    </tr>\n    <tr>\n      <th>3</th>\n      <td>2</td>\n      <td>4</td>\n    </tr>\n    <tr>\n      <th>4</th>\n      <td>2</td>\n      <td>0</td>\n    </tr>\n    <tr>\n      <th>5</th>\n      <td>4</td>\n      <td>1</td>\n    </tr>\n    <tr>\n      <th>6</th>\n      <td>2</td>\n      <td>0</td>\n    </tr>\n    <tr>\n      <th>7</th>\n      <td>1</td>\n      <td>1</td>\n    </tr>\n    <tr>\n      <th>8</th>\n      <td>3</td>\n      <td>4</td>\n    </tr>\n    <tr>\n      <th>9</th>\n      <td>2</td>\n      <td>0</td>\n    </tr>\n  </tbody>\n</table>\n</div>"
     },
     "execution_count": 159,
     "metadata": {},
     "output_type": "execute_result"
    }
   ],
   "source": [
    "data = pd.DataFrame(np.random.randint(5, size=(10, 2)), columns=list(\"AB\"))\n",
    "data"
   ]
  },
  {
   "cell_type": "code",
   "execution_count": 160,
   "metadata": {
    "ExecuteTime": {
     "end_time": "2024-11-05T08:57:59.573874800Z",
     "start_time": "2024-11-05T08:57:58.055743Z"
    }
   },
   "outputs": [
    {
     "data": {
      "text/plain": "   A  B\n0  2  0",
      "text/html": "<div>\n<style scoped>\n    .dataframe tbody tr th:only-of-type {\n        vertical-align: middle;\n    }\n\n    .dataframe tbody tr th {\n        vertical-align: top;\n    }\n\n    .dataframe thead th {\n        text-align: right;\n    }\n</style>\n<table border=\"1\" class=\"dataframe\">\n  <thead>\n    <tr style=\"text-align: right;\">\n      <th></th>\n      <th>A</th>\n      <th>B</th>\n    </tr>\n  </thead>\n  <tbody>\n    <tr>\n      <th>0</th>\n      <td>2</td>\n      <td>0</td>\n    </tr>\n  </tbody>\n</table>\n</div>"
     },
     "execution_count": 160,
     "metadata": {},
     "output_type": "execute_result"
    }
   ],
   "source": [
    "data.mode()"
   ]
  },
  {
   "cell_type": "markdown",
   "metadata": {},
   "source": [
    "9. 75%分位数"
   ]
  },
  {
   "cell_type": "code",
   "execution_count": 161,
   "metadata": {
    "scrolled": true,
    "ExecuteTime": {
     "end_time": "2024-11-05T08:57:59.610303700Z",
     "start_time": "2024-11-05T08:57:58.082351500Z"
    }
   },
   "outputs": [
    {
     "data": {
      "text/plain": "A    3.539202\nB    5.052594\nC    4.539740\nD    6.157738\nName: 0.75, dtype: float64"
     },
     "execution_count": 161,
     "metadata": {},
     "output_type": "execute_result"
    }
   ],
   "source": [
    "df.quantile(0.75)"
   ]
  },
  {
   "cell_type": "markdown",
   "metadata": {},
   "source": [
    "10. 总体统计分析"
   ]
  },
  {
   "cell_type": "code",
   "execution_count": 162,
   "metadata": {
    "scrolled": true,
    "ExecuteTime": {
     "end_time": "2024-11-05T08:57:59.702552600Z",
     "start_time": "2024-11-05T08:57:58.103691800Z"
    }
   },
   "outputs": [
    {
     "data": {
      "text/plain": "               A         B         C         D\ncount   6.000000  6.000000  6.000000  6.000000\nmean    2.378704  1.588916  0.655231  4.283124\nstd     5.914449  4.371574  4.352947  2.593603\nmin    -3.386712 -4.333177 -4.032613 -0.152567\n25%    -1.256706 -1.265251 -2.925910  3.158284\n50%     1.126767  1.531743  0.176172  5.273518\n75%     3.539202  5.052594  4.539740  6.157738\nmax    13.113252  6.774559  5.577329  6.398588",
      "text/html": "<div>\n<style scoped>\n    .dataframe tbody tr th:only-of-type {\n        vertical-align: middle;\n    }\n\n    .dataframe tbody tr th {\n        vertical-align: top;\n    }\n\n    .dataframe thead th {\n        text-align: right;\n    }\n</style>\n<table border=\"1\" class=\"dataframe\">\n  <thead>\n    <tr style=\"text-align: right;\">\n      <th></th>\n      <th>A</th>\n      <th>B</th>\n      <th>C</th>\n      <th>D</th>\n    </tr>\n  </thead>\n  <tbody>\n    <tr>\n      <th>count</th>\n      <td>6.000000</td>\n      <td>6.000000</td>\n      <td>6.000000</td>\n      <td>6.000000</td>\n    </tr>\n    <tr>\n      <th>mean</th>\n      <td>2.378704</td>\n      <td>1.588916</td>\n      <td>0.655231</td>\n      <td>4.283124</td>\n    </tr>\n    <tr>\n      <th>std</th>\n      <td>5.914449</td>\n      <td>4.371574</td>\n      <td>4.352947</td>\n      <td>2.593603</td>\n    </tr>\n    <tr>\n      <th>min</th>\n      <td>-3.386712</td>\n      <td>-4.333177</td>\n      <td>-4.032613</td>\n      <td>-0.152567</td>\n    </tr>\n    <tr>\n      <th>25%</th>\n      <td>-1.256706</td>\n      <td>-1.265251</td>\n      <td>-2.925910</td>\n      <td>3.158284</td>\n    </tr>\n    <tr>\n      <th>50%</th>\n      <td>1.126767</td>\n      <td>1.531743</td>\n      <td>0.176172</td>\n      <td>5.273518</td>\n    </tr>\n    <tr>\n      <th>75%</th>\n      <td>3.539202</td>\n      <td>5.052594</td>\n      <td>4.539740</td>\n      <td>6.157738</td>\n    </tr>\n    <tr>\n      <th>max</th>\n      <td>13.113252</td>\n      <td>6.774559</td>\n      <td>5.577329</td>\n      <td>6.398588</td>\n    </tr>\n  </tbody>\n</table>\n</div>"
     },
     "execution_count": 162,
     "metadata": {},
     "output_type": "execute_result"
    }
   ],
   "source": [
    "df.describe()"
   ]
  },
  {
   "cell_type": "code",
   "execution_count": 163,
   "metadata": {
    "scrolled": true,
    "ExecuteTime": {
     "end_time": "2024-11-05T08:57:59.703146500Z",
     "start_time": "2024-11-05T08:57:58.134517300Z"
    }
   },
   "outputs": [
    {
     "data": {
      "text/plain": "   A  B  C  D\n0  a  a  c  d\n1  c  a  c  b\n2  a  a  d  c",
      "text/html": "<div>\n<style scoped>\n    .dataframe tbody tr th:only-of-type {\n        vertical-align: middle;\n    }\n\n    .dataframe tbody tr th {\n        vertical-align: top;\n    }\n\n    .dataframe thead th {\n        text-align: right;\n    }\n</style>\n<table border=\"1\" class=\"dataframe\">\n  <thead>\n    <tr style=\"text-align: right;\">\n      <th></th>\n      <th>A</th>\n      <th>B</th>\n      <th>C</th>\n      <th>D</th>\n    </tr>\n  </thead>\n  <tbody>\n    <tr>\n      <th>0</th>\n      <td>a</td>\n      <td>a</td>\n      <td>c</td>\n      <td>d</td>\n    </tr>\n    <tr>\n      <th>1</th>\n      <td>c</td>\n      <td>a</td>\n      <td>c</td>\n      <td>b</td>\n    </tr>\n    <tr>\n      <th>2</th>\n      <td>a</td>\n      <td>a</td>\n      <td>d</td>\n      <td>c</td>\n    </tr>\n  </tbody>\n</table>\n</div>"
     },
     "execution_count": 163,
     "metadata": {},
     "output_type": "execute_result"
    }
   ],
   "source": [
    "data_2 = pd.DataFrame([[\"a\", \"a\", \"c\", \"d\"],\n",
    "                       [\"c\", \"a\", \"c\", \"b\"],\n",
    "                       [\"a\", \"a\", \"d\", \"c\"]], columns=list(\"ABCD\"))\n",
    "data_2"
   ]
  },
  {
   "cell_type": "code",
   "execution_count": 164,
   "metadata": {
    "ExecuteTime": {
     "end_time": "2024-11-05T08:57:59.704195900Z",
     "start_time": "2024-11-05T08:57:58.151788300Z"
    }
   },
   "outputs": [
    {
     "data": {
      "text/plain": "        A  B  C  D\ncount   3  3  3  3\nunique  2  1  2  3\ntop     a  a  c  d\nfreq    2  3  2  1",
      "text/html": "<div>\n<style scoped>\n    .dataframe tbody tr th:only-of-type {\n        vertical-align: middle;\n    }\n\n    .dataframe tbody tr th {\n        vertical-align: top;\n    }\n\n    .dataframe thead th {\n        text-align: right;\n    }\n</style>\n<table border=\"1\" class=\"dataframe\">\n  <thead>\n    <tr style=\"text-align: right;\">\n      <th></th>\n      <th>A</th>\n      <th>B</th>\n      <th>C</th>\n      <th>D</th>\n    </tr>\n  </thead>\n  <tbody>\n    <tr>\n      <th>count</th>\n      <td>3</td>\n      <td>3</td>\n      <td>3</td>\n      <td>3</td>\n    </tr>\n    <tr>\n      <th>unique</th>\n      <td>2</td>\n      <td>1</td>\n      <td>2</td>\n      <td>3</td>\n    </tr>\n    <tr>\n      <th>top</th>\n      <td>a</td>\n      <td>a</td>\n      <td>c</td>\n      <td>d</td>\n    </tr>\n    <tr>\n      <th>freq</th>\n      <td>2</td>\n      <td>3</td>\n      <td>2</td>\n      <td>1</td>\n    </tr>\n  </tbody>\n</table>\n</div>"
     },
     "execution_count": 164,
     "metadata": {},
     "output_type": "execute_result"
    }
   ],
   "source": [
    "data_2.describe()"
   ]
  },
  {
   "cell_type": "markdown",
   "metadata": {},
   "source": [
    "11. 相关性系数和协方差"
   ]
  },
  {
   "cell_type": "code",
   "execution_count": 165,
   "metadata": {
    "ExecuteTime": {
     "end_time": "2024-11-05T08:57:59.704195900Z",
     "start_time": "2024-11-05T08:57:58.165416300Z"
    }
   },
   "outputs": [
    {
     "data": {
      "text/plain": "          A         B         C         D\nA  1.000000  0.831063  0.331060  0.510821\nB  0.831063  1.000000  0.179244  0.719112\nC  0.331060  0.179244  1.000000 -0.450365\nD  0.510821  0.719112 -0.450365  1.000000",
      "text/html": "<div>\n<style scoped>\n    .dataframe tbody tr th:only-of-type {\n        vertical-align: middle;\n    }\n\n    .dataframe tbody tr th {\n        vertical-align: top;\n    }\n\n    .dataframe thead th {\n        text-align: right;\n    }\n</style>\n<table border=\"1\" class=\"dataframe\">\n  <thead>\n    <tr style=\"text-align: right;\">\n      <th></th>\n      <th>A</th>\n      <th>B</th>\n      <th>C</th>\n      <th>D</th>\n    </tr>\n  </thead>\n  <tbody>\n    <tr>\n      <th>A</th>\n      <td>1.000000</td>\n      <td>0.831063</td>\n      <td>0.331060</td>\n      <td>0.510821</td>\n    </tr>\n    <tr>\n      <th>B</th>\n      <td>0.831063</td>\n      <td>1.000000</td>\n      <td>0.179244</td>\n      <td>0.719112</td>\n    </tr>\n    <tr>\n      <th>C</th>\n      <td>0.331060</td>\n      <td>0.179244</td>\n      <td>1.000000</td>\n      <td>-0.450365</td>\n    </tr>\n    <tr>\n      <th>D</th>\n      <td>0.510821</td>\n      <td>0.719112</td>\n      <td>-0.450365</td>\n      <td>1.000000</td>\n    </tr>\n  </tbody>\n</table>\n</div>"
     },
     "execution_count": 165,
     "metadata": {},
     "output_type": "execute_result"
    }
   ],
   "source": [
    "df.corr()"
   ]
  },
  {
   "cell_type": "code",
   "execution_count": 166,
   "metadata": {
    "ExecuteTime": {
     "end_time": "2024-11-05T08:57:59.785905500Z",
     "start_time": "2024-11-05T08:57:58.181314800Z"
    }
   },
   "outputs": [
    {
     "data": {
      "text/plain": "A    1.000000\nB    0.831063\nC    0.331060\nD    0.510821\ndtype: float64"
     },
     "execution_count": 166,
     "metadata": {},
     "output_type": "execute_result"
    }
   ],
   "source": [
    "df.corrwith(df[\"A\"])"
   ]
  },
  {
   "cell_type": "markdown",
   "metadata": {},
   "source": [
    "12. 自定义输出\n",
    "\n",
    "pandas中提供了`apply(method)`方法来支持我们对数据进行自定义操作，该函数传入一个函数，使用method方法默认对每一列进行相应的操作。"
   ]
  },
  {
   "cell_type": "code",
   "execution_count": 167,
   "metadata": {
    "scrolled": true,
    "ExecuteTime": {
     "end_time": "2024-11-05T08:57:59.786899Z",
     "start_time": "2024-11-05T08:57:58.228807400Z"
    }
   },
   "outputs": [
    {
     "data": {
      "text/plain": "           A         B         C         D\n0   1.082198  3.557396 -3.060476  6.367969\n1  13.113252  6.774559  2.874553  5.527044\n2  -2.036341 -4.333177  5.094802 -0.152567\n3  -3.386712 -1.522365 -2.522209  2.537716\n4   4.328491  5.550994  5.577329  5.019991\n5   1.171336 -0.493910 -4.032613  6.398588",
      "text/html": "<div>\n<style scoped>\n    .dataframe tbody tr th:only-of-type {\n        vertical-align: middle;\n    }\n\n    .dataframe tbody tr th {\n        vertical-align: top;\n    }\n\n    .dataframe thead th {\n        text-align: right;\n    }\n</style>\n<table border=\"1\" class=\"dataframe\">\n  <thead>\n    <tr style=\"text-align: right;\">\n      <th></th>\n      <th>A</th>\n      <th>B</th>\n      <th>C</th>\n      <th>D</th>\n    </tr>\n  </thead>\n  <tbody>\n    <tr>\n      <th>0</th>\n      <td>1.082198</td>\n      <td>3.557396</td>\n      <td>-3.060476</td>\n      <td>6.367969</td>\n    </tr>\n    <tr>\n      <th>1</th>\n      <td>13.113252</td>\n      <td>6.774559</td>\n      <td>2.874553</td>\n      <td>5.527044</td>\n    </tr>\n    <tr>\n      <th>2</th>\n      <td>-2.036341</td>\n      <td>-4.333177</td>\n      <td>5.094802</td>\n      <td>-0.152567</td>\n    </tr>\n    <tr>\n      <th>3</th>\n      <td>-3.386712</td>\n      <td>-1.522365</td>\n      <td>-2.522209</td>\n      <td>2.537716</td>\n    </tr>\n    <tr>\n      <th>4</th>\n      <td>4.328491</td>\n      <td>5.550994</td>\n      <td>5.577329</td>\n      <td>5.019991</td>\n    </tr>\n    <tr>\n      <th>5</th>\n      <td>1.171336</td>\n      <td>-0.493910</td>\n      <td>-4.032613</td>\n      <td>6.398588</td>\n    </tr>\n  </tbody>\n</table>\n</div>"
     },
     "execution_count": 167,
     "metadata": {},
     "output_type": "execute_result"
    }
   ],
   "source": [
    "df"
   ]
  },
  {
   "cell_type": "code",
   "execution_count": 168,
   "metadata": {
    "ExecuteTime": {
     "end_time": "2024-11-05T08:57:59.786899Z",
     "start_time": "2024-11-05T08:57:58.242323300Z"
    }
   },
   "outputs": [
    {
     "data": {
      "text/plain": "           A          B         C          D\n0   1.082198   3.557396 -3.060476   6.367969\n1  14.195450  10.331955 -0.185923  11.895013\n2  12.159109   5.998778  4.908878  11.742447\n3   8.772397   4.476413  2.386669  14.280162\n4  13.100888  10.027406  7.963999  19.300153\n5  14.272224   9.533497  3.931385  25.698741",
      "text/html": "<div>\n<style scoped>\n    .dataframe tbody tr th:only-of-type {\n        vertical-align: middle;\n    }\n\n    .dataframe tbody tr th {\n        vertical-align: top;\n    }\n\n    .dataframe thead th {\n        text-align: right;\n    }\n</style>\n<table border=\"1\" class=\"dataframe\">\n  <thead>\n    <tr style=\"text-align: right;\">\n      <th></th>\n      <th>A</th>\n      <th>B</th>\n      <th>C</th>\n      <th>D</th>\n    </tr>\n  </thead>\n  <tbody>\n    <tr>\n      <th>0</th>\n      <td>1.082198</td>\n      <td>3.557396</td>\n      <td>-3.060476</td>\n      <td>6.367969</td>\n    </tr>\n    <tr>\n      <th>1</th>\n      <td>14.195450</td>\n      <td>10.331955</td>\n      <td>-0.185923</td>\n      <td>11.895013</td>\n    </tr>\n    <tr>\n      <th>2</th>\n      <td>12.159109</td>\n      <td>5.998778</td>\n      <td>4.908878</td>\n      <td>11.742447</td>\n    </tr>\n    <tr>\n      <th>3</th>\n      <td>8.772397</td>\n      <td>4.476413</td>\n      <td>2.386669</td>\n      <td>14.280162</td>\n    </tr>\n    <tr>\n      <th>4</th>\n      <td>13.100888</td>\n      <td>10.027406</td>\n      <td>7.963999</td>\n      <td>19.300153</td>\n    </tr>\n    <tr>\n      <th>5</th>\n      <td>14.272224</td>\n      <td>9.533497</td>\n      <td>3.931385</td>\n      <td>25.698741</td>\n    </tr>\n  </tbody>\n</table>\n</div>"
     },
     "execution_count": 168,
     "metadata": {},
     "output_type": "execute_result"
    }
   ],
   "source": [
    "df.apply(np.cumsum)"
   ]
  },
  {
   "cell_type": "code",
   "execution_count": 169,
   "metadata": {
    "scrolled": true,
    "ExecuteTime": {
     "end_time": "2024-11-05T08:57:59.958651900Z",
     "start_time": "2024-11-05T08:57:58.268650700Z"
    }
   },
   "outputs": [
    {
     "data": {
      "text/plain": "           A          B          C          D\n0   1.082198   4.639594   1.579117   7.947086\n1  13.113252  19.887811  22.762364  28.289408\n2  -2.036341  -6.369518  -1.274717  -1.427283\n3  -3.386712  -4.909077  -7.431287  -4.893571\n4   4.328491   9.879485  15.456814  20.476806\n5   1.171336   0.677427  -3.355186   3.043402",
      "text/html": "<div>\n<style scoped>\n    .dataframe tbody tr th:only-of-type {\n        vertical-align: middle;\n    }\n\n    .dataframe tbody tr th {\n        vertical-align: top;\n    }\n\n    .dataframe thead th {\n        text-align: right;\n    }\n</style>\n<table border=\"1\" class=\"dataframe\">\n  <thead>\n    <tr style=\"text-align: right;\">\n      <th></th>\n      <th>A</th>\n      <th>B</th>\n      <th>C</th>\n      <th>D</th>\n    </tr>\n  </thead>\n  <tbody>\n    <tr>\n      <th>0</th>\n      <td>1.082198</td>\n      <td>4.639594</td>\n      <td>1.579117</td>\n      <td>7.947086</td>\n    </tr>\n    <tr>\n      <th>1</th>\n      <td>13.113252</td>\n      <td>19.887811</td>\n      <td>22.762364</td>\n      <td>28.289408</td>\n    </tr>\n    <tr>\n      <th>2</th>\n      <td>-2.036341</td>\n      <td>-6.369518</td>\n      <td>-1.274717</td>\n      <td>-1.427283</td>\n    </tr>\n    <tr>\n      <th>3</th>\n      <td>-3.386712</td>\n      <td>-4.909077</td>\n      <td>-7.431287</td>\n      <td>-4.893571</td>\n    </tr>\n    <tr>\n      <th>4</th>\n      <td>4.328491</td>\n      <td>9.879485</td>\n      <td>15.456814</td>\n      <td>20.476806</td>\n    </tr>\n    <tr>\n      <th>5</th>\n      <td>1.171336</td>\n      <td>0.677427</td>\n      <td>-3.355186</td>\n      <td>3.043402</td>\n    </tr>\n  </tbody>\n</table>\n</div>"
     },
     "execution_count": 169,
     "metadata": {},
     "output_type": "execute_result"
    }
   ],
   "source": [
    "df.apply(np.cumsum, axis=1)"
   ]
  },
  {
   "cell_type": "code",
   "execution_count": 170,
   "metadata": {
    "ExecuteTime": {
     "end_time": "2024-11-05T08:57:59.958651900Z",
     "start_time": "2024-11-05T08:57:58.290428200Z"
    }
   },
   "outputs": [
    {
     "data": {
      "text/plain": "A    14.272224\nB     9.533497\nC     3.931385\nD    25.698741\ndtype: float64"
     },
     "execution_count": 170,
     "metadata": {},
     "output_type": "execute_result"
    }
   ],
   "source": [
    "df.apply(sum)"
   ]
  },
  {
   "cell_type": "code",
   "execution_count": 171,
   "metadata": {
    "ExecuteTime": {
     "end_time": "2024-11-05T08:57:59.959647500Z",
     "start_time": "2024-11-05T08:57:58.305896700Z"
    }
   },
   "outputs": [
    {
     "data": {
      "text/plain": "A    14.272224\nB     9.533497\nC     3.931385\nD    25.698741\ndtype: float64"
     },
     "execution_count": 171,
     "metadata": {},
     "output_type": "execute_result"
    }
   ],
   "source": [
    "df.sum()"
   ]
  },
  {
   "cell_type": "code",
   "execution_count": 172,
   "metadata": {
    "scrolled": true,
    "ExecuteTime": {
     "end_time": "2024-11-05T08:57:59.960646300Z",
     "start_time": "2024-11-05T08:57:58.322519700Z"
    }
   },
   "outputs": [
    {
     "data": {
      "text/plain": "A    16.499965\nB    11.107736\nC     9.609942\nD     6.551155\ndtype: float64"
     },
     "execution_count": 172,
     "metadata": {},
     "output_type": "execute_result"
    }
   ],
   "source": [
    "df.apply(lambda x: x.max() - x.min())"
   ]
  },
  {
   "cell_type": "code",
   "execution_count": 173,
   "metadata": {
    "ExecuteTime": {
     "end_time": "2024-11-05T08:57:59.960646300Z",
     "start_time": "2024-11-05T08:57:58.338239500Z"
    }
   },
   "outputs": [
    {
     "data": {
      "text/plain": "                A         B         C         D\nCount    6.000000  6.000000  6.000000  6.000000\nmean     2.378704  1.588916  0.655231  4.283124\nmax     13.113252  6.774559  5.577329  6.398588\nidxmin   3.000000  2.000000  5.000000  2.000000\nstd      5.914449  4.371574  4.352947  2.593603",
      "text/html": "<div>\n<style scoped>\n    .dataframe tbody tr th:only-of-type {\n        vertical-align: middle;\n    }\n\n    .dataframe tbody tr th {\n        vertical-align: top;\n    }\n\n    .dataframe thead th {\n        text-align: right;\n    }\n</style>\n<table border=\"1\" class=\"dataframe\">\n  <thead>\n    <tr style=\"text-align: right;\">\n      <th></th>\n      <th>A</th>\n      <th>B</th>\n      <th>C</th>\n      <th>D</th>\n    </tr>\n  </thead>\n  <tbody>\n    <tr>\n      <th>Count</th>\n      <td>6.000000</td>\n      <td>6.000000</td>\n      <td>6.000000</td>\n      <td>6.000000</td>\n    </tr>\n    <tr>\n      <th>mean</th>\n      <td>2.378704</td>\n      <td>1.588916</td>\n      <td>0.655231</td>\n      <td>4.283124</td>\n    </tr>\n    <tr>\n      <th>max</th>\n      <td>13.113252</td>\n      <td>6.774559</td>\n      <td>5.577329</td>\n      <td>6.398588</td>\n    </tr>\n    <tr>\n      <th>idxmin</th>\n      <td>3.000000</td>\n      <td>2.000000</td>\n      <td>5.000000</td>\n      <td>2.000000</td>\n    </tr>\n    <tr>\n      <th>std</th>\n      <td>5.914449</td>\n      <td>4.371574</td>\n      <td>4.352947</td>\n      <td>2.593603</td>\n    </tr>\n  </tbody>\n</table>\n</div>"
     },
     "execution_count": 173,
     "metadata": {},
     "output_type": "execute_result"
    }
   ],
   "source": [
    "def my_describe(x):\n",
    "    return pd.Series([x.count(), x.mean(), x.max(), x.idxmin(), x.std()], \\\n",
    "                     index=[\"Count\", \"mean\", \"max\", \"idxmin\", \"std\"])\n",
    "\n",
    "\n",
    "df.apply(my_describe)"
   ]
  },
  {
   "cell_type": "markdown",
   "metadata": {},
   "source": [
    "### 4. 缺失值处理"
   ]
  },
  {
   "cell_type": "markdown",
   "metadata": {},
   "source": [
    "#### 4.1 发现缺失值"
   ]
  },
  {
   "cell_type": "code",
   "execution_count": 174,
   "metadata": {
    "scrolled": false,
    "ExecuteTime": {
     "end_time": "2024-11-05T08:57:59.961646100Z",
     "start_time": "2024-11-05T08:57:58.354595200Z"
    }
   },
   "outputs": [
    {
     "data": {
      "text/plain": "     A    B     C\n0    1  NaN     2\n1  NaN    3     4\n2    5    6  None",
      "text/html": "<div>\n<style scoped>\n    .dataframe tbody tr th:only-of-type {\n        vertical-align: middle;\n    }\n\n    .dataframe tbody tr th {\n        vertical-align: top;\n    }\n\n    .dataframe thead th {\n        text-align: right;\n    }\n</style>\n<table border=\"1\" class=\"dataframe\">\n  <thead>\n    <tr style=\"text-align: right;\">\n      <th></th>\n      <th>A</th>\n      <th>B</th>\n      <th>C</th>\n    </tr>\n  </thead>\n  <tbody>\n    <tr>\n      <th>0</th>\n      <td>1</td>\n      <td>NaN</td>\n      <td>2</td>\n    </tr>\n    <tr>\n      <th>1</th>\n      <td>NaN</td>\n      <td>3</td>\n      <td>4</td>\n    </tr>\n    <tr>\n      <th>2</th>\n      <td>5</td>\n      <td>6</td>\n      <td>None</td>\n    </tr>\n  </tbody>\n</table>\n</div>"
     },
     "execution_count": 174,
     "metadata": {},
     "output_type": "execute_result"
    }
   ],
   "source": [
    "import pandas as pd\n",
    "import numpy as np\n",
    "\n",
    "data = pd.DataFrame(np.array([[1, np.nan, 2],\n",
    "                              [np.nan, 3, 4],\n",
    "                              [5, 6, None]]), columns=[\"A\", \"B\", \"C\"])\n",
    "data"
   ]
  },
  {
   "cell_type": "markdown",
   "metadata": {},
   "source": [
    "需要我们注意的是当Dataframe中有None、字符串等，数据类型全部变为object，此时比int和float更消耗资源"
   ]
  },
  {
   "cell_type": "code",
   "execution_count": 175,
   "metadata": {
    "ExecuteTime": {
     "end_time": "2024-11-05T08:58:00.065760200Z",
     "start_time": "2024-11-05T08:57:58.368355100Z"
    }
   },
   "outputs": [
    {
     "data": {
      "text/plain": "A    object\nB    object\nC    object\ndtype: object"
     },
     "execution_count": 175,
     "metadata": {},
     "output_type": "execute_result"
    }
   ],
   "source": [
    "data.dtypes"
   ]
  },
  {
   "cell_type": "code",
   "execution_count": 176,
   "metadata": {
    "scrolled": true,
    "ExecuteTime": {
     "end_time": "2024-11-05T08:58:00.088058400Z",
     "start_time": "2024-11-05T08:57:58.384425100Z"
    }
   },
   "outputs": [
    {
     "data": {
      "text/plain": "       A      B      C\n0  False   True  False\n1   True  False  False\n2  False  False   True",
      "text/html": "<div>\n<style scoped>\n    .dataframe tbody tr th:only-of-type {\n        vertical-align: middle;\n    }\n\n    .dataframe tbody tr th {\n        vertical-align: top;\n    }\n\n    .dataframe thead th {\n        text-align: right;\n    }\n</style>\n<table border=\"1\" class=\"dataframe\">\n  <thead>\n    <tr style=\"text-align: right;\">\n      <th></th>\n      <th>A</th>\n      <th>B</th>\n      <th>C</th>\n    </tr>\n  </thead>\n  <tbody>\n    <tr>\n      <th>0</th>\n      <td>False</td>\n      <td>True</td>\n      <td>False</td>\n    </tr>\n    <tr>\n      <th>1</th>\n      <td>True</td>\n      <td>False</td>\n      <td>False</td>\n    </tr>\n    <tr>\n      <th>2</th>\n      <td>False</td>\n      <td>False</td>\n      <td>True</td>\n    </tr>\n  </tbody>\n</table>\n</div>"
     },
     "execution_count": 176,
     "metadata": {},
     "output_type": "execute_result"
    }
   ],
   "source": [
    "data.isnull()"
   ]
  },
  {
   "cell_type": "code",
   "execution_count": 177,
   "metadata": {
    "scrolled": true,
    "ExecuteTime": {
     "end_time": "2024-11-05T08:58:00.119870800Z",
     "start_time": "2024-11-05T08:57:58.399502700Z"
    }
   },
   "outputs": [
    {
     "data": {
      "text/plain": "       A      B      C\n0   True  False   True\n1  False   True   True\n2   True   True  False",
      "text/html": "<div>\n<style scoped>\n    .dataframe tbody tr th:only-of-type {\n        vertical-align: middle;\n    }\n\n    .dataframe tbody tr th {\n        vertical-align: top;\n    }\n\n    .dataframe thead th {\n        text-align: right;\n    }\n</style>\n<table border=\"1\" class=\"dataframe\">\n  <thead>\n    <tr style=\"text-align: right;\">\n      <th></th>\n      <th>A</th>\n      <th>B</th>\n      <th>C</th>\n    </tr>\n  </thead>\n  <tbody>\n    <tr>\n      <th>0</th>\n      <td>True</td>\n      <td>False</td>\n      <td>True</td>\n    </tr>\n    <tr>\n      <th>1</th>\n      <td>False</td>\n      <td>True</td>\n      <td>True</td>\n    </tr>\n    <tr>\n      <th>2</th>\n      <td>True</td>\n      <td>True</td>\n      <td>False</td>\n    </tr>\n  </tbody>\n</table>\n</div>"
     },
     "execution_count": 177,
     "metadata": {},
     "output_type": "execute_result"
    }
   ],
   "source": [
    "data.notnull()"
   ]
  },
  {
   "cell_type": "markdown",
   "metadata": {},
   "source": [
    "#### 4.2 删除缺失值"
   ]
  },
  {
   "cell_type": "code",
   "execution_count": 178,
   "metadata": {
    "scrolled": true,
    "ExecuteTime": {
     "end_time": "2024-11-05T08:58:00.262696500Z",
     "start_time": "2024-11-05T08:57:58.417528200Z"
    }
   },
   "outputs": [
    {
     "data": {
      "text/plain": "      A     B     C     D\n0   1.0   NaN   2.0   3.0\n1   NaN   4.0   5.0   6.0\n2   7.0   8.0   NaN   9.0\n3  10.0  11.0  12.0  13.0",
      "text/html": "<div>\n<style scoped>\n    .dataframe tbody tr th:only-of-type {\n        vertical-align: middle;\n    }\n\n    .dataframe tbody tr th {\n        vertical-align: top;\n    }\n\n    .dataframe thead th {\n        text-align: right;\n    }\n</style>\n<table border=\"1\" class=\"dataframe\">\n  <thead>\n    <tr style=\"text-align: right;\">\n      <th></th>\n      <th>A</th>\n      <th>B</th>\n      <th>C</th>\n      <th>D</th>\n    </tr>\n  </thead>\n  <tbody>\n    <tr>\n      <th>0</th>\n      <td>1.0</td>\n      <td>NaN</td>\n      <td>2.0</td>\n      <td>3.0</td>\n    </tr>\n    <tr>\n      <th>1</th>\n      <td>NaN</td>\n      <td>4.0</td>\n      <td>5.0</td>\n      <td>6.0</td>\n    </tr>\n    <tr>\n      <th>2</th>\n      <td>7.0</td>\n      <td>8.0</td>\n      <td>NaN</td>\n      <td>9.0</td>\n    </tr>\n    <tr>\n      <th>3</th>\n      <td>10.0</td>\n      <td>11.0</td>\n      <td>12.0</td>\n      <td>13.0</td>\n    </tr>\n  </tbody>\n</table>\n</div>"
     },
     "execution_count": 178,
     "metadata": {},
     "output_type": "execute_result"
    }
   ],
   "source": [
    "data = pd.DataFrame(np.array([[1, np.nan, 2, 3],\n",
    "                              [np.nan, 4, 5, 6],\n",
    "                              [7, 8, np.nan, 9],\n",
    "                              [10, 11, 12, 13]]), columns=[\"A\", \"B\", \"C\", \"D\"])\n",
    "data"
   ]
  },
  {
   "cell_type": "markdown",
   "metadata": {},
   "source": [
    "在pandas中np.nan是一种特殊的浮点数"
   ]
  },
  {
   "cell_type": "code",
   "execution_count": 179,
   "metadata": {
    "scrolled": true,
    "ExecuteTime": {
     "end_time": "2024-11-05T08:58:00.267966200Z",
     "start_time": "2024-11-05T08:57:58.445816400Z"
    }
   },
   "outputs": [
    {
     "data": {
      "text/plain": "A    float64\nB    float64\nC    float64\nD    float64\ndtype: object"
     },
     "execution_count": 179,
     "metadata": {},
     "output_type": "execute_result"
    }
   ],
   "source": [
    "data.dtypes"
   ]
  },
  {
   "cell_type": "markdown",
   "metadata": {},
   "source": [
    "1. 删除整行"
   ]
  },
  {
   "cell_type": "code",
   "execution_count": 180,
   "metadata": {
    "ExecuteTime": {
     "end_time": "2024-11-05T08:58:00.278631600Z",
     "start_time": "2024-11-05T08:57:58.462357400Z"
    }
   },
   "outputs": [
    {
     "data": {
      "text/plain": "      A     B     C     D\n3  10.0  11.0  12.0  13.0",
      "text/html": "<div>\n<style scoped>\n    .dataframe tbody tr th:only-of-type {\n        vertical-align: middle;\n    }\n\n    .dataframe tbody tr th {\n        vertical-align: top;\n    }\n\n    .dataframe thead th {\n        text-align: right;\n    }\n</style>\n<table border=\"1\" class=\"dataframe\">\n  <thead>\n    <tr style=\"text-align: right;\">\n      <th></th>\n      <th>A</th>\n      <th>B</th>\n      <th>C</th>\n      <th>D</th>\n    </tr>\n  </thead>\n  <tbody>\n    <tr>\n      <th>3</th>\n      <td>10.0</td>\n      <td>11.0</td>\n      <td>12.0</td>\n      <td>13.0</td>\n    </tr>\n  </tbody>\n</table>\n</div>"
     },
     "execution_count": 180,
     "metadata": {},
     "output_type": "execute_result"
    }
   ],
   "source": [
    "data.dropna()"
   ]
  },
  {
   "cell_type": "markdown",
   "metadata": {},
   "source": [
    "2. 删除整列"
   ]
  },
  {
   "cell_type": "code",
   "execution_count": 181,
   "metadata": {
    "scrolled": true,
    "ExecuteTime": {
     "end_time": "2024-11-05T08:58:00.279642300Z",
     "start_time": "2024-11-05T08:57:58.475537700Z"
    }
   },
   "outputs": [
    {
     "data": {
      "text/plain": "      D\n0   3.0\n1   6.0\n2   9.0\n3  13.0",
      "text/html": "<div>\n<style scoped>\n    .dataframe tbody tr th:only-of-type {\n        vertical-align: middle;\n    }\n\n    .dataframe tbody tr th {\n        vertical-align: top;\n    }\n\n    .dataframe thead th {\n        text-align: right;\n    }\n</style>\n<table border=\"1\" class=\"dataframe\">\n  <thead>\n    <tr style=\"text-align: right;\">\n      <th></th>\n      <th>D</th>\n    </tr>\n  </thead>\n  <tbody>\n    <tr>\n      <th>0</th>\n      <td>3.0</td>\n    </tr>\n    <tr>\n      <th>1</th>\n      <td>6.0</td>\n    </tr>\n    <tr>\n      <th>2</th>\n      <td>9.0</td>\n    </tr>\n    <tr>\n      <th>3</th>\n      <td>13.0</td>\n    </tr>\n  </tbody>\n</table>\n</div>"
     },
     "execution_count": 181,
     "metadata": {},
     "output_type": "execute_result"
    }
   ],
   "source": [
    "data.dropna(axis=\"columns\")"
   ]
  },
  {
   "cell_type": "code",
   "execution_count": 182,
   "metadata": {
    "scrolled": true,
    "ExecuteTime": {
     "end_time": "2024-11-05T08:58:00.315917200Z",
     "start_time": "2024-11-05T08:57:58.492585700Z"
    }
   },
   "outputs": [
    {
     "data": {
      "text/plain": "      A     B     C   D\n0   1.0   NaN   2.0 NaN\n1   NaN   4.0   5.0 NaN\n2   7.0   8.0   NaN NaN\n3  10.0  11.0  12.0 NaN",
      "text/html": "<div>\n<style scoped>\n    .dataframe tbody tr th:only-of-type {\n        vertical-align: middle;\n    }\n\n    .dataframe tbody tr th {\n        vertical-align: top;\n    }\n\n    .dataframe thead th {\n        text-align: right;\n    }\n</style>\n<table border=\"1\" class=\"dataframe\">\n  <thead>\n    <tr style=\"text-align: right;\">\n      <th></th>\n      <th>A</th>\n      <th>B</th>\n      <th>C</th>\n      <th>D</th>\n    </tr>\n  </thead>\n  <tbody>\n    <tr>\n      <th>0</th>\n      <td>1.0</td>\n      <td>NaN</td>\n      <td>2.0</td>\n      <td>NaN</td>\n    </tr>\n    <tr>\n      <th>1</th>\n      <td>NaN</td>\n      <td>4.0</td>\n      <td>5.0</td>\n      <td>NaN</td>\n    </tr>\n    <tr>\n      <th>2</th>\n      <td>7.0</td>\n      <td>8.0</td>\n      <td>NaN</td>\n      <td>NaN</td>\n    </tr>\n    <tr>\n      <th>3</th>\n      <td>10.0</td>\n      <td>11.0</td>\n      <td>12.0</td>\n      <td>NaN</td>\n    </tr>\n  </tbody>\n</table>\n</div>"
     },
     "execution_count": 182,
     "metadata": {},
     "output_type": "execute_result"
    }
   ],
   "source": [
    "data[\"D\"] = np.nan\n",
    "data"
   ]
  },
  {
   "cell_type": "code",
   "execution_count": 183,
   "metadata": {
    "scrolled": true,
    "ExecuteTime": {
     "end_time": "2024-11-05T08:58:00.315917200Z",
     "start_time": "2024-11-05T08:57:58.508546800Z"
    }
   },
   "outputs": [
    {
     "data": {
      "text/plain": "      A     B     C\n0   1.0   NaN   2.0\n1   NaN   4.0   5.0\n2   7.0   8.0   NaN\n3  10.0  11.0  12.0",
      "text/html": "<div>\n<style scoped>\n    .dataframe tbody tr th:only-of-type {\n        vertical-align: middle;\n    }\n\n    .dataframe tbody tr th {\n        vertical-align: top;\n    }\n\n    .dataframe thead th {\n        text-align: right;\n    }\n</style>\n<table border=\"1\" class=\"dataframe\">\n  <thead>\n    <tr style=\"text-align: right;\">\n      <th></th>\n      <th>A</th>\n      <th>B</th>\n      <th>C</th>\n    </tr>\n  </thead>\n  <tbody>\n    <tr>\n      <th>0</th>\n      <td>1.0</td>\n      <td>NaN</td>\n      <td>2.0</td>\n    </tr>\n    <tr>\n      <th>1</th>\n      <td>NaN</td>\n      <td>4.0</td>\n      <td>5.0</td>\n    </tr>\n    <tr>\n      <th>2</th>\n      <td>7.0</td>\n      <td>8.0</td>\n      <td>NaN</td>\n    </tr>\n    <tr>\n      <th>3</th>\n      <td>10.0</td>\n      <td>11.0</td>\n      <td>12.0</td>\n    </tr>\n  </tbody>\n</table>\n</div>"
     },
     "execution_count": 183,
     "metadata": {},
     "output_type": "execute_result"
    }
   ],
   "source": [
    "data.dropna(axis=\"columns\", how=\"all\")"
   ]
  },
  {
   "cell_type": "code",
   "execution_count": 184,
   "metadata": {
    "scrolled": false,
    "ExecuteTime": {
     "end_time": "2024-11-05T08:58:00.364868Z",
     "start_time": "2024-11-05T08:57:58.523591Z"
    }
   },
   "outputs": [
    {
     "data": {
      "text/plain": "Empty DataFrame\nColumns: []\nIndex: [0, 1, 2, 3]",
      "text/html": "<div>\n<style scoped>\n    .dataframe tbody tr th:only-of-type {\n        vertical-align: middle;\n    }\n\n    .dataframe tbody tr th {\n        vertical-align: top;\n    }\n\n    .dataframe thead th {\n        text-align: right;\n    }\n</style>\n<table border=\"1\" class=\"dataframe\">\n  <thead>\n    <tr style=\"text-align: right;\">\n      <th></th>\n    </tr>\n  </thead>\n  <tbody>\n    <tr>\n      <th>0</th>\n    </tr>\n    <tr>\n      <th>1</th>\n    </tr>\n    <tr>\n      <th>2</th>\n    </tr>\n    <tr>\n      <th>3</th>\n    </tr>\n  </tbody>\n</table>\n</div>"
     },
     "execution_count": 184,
     "metadata": {},
     "output_type": "execute_result"
    }
   ],
   "source": [
    "data.dropna(axis=\"columns\", how=\"any\")"
   ]
  },
  {
   "cell_type": "code",
   "execution_count": 185,
   "metadata": {
    "scrolled": true,
    "ExecuteTime": {
     "end_time": "2024-11-05T08:58:00.369548600Z",
     "start_time": "2024-11-05T08:57:58.539894400Z"
    }
   },
   "outputs": [
    {
     "data": {
      "text/plain": "     A    B    C   D\n0  1.0  NaN  2.0 NaN\n1  NaN  4.0  5.0 NaN\n2  7.0  8.0  NaN NaN\n3  NaN  NaN  NaN NaN",
      "text/html": "<div>\n<style scoped>\n    .dataframe tbody tr th:only-of-type {\n        vertical-align: middle;\n    }\n\n    .dataframe tbody tr th {\n        vertical-align: top;\n    }\n\n    .dataframe thead th {\n        text-align: right;\n    }\n</style>\n<table border=\"1\" class=\"dataframe\">\n  <thead>\n    <tr style=\"text-align: right;\">\n      <th></th>\n      <th>A</th>\n      <th>B</th>\n      <th>C</th>\n      <th>D</th>\n    </tr>\n  </thead>\n  <tbody>\n    <tr>\n      <th>0</th>\n      <td>1.0</td>\n      <td>NaN</td>\n      <td>2.0</td>\n      <td>NaN</td>\n    </tr>\n    <tr>\n      <th>1</th>\n      <td>NaN</td>\n      <td>4.0</td>\n      <td>5.0</td>\n      <td>NaN</td>\n    </tr>\n    <tr>\n      <th>2</th>\n      <td>7.0</td>\n      <td>8.0</td>\n      <td>NaN</td>\n      <td>NaN</td>\n    </tr>\n    <tr>\n      <th>3</th>\n      <td>NaN</td>\n      <td>NaN</td>\n      <td>NaN</td>\n      <td>NaN</td>\n    </tr>\n  </tbody>\n</table>\n</div>"
     },
     "execution_count": 185,
     "metadata": {},
     "output_type": "execute_result"
    }
   ],
   "source": [
    "data.loc[3] = np.nan\n",
    "data"
   ]
  },
  {
   "cell_type": "code",
   "execution_count": 186,
   "metadata": {
    "ExecuteTime": {
     "end_time": "2024-11-05T08:58:00.386676800Z",
     "start_time": "2024-11-05T08:57:58.554741100Z"
    }
   },
   "outputs": [
    {
     "data": {
      "text/plain": "     A    B    C   D\n0  1.0  NaN  2.0 NaN\n1  NaN  4.0  5.0 NaN\n2  7.0  8.0  NaN NaN",
      "text/html": "<div>\n<style scoped>\n    .dataframe tbody tr th:only-of-type {\n        vertical-align: middle;\n    }\n\n    .dataframe tbody tr th {\n        vertical-align: top;\n    }\n\n    .dataframe thead th {\n        text-align: right;\n    }\n</style>\n<table border=\"1\" class=\"dataframe\">\n  <thead>\n    <tr style=\"text-align: right;\">\n      <th></th>\n      <th>A</th>\n      <th>B</th>\n      <th>C</th>\n      <th>D</th>\n    </tr>\n  </thead>\n  <tbody>\n    <tr>\n      <th>0</th>\n      <td>1.0</td>\n      <td>NaN</td>\n      <td>2.0</td>\n      <td>NaN</td>\n    </tr>\n    <tr>\n      <th>1</th>\n      <td>NaN</td>\n      <td>4.0</td>\n      <td>5.0</td>\n      <td>NaN</td>\n    </tr>\n    <tr>\n      <th>2</th>\n      <td>7.0</td>\n      <td>8.0</td>\n      <td>NaN</td>\n      <td>NaN</td>\n    </tr>\n  </tbody>\n</table>\n</div>"
     },
     "execution_count": 186,
     "metadata": {},
     "output_type": "execute_result"
    }
   ],
   "source": [
    "data.dropna(how=\"all\")"
   ]
  },
  {
   "cell_type": "markdown",
   "metadata": {},
   "source": [
    "3. 填充缺失值"
   ]
  },
  {
   "cell_type": "code",
   "execution_count": 187,
   "metadata": {
    "scrolled": true,
    "ExecuteTime": {
     "end_time": "2024-11-05T08:58:00.541644800Z",
     "start_time": "2024-11-05T08:57:58.571693500Z"
    }
   },
   "outputs": [
    {
     "data": {
      "text/plain": "      A     B     C     D\n0   1.0   NaN   2.0   3.0\n1   NaN   4.0   5.0   6.0\n2   7.0   8.0   NaN   9.0\n3  10.0  11.0  12.0  13.0",
      "text/html": "<div>\n<style scoped>\n    .dataframe tbody tr th:only-of-type {\n        vertical-align: middle;\n    }\n\n    .dataframe tbody tr th {\n        vertical-align: top;\n    }\n\n    .dataframe thead th {\n        text-align: right;\n    }\n</style>\n<table border=\"1\" class=\"dataframe\">\n  <thead>\n    <tr style=\"text-align: right;\">\n      <th></th>\n      <th>A</th>\n      <th>B</th>\n      <th>C</th>\n      <th>D</th>\n    </tr>\n  </thead>\n  <tbody>\n    <tr>\n      <th>0</th>\n      <td>1.0</td>\n      <td>NaN</td>\n      <td>2.0</td>\n      <td>3.0</td>\n    </tr>\n    <tr>\n      <th>1</th>\n      <td>NaN</td>\n      <td>4.0</td>\n      <td>5.0</td>\n      <td>6.0</td>\n    </tr>\n    <tr>\n      <th>2</th>\n      <td>7.0</td>\n      <td>8.0</td>\n      <td>NaN</td>\n      <td>9.0</td>\n    </tr>\n    <tr>\n      <th>3</th>\n      <td>10.0</td>\n      <td>11.0</td>\n      <td>12.0</td>\n      <td>13.0</td>\n    </tr>\n  </tbody>\n</table>\n</div>"
     },
     "execution_count": 187,
     "metadata": {},
     "output_type": "execute_result"
    }
   ],
   "source": [
    "data = pd.DataFrame(np.array([[1, np.nan, 2, 3],\n",
    "                              [np.nan, 4, 5, 6],\n",
    "                              [7, 8, np.nan, 9],\n",
    "                              [10, 11, 12, 13]]), columns=[\"A\", \"B\", \"C\", \"D\"])\n",
    "data"
   ]
  },
  {
   "cell_type": "code",
   "execution_count": 188,
   "metadata": {
    "scrolled": true,
    "ExecuteTime": {
     "end_time": "2024-11-05T08:58:00.545747400Z",
     "start_time": "2024-11-05T08:57:58.600663300Z"
    }
   },
   "outputs": [
    {
     "data": {
      "text/plain": "      A     B     C     D\n0   1.0   5.0   2.0   3.0\n1   5.0   4.0   5.0   6.0\n2   7.0   8.0   5.0   9.0\n3  10.0  11.0  12.0  13.0",
      "text/html": "<div>\n<style scoped>\n    .dataframe tbody tr th:only-of-type {\n        vertical-align: middle;\n    }\n\n    .dataframe tbody tr th {\n        vertical-align: top;\n    }\n\n    .dataframe thead th {\n        text-align: right;\n    }\n</style>\n<table border=\"1\" class=\"dataframe\">\n  <thead>\n    <tr style=\"text-align: right;\">\n      <th></th>\n      <th>A</th>\n      <th>B</th>\n      <th>C</th>\n      <th>D</th>\n    </tr>\n  </thead>\n  <tbody>\n    <tr>\n      <th>0</th>\n      <td>1.0</td>\n      <td>5.0</td>\n      <td>2.0</td>\n      <td>3.0</td>\n    </tr>\n    <tr>\n      <th>1</th>\n      <td>5.0</td>\n      <td>4.0</td>\n      <td>5.0</td>\n      <td>6.0</td>\n    </tr>\n    <tr>\n      <th>2</th>\n      <td>7.0</td>\n      <td>8.0</td>\n      <td>5.0</td>\n      <td>9.0</td>\n    </tr>\n    <tr>\n      <th>3</th>\n      <td>10.0</td>\n      <td>11.0</td>\n      <td>12.0</td>\n      <td>13.0</td>\n    </tr>\n  </tbody>\n</table>\n</div>"
     },
     "execution_count": 188,
     "metadata": {},
     "output_type": "execute_result"
    }
   ],
   "source": [
    "data.fillna(value=5)"
   ]
  },
  {
   "cell_type": "markdown",
   "metadata": {},
   "source": [
    "- 用均值进行替换"
   ]
  },
  {
   "cell_type": "code",
   "execution_count": 189,
   "metadata": {
    "ExecuteTime": {
     "end_time": "2024-11-05T08:58:00.557434100Z",
     "start_time": "2024-11-05T08:57:58.616892500Z"
    }
   },
   "outputs": [
    {
     "data": {
      "text/plain": "A    6.000000\nB    7.666667\nC    6.333333\nD    7.750000\ndtype: float64"
     },
     "execution_count": 189,
     "metadata": {},
     "output_type": "execute_result"
    }
   ],
   "source": [
    "fill = data.mean()\n",
    "fill"
   ]
  },
  {
   "cell_type": "code",
   "execution_count": 190,
   "metadata": {
    "scrolled": false,
    "ExecuteTime": {
     "end_time": "2024-11-05T08:58:00.558469Z",
     "start_time": "2024-11-05T08:57:58.630669900Z"
    }
   },
   "outputs": [
    {
     "data": {
      "text/plain": "      A          B          C     D\n0   1.0   7.666667   2.000000   3.0\n1   6.0   4.000000   5.000000   6.0\n2   7.0   8.000000   6.333333   9.0\n3  10.0  11.000000  12.000000  13.0",
      "text/html": "<div>\n<style scoped>\n    .dataframe tbody tr th:only-of-type {\n        vertical-align: middle;\n    }\n\n    .dataframe tbody tr th {\n        vertical-align: top;\n    }\n\n    .dataframe thead th {\n        text-align: right;\n    }\n</style>\n<table border=\"1\" class=\"dataframe\">\n  <thead>\n    <tr style=\"text-align: right;\">\n      <th></th>\n      <th>A</th>\n      <th>B</th>\n      <th>C</th>\n      <th>D</th>\n    </tr>\n  </thead>\n  <tbody>\n    <tr>\n      <th>0</th>\n      <td>1.0</td>\n      <td>7.666667</td>\n      <td>2.000000</td>\n      <td>3.0</td>\n    </tr>\n    <tr>\n      <th>1</th>\n      <td>6.0</td>\n      <td>4.000000</td>\n      <td>5.000000</td>\n      <td>6.0</td>\n    </tr>\n    <tr>\n      <th>2</th>\n      <td>7.0</td>\n      <td>8.000000</td>\n      <td>6.333333</td>\n      <td>9.0</td>\n    </tr>\n    <tr>\n      <th>3</th>\n      <td>10.0</td>\n      <td>11.000000</td>\n      <td>12.000000</td>\n      <td>13.0</td>\n    </tr>\n  </tbody>\n</table>\n</div>"
     },
     "execution_count": 190,
     "metadata": {},
     "output_type": "execute_result"
    }
   ],
   "source": [
    "data.fillna(value=fill)"
   ]
  },
  {
   "cell_type": "code",
   "execution_count": 191,
   "metadata": {
    "ExecuteTime": {
     "end_time": "2024-11-05T08:58:00.597968100Z",
     "start_time": "2024-11-05T08:57:58.646909900Z"
    }
   },
   "outputs": [
    {
     "data": {
      "text/plain": "7.0"
     },
     "execution_count": 191,
     "metadata": {},
     "output_type": "execute_result"
    }
   ],
   "source": [
    "fill = data.stack().mean()\n",
    "fill"
   ]
  },
  {
   "cell_type": "code",
   "execution_count": 192,
   "metadata": {
    "ExecuteTime": {
     "end_time": "2024-11-05T08:58:00.652360100Z",
     "start_time": "2024-11-05T08:57:58.663464Z"
    }
   },
   "outputs": [
    {
     "data": {
      "text/plain": "      A     B     C     D\n0   1.0   7.0   2.0   3.0\n1   7.0   4.0   5.0   6.0\n2   7.0   8.0   7.0   9.0\n3  10.0  11.0  12.0  13.0",
      "text/html": "<div>\n<style scoped>\n    .dataframe tbody tr th:only-of-type {\n        vertical-align: middle;\n    }\n\n    .dataframe tbody tr th {\n        vertical-align: top;\n    }\n\n    .dataframe thead th {\n        text-align: right;\n    }\n</style>\n<table border=\"1\" class=\"dataframe\">\n  <thead>\n    <tr style=\"text-align: right;\">\n      <th></th>\n      <th>A</th>\n      <th>B</th>\n      <th>C</th>\n      <th>D</th>\n    </tr>\n  </thead>\n  <tbody>\n    <tr>\n      <th>0</th>\n      <td>1.0</td>\n      <td>7.0</td>\n      <td>2.0</td>\n      <td>3.0</td>\n    </tr>\n    <tr>\n      <th>1</th>\n      <td>7.0</td>\n      <td>4.0</td>\n      <td>5.0</td>\n      <td>6.0</td>\n    </tr>\n    <tr>\n      <th>2</th>\n      <td>7.0</td>\n      <td>8.0</td>\n      <td>7.0</td>\n      <td>9.0</td>\n    </tr>\n    <tr>\n      <th>3</th>\n      <td>10.0</td>\n      <td>11.0</td>\n      <td>12.0</td>\n      <td>13.0</td>\n    </tr>\n  </tbody>\n</table>\n</div>"
     },
     "execution_count": 192,
     "metadata": {},
     "output_type": "execute_result"
    }
   ],
   "source": [
    "data.fillna(value=fill)"
   ]
  },
  {
   "cell_type": "markdown",
   "metadata": {},
   "source": [
    "### 5. 合并数据"
   ]
  },
  {
   "cell_type": "markdown",
   "metadata": {},
   "source": [
    "为后续演示方便，在这里我们首先构造一个生产DataFrame的函数"
   ]
  },
  {
   "cell_type": "code",
   "execution_count": 193,
   "metadata": {
    "scrolled": true,
    "ExecuteTime": {
     "end_time": "2024-11-05T08:58:00.652360100Z",
     "start_time": "2024-11-05T08:57:58.678625800Z"
    }
   },
   "outputs": [
    {
     "data": {
      "text/plain": "    A   B   C\n0  A0  B0  C0\n1  A1  B1  C1\n2  A2  B2  C2",
      "text/html": "<div>\n<style scoped>\n    .dataframe tbody tr th:only-of-type {\n        vertical-align: middle;\n    }\n\n    .dataframe tbody tr th {\n        vertical-align: top;\n    }\n\n    .dataframe thead th {\n        text-align: right;\n    }\n</style>\n<table border=\"1\" class=\"dataframe\">\n  <thead>\n    <tr style=\"text-align: right;\">\n      <th></th>\n      <th>A</th>\n      <th>B</th>\n      <th>C</th>\n    </tr>\n  </thead>\n  <tbody>\n    <tr>\n      <th>0</th>\n      <td>A0</td>\n      <td>B0</td>\n      <td>C0</td>\n    </tr>\n    <tr>\n      <th>1</th>\n      <td>A1</td>\n      <td>B1</td>\n      <td>C1</td>\n    </tr>\n    <tr>\n      <th>2</th>\n      <td>A2</td>\n      <td>B2</td>\n      <td>C2</td>\n    </tr>\n  </tbody>\n</table>\n</div>"
     },
     "execution_count": 193,
     "metadata": {},
     "output_type": "execute_result"
    }
   ],
   "source": [
    "import pandas as pd\n",
    "import numpy as np\n",
    "\n",
    "\n",
    "def make_df(cols, ind):\n",
    "    \"一个简单的DataFrame\"\n",
    "    data = {c: [str(c) + str(i) for i in ind] for c in cols}\n",
    "    return pd.DataFrame(data, ind)\n",
    "\n",
    "\n",
    "make_df(\"ABC\", range(3))"
   ]
  },
  {
   "cell_type": "markdown",
   "metadata": {},
   "source": [
    "#### 5.1 垂直合并"
   ]
  },
  {
   "cell_type": "code",
   "execution_count": 194,
   "metadata": {
    "scrolled": true,
    "ExecuteTime": {
     "end_time": "2024-11-05T08:58:00.688603900Z",
     "start_time": "2024-11-05T08:57:58.693738600Z"
    }
   },
   "outputs": [
    {
     "name": "stdout",
     "output_type": "stream",
     "text": [
      "    A   B\n",
      "1  A1  B1\n",
      "2  A2  B2\n",
      "    A   B\n",
      "3  A3  B3\n",
      "4  A4  B4\n"
     ]
    }
   ],
   "source": [
    "df_1 = make_df(\"AB\", [1, 2])\n",
    "df_2 = make_df(\"AB\", [3, 4])\n",
    "print(df_1)\n",
    "print(df_2)"
   ]
  },
  {
   "cell_type": "code",
   "execution_count": 195,
   "metadata": {
    "scrolled": true,
    "ExecuteTime": {
     "end_time": "2024-11-05T08:58:00.689606500Z",
     "start_time": "2024-11-05T08:57:58.710281700Z"
    }
   },
   "outputs": [
    {
     "data": {
      "text/plain": "    A   B\n1  A1  B1\n2  A2  B2\n3  A3  B3\n4  A4  B4",
      "text/html": "<div>\n<style scoped>\n    .dataframe tbody tr th:only-of-type {\n        vertical-align: middle;\n    }\n\n    .dataframe tbody tr th {\n        vertical-align: top;\n    }\n\n    .dataframe thead th {\n        text-align: right;\n    }\n</style>\n<table border=\"1\" class=\"dataframe\">\n  <thead>\n    <tr style=\"text-align: right;\">\n      <th></th>\n      <th>A</th>\n      <th>B</th>\n    </tr>\n  </thead>\n  <tbody>\n    <tr>\n      <th>1</th>\n      <td>A1</td>\n      <td>B1</td>\n    </tr>\n    <tr>\n      <th>2</th>\n      <td>A2</td>\n      <td>B2</td>\n    </tr>\n    <tr>\n      <th>3</th>\n      <td>A3</td>\n      <td>B3</td>\n    </tr>\n    <tr>\n      <th>4</th>\n      <td>A4</td>\n      <td>B4</td>\n    </tr>\n  </tbody>\n</table>\n</div>"
     },
     "execution_count": 195,
     "metadata": {},
     "output_type": "execute_result"
    }
   ],
   "source": [
    "pd.concat([df_1, df_2])"
   ]
  },
  {
   "cell_type": "markdown",
   "metadata": {},
   "source": [
    "#### 5.2 水平合并"
   ]
  },
  {
   "cell_type": "code",
   "execution_count": 196,
   "metadata": {
    "ExecuteTime": {
     "end_time": "2024-11-05T08:58:00.814537400Z",
     "start_time": "2024-11-05T08:57:58.725691800Z"
    }
   },
   "outputs": [
    {
     "name": "stdout",
     "output_type": "stream",
     "text": [
      "    A   B\n",
      "0  A0  B0\n",
      "1  A1  B1\n",
      "    C   D\n",
      "0  C0  D0\n",
      "1  C1  D1\n"
     ]
    }
   ],
   "source": [
    "df_3 = make_df(\"AB\", [0, 1])\n",
    "df_4 = make_df(\"CD\", [0, 1])\n",
    "print(df_3)\n",
    "print(df_4)"
   ]
  },
  {
   "cell_type": "code",
   "execution_count": 197,
   "metadata": {
    "scrolled": true,
    "ExecuteTime": {
     "end_time": "2024-11-05T08:58:00.815548500Z",
     "start_time": "2024-11-05T08:57:58.741305300Z"
    }
   },
   "outputs": [
    {
     "data": {
      "text/plain": "    A   B   C   D\n0  A0  B0  C0  D0\n1  A1  B1  C1  D1",
      "text/html": "<div>\n<style scoped>\n    .dataframe tbody tr th:only-of-type {\n        vertical-align: middle;\n    }\n\n    .dataframe tbody tr th {\n        vertical-align: top;\n    }\n\n    .dataframe thead th {\n        text-align: right;\n    }\n</style>\n<table border=\"1\" class=\"dataframe\">\n  <thead>\n    <tr style=\"text-align: right;\">\n      <th></th>\n      <th>A</th>\n      <th>B</th>\n      <th>C</th>\n      <th>D</th>\n    </tr>\n  </thead>\n  <tbody>\n    <tr>\n      <th>0</th>\n      <td>A0</td>\n      <td>B0</td>\n      <td>C0</td>\n      <td>D0</td>\n    </tr>\n    <tr>\n      <th>1</th>\n      <td>A1</td>\n      <td>B1</td>\n      <td>C1</td>\n      <td>D1</td>\n    </tr>\n  </tbody>\n</table>\n</div>"
     },
     "execution_count": 197,
     "metadata": {},
     "output_type": "execute_result"
    }
   ],
   "source": [
    "pd.concat([df_3, df_4], axis=1)"
   ]
  },
  {
   "cell_type": "markdown",
   "metadata": {},
   "source": [
    "#### 5.3 索引重叠的相关操作\n",
    "\n",
    "1. 行重叠"
   ]
  },
  {
   "cell_type": "code",
   "execution_count": 198,
   "metadata": {
    "scrolled": true,
    "ExecuteTime": {
     "end_time": "2024-11-05T08:58:00.830039200Z",
     "start_time": "2024-11-05T08:57:58.756848300Z"
    }
   },
   "outputs": [
    {
     "name": "stdout",
     "output_type": "stream",
     "text": [
      "    A   B\n",
      "1  A1  B1\n",
      "2  A2  B2\n",
      "    A   B\n",
      "1  A1  B1\n",
      "2  A2  B2\n"
     ]
    }
   ],
   "source": [
    "df_5 = make_df(\"AB\", [1, 2])\n",
    "df_6 = make_df(\"AB\", [1, 2])\n",
    "print(df_5)\n",
    "print(df_6)"
   ]
  },
  {
   "cell_type": "code",
   "execution_count": 199,
   "metadata": {
    "scrolled": false,
    "ExecuteTime": {
     "end_time": "2024-11-05T08:58:01.046342700Z",
     "start_time": "2024-11-05T08:57:58.772573400Z"
    }
   },
   "outputs": [
    {
     "data": {
      "text/plain": "    A   B\n1  A1  B1\n2  A2  B2\n1  A1  B1\n2  A2  B2",
      "text/html": "<div>\n<style scoped>\n    .dataframe tbody tr th:only-of-type {\n        vertical-align: middle;\n    }\n\n    .dataframe tbody tr th {\n        vertical-align: top;\n    }\n\n    .dataframe thead th {\n        text-align: right;\n    }\n</style>\n<table border=\"1\" class=\"dataframe\">\n  <thead>\n    <tr style=\"text-align: right;\">\n      <th></th>\n      <th>A</th>\n      <th>B</th>\n    </tr>\n  </thead>\n  <tbody>\n    <tr>\n      <th>1</th>\n      <td>A1</td>\n      <td>B1</td>\n    </tr>\n    <tr>\n      <th>2</th>\n      <td>A2</td>\n      <td>B2</td>\n    </tr>\n    <tr>\n      <th>1</th>\n      <td>A1</td>\n      <td>B1</td>\n    </tr>\n    <tr>\n      <th>2</th>\n      <td>A2</td>\n      <td>B2</td>\n    </tr>\n  </tbody>\n</table>\n</div>"
     },
     "execution_count": 199,
     "metadata": {},
     "output_type": "execute_result"
    }
   ],
   "source": [
    "pd.concat([df_5, df_6])"
   ]
  },
  {
   "cell_type": "code",
   "execution_count": 200,
   "metadata": {
    "scrolled": false,
    "ExecuteTime": {
     "end_time": "2024-11-05T08:58:01.047502500Z",
     "start_time": "2024-11-05T08:57:58.787225900Z"
    }
   },
   "outputs": [
    {
     "data": {
      "text/plain": "    A   B\n0  A1  B1\n1  A2  B2\n2  A1  B1\n3  A2  B2",
      "text/html": "<div>\n<style scoped>\n    .dataframe tbody tr th:only-of-type {\n        vertical-align: middle;\n    }\n\n    .dataframe tbody tr th {\n        vertical-align: top;\n    }\n\n    .dataframe thead th {\n        text-align: right;\n    }\n</style>\n<table border=\"1\" class=\"dataframe\">\n  <thead>\n    <tr style=\"text-align: right;\">\n      <th></th>\n      <th>A</th>\n      <th>B</th>\n    </tr>\n  </thead>\n  <tbody>\n    <tr>\n      <th>0</th>\n      <td>A1</td>\n      <td>B1</td>\n    </tr>\n    <tr>\n      <th>1</th>\n      <td>A2</td>\n      <td>B2</td>\n    </tr>\n    <tr>\n      <th>2</th>\n      <td>A1</td>\n      <td>B1</td>\n    </tr>\n    <tr>\n      <th>3</th>\n      <td>A2</td>\n      <td>B2</td>\n    </tr>\n  </tbody>\n</table>\n</div>"
     },
     "execution_count": 200,
     "metadata": {},
     "output_type": "execute_result"
    }
   ],
   "source": [
    "pd.concat([df_5, df_6], ignore_index=True)"
   ]
  },
  {
   "cell_type": "markdown",
   "metadata": {},
   "source": [
    "2. 列重叠"
   ]
  },
  {
   "cell_type": "code",
   "execution_count": 201,
   "metadata": {
    "scrolled": true,
    "ExecuteTime": {
     "end_time": "2024-11-05T08:58:01.048458700Z",
     "start_time": "2024-11-05T08:57:58.801541300Z"
    }
   },
   "outputs": [
    {
     "name": "stdout",
     "output_type": "stream",
     "text": [
      "    A   B   C\n",
      "1  A1  B1  C1\n",
      "2  A2  B2  C2\n",
      "    B   C   D\n",
      "1  B1  C1  D1\n",
      "2  B2  C2  D2\n"
     ]
    }
   ],
   "source": [
    "df_7 = make_df(\"ABC\", [1, 2])\n",
    "df_8 = make_df(\"BCD\", [1, 2])\n",
    "print(df_7)\n",
    "print(df_8)"
   ]
  },
  {
   "cell_type": "code",
   "execution_count": 202,
   "metadata": {
    "scrolled": false,
    "ExecuteTime": {
     "end_time": "2024-11-05T08:58:01.122294900Z",
     "start_time": "2024-11-05T08:57:58.818321800Z"
    }
   },
   "outputs": [
    {
     "data": {
      "text/plain": "    A   B   C   B   C   D\n1  A1  B1  C1  B1  C1  D1\n2  A2  B2  C2  B2  C2  D2",
      "text/html": "<div>\n<style scoped>\n    .dataframe tbody tr th:only-of-type {\n        vertical-align: middle;\n    }\n\n    .dataframe tbody tr th {\n        vertical-align: top;\n    }\n\n    .dataframe thead th {\n        text-align: right;\n    }\n</style>\n<table border=\"1\" class=\"dataframe\">\n  <thead>\n    <tr style=\"text-align: right;\">\n      <th></th>\n      <th>A</th>\n      <th>B</th>\n      <th>C</th>\n      <th>B</th>\n      <th>C</th>\n      <th>D</th>\n    </tr>\n  </thead>\n  <tbody>\n    <tr>\n      <th>1</th>\n      <td>A1</td>\n      <td>B1</td>\n      <td>C1</td>\n      <td>B1</td>\n      <td>C1</td>\n      <td>D1</td>\n    </tr>\n    <tr>\n      <th>2</th>\n      <td>A2</td>\n      <td>B2</td>\n      <td>C2</td>\n      <td>B2</td>\n      <td>C2</td>\n      <td>D2</td>\n    </tr>\n  </tbody>\n</table>\n</div>"
     },
     "execution_count": 202,
     "metadata": {},
     "output_type": "execute_result"
    }
   ],
   "source": [
    "pd.concat([df_7, df_8], axis=1)"
   ]
  },
  {
   "cell_type": "code",
   "execution_count": 203,
   "metadata": {
    "scrolled": false,
    "ExecuteTime": {
     "end_time": "2024-11-05T08:58:01.123644400Z",
     "start_time": "2024-11-05T08:57:58.832493700Z"
    }
   },
   "outputs": [
    {
     "data": {
      "text/plain": "    0   1   2   3   4   5\n1  A1  B1  C1  B1  C1  D1\n2  A2  B2  C2  B2  C2  D2",
      "text/html": "<div>\n<style scoped>\n    .dataframe tbody tr th:only-of-type {\n        vertical-align: middle;\n    }\n\n    .dataframe tbody tr th {\n        vertical-align: top;\n    }\n\n    .dataframe thead th {\n        text-align: right;\n    }\n</style>\n<table border=\"1\" class=\"dataframe\">\n  <thead>\n    <tr style=\"text-align: right;\">\n      <th></th>\n      <th>0</th>\n      <th>1</th>\n      <th>2</th>\n      <th>3</th>\n      <th>4</th>\n      <th>5</th>\n    </tr>\n  </thead>\n  <tbody>\n    <tr>\n      <th>1</th>\n      <td>A1</td>\n      <td>B1</td>\n      <td>C1</td>\n      <td>B1</td>\n      <td>C1</td>\n      <td>D1</td>\n    </tr>\n    <tr>\n      <th>2</th>\n      <td>A2</td>\n      <td>B2</td>\n      <td>C2</td>\n      <td>B2</td>\n      <td>C2</td>\n      <td>D2</td>\n    </tr>\n  </tbody>\n</table>\n</div>"
     },
     "execution_count": 203,
     "metadata": {},
     "output_type": "execute_result"
    }
   ],
   "source": [
    "pd.concat([df_7, df_8], axis=1, ignore_index=True)"
   ]
  },
  {
   "cell_type": "markdown",
   "metadata": {},
   "source": [
    "3. 对齐合并merge()"
   ]
  },
  {
   "cell_type": "code",
   "execution_count": 204,
   "metadata": {
    "ExecuteTime": {
     "end_time": "2024-11-05T08:58:01.124513300Z",
     "start_time": "2024-11-05T08:57:58.849816700Z"
    }
   },
   "outputs": [
    {
     "name": "stdout",
     "output_type": "stream",
     "text": [
      "    A   B\n",
      "1  A1  B1\n",
      "2  A2  B2\n",
      "    B   C\n",
      "1  B1  C1\n",
      "2  B2  C2\n"
     ]
    }
   ],
   "source": [
    "df_9 = make_df(\"AB\", [1, 2])\n",
    "df_10 = make_df(\"BC\", [1, 2])\n",
    "print(df_9)\n",
    "print(df_10)"
   ]
  },
  {
   "cell_type": "code",
   "execution_count": 205,
   "metadata": {
    "scrolled": false,
    "ExecuteTime": {
     "end_time": "2024-11-05T08:58:01.189612700Z",
     "start_time": "2024-11-05T08:57:58.864596100Z"
    }
   },
   "outputs": [
    {
     "data": {
      "text/plain": "    A   B   C\n0  A1  B1  C1\n1  A2  B2  C2",
      "text/html": "<div>\n<style scoped>\n    .dataframe tbody tr th:only-of-type {\n        vertical-align: middle;\n    }\n\n    .dataframe tbody tr th {\n        vertical-align: top;\n    }\n\n    .dataframe thead th {\n        text-align: right;\n    }\n</style>\n<table border=\"1\" class=\"dataframe\">\n  <thead>\n    <tr style=\"text-align: right;\">\n      <th></th>\n      <th>A</th>\n      <th>B</th>\n      <th>C</th>\n    </tr>\n  </thead>\n  <tbody>\n    <tr>\n      <th>0</th>\n      <td>A1</td>\n      <td>B1</td>\n      <td>C1</td>\n    </tr>\n    <tr>\n      <th>1</th>\n      <td>A2</td>\n      <td>B2</td>\n      <td>C2</td>\n    </tr>\n  </tbody>\n</table>\n</div>"
     },
     "execution_count": 205,
     "metadata": {},
     "output_type": "execute_result"
    }
   ],
   "source": [
    "pd.merge(df_9, df_10)"
   ]
  },
  {
   "cell_type": "code",
   "execution_count": 206,
   "metadata": {
    "scrolled": true,
    "ExecuteTime": {
     "end_time": "2024-11-05T08:58:01.189612700Z",
     "start_time": "2024-11-05T08:57:58.881512300Z"
    }
   },
   "outputs": [
    {
     "name": "stdout",
     "output_type": "stream",
     "text": [
      "    A   B\n",
      "1  A1  B1\n",
      "2  A2  B2\n",
      "    C   B\n",
      "2  C2  B2\n",
      "1  C1  B1\n"
     ]
    }
   ],
   "source": [
    "df_9 = make_df(\"AB\", [1, 2])\n",
    "df_10 = make_df(\"CB\", [2, 1])\n",
    "print(df_9)\n",
    "print(df_10)"
   ]
  },
  {
   "cell_type": "code",
   "execution_count": 207,
   "metadata": {
    "scrolled": false,
    "ExecuteTime": {
     "end_time": "2024-11-05T08:58:01.190566900Z",
     "start_time": "2024-11-05T08:57:58.897623700Z"
    }
   },
   "outputs": [
    {
     "data": {
      "text/plain": "    A   B   C\n0  A1  B1  C1\n1  A2  B2  C2",
      "text/html": "<div>\n<style scoped>\n    .dataframe tbody tr th:only-of-type {\n        vertical-align: middle;\n    }\n\n    .dataframe tbody tr th {\n        vertical-align: top;\n    }\n\n    .dataframe thead th {\n        text-align: right;\n    }\n</style>\n<table border=\"1\" class=\"dataframe\">\n  <thead>\n    <tr style=\"text-align: right;\">\n      <th></th>\n      <th>A</th>\n      <th>B</th>\n      <th>C</th>\n    </tr>\n  </thead>\n  <tbody>\n    <tr>\n      <th>0</th>\n      <td>A1</td>\n      <td>B1</td>\n      <td>C1</td>\n    </tr>\n    <tr>\n      <th>1</th>\n      <td>A2</td>\n      <td>B2</td>\n      <td>C2</td>\n    </tr>\n  </tbody>\n</table>\n</div>"
     },
     "execution_count": 207,
     "metadata": {},
     "output_type": "execute_result"
    }
   ],
   "source": [
    "pd.merge(df_9, df_10)"
   ]
  },
  {
   "cell_type": "markdown",
   "metadata": {},
   "source": [
    "【例】 合并城市信息"
   ]
  },
  {
   "cell_type": "code",
   "execution_count": 208,
   "metadata": {
    "ExecuteTime": {
     "end_time": "2024-11-05T08:58:01.191615500Z",
     "start_time": "2024-11-05T08:57:58.914874900Z"
    }
   },
   "outputs": [
    {
     "data": {
      "text/plain": "       city   pop\n0   BeiJing  2154\n1  HangZhou   981\n2  ShenZhen  1303",
      "text/html": "<div>\n<style scoped>\n    .dataframe tbody tr th:only-of-type {\n        vertical-align: middle;\n    }\n\n    .dataframe tbody tr th {\n        vertical-align: top;\n    }\n\n    .dataframe thead th {\n        text-align: right;\n    }\n</style>\n<table border=\"1\" class=\"dataframe\">\n  <thead>\n    <tr style=\"text-align: right;\">\n      <th></th>\n      <th>city</th>\n      <th>pop</th>\n    </tr>\n  </thead>\n  <tbody>\n    <tr>\n      <th>0</th>\n      <td>BeiJing</td>\n      <td>2154</td>\n    </tr>\n    <tr>\n      <th>1</th>\n      <td>HangZhou</td>\n      <td>981</td>\n    </tr>\n    <tr>\n      <th>2</th>\n      <td>ShenZhen</td>\n      <td>1303</td>\n    </tr>\n  </tbody>\n</table>\n</div>"
     },
     "execution_count": 208,
     "metadata": {},
     "output_type": "execute_result"
    }
   ],
   "source": [
    "population_dict = {\"city\": (\"BeiJing\", \"HangZhou\", \"ShenZhen\"),\n",
    "                   \"pop\": (2154, 981, 1303)}\n",
    "population = pd.DataFrame(population_dict)\n",
    "population"
   ]
  },
  {
   "cell_type": "code",
   "execution_count": 209,
   "metadata": {
    "ExecuteTime": {
     "end_time": "2024-11-05T08:58:01.192278300Z",
     "start_time": "2024-11-05T08:57:58.930519100Z"
    }
   },
   "outputs": [
    {
     "data": {
      "text/plain": "       city    GDP\n0   BeiJing  30320\n1  ShangHai  32680\n2  HangZhou  13468",
      "text/html": "<div>\n<style scoped>\n    .dataframe tbody tr th:only-of-type {\n        vertical-align: middle;\n    }\n\n    .dataframe tbody tr th {\n        vertical-align: top;\n    }\n\n    .dataframe thead th {\n        text-align: right;\n    }\n</style>\n<table border=\"1\" class=\"dataframe\">\n  <thead>\n    <tr style=\"text-align: right;\">\n      <th></th>\n      <th>city</th>\n      <th>GDP</th>\n    </tr>\n  </thead>\n  <tbody>\n    <tr>\n      <th>0</th>\n      <td>BeiJing</td>\n      <td>30320</td>\n    </tr>\n    <tr>\n      <th>1</th>\n      <td>ShangHai</td>\n      <td>32680</td>\n    </tr>\n    <tr>\n      <th>2</th>\n      <td>HangZhou</td>\n      <td>13468</td>\n    </tr>\n  </tbody>\n</table>\n</div>"
     },
     "execution_count": 209,
     "metadata": {},
     "output_type": "execute_result"
    }
   ],
   "source": [
    "GDP_dict = {\"city\": (\"BeiJing\", \"ShangHai\", \"HangZhou\"),\n",
    "            \"GDP\": (30320, 32680, 13468)}\n",
    "GDP = pd.DataFrame(GDP_dict)\n",
    "GDP"
   ]
  },
  {
   "cell_type": "code",
   "execution_count": 210,
   "metadata": {
    "scrolled": true,
    "ExecuteTime": {
     "end_time": "2024-11-05T08:58:01.192278300Z",
     "start_time": "2024-11-05T08:57:58.943287700Z"
    }
   },
   "outputs": [
    {
     "data": {
      "text/plain": "       city   pop    GDP\n0   BeiJing  2154  30320\n1  HangZhou   981  13468",
      "text/html": "<div>\n<style scoped>\n    .dataframe tbody tr th:only-of-type {\n        vertical-align: middle;\n    }\n\n    .dataframe tbody tr th {\n        vertical-align: top;\n    }\n\n    .dataframe thead th {\n        text-align: right;\n    }\n</style>\n<table border=\"1\" class=\"dataframe\">\n  <thead>\n    <tr style=\"text-align: right;\">\n      <th></th>\n      <th>city</th>\n      <th>pop</th>\n      <th>GDP</th>\n    </tr>\n  </thead>\n  <tbody>\n    <tr>\n      <th>0</th>\n      <td>BeiJing</td>\n      <td>2154</td>\n      <td>30320</td>\n    </tr>\n    <tr>\n      <th>1</th>\n      <td>HangZhou</td>\n      <td>981</td>\n      <td>13468</td>\n    </tr>\n  </tbody>\n</table>\n</div>"
     },
     "execution_count": 210,
     "metadata": {},
     "output_type": "execute_result"
    }
   ],
   "source": [
    "city_info = pd.merge(population, GDP)\n",
    "city_info"
   ]
  },
  {
   "cell_type": "code",
   "execution_count": 211,
   "metadata": {
    "scrolled": true,
    "ExecuteTime": {
     "end_time": "2024-11-05T08:58:01.259578400Z",
     "start_time": "2024-11-05T08:57:58.959373Z"
    }
   },
   "outputs": [
    {
     "data": {
      "text/plain": "       city     pop      GDP\n0   BeiJing  2154.0  30320.0\n1  HangZhou   981.0  13468.0\n2  ShangHai     NaN  32680.0\n3  ShenZhen  1303.0      NaN",
      "text/html": "<div>\n<style scoped>\n    .dataframe tbody tr th:only-of-type {\n        vertical-align: middle;\n    }\n\n    .dataframe tbody tr th {\n        vertical-align: top;\n    }\n\n    .dataframe thead th {\n        text-align: right;\n    }\n</style>\n<table border=\"1\" class=\"dataframe\">\n  <thead>\n    <tr style=\"text-align: right;\">\n      <th></th>\n      <th>city</th>\n      <th>pop</th>\n      <th>GDP</th>\n    </tr>\n  </thead>\n  <tbody>\n    <tr>\n      <th>0</th>\n      <td>BeiJing</td>\n      <td>2154.0</td>\n      <td>30320.0</td>\n    </tr>\n    <tr>\n      <th>1</th>\n      <td>HangZhou</td>\n      <td>981.0</td>\n      <td>13468.0</td>\n    </tr>\n    <tr>\n      <th>2</th>\n      <td>ShangHai</td>\n      <td>NaN</td>\n      <td>32680.0</td>\n    </tr>\n    <tr>\n      <th>3</th>\n      <td>ShenZhen</td>\n      <td>1303.0</td>\n      <td>NaN</td>\n    </tr>\n  </tbody>\n</table>\n</div>"
     },
     "execution_count": 211,
     "metadata": {},
     "output_type": "execute_result"
    }
   ],
   "source": [
    "city_info = pd.merge(population, GDP, how=\"outer\")\n",
    "city_info"
   ]
  },
  {
   "cell_type": "markdown",
   "metadata": {},
   "source": [
    "### 6. 分组和数据透视表"
   ]
  },
  {
   "cell_type": "code",
   "execution_count": 212,
   "metadata": {
    "scrolled": false,
    "ExecuteTime": {
     "end_time": "2024-11-05T08:58:01.260577700Z",
     "start_time": "2024-11-05T08:57:58.989806500Z"
    }
   },
   "outputs": [
    {
     "data": {
      "text/plain": "  key  data1  data2\n0   A      0      3\n1   B      1      3\n2   C      2      4\n3   C      3      6\n4   B      4      6\n5   A      5      3",
      "text/html": "<div>\n<style scoped>\n    .dataframe tbody tr th:only-of-type {\n        vertical-align: middle;\n    }\n\n    .dataframe tbody tr th {\n        vertical-align: top;\n    }\n\n    .dataframe thead th {\n        text-align: right;\n    }\n</style>\n<table border=\"1\" class=\"dataframe\">\n  <thead>\n    <tr style=\"text-align: right;\">\n      <th></th>\n      <th>key</th>\n      <th>data1</th>\n      <th>data2</th>\n    </tr>\n  </thead>\n  <tbody>\n    <tr>\n      <th>0</th>\n      <td>A</td>\n      <td>0</td>\n      <td>3</td>\n    </tr>\n    <tr>\n      <th>1</th>\n      <td>B</td>\n      <td>1</td>\n      <td>3</td>\n    </tr>\n    <tr>\n      <th>2</th>\n      <td>C</td>\n      <td>2</td>\n      <td>4</td>\n    </tr>\n    <tr>\n      <th>3</th>\n      <td>C</td>\n      <td>3</td>\n      <td>6</td>\n    </tr>\n    <tr>\n      <th>4</th>\n      <td>B</td>\n      <td>4</td>\n      <td>6</td>\n    </tr>\n    <tr>\n      <th>5</th>\n      <td>A</td>\n      <td>5</td>\n      <td>3</td>\n    </tr>\n  </tbody>\n</table>\n</div>"
     },
     "execution_count": 212,
     "metadata": {},
     "output_type": "execute_result"
    }
   ],
   "source": [
    "df = pd.DataFrame({\"key\": [\"A\", \"B\", \"C\", \"C\", \"B\", \"A\"],\n",
    "                   \"data1\": range(6),\n",
    "                   \"data2\": np.random.randint(0, 10, size=6)})\n",
    "df"
   ]
  },
  {
   "cell_type": "markdown",
   "metadata": {},
   "source": [
    "#### 6.1 分组"
   ]
  },
  {
   "cell_type": "markdown",
   "metadata": {},
   "source": [
    "1. 延迟计算"
   ]
  },
  {
   "cell_type": "code",
   "execution_count": 213,
   "metadata": {
    "scrolled": true,
    "ExecuteTime": {
     "end_time": "2024-11-05T08:58:01.314728900Z",
     "start_time": "2024-11-05T08:57:59.005552700Z"
    }
   },
   "outputs": [
    {
     "data": {
      "text/plain": "<pandas.core.groupby.generic.DataFrameGroupBy object at 0x0000022BAB1408B0>"
     },
     "execution_count": 213,
     "metadata": {},
     "output_type": "execute_result"
    }
   ],
   "source": [
    "df.groupby(\"key\")"
   ]
  },
  {
   "cell_type": "code",
   "execution_count": 214,
   "metadata": {
    "ExecuteTime": {
     "end_time": "2024-11-05T08:58:01.366918Z",
     "start_time": "2024-11-05T08:57:59.023657100Z"
    }
   },
   "outputs": [
    {
     "data": {
      "text/plain": "     data1  data2\nkey              \nA        5      6\nB        5      9\nC        5     10",
      "text/html": "<div>\n<style scoped>\n    .dataframe tbody tr th:only-of-type {\n        vertical-align: middle;\n    }\n\n    .dataframe tbody tr th {\n        vertical-align: top;\n    }\n\n    .dataframe thead th {\n        text-align: right;\n    }\n</style>\n<table border=\"1\" class=\"dataframe\">\n  <thead>\n    <tr style=\"text-align: right;\">\n      <th></th>\n      <th>data1</th>\n      <th>data2</th>\n    </tr>\n    <tr>\n      <th>key</th>\n      <th></th>\n      <th></th>\n    </tr>\n  </thead>\n  <tbody>\n    <tr>\n      <th>A</th>\n      <td>5</td>\n      <td>6</td>\n    </tr>\n    <tr>\n      <th>B</th>\n      <td>5</td>\n      <td>9</td>\n    </tr>\n    <tr>\n      <th>C</th>\n      <td>5</td>\n      <td>10</td>\n    </tr>\n  </tbody>\n</table>\n</div>"
     },
     "execution_count": 214,
     "metadata": {},
     "output_type": "execute_result"
    }
   ],
   "source": [
    "df.groupby(\"key\").sum()"
   ]
  },
  {
   "cell_type": "code",
   "execution_count": 215,
   "metadata": {
    "scrolled": false,
    "ExecuteTime": {
     "end_time": "2024-11-05T08:58:01.367932500Z",
     "start_time": "2024-11-05T08:57:59.037674800Z"
    }
   },
   "outputs": [
    {
     "data": {
      "text/plain": "     data1  data2\nkey              \nA      2.5    3.0\nB      2.5    4.5\nC      2.5    5.0",
      "text/html": "<div>\n<style scoped>\n    .dataframe tbody tr th:only-of-type {\n        vertical-align: middle;\n    }\n\n    .dataframe tbody tr th {\n        vertical-align: top;\n    }\n\n    .dataframe thead th {\n        text-align: right;\n    }\n</style>\n<table border=\"1\" class=\"dataframe\">\n  <thead>\n    <tr style=\"text-align: right;\">\n      <th></th>\n      <th>data1</th>\n      <th>data2</th>\n    </tr>\n    <tr>\n      <th>key</th>\n      <th></th>\n      <th></th>\n    </tr>\n  </thead>\n  <tbody>\n    <tr>\n      <th>A</th>\n      <td>2.5</td>\n      <td>3.0</td>\n    </tr>\n    <tr>\n      <th>B</th>\n      <td>2.5</td>\n      <td>4.5</td>\n    </tr>\n    <tr>\n      <th>C</th>\n      <td>2.5</td>\n      <td>5.0</td>\n    </tr>\n  </tbody>\n</table>\n</div>"
     },
     "execution_count": 215,
     "metadata": {},
     "output_type": "execute_result"
    }
   ],
   "source": [
    "df.groupby(\"key\").mean()"
   ]
  },
  {
   "cell_type": "code",
   "execution_count": 216,
   "metadata": {
    "ExecuteTime": {
     "end_time": "2024-11-05T08:58:01.423171400Z",
     "start_time": "2024-11-05T08:57:59.054036200Z"
    }
   },
   "outputs": [
    {
     "name": "stdout",
     "output_type": "stream",
     "text": [
      "('A',   key  data1  data2\n",
      "0   A      0      3\n",
      "5   A      5      3)\n",
      "('B',   key  data1  data2\n",
      "1   B      1      3\n",
      "4   B      4      6)\n",
      "('C',   key  data1  data2\n",
      "2   C      2      4\n",
      "3   C      3      6)\n"
     ]
    }
   ],
   "source": [
    "for i in df.groupby(\"key\"):\n",
    "    print(str(i))"
   ]
  },
  {
   "cell_type": "markdown",
   "metadata": {},
   "source": [
    "2. 按列取值"
   ]
  },
  {
   "cell_type": "code",
   "execution_count": 217,
   "metadata": {
    "scrolled": true,
    "ExecuteTime": {
     "end_time": "2024-11-05T08:58:01.423745700Z",
     "start_time": "2024-11-05T08:57:59.068582400Z"
    }
   },
   "outputs": [
    {
     "data": {
      "text/plain": "key\nA     6\nB     9\nC    10\nName: data2, dtype: int32"
     },
     "execution_count": 217,
     "metadata": {},
     "output_type": "execute_result"
    }
   ],
   "source": [
    "df.groupby(\"key\")[\"data2\"].sum()"
   ]
  },
  {
   "cell_type": "markdown",
   "metadata": {},
   "source": [
    "3. 按组迭代"
   ]
  },
  {
   "cell_type": "code",
   "execution_count": 218,
   "metadata": {
    "scrolled": true,
    "ExecuteTime": {
     "end_time": "2024-11-05T08:58:01.424339600Z",
     "start_time": "2024-11-05T08:57:59.083322200Z"
    }
   },
   "outputs": [
    {
     "name": "stdout",
     "output_type": "stream",
     "text": [
      "A     shape=(2, 3)\n",
      "B     shape=(2, 3)\n",
      "C     shape=(2, 3)\n"
     ]
    }
   ],
   "source": [
    "for data, group in df.groupby(\"key\"):\n",
    "    print(\"{0:5} shape={1}\".format(data, group.shape))"
   ]
  },
  {
   "cell_type": "markdown",
   "metadata": {},
   "source": [
    "- 调用方法"
   ]
  },
  {
   "cell_type": "code",
   "execution_count": 219,
   "metadata": {
    "scrolled": true,
    "ExecuteTime": {
     "end_time": "2024-11-05T08:58:01.482601600Z",
     "start_time": "2024-11-05T08:57:59.099934100Z"
    }
   },
   "outputs": [
    {
     "data": {
      "text/plain": "     count  mean       std  min   25%  50%   75%  max\nkey                                                  \nA      2.0   2.5  3.535534  0.0  1.25  2.5  3.75  5.0\nB      2.0   2.5  2.121320  1.0  1.75  2.5  3.25  4.0\nC      2.0   2.5  0.707107  2.0  2.25  2.5  2.75  3.0",
      "text/html": "<div>\n<style scoped>\n    .dataframe tbody tr th:only-of-type {\n        vertical-align: middle;\n    }\n\n    .dataframe tbody tr th {\n        vertical-align: top;\n    }\n\n    .dataframe thead th {\n        text-align: right;\n    }\n</style>\n<table border=\"1\" class=\"dataframe\">\n  <thead>\n    <tr style=\"text-align: right;\">\n      <th></th>\n      <th>count</th>\n      <th>mean</th>\n      <th>std</th>\n      <th>min</th>\n      <th>25%</th>\n      <th>50%</th>\n      <th>75%</th>\n      <th>max</th>\n    </tr>\n    <tr>\n      <th>key</th>\n      <th></th>\n      <th></th>\n      <th></th>\n      <th></th>\n      <th></th>\n      <th></th>\n      <th></th>\n      <th></th>\n    </tr>\n  </thead>\n  <tbody>\n    <tr>\n      <th>A</th>\n      <td>2.0</td>\n      <td>2.5</td>\n      <td>3.535534</td>\n      <td>0.0</td>\n      <td>1.25</td>\n      <td>2.5</td>\n      <td>3.75</td>\n      <td>5.0</td>\n    </tr>\n    <tr>\n      <th>B</th>\n      <td>2.0</td>\n      <td>2.5</td>\n      <td>2.121320</td>\n      <td>1.0</td>\n      <td>1.75</td>\n      <td>2.5</td>\n      <td>3.25</td>\n      <td>4.0</td>\n    </tr>\n    <tr>\n      <th>C</th>\n      <td>2.0</td>\n      <td>2.5</td>\n      <td>0.707107</td>\n      <td>2.0</td>\n      <td>2.25</td>\n      <td>2.5</td>\n      <td>2.75</td>\n      <td>3.0</td>\n    </tr>\n  </tbody>\n</table>\n</div>"
     },
     "execution_count": 219,
     "metadata": {},
     "output_type": "execute_result"
    }
   ],
   "source": [
    "df.groupby(\"key\")[\"data1\"].describe()"
   ]
  },
  {
   "cell_type": "markdown",
   "metadata": {},
   "source": [
    "- 支持更复杂的操作"
   ]
  },
  {
   "cell_type": "code",
   "execution_count": 220,
   "metadata": {
    "scrolled": true,
    "ExecuteTime": {
     "end_time": "2024-11-05T08:58:01.535457600Z",
     "start_time": "2024-11-05T08:57:59.132576300Z"
    }
   },
   "outputs": [
    {
     "data": {
      "text/plain": "    data1            data2           \n      min median max   min median max\nkey                                  \nA       0    2.5   5     3    3.0   3\nB       1    2.5   4     3    4.5   6\nC       2    2.5   3     4    5.0   6",
      "text/html": "<div>\n<style scoped>\n    .dataframe tbody tr th:only-of-type {\n        vertical-align: middle;\n    }\n\n    .dataframe tbody tr th {\n        vertical-align: top;\n    }\n\n    .dataframe thead tr th {\n        text-align: left;\n    }\n\n    .dataframe thead tr:last-of-type th {\n        text-align: right;\n    }\n</style>\n<table border=\"1\" class=\"dataframe\">\n  <thead>\n    <tr>\n      <th></th>\n      <th colspan=\"3\" halign=\"left\">data1</th>\n      <th colspan=\"3\" halign=\"left\">data2</th>\n    </tr>\n    <tr>\n      <th></th>\n      <th>min</th>\n      <th>median</th>\n      <th>max</th>\n      <th>min</th>\n      <th>median</th>\n      <th>max</th>\n    </tr>\n    <tr>\n      <th>key</th>\n      <th></th>\n      <th></th>\n      <th></th>\n      <th></th>\n      <th></th>\n      <th></th>\n    </tr>\n  </thead>\n  <tbody>\n    <tr>\n      <th>A</th>\n      <td>0</td>\n      <td>2.5</td>\n      <td>5</td>\n      <td>3</td>\n      <td>3.0</td>\n      <td>3</td>\n    </tr>\n    <tr>\n      <th>B</th>\n      <td>1</td>\n      <td>2.5</td>\n      <td>4</td>\n      <td>3</td>\n      <td>4.5</td>\n      <td>6</td>\n    </tr>\n    <tr>\n      <th>C</th>\n      <td>2</td>\n      <td>2.5</td>\n      <td>3</td>\n      <td>4</td>\n      <td>5.0</td>\n      <td>6</td>\n    </tr>\n  </tbody>\n</table>\n</div>"
     },
     "execution_count": 220,
     "metadata": {},
     "output_type": "execute_result"
    }
   ],
   "source": [
    "df.groupby(\"key\").aggregate([\"min\", \"median\", \"max\"])"
   ]
  },
  {
   "cell_type": "markdown",
   "metadata": {},
   "source": [
    "4. 过滤"
   ]
  },
  {
   "cell_type": "code",
   "execution_count": 221,
   "metadata": {
    "scrolled": true,
    "ExecuteTime": {
     "end_time": "2024-11-05T08:58:01.536384900Z",
     "start_time": "2024-11-05T08:57:59.162443Z"
    }
   },
   "outputs": [
    {
     "data": {
      "text/plain": "key\nA    0.000000\nB    2.121320\nC    1.414214\nName: data2, dtype: float64"
     },
     "execution_count": 221,
     "metadata": {},
     "output_type": "execute_result"
    }
   ],
   "source": [
    "def filter_func(x):\n",
    "    return x[\"data2\"].std() > 3\n",
    "\n",
    "\n",
    "df.groupby(\"key\")[\"data2\"].std()"
   ]
  },
  {
   "cell_type": "code",
   "execution_count": 222,
   "metadata": {
    "scrolled": false,
    "ExecuteTime": {
     "end_time": "2024-11-05T08:58:01.590302100Z",
     "start_time": "2024-11-05T08:57:59.177867900Z"
    }
   },
   "outputs": [
    {
     "data": {
      "text/plain": "Empty DataFrame\nColumns: [key, data1, data2]\nIndex: []",
      "text/html": "<div>\n<style scoped>\n    .dataframe tbody tr th:only-of-type {\n        vertical-align: middle;\n    }\n\n    .dataframe tbody tr th {\n        vertical-align: top;\n    }\n\n    .dataframe thead th {\n        text-align: right;\n    }\n</style>\n<table border=\"1\" class=\"dataframe\">\n  <thead>\n    <tr style=\"text-align: right;\">\n      <th></th>\n      <th>key</th>\n      <th>data1</th>\n      <th>data2</th>\n    </tr>\n  </thead>\n  <tbody>\n  </tbody>\n</table>\n</div>"
     },
     "execution_count": 222,
     "metadata": {},
     "output_type": "execute_result"
    }
   ],
   "source": [
    "df.groupby(\"key\").filter(filter_func)"
   ]
  },
  {
   "cell_type": "markdown",
   "metadata": {},
   "source": [
    "5. 转换"
   ]
  },
  {
   "cell_type": "code",
   "execution_count": 223,
   "metadata": {
    "ExecuteTime": {
     "end_time": "2024-11-05T08:58:01.591808500Z",
     "start_time": "2024-11-05T08:57:59.193585700Z"
    }
   },
   "outputs": [
    {
     "data": {
      "text/plain": "  key  data1  data2\n0   A      0      3\n1   B      1      3\n2   C      2      4\n3   C      3      6\n4   B      4      6\n5   A      5      3",
      "text/html": "<div>\n<style scoped>\n    .dataframe tbody tr th:only-of-type {\n        vertical-align: middle;\n    }\n\n    .dataframe tbody tr th {\n        vertical-align: top;\n    }\n\n    .dataframe thead th {\n        text-align: right;\n    }\n</style>\n<table border=\"1\" class=\"dataframe\">\n  <thead>\n    <tr style=\"text-align: right;\">\n      <th></th>\n      <th>key</th>\n      <th>data1</th>\n      <th>data2</th>\n    </tr>\n  </thead>\n  <tbody>\n    <tr>\n      <th>0</th>\n      <td>A</td>\n      <td>0</td>\n      <td>3</td>\n    </tr>\n    <tr>\n      <th>1</th>\n      <td>B</td>\n      <td>1</td>\n      <td>3</td>\n    </tr>\n    <tr>\n      <th>2</th>\n      <td>C</td>\n      <td>2</td>\n      <td>4</td>\n    </tr>\n    <tr>\n      <th>3</th>\n      <td>C</td>\n      <td>3</td>\n      <td>6</td>\n    </tr>\n    <tr>\n      <th>4</th>\n      <td>B</td>\n      <td>4</td>\n      <td>6</td>\n    </tr>\n    <tr>\n      <th>5</th>\n      <td>A</td>\n      <td>5</td>\n      <td>3</td>\n    </tr>\n  </tbody>\n</table>\n</div>"
     },
     "execution_count": 223,
     "metadata": {},
     "output_type": "execute_result"
    }
   ],
   "source": [
    "df"
   ]
  },
  {
   "cell_type": "code",
   "execution_count": 224,
   "metadata": {
    "scrolled": true,
    "ExecuteTime": {
     "end_time": "2024-11-05T08:58:01.701014400Z",
     "start_time": "2024-11-05T08:57:59.208062700Z"
    }
   },
   "outputs": [
    {
     "data": {
      "text/plain": "   data1  data2\n0   -2.5    0.0\n1   -1.5   -1.5\n2   -0.5   -1.0\n3    0.5    1.0\n4    1.5    1.5\n5    2.5    0.0",
      "text/html": "<div>\n<style scoped>\n    .dataframe tbody tr th:only-of-type {\n        vertical-align: middle;\n    }\n\n    .dataframe tbody tr th {\n        vertical-align: top;\n    }\n\n    .dataframe thead th {\n        text-align: right;\n    }\n</style>\n<table border=\"1\" class=\"dataframe\">\n  <thead>\n    <tr style=\"text-align: right;\">\n      <th></th>\n      <th>data1</th>\n      <th>data2</th>\n    </tr>\n  </thead>\n  <tbody>\n    <tr>\n      <th>0</th>\n      <td>-2.5</td>\n      <td>0.0</td>\n    </tr>\n    <tr>\n      <th>1</th>\n      <td>-1.5</td>\n      <td>-1.5</td>\n    </tr>\n    <tr>\n      <th>2</th>\n      <td>-0.5</td>\n      <td>-1.0</td>\n    </tr>\n    <tr>\n      <th>3</th>\n      <td>0.5</td>\n      <td>1.0</td>\n    </tr>\n    <tr>\n      <th>4</th>\n      <td>1.5</td>\n      <td>1.5</td>\n    </tr>\n    <tr>\n      <th>5</th>\n      <td>2.5</td>\n      <td>0.0</td>\n    </tr>\n  </tbody>\n</table>\n</div>"
     },
     "execution_count": 224,
     "metadata": {},
     "output_type": "execute_result"
    }
   ],
   "source": [
    "df.groupby(\"key\").transform(lambda x: x - x.mean())"
   ]
  },
  {
   "cell_type": "code",
   "execution_count": 225,
   "metadata": {
    "ExecuteTime": {
     "end_time": "2024-11-05T08:58:01.701521600Z",
     "start_time": "2024-11-05T08:57:59.238440300Z"
    }
   },
   "outputs": [
    {
     "data": {
      "text/plain": "  key  data1  data2\n0   A      0      3\n1   B      1      3\n2   C      2      4\n3   C      3      6\n4   B      4      6\n5   A      5      3",
      "text/html": "<div>\n<style scoped>\n    .dataframe tbody tr th:only-of-type {\n        vertical-align: middle;\n    }\n\n    .dataframe tbody tr th {\n        vertical-align: top;\n    }\n\n    .dataframe thead th {\n        text-align: right;\n    }\n</style>\n<table border=\"1\" class=\"dataframe\">\n  <thead>\n    <tr style=\"text-align: right;\">\n      <th></th>\n      <th>key</th>\n      <th>data1</th>\n      <th>data2</th>\n    </tr>\n  </thead>\n  <tbody>\n    <tr>\n      <th>0</th>\n      <td>A</td>\n      <td>0</td>\n      <td>3</td>\n    </tr>\n    <tr>\n      <th>1</th>\n      <td>B</td>\n      <td>1</td>\n      <td>3</td>\n    </tr>\n    <tr>\n      <th>2</th>\n      <td>C</td>\n      <td>2</td>\n      <td>4</td>\n    </tr>\n    <tr>\n      <th>3</th>\n      <td>C</td>\n      <td>3</td>\n      <td>6</td>\n    </tr>\n    <tr>\n      <th>4</th>\n      <td>B</td>\n      <td>4</td>\n      <td>6</td>\n    </tr>\n    <tr>\n      <th>5</th>\n      <td>A</td>\n      <td>5</td>\n      <td>3</td>\n    </tr>\n  </tbody>\n</table>\n</div>"
     },
     "execution_count": 225,
     "metadata": {},
     "output_type": "execute_result"
    }
   ],
   "source": [
    "df"
   ]
  },
  {
   "cell_type": "code",
   "execution_count": 226,
   "metadata": {
    "ExecuteTime": {
     "end_time": "2024-11-05T08:58:01.752509400Z",
     "start_time": "2024-11-05T08:57:59.254666200Z"
    }
   },
   "outputs": [
    {
     "data": {
      "text/plain": "       data1  data2\nkey                \nA   0   -2.5    0.0\n    5    2.5    0.0\nB   1   -1.5   -1.5\n    4    1.5    1.5\nC   2   -0.5   -1.0\n    3    0.5    1.0",
      "text/html": "<div>\n<style scoped>\n    .dataframe tbody tr th:only-of-type {\n        vertical-align: middle;\n    }\n\n    .dataframe tbody tr th {\n        vertical-align: top;\n    }\n\n    .dataframe thead th {\n        text-align: right;\n    }\n</style>\n<table border=\"1\" class=\"dataframe\">\n  <thead>\n    <tr style=\"text-align: right;\">\n      <th></th>\n      <th></th>\n      <th>data1</th>\n      <th>data2</th>\n    </tr>\n    <tr>\n      <th>key</th>\n      <th></th>\n      <th></th>\n      <th></th>\n    </tr>\n  </thead>\n  <tbody>\n    <tr>\n      <th rowspan=\"2\" valign=\"top\">A</th>\n      <th>0</th>\n      <td>-2.5</td>\n      <td>0.0</td>\n    </tr>\n    <tr>\n      <th>5</th>\n      <td>2.5</td>\n      <td>0.0</td>\n    </tr>\n    <tr>\n      <th rowspan=\"2\" valign=\"top\">B</th>\n      <th>1</th>\n      <td>-1.5</td>\n      <td>-1.5</td>\n    </tr>\n    <tr>\n      <th>4</th>\n      <td>1.5</td>\n      <td>1.5</td>\n    </tr>\n    <tr>\n      <th rowspan=\"2\" valign=\"top\">C</th>\n      <th>2</th>\n      <td>-0.5</td>\n      <td>-1.0</td>\n    </tr>\n    <tr>\n      <th>3</th>\n      <td>0.5</td>\n      <td>1.0</td>\n    </tr>\n  </tbody>\n</table>\n</div>"
     },
     "execution_count": 226,
     "metadata": {},
     "output_type": "execute_result"
    }
   ],
   "source": [
    "df.groupby(\"key\").apply(lambda x: x - x.mean())"
   ]
  },
  {
   "cell_type": "markdown",
   "metadata": {},
   "source": [
    "6. apply（）方法"
   ]
  },
  {
   "cell_type": "code",
   "execution_count": 227,
   "metadata": {
    "ExecuteTime": {
     "end_time": "2024-11-05T08:58:01.753659100Z",
     "start_time": "2024-11-05T08:57:59.286619200Z"
    }
   },
   "outputs": [
    {
     "data": {
      "text/plain": "  key  data1  data2\n0   A      0      3\n1   B      1      3\n2   C      2      4\n3   C      3      6\n4   B      4      6\n5   A      5      3",
      "text/html": "<div>\n<style scoped>\n    .dataframe tbody tr th:only-of-type {\n        vertical-align: middle;\n    }\n\n    .dataframe tbody tr th {\n        vertical-align: top;\n    }\n\n    .dataframe thead th {\n        text-align: right;\n    }\n</style>\n<table border=\"1\" class=\"dataframe\">\n  <thead>\n    <tr style=\"text-align: right;\">\n      <th></th>\n      <th>key</th>\n      <th>data1</th>\n      <th>data2</th>\n    </tr>\n  </thead>\n  <tbody>\n    <tr>\n      <th>0</th>\n      <td>A</td>\n      <td>0</td>\n      <td>3</td>\n    </tr>\n    <tr>\n      <th>1</th>\n      <td>B</td>\n      <td>1</td>\n      <td>3</td>\n    </tr>\n    <tr>\n      <th>2</th>\n      <td>C</td>\n      <td>2</td>\n      <td>4</td>\n    </tr>\n    <tr>\n      <th>3</th>\n      <td>C</td>\n      <td>3</td>\n      <td>6</td>\n    </tr>\n    <tr>\n      <th>4</th>\n      <td>B</td>\n      <td>4</td>\n      <td>6</td>\n    </tr>\n    <tr>\n      <th>5</th>\n      <td>A</td>\n      <td>5</td>\n      <td>3</td>\n    </tr>\n  </tbody>\n</table>\n</div>"
     },
     "execution_count": 227,
     "metadata": {},
     "output_type": "execute_result"
    }
   ],
   "source": [
    "df"
   ]
  },
  {
   "cell_type": "code",
   "execution_count": 228,
   "metadata": {
    "ExecuteTime": {
     "end_time": "2024-11-05T08:58:01.753659100Z",
     "start_time": "2024-11-05T08:57:59.299721200Z"
    }
   },
   "outputs": [],
   "source": [
    "def norm_by_data2(x):\n",
    "    x[\"data1\"] /= x[\"data2\"].sum()\n",
    "    return x"
   ]
  },
  {
   "cell_type": "code",
   "execution_count": 229,
   "metadata": {
    "scrolled": true,
    "ExecuteTime": {
     "end_time": "2024-11-05T08:58:01.754677400Z",
     "start_time": "2024-11-05T08:57:59.317362Z"
    }
   },
   "outputs": [
    {
     "name": "stderr",
     "output_type": "stream",
     "text": [
      "C:\\Users\\30520\\AppData\\Local\\Temp\\ipykernel_736\\86320971.py:1: DeprecationWarning: DataFrameGroupBy.apply operated on the grouping columns. This behavior is deprecated, and in a future version of pandas the grouping columns will be excluded from the operation. Either pass `include_groups=False` to exclude the groupings or explicitly select the grouping columns after groupby to silence this warning.\n",
      "  df.groupby(\"key\").apply(norm_by_data2)\n"
     ]
    },
    {
     "data": {
      "text/plain": "      key     data1  data2\nkey                       \nA   0   A  0.000000      3\n    5   A  0.833333      3\nB   1   B  0.111111      3\n    4   B  0.444444      6\nC   2   C  0.200000      4\n    3   C  0.300000      6",
      "text/html": "<div>\n<style scoped>\n    .dataframe tbody tr th:only-of-type {\n        vertical-align: middle;\n    }\n\n    .dataframe tbody tr th {\n        vertical-align: top;\n    }\n\n    .dataframe thead th {\n        text-align: right;\n    }\n</style>\n<table border=\"1\" class=\"dataframe\">\n  <thead>\n    <tr style=\"text-align: right;\">\n      <th></th>\n      <th></th>\n      <th>key</th>\n      <th>data1</th>\n      <th>data2</th>\n    </tr>\n    <tr>\n      <th>key</th>\n      <th></th>\n      <th></th>\n      <th></th>\n      <th></th>\n    </tr>\n  </thead>\n  <tbody>\n    <tr>\n      <th rowspan=\"2\" valign=\"top\">A</th>\n      <th>0</th>\n      <td>A</td>\n      <td>0.000000</td>\n      <td>3</td>\n    </tr>\n    <tr>\n      <th>5</th>\n      <td>A</td>\n      <td>0.833333</td>\n      <td>3</td>\n    </tr>\n    <tr>\n      <th rowspan=\"2\" valign=\"top\">B</th>\n      <th>1</th>\n      <td>B</td>\n      <td>0.111111</td>\n      <td>3</td>\n    </tr>\n    <tr>\n      <th>4</th>\n      <td>B</td>\n      <td>0.444444</td>\n      <td>6</td>\n    </tr>\n    <tr>\n      <th rowspan=\"2\" valign=\"top\">C</th>\n      <th>2</th>\n      <td>C</td>\n      <td>0.200000</td>\n      <td>4</td>\n    </tr>\n    <tr>\n      <th>3</th>\n      <td>C</td>\n      <td>0.300000</td>\n      <td>6</td>\n    </tr>\n  </tbody>\n</table>\n</div>"
     },
     "execution_count": 229,
     "metadata": {},
     "output_type": "execute_result"
    }
   ],
   "source": [
    "df.groupby(\"key\").apply(norm_by_data2)"
   ]
  },
  {
   "cell_type": "markdown",
   "metadata": {},
   "source": [
    "7. 将列表、数组设为分组键"
   ]
  },
  {
   "cell_type": "code",
   "execution_count": 230,
   "metadata": {
    "ExecuteTime": {
     "end_time": "2024-11-05T08:58:01.755674100Z",
     "start_time": "2024-11-05T08:57:59.333551500Z"
    }
   },
   "outputs": [
    {
     "data": {
      "text/plain": "  key  data1  data2\n0   A      0      3\n1   B      1      3\n2   C      2      4\n3   C      3      6\n4   B      4      6\n5   A      5      3",
      "text/html": "<div>\n<style scoped>\n    .dataframe tbody tr th:only-of-type {\n        vertical-align: middle;\n    }\n\n    .dataframe tbody tr th {\n        vertical-align: top;\n    }\n\n    .dataframe thead th {\n        text-align: right;\n    }\n</style>\n<table border=\"1\" class=\"dataframe\">\n  <thead>\n    <tr style=\"text-align: right;\">\n      <th></th>\n      <th>key</th>\n      <th>data1</th>\n      <th>data2</th>\n    </tr>\n  </thead>\n  <tbody>\n    <tr>\n      <th>0</th>\n      <td>A</td>\n      <td>0</td>\n      <td>3</td>\n    </tr>\n    <tr>\n      <th>1</th>\n      <td>B</td>\n      <td>1</td>\n      <td>3</td>\n    </tr>\n    <tr>\n      <th>2</th>\n      <td>C</td>\n      <td>2</td>\n      <td>4</td>\n    </tr>\n    <tr>\n      <th>3</th>\n      <td>C</td>\n      <td>3</td>\n      <td>6</td>\n    </tr>\n    <tr>\n      <th>4</th>\n      <td>B</td>\n      <td>4</td>\n      <td>6</td>\n    </tr>\n    <tr>\n      <th>5</th>\n      <td>A</td>\n      <td>5</td>\n      <td>3</td>\n    </tr>\n  </tbody>\n</table>\n</div>"
     },
     "execution_count": 230,
     "metadata": {},
     "output_type": "execute_result"
    }
   ],
   "source": [
    "L = [0, 1, 0, 1, 2, 0]\n",
    "df"
   ]
  },
  {
   "cell_type": "code",
   "execution_count": 231,
   "metadata": {
    "scrolled": true,
    "ExecuteTime": {
     "end_time": "2024-11-05T08:58:01.755674100Z",
     "start_time": "2024-11-05T08:57:59.347155600Z"
    }
   },
   "outputs": [
    {
     "data": {
      "text/plain": "   key  data1  data2\n0  ACA      7     10\n1   BC      4      9\n2    B      4      6",
      "text/html": "<div>\n<style scoped>\n    .dataframe tbody tr th:only-of-type {\n        vertical-align: middle;\n    }\n\n    .dataframe tbody tr th {\n        vertical-align: top;\n    }\n\n    .dataframe thead th {\n        text-align: right;\n    }\n</style>\n<table border=\"1\" class=\"dataframe\">\n  <thead>\n    <tr style=\"text-align: right;\">\n      <th></th>\n      <th>key</th>\n      <th>data1</th>\n      <th>data2</th>\n    </tr>\n  </thead>\n  <tbody>\n    <tr>\n      <th>0</th>\n      <td>ACA</td>\n      <td>7</td>\n      <td>10</td>\n    </tr>\n    <tr>\n      <th>1</th>\n      <td>BC</td>\n      <td>4</td>\n      <td>9</td>\n    </tr>\n    <tr>\n      <th>2</th>\n      <td>B</td>\n      <td>4</td>\n      <td>6</td>\n    </tr>\n  </tbody>\n</table>\n</div>"
     },
     "execution_count": 231,
     "metadata": {},
     "output_type": "execute_result"
    }
   ],
   "source": [
    "df.groupby(L).sum()"
   ]
  },
  {
   "cell_type": "markdown",
   "metadata": {},
   "source": [
    "8. 用字典将索引映射到分组"
   ]
  },
  {
   "cell_type": "code",
   "execution_count": 232,
   "metadata": {
    "scrolled": true,
    "ExecuteTime": {
     "end_time": "2024-11-05T08:58:01.756738Z",
     "start_time": "2024-11-05T08:57:59.363901100Z"
    }
   },
   "outputs": [
    {
     "data": {
      "text/plain": "     data1  data2\nkey              \nA        0      3\nB        1      3\nC        2      4\nC        3      6\nB        4      6\nA        5      3",
      "text/html": "<div>\n<style scoped>\n    .dataframe tbody tr th:only-of-type {\n        vertical-align: middle;\n    }\n\n    .dataframe tbody tr th {\n        vertical-align: top;\n    }\n\n    .dataframe thead th {\n        text-align: right;\n    }\n</style>\n<table border=\"1\" class=\"dataframe\">\n  <thead>\n    <tr style=\"text-align: right;\">\n      <th></th>\n      <th>data1</th>\n      <th>data2</th>\n    </tr>\n    <tr>\n      <th>key</th>\n      <th></th>\n      <th></th>\n    </tr>\n  </thead>\n  <tbody>\n    <tr>\n      <th>A</th>\n      <td>0</td>\n      <td>3</td>\n    </tr>\n    <tr>\n      <th>B</th>\n      <td>1</td>\n      <td>3</td>\n    </tr>\n    <tr>\n      <th>C</th>\n      <td>2</td>\n      <td>4</td>\n    </tr>\n    <tr>\n      <th>C</th>\n      <td>3</td>\n      <td>6</td>\n    </tr>\n    <tr>\n      <th>B</th>\n      <td>4</td>\n      <td>6</td>\n    </tr>\n    <tr>\n      <th>A</th>\n      <td>5</td>\n      <td>3</td>\n    </tr>\n  </tbody>\n</table>\n</div>"
     },
     "execution_count": 232,
     "metadata": {},
     "output_type": "execute_result"
    }
   ],
   "source": [
    "df2 = df.set_index(\"key\")\n",
    "df2"
   ]
  },
  {
   "cell_type": "code",
   "execution_count": 233,
   "metadata": {
    "scrolled": true,
    "ExecuteTime": {
     "end_time": "2024-11-05T08:58:01.812347Z",
     "start_time": "2024-11-05T08:57:59.379161600Z"
    }
   },
   "outputs": [
    {
     "data": {
      "text/plain": "          data1  data2\nkey                   \nconstant     10     19\nfirst         5      6",
      "text/html": "<div>\n<style scoped>\n    .dataframe tbody tr th:only-of-type {\n        vertical-align: middle;\n    }\n\n    .dataframe tbody tr th {\n        vertical-align: top;\n    }\n\n    .dataframe thead th {\n        text-align: right;\n    }\n</style>\n<table border=\"1\" class=\"dataframe\">\n  <thead>\n    <tr style=\"text-align: right;\">\n      <th></th>\n      <th>data1</th>\n      <th>data2</th>\n    </tr>\n    <tr>\n      <th>key</th>\n      <th></th>\n      <th></th>\n    </tr>\n  </thead>\n  <tbody>\n    <tr>\n      <th>constant</th>\n      <td>10</td>\n      <td>19</td>\n    </tr>\n    <tr>\n      <th>first</th>\n      <td>5</td>\n      <td>6</td>\n    </tr>\n  </tbody>\n</table>\n</div>"
     },
     "execution_count": 233,
     "metadata": {},
     "output_type": "execute_result"
    }
   ],
   "source": [
    "mapping = {\"A\": \"first\", \"B\": \"constant\", \"C\": \"constant\"}\n",
    "df2.groupby(mapping).sum()"
   ]
  },
  {
   "cell_type": "markdown",
   "metadata": {},
   "source": [
    "9. 任意Python函数"
   ]
  },
  {
   "cell_type": "code",
   "execution_count": 234,
   "metadata": {
    "scrolled": true,
    "ExecuteTime": {
     "end_time": "2024-11-05T08:58:01.813448500Z",
     "start_time": "2024-11-05T08:57:59.393671100Z"
    }
   },
   "outputs": [
    {
     "data": {
      "text/plain": "     data1  data2\nkey              \na      2.5    3.0\nb      2.5    4.5\nc      2.5    5.0",
      "text/html": "<div>\n<style scoped>\n    .dataframe tbody tr th:only-of-type {\n        vertical-align: middle;\n    }\n\n    .dataframe tbody tr th {\n        vertical-align: top;\n    }\n\n    .dataframe thead th {\n        text-align: right;\n    }\n</style>\n<table border=\"1\" class=\"dataframe\">\n  <thead>\n    <tr style=\"text-align: right;\">\n      <th></th>\n      <th>data1</th>\n      <th>data2</th>\n    </tr>\n    <tr>\n      <th>key</th>\n      <th></th>\n      <th></th>\n    </tr>\n  </thead>\n  <tbody>\n    <tr>\n      <th>a</th>\n      <td>2.5</td>\n      <td>3.0</td>\n    </tr>\n    <tr>\n      <th>b</th>\n      <td>2.5</td>\n      <td>4.5</td>\n    </tr>\n    <tr>\n      <th>c</th>\n      <td>2.5</td>\n      <td>5.0</td>\n    </tr>\n  </tbody>\n</table>\n</div>"
     },
     "execution_count": 234,
     "metadata": {},
     "output_type": "execute_result"
    }
   ],
   "source": [
    "df2.groupby(str.lower).mean()"
   ]
  },
  {
   "cell_type": "markdown",
   "metadata": {},
   "source": [
    "10. 多个有效值组成的列表"
   ]
  },
  {
   "cell_type": "code",
   "execution_count": 235,
   "metadata": {
    "scrolled": true,
    "ExecuteTime": {
     "end_time": "2024-11-05T08:58:01.814438Z",
     "start_time": "2024-11-05T08:57:59.408654700Z"
    }
   },
   "outputs": [
    {
     "data": {
      "text/plain": "              data1  data2\nkey key                   \na   first       2.5    3.0\nb   constant    2.5    4.5\nc   constant    2.5    5.0",
      "text/html": "<div>\n<style scoped>\n    .dataframe tbody tr th:only-of-type {\n        vertical-align: middle;\n    }\n\n    .dataframe tbody tr th {\n        vertical-align: top;\n    }\n\n    .dataframe thead th {\n        text-align: right;\n    }\n</style>\n<table border=\"1\" class=\"dataframe\">\n  <thead>\n    <tr style=\"text-align: right;\">\n      <th></th>\n      <th></th>\n      <th>data1</th>\n      <th>data2</th>\n    </tr>\n    <tr>\n      <th>key</th>\n      <th>key</th>\n      <th></th>\n      <th></th>\n    </tr>\n  </thead>\n  <tbody>\n    <tr>\n      <th>a</th>\n      <th>first</th>\n      <td>2.5</td>\n      <td>3.0</td>\n    </tr>\n    <tr>\n      <th>b</th>\n      <th>constant</th>\n      <td>2.5</td>\n      <td>4.5</td>\n    </tr>\n    <tr>\n      <th>c</th>\n      <th>constant</th>\n      <td>2.5</td>\n      <td>5.0</td>\n    </tr>\n  </tbody>\n</table>\n</div>"
     },
     "execution_count": 235,
     "metadata": {},
     "output_type": "execute_result"
    }
   ],
   "source": [
    "df2.groupby([str.lower, mapping]).mean()"
   ]
  },
  {
   "cell_type": "markdown",
   "metadata": {},
   "source": [
    "【例1】 行星观测数据处理"
   ]
  },
  {
   "cell_type": "code",
   "execution_count": 236,
   "metadata": {
    "ExecuteTime": {
     "end_time": "2024-11-05T08:58:01.814438Z",
     "start_time": "2024-11-05T08:57:59.424774800Z"
    }
   },
   "outputs": [],
   "source": [
    "import seaborn as sns\n",
    "\n",
    "planets = sns.load_dataset(\"planets\")"
   ]
  },
  {
   "cell_type": "code",
   "execution_count": 237,
   "metadata": {
    "ExecuteTime": {
     "end_time": "2024-11-05T08:58:02.119576700Z",
     "start_time": "2024-11-05T08:57:59.456403700Z"
    }
   },
   "outputs": [
    {
     "data": {
      "text/plain": "(1035, 6)"
     },
     "execution_count": 237,
     "metadata": {},
     "output_type": "execute_result"
    }
   ],
   "source": [
    "planets.shape"
   ]
  },
  {
   "cell_type": "code",
   "execution_count": 238,
   "metadata": {
    "scrolled": true,
    "ExecuteTime": {
     "end_time": "2024-11-05T08:58:03.987538700Z",
     "start_time": "2024-11-05T08:57:59.472271500Z"
    }
   },
   "outputs": [
    {
     "data": {
      "text/plain": "            method  number  orbital_period   mass  distance  year\n0  Radial Velocity       1         269.300   7.10     77.40  2006\n1  Radial Velocity       1         874.774   2.21     56.95  2008\n2  Radial Velocity       1         763.000   2.60     19.84  2011\n3  Radial Velocity       1         326.030  19.40    110.62  2007\n4  Radial Velocity       1         516.220  10.50    119.47  2009",
      "text/html": "<div>\n<style scoped>\n    .dataframe tbody tr th:only-of-type {\n        vertical-align: middle;\n    }\n\n    .dataframe tbody tr th {\n        vertical-align: top;\n    }\n\n    .dataframe thead th {\n        text-align: right;\n    }\n</style>\n<table border=\"1\" class=\"dataframe\">\n  <thead>\n    <tr style=\"text-align: right;\">\n      <th></th>\n      <th>method</th>\n      <th>number</th>\n      <th>orbital_period</th>\n      <th>mass</th>\n      <th>distance</th>\n      <th>year</th>\n    </tr>\n  </thead>\n  <tbody>\n    <tr>\n      <th>0</th>\n      <td>Radial Velocity</td>\n      <td>1</td>\n      <td>269.300</td>\n      <td>7.10</td>\n      <td>77.40</td>\n      <td>2006</td>\n    </tr>\n    <tr>\n      <th>1</th>\n      <td>Radial Velocity</td>\n      <td>1</td>\n      <td>874.774</td>\n      <td>2.21</td>\n      <td>56.95</td>\n      <td>2008</td>\n    </tr>\n    <tr>\n      <th>2</th>\n      <td>Radial Velocity</td>\n      <td>1</td>\n      <td>763.000</td>\n      <td>2.60</td>\n      <td>19.84</td>\n      <td>2011</td>\n    </tr>\n    <tr>\n      <th>3</th>\n      <td>Radial Velocity</td>\n      <td>1</td>\n      <td>326.030</td>\n      <td>19.40</td>\n      <td>110.62</td>\n      <td>2007</td>\n    </tr>\n    <tr>\n      <th>4</th>\n      <td>Radial Velocity</td>\n      <td>1</td>\n      <td>516.220</td>\n      <td>10.50</td>\n      <td>119.47</td>\n      <td>2009</td>\n    </tr>\n  </tbody>\n</table>\n</div>"
     },
     "execution_count": 238,
     "metadata": {},
     "output_type": "execute_result"
    }
   ],
   "source": [
    "planets.head()"
   ]
  },
  {
   "cell_type": "code",
   "execution_count": 239,
   "metadata": {
    "scrolled": false,
    "ExecuteTime": {
     "end_time": "2024-11-05T08:58:03.988528800Z",
     "start_time": "2024-11-05T08:57:59.486319600Z"
    }
   },
   "outputs": [
    {
     "data": {
      "text/plain": "            number  orbital_period        mass     distance         year\ncount  1035.000000      992.000000  513.000000   808.000000  1035.000000\nmean      1.785507     2002.917596    2.638161   264.069282  2009.070531\nstd       1.240976    26014.728304    3.818617   733.116493     3.972567\nmin       1.000000        0.090706    0.003600     1.350000  1989.000000\n25%       1.000000        5.442540    0.229000    32.560000  2007.000000\n50%       1.000000       39.979500    1.260000    55.250000  2010.000000\n75%       2.000000      526.005000    3.040000   178.500000  2012.000000\nmax       7.000000   730000.000000   25.000000  8500.000000  2014.000000",
      "text/html": "<div>\n<style scoped>\n    .dataframe tbody tr th:only-of-type {\n        vertical-align: middle;\n    }\n\n    .dataframe tbody tr th {\n        vertical-align: top;\n    }\n\n    .dataframe thead th {\n        text-align: right;\n    }\n</style>\n<table border=\"1\" class=\"dataframe\">\n  <thead>\n    <tr style=\"text-align: right;\">\n      <th></th>\n      <th>number</th>\n      <th>orbital_period</th>\n      <th>mass</th>\n      <th>distance</th>\n      <th>year</th>\n    </tr>\n  </thead>\n  <tbody>\n    <tr>\n      <th>count</th>\n      <td>1035.000000</td>\n      <td>992.000000</td>\n      <td>513.000000</td>\n      <td>808.000000</td>\n      <td>1035.000000</td>\n    </tr>\n    <tr>\n      <th>mean</th>\n      <td>1.785507</td>\n      <td>2002.917596</td>\n      <td>2.638161</td>\n      <td>264.069282</td>\n      <td>2009.070531</td>\n    </tr>\n    <tr>\n      <th>std</th>\n      <td>1.240976</td>\n      <td>26014.728304</td>\n      <td>3.818617</td>\n      <td>733.116493</td>\n      <td>3.972567</td>\n    </tr>\n    <tr>\n      <th>min</th>\n      <td>1.000000</td>\n      <td>0.090706</td>\n      <td>0.003600</td>\n      <td>1.350000</td>\n      <td>1989.000000</td>\n    </tr>\n    <tr>\n      <th>25%</th>\n      <td>1.000000</td>\n      <td>5.442540</td>\n      <td>0.229000</td>\n      <td>32.560000</td>\n      <td>2007.000000</td>\n    </tr>\n    <tr>\n      <th>50%</th>\n      <td>1.000000</td>\n      <td>39.979500</td>\n      <td>1.260000</td>\n      <td>55.250000</td>\n      <td>2010.000000</td>\n    </tr>\n    <tr>\n      <th>75%</th>\n      <td>2.000000</td>\n      <td>526.005000</td>\n      <td>3.040000</td>\n      <td>178.500000</td>\n      <td>2012.000000</td>\n    </tr>\n    <tr>\n      <th>max</th>\n      <td>7.000000</td>\n      <td>730000.000000</td>\n      <td>25.000000</td>\n      <td>8500.000000</td>\n      <td>2014.000000</td>\n    </tr>\n  </tbody>\n</table>\n</div>"
     },
     "execution_count": 239,
     "metadata": {},
     "output_type": "execute_result"
    }
   ],
   "source": [
    "planets.describe()"
   ]
  },
  {
   "cell_type": "code",
   "execution_count": 240,
   "metadata": {
    "ExecuteTime": {
     "end_time": "2024-11-05T08:58:03.989529100Z",
     "start_time": "2024-11-05T08:57:59.517321300Z"
    }
   },
   "outputs": [
    {
     "data": {
      "text/plain": "            method  number  orbital_period   mass  distance  year\n0  Radial Velocity       1         269.300   7.10     77.40  2006\n1  Radial Velocity       1         874.774   2.21     56.95  2008\n2  Radial Velocity       1         763.000   2.60     19.84  2011\n3  Radial Velocity       1         326.030  19.40    110.62  2007\n4  Radial Velocity       1         516.220  10.50    119.47  2009",
      "text/html": "<div>\n<style scoped>\n    .dataframe tbody tr th:only-of-type {\n        vertical-align: middle;\n    }\n\n    .dataframe tbody tr th {\n        vertical-align: top;\n    }\n\n    .dataframe thead th {\n        text-align: right;\n    }\n</style>\n<table border=\"1\" class=\"dataframe\">\n  <thead>\n    <tr style=\"text-align: right;\">\n      <th></th>\n      <th>method</th>\n      <th>number</th>\n      <th>orbital_period</th>\n      <th>mass</th>\n      <th>distance</th>\n      <th>year</th>\n    </tr>\n  </thead>\n  <tbody>\n    <tr>\n      <th>0</th>\n      <td>Radial Velocity</td>\n      <td>1</td>\n      <td>269.300</td>\n      <td>7.10</td>\n      <td>77.40</td>\n      <td>2006</td>\n    </tr>\n    <tr>\n      <th>1</th>\n      <td>Radial Velocity</td>\n      <td>1</td>\n      <td>874.774</td>\n      <td>2.21</td>\n      <td>56.95</td>\n      <td>2008</td>\n    </tr>\n    <tr>\n      <th>2</th>\n      <td>Radial Velocity</td>\n      <td>1</td>\n      <td>763.000</td>\n      <td>2.60</td>\n      <td>19.84</td>\n      <td>2011</td>\n    </tr>\n    <tr>\n      <th>3</th>\n      <td>Radial Velocity</td>\n      <td>1</td>\n      <td>326.030</td>\n      <td>19.40</td>\n      <td>110.62</td>\n      <td>2007</td>\n    </tr>\n    <tr>\n      <th>4</th>\n      <td>Radial Velocity</td>\n      <td>1</td>\n      <td>516.220</td>\n      <td>10.50</td>\n      <td>119.47</td>\n      <td>2009</td>\n    </tr>\n  </tbody>\n</table>\n</div>"
     },
     "execution_count": 240,
     "metadata": {},
     "output_type": "execute_result"
    }
   ],
   "source": [
    "planets.head()"
   ]
  },
  {
   "cell_type": "code",
   "execution_count": 241,
   "metadata": {
    "scrolled": true,
    "ExecuteTime": {
     "end_time": "2024-11-05T08:58:03.989529100Z",
     "start_time": "2024-11-05T08:57:59.534349Z"
    }
   },
   "outputs": [
    {
     "data": {
      "text/plain": "0    2000\n1    2000\n2    2010\n3    2000\n4    2000\nName: year, dtype: int64"
     },
     "execution_count": 241,
     "metadata": {},
     "output_type": "execute_result"
    }
   ],
   "source": [
    "decade = 10 * (planets[\"year\"] // 10)\n",
    "decade.head()"
   ]
  },
  {
   "cell_type": "code",
   "execution_count": 242,
   "metadata": {
    "scrolled": true,
    "ExecuteTime": {
     "end_time": "2024-11-05T08:58:03.990502300Z",
     "start_time": "2024-11-05T08:57:59.547502800Z"
    }
   },
   "outputs": [
    {
     "data": {
      "text/plain": "0    2000s\n1    2000s\n2    2010s\n3    2000s\n4    2000s\nName: decade, dtype: object"
     },
     "execution_count": 242,
     "metadata": {},
     "output_type": "execute_result"
    }
   ],
   "source": [
    "decade = decade.astype(str) + \"s\"\n",
    "decade.name = \"decade\"\n",
    "decade.head()"
   ]
  },
  {
   "cell_type": "code",
   "execution_count": 243,
   "metadata": {
    "ExecuteTime": {
     "end_time": "2024-11-05T08:58:04.303684Z",
     "start_time": "2024-11-05T08:57:59.565044700Z"
    }
   },
   "outputs": [
    {
     "data": {
      "text/plain": "            method  number  orbital_period   mass  distance  year\n0  Radial Velocity       1         269.300   7.10     77.40  2006\n1  Radial Velocity       1         874.774   2.21     56.95  2008\n2  Radial Velocity       1         763.000   2.60     19.84  2011\n3  Radial Velocity       1         326.030  19.40    110.62  2007\n4  Radial Velocity       1         516.220  10.50    119.47  2009",
      "text/html": "<div>\n<style scoped>\n    .dataframe tbody tr th:only-of-type {\n        vertical-align: middle;\n    }\n\n    .dataframe tbody tr th {\n        vertical-align: top;\n    }\n\n    .dataframe thead th {\n        text-align: right;\n    }\n</style>\n<table border=\"1\" class=\"dataframe\">\n  <thead>\n    <tr style=\"text-align: right;\">\n      <th></th>\n      <th>method</th>\n      <th>number</th>\n      <th>orbital_period</th>\n      <th>mass</th>\n      <th>distance</th>\n      <th>year</th>\n    </tr>\n  </thead>\n  <tbody>\n    <tr>\n      <th>0</th>\n      <td>Radial Velocity</td>\n      <td>1</td>\n      <td>269.300</td>\n      <td>7.10</td>\n      <td>77.40</td>\n      <td>2006</td>\n    </tr>\n    <tr>\n      <th>1</th>\n      <td>Radial Velocity</td>\n      <td>1</td>\n      <td>874.774</td>\n      <td>2.21</td>\n      <td>56.95</td>\n      <td>2008</td>\n    </tr>\n    <tr>\n      <th>2</th>\n      <td>Radial Velocity</td>\n      <td>1</td>\n      <td>763.000</td>\n      <td>2.60</td>\n      <td>19.84</td>\n      <td>2011</td>\n    </tr>\n    <tr>\n      <th>3</th>\n      <td>Radial Velocity</td>\n      <td>1</td>\n      <td>326.030</td>\n      <td>19.40</td>\n      <td>110.62</td>\n      <td>2007</td>\n    </tr>\n    <tr>\n      <th>4</th>\n      <td>Radial Velocity</td>\n      <td>1</td>\n      <td>516.220</td>\n      <td>10.50</td>\n      <td>119.47</td>\n      <td>2009</td>\n    </tr>\n  </tbody>\n</table>\n</div>"
     },
     "execution_count": 243,
     "metadata": {},
     "output_type": "execute_result"
    }
   ],
   "source": [
    "planets.head()"
   ]
  },
  {
   "cell_type": "code",
   "execution_count": 244,
   "metadata": {
    "scrolled": true,
    "ExecuteTime": {
     "end_time": "2024-11-05T08:58:04.385685900Z",
     "start_time": "2024-11-05T08:57:59.579832800Z"
    }
   },
   "outputs": [
    {
     "data": {
      "text/plain": "                                      number  orbital_period       mass  \\\nmethod                        decade                                      \nAstrometry                    2010s        2    1.262360e+03    0.00000   \nEclipse Timing Variations     2000s        5    1.930800e+04    6.05000   \n                              2010s       10    2.345680e+04    4.20000   \nImaging                       2000s       29    1.350935e+06    0.00000   \n                              2010s       21    6.803750e+04    0.00000   \nMicrolensing                  2000s       12    1.732500e+04    0.00000   \n                              2010s       15    4.750000e+03    0.00000   \nOrbital Brightness Modulation 2010s        5    2.127920e+00    0.00000   \nPulsar Timing                 1990s        9    1.900153e+02    0.00000   \n                              2000s        1    3.652500e+04    0.00000   \n                              2010s        1    9.070629e-02    0.00000   \nPulsation Timing Variations   2000s        1    1.170000e+03    0.00000   \nRadial Velocity               1980s        1    8.388800e+01   11.68000   \n                              1990s       52    1.091561e+04   68.17820   \n                              2000s      475    2.633526e+05  945.31928   \n                              2010s      424    1.809630e+05  316.47890   \nTransit                       2000s       64    2.897102e+02    0.00000   \n                              2010s      712    8.087813e+03    1.47000   \nTransit Timing Variations     2010s        9    2.393505e+02    0.00000   \n\n                                       distance    year  \nmethod                        decade                     \nAstrometry                    2010s       35.75    4023  \nEclipse Timing Variations     2000s      261.44    6025  \n                              2010s     1000.00   12065  \nImaging                       2000s      956.83   40139  \n                              2010s     1210.08   36208  \nMicrolensing                  2000s        0.00   20070  \n                              2010s    41440.00   26155  \nOrbital Brightness Modulation 2010s     2360.00    6035  \nPulsar Timing                 1990s        0.00    5978  \n                              2000s        0.00    2003  \n                              2010s     1200.00    2011  \nPulsation Timing Variations   2000s        0.00    2007  \nRadial Velocity               1980s       40.57    1989  \n                              1990s      723.71   55943  \n                              2000s    15201.16  619775  \n                              2010s    11382.67  432451  \nTransit                       2000s    31823.31  124462  \n                              2010s   102419.46  673999  \nTransit Timing Variations     2010s     3313.00    8050  ",
      "text/html": "<div>\n<style scoped>\n    .dataframe tbody tr th:only-of-type {\n        vertical-align: middle;\n    }\n\n    .dataframe tbody tr th {\n        vertical-align: top;\n    }\n\n    .dataframe thead th {\n        text-align: right;\n    }\n</style>\n<table border=\"1\" class=\"dataframe\">\n  <thead>\n    <tr style=\"text-align: right;\">\n      <th></th>\n      <th></th>\n      <th>number</th>\n      <th>orbital_period</th>\n      <th>mass</th>\n      <th>distance</th>\n      <th>year</th>\n    </tr>\n    <tr>\n      <th>method</th>\n      <th>decade</th>\n      <th></th>\n      <th></th>\n      <th></th>\n      <th></th>\n      <th></th>\n    </tr>\n  </thead>\n  <tbody>\n    <tr>\n      <th>Astrometry</th>\n      <th>2010s</th>\n      <td>2</td>\n      <td>1.262360e+03</td>\n      <td>0.00000</td>\n      <td>35.75</td>\n      <td>4023</td>\n    </tr>\n    <tr>\n      <th rowspan=\"2\" valign=\"top\">Eclipse Timing Variations</th>\n      <th>2000s</th>\n      <td>5</td>\n      <td>1.930800e+04</td>\n      <td>6.05000</td>\n      <td>261.44</td>\n      <td>6025</td>\n    </tr>\n    <tr>\n      <th>2010s</th>\n      <td>10</td>\n      <td>2.345680e+04</td>\n      <td>4.20000</td>\n      <td>1000.00</td>\n      <td>12065</td>\n    </tr>\n    <tr>\n      <th rowspan=\"2\" valign=\"top\">Imaging</th>\n      <th>2000s</th>\n      <td>29</td>\n      <td>1.350935e+06</td>\n      <td>0.00000</td>\n      <td>956.83</td>\n      <td>40139</td>\n    </tr>\n    <tr>\n      <th>2010s</th>\n      <td>21</td>\n      <td>6.803750e+04</td>\n      <td>0.00000</td>\n      <td>1210.08</td>\n      <td>36208</td>\n    </tr>\n    <tr>\n      <th rowspan=\"2\" valign=\"top\">Microlensing</th>\n      <th>2000s</th>\n      <td>12</td>\n      <td>1.732500e+04</td>\n      <td>0.00000</td>\n      <td>0.00</td>\n      <td>20070</td>\n    </tr>\n    <tr>\n      <th>2010s</th>\n      <td>15</td>\n      <td>4.750000e+03</td>\n      <td>0.00000</td>\n      <td>41440.00</td>\n      <td>26155</td>\n    </tr>\n    <tr>\n      <th>Orbital Brightness Modulation</th>\n      <th>2010s</th>\n      <td>5</td>\n      <td>2.127920e+00</td>\n      <td>0.00000</td>\n      <td>2360.00</td>\n      <td>6035</td>\n    </tr>\n    <tr>\n      <th rowspan=\"3\" valign=\"top\">Pulsar Timing</th>\n      <th>1990s</th>\n      <td>9</td>\n      <td>1.900153e+02</td>\n      <td>0.00000</td>\n      <td>0.00</td>\n      <td>5978</td>\n    </tr>\n    <tr>\n      <th>2000s</th>\n      <td>1</td>\n      <td>3.652500e+04</td>\n      <td>0.00000</td>\n      <td>0.00</td>\n      <td>2003</td>\n    </tr>\n    <tr>\n      <th>2010s</th>\n      <td>1</td>\n      <td>9.070629e-02</td>\n      <td>0.00000</td>\n      <td>1200.00</td>\n      <td>2011</td>\n    </tr>\n    <tr>\n      <th>Pulsation Timing Variations</th>\n      <th>2000s</th>\n      <td>1</td>\n      <td>1.170000e+03</td>\n      <td>0.00000</td>\n      <td>0.00</td>\n      <td>2007</td>\n    </tr>\n    <tr>\n      <th rowspan=\"4\" valign=\"top\">Radial Velocity</th>\n      <th>1980s</th>\n      <td>1</td>\n      <td>8.388800e+01</td>\n      <td>11.68000</td>\n      <td>40.57</td>\n      <td>1989</td>\n    </tr>\n    <tr>\n      <th>1990s</th>\n      <td>52</td>\n      <td>1.091561e+04</td>\n      <td>68.17820</td>\n      <td>723.71</td>\n      <td>55943</td>\n    </tr>\n    <tr>\n      <th>2000s</th>\n      <td>475</td>\n      <td>2.633526e+05</td>\n      <td>945.31928</td>\n      <td>15201.16</td>\n      <td>619775</td>\n    </tr>\n    <tr>\n      <th>2010s</th>\n      <td>424</td>\n      <td>1.809630e+05</td>\n      <td>316.47890</td>\n      <td>11382.67</td>\n      <td>432451</td>\n    </tr>\n    <tr>\n      <th rowspan=\"2\" valign=\"top\">Transit</th>\n      <th>2000s</th>\n      <td>64</td>\n      <td>2.897102e+02</td>\n      <td>0.00000</td>\n      <td>31823.31</td>\n      <td>124462</td>\n    </tr>\n    <tr>\n      <th>2010s</th>\n      <td>712</td>\n      <td>8.087813e+03</td>\n      <td>1.47000</td>\n      <td>102419.46</td>\n      <td>673999</td>\n    </tr>\n    <tr>\n      <th>Transit Timing Variations</th>\n      <th>2010s</th>\n      <td>9</td>\n      <td>2.393505e+02</td>\n      <td>0.00000</td>\n      <td>3313.00</td>\n      <td>8050</td>\n    </tr>\n  </tbody>\n</table>\n</div>"
     },
     "execution_count": 244,
     "metadata": {},
     "output_type": "execute_result"
    }
   ],
   "source": [
    "planets.groupby([\"method\", decade]).sum()"
   ]
  },
  {
   "cell_type": "code",
   "execution_count": 245,
   "metadata": {
    "scrolled": true,
    "ExecuteTime": {
     "end_time": "2024-11-05T08:58:04.386689100Z",
     "start_time": "2024-11-05T08:57:59.611921200Z"
    }
   },
   "outputs": [
    {
     "data": {
      "text/plain": "                              number                    \ndecade                         1980s 1990s  2000s  2010s\nmethod                                                  \nAstrometry                       0.0   0.0    0.0    2.0\nEclipse Timing Variations        0.0   0.0    5.0   10.0\nImaging                          0.0   0.0   29.0   21.0\nMicrolensing                     0.0   0.0   12.0   15.0\nOrbital Brightness Modulation    0.0   0.0    0.0    5.0\nPulsar Timing                    0.0   9.0    1.0    1.0\nPulsation Timing Variations      0.0   0.0    1.0    0.0\nRadial Velocity                  1.0  52.0  475.0  424.0\nTransit                          0.0   0.0   64.0  712.0\nTransit Timing Variations        0.0   0.0    0.0    9.0",
      "text/html": "<div>\n<style scoped>\n    .dataframe tbody tr th:only-of-type {\n        vertical-align: middle;\n    }\n\n    .dataframe tbody tr th {\n        vertical-align: top;\n    }\n\n    .dataframe thead tr th {\n        text-align: left;\n    }\n\n    .dataframe thead tr:last-of-type th {\n        text-align: right;\n    }\n</style>\n<table border=\"1\" class=\"dataframe\">\n  <thead>\n    <tr>\n      <th></th>\n      <th colspan=\"4\" halign=\"left\">number</th>\n    </tr>\n    <tr>\n      <th>decade</th>\n      <th>1980s</th>\n      <th>1990s</th>\n      <th>2000s</th>\n      <th>2010s</th>\n    </tr>\n    <tr>\n      <th>method</th>\n      <th></th>\n      <th></th>\n      <th></th>\n      <th></th>\n    </tr>\n  </thead>\n  <tbody>\n    <tr>\n      <th>Astrometry</th>\n      <td>0.0</td>\n      <td>0.0</td>\n      <td>0.0</td>\n      <td>2.0</td>\n    </tr>\n    <tr>\n      <th>Eclipse Timing Variations</th>\n      <td>0.0</td>\n      <td>0.0</td>\n      <td>5.0</td>\n      <td>10.0</td>\n    </tr>\n    <tr>\n      <th>Imaging</th>\n      <td>0.0</td>\n      <td>0.0</td>\n      <td>29.0</td>\n      <td>21.0</td>\n    </tr>\n    <tr>\n      <th>Microlensing</th>\n      <td>0.0</td>\n      <td>0.0</td>\n      <td>12.0</td>\n      <td>15.0</td>\n    </tr>\n    <tr>\n      <th>Orbital Brightness Modulation</th>\n      <td>0.0</td>\n      <td>0.0</td>\n      <td>0.0</td>\n      <td>5.0</td>\n    </tr>\n    <tr>\n      <th>Pulsar Timing</th>\n      <td>0.0</td>\n      <td>9.0</td>\n      <td>1.0</td>\n      <td>1.0</td>\n    </tr>\n    <tr>\n      <th>Pulsation Timing Variations</th>\n      <td>0.0</td>\n      <td>0.0</td>\n      <td>1.0</td>\n      <td>0.0</td>\n    </tr>\n    <tr>\n      <th>Radial Velocity</th>\n      <td>1.0</td>\n      <td>52.0</td>\n      <td>475.0</td>\n      <td>424.0</td>\n    </tr>\n    <tr>\n      <th>Transit</th>\n      <td>0.0</td>\n      <td>0.0</td>\n      <td>64.0</td>\n      <td>712.0</td>\n    </tr>\n    <tr>\n      <th>Transit Timing Variations</th>\n      <td>0.0</td>\n      <td>0.0</td>\n      <td>0.0</td>\n      <td>9.0</td>\n    </tr>\n  </tbody>\n</table>\n</div>"
     },
     "execution_count": 245,
     "metadata": {},
     "output_type": "execute_result"
    }
   ],
   "source": [
    "planets.groupby([\"method\", decade])[[\"number\"]].sum().unstack().fillna(0)"
   ]
  },
  {
   "cell_type": "markdown",
   "metadata": {},
   "source": [
    "#### 6.2 数据透视表"
   ]
  },
  {
   "cell_type": "markdown",
   "metadata": {},
   "source": [
    "【例2】泰坦尼克号乘客数据分析"
   ]
  },
  {
   "cell_type": "code",
   "execution_count": 246,
   "metadata": {
    "ExecuteTime": {
     "end_time": "2024-11-05T08:58:04.386689100Z",
     "start_time": "2024-11-05T08:57:59.642729700Z"
    }
   },
   "outputs": [],
   "source": [
    "import seaborn as sns\n",
    "\n",
    "titanic = sns.load_dataset(\"titanic\")"
   ]
  },
  {
   "cell_type": "code",
   "execution_count": 247,
   "metadata": {
    "scrolled": true,
    "ExecuteTime": {
     "end_time": "2024-11-05T08:58:04.413690500Z",
     "start_time": "2024-11-05T08:57:59.656812400Z"
    }
   },
   "outputs": [
    {
     "data": {
      "text/plain": "   survived  pclass     sex   age  sibsp  parch     fare embarked  class  \\\n0         0       3    male  22.0      1      0   7.2500        S  Third   \n1         1       1  female  38.0      1      0  71.2833        C  First   \n2         1       3  female  26.0      0      0   7.9250        S  Third   \n3         1       1  female  35.0      1      0  53.1000        S  First   \n4         0       3    male  35.0      0      0   8.0500        S  Third   \n\n     who  adult_male deck  embark_town alive  alone  \n0    man        True  NaN  Southampton    no  False  \n1  woman       False    C    Cherbourg   yes  False  \n2  woman       False  NaN  Southampton   yes   True  \n3  woman       False    C  Southampton   yes  False  \n4    man        True  NaN  Southampton    no   True  ",
      "text/html": "<div>\n<style scoped>\n    .dataframe tbody tr th:only-of-type {\n        vertical-align: middle;\n    }\n\n    .dataframe tbody tr th {\n        vertical-align: top;\n    }\n\n    .dataframe thead th {\n        text-align: right;\n    }\n</style>\n<table border=\"1\" class=\"dataframe\">\n  <thead>\n    <tr style=\"text-align: right;\">\n      <th></th>\n      <th>survived</th>\n      <th>pclass</th>\n      <th>sex</th>\n      <th>age</th>\n      <th>sibsp</th>\n      <th>parch</th>\n      <th>fare</th>\n      <th>embarked</th>\n      <th>class</th>\n      <th>who</th>\n      <th>adult_male</th>\n      <th>deck</th>\n      <th>embark_town</th>\n      <th>alive</th>\n      <th>alone</th>\n    </tr>\n  </thead>\n  <tbody>\n    <tr>\n      <th>0</th>\n      <td>0</td>\n      <td>3</td>\n      <td>male</td>\n      <td>22.0</td>\n      <td>1</td>\n      <td>0</td>\n      <td>7.2500</td>\n      <td>S</td>\n      <td>Third</td>\n      <td>man</td>\n      <td>True</td>\n      <td>NaN</td>\n      <td>Southampton</td>\n      <td>no</td>\n      <td>False</td>\n    </tr>\n    <tr>\n      <th>1</th>\n      <td>1</td>\n      <td>1</td>\n      <td>female</td>\n      <td>38.0</td>\n      <td>1</td>\n      <td>0</td>\n      <td>71.2833</td>\n      <td>C</td>\n      <td>First</td>\n      <td>woman</td>\n      <td>False</td>\n      <td>C</td>\n      <td>Cherbourg</td>\n      <td>yes</td>\n      <td>False</td>\n    </tr>\n    <tr>\n      <th>2</th>\n      <td>1</td>\n      <td>3</td>\n      <td>female</td>\n      <td>26.0</td>\n      <td>0</td>\n      <td>0</td>\n      <td>7.9250</td>\n      <td>S</td>\n      <td>Third</td>\n      <td>woman</td>\n      <td>False</td>\n      <td>NaN</td>\n      <td>Southampton</td>\n      <td>yes</td>\n      <td>True</td>\n    </tr>\n    <tr>\n      <th>3</th>\n      <td>1</td>\n      <td>1</td>\n      <td>female</td>\n      <td>35.0</td>\n      <td>1</td>\n      <td>0</td>\n      <td>53.1000</td>\n      <td>S</td>\n      <td>First</td>\n      <td>woman</td>\n      <td>False</td>\n      <td>C</td>\n      <td>Southampton</td>\n      <td>yes</td>\n      <td>False</td>\n    </tr>\n    <tr>\n      <th>4</th>\n      <td>0</td>\n      <td>3</td>\n      <td>male</td>\n      <td>35.0</td>\n      <td>0</td>\n      <td>0</td>\n      <td>8.0500</td>\n      <td>S</td>\n      <td>Third</td>\n      <td>man</td>\n      <td>True</td>\n      <td>NaN</td>\n      <td>Southampton</td>\n      <td>no</td>\n      <td>True</td>\n    </tr>\n  </tbody>\n</table>\n</div>"
     },
     "execution_count": 247,
     "metadata": {},
     "output_type": "execute_result"
    }
   ],
   "source": [
    "titanic.head()"
   ]
  },
  {
   "cell_type": "code",
   "execution_count": 248,
   "metadata": {
    "ExecuteTime": {
     "end_time": "2024-11-05T08:58:04.454732300Z",
     "start_time": "2024-11-05T08:57:59.689279700Z"
    }
   },
   "outputs": [],
   "source": [
    "T = titanic[titanic.age.notnull()].copy()"
   ]
  },
  {
   "cell_type": "code",
   "execution_count": 249,
   "metadata": {
    "ExecuteTime": {
     "end_time": "2024-11-05T08:58:04.562708900Z",
     "start_time": "2024-11-05T08:57:59.703146500Z"
    }
   },
   "outputs": [
    {
     "data": {
      "text/plain": "age\n22.00    19\n28.00    19\n24.00    19\n21.00    17\n29.00    16\n         ..\n40.50     1\n55.50     1\n36.50     1\n14.50     1\n0.75      1\nName: count, Length: 77, dtype: int64"
     },
     "execution_count": 249,
     "metadata": {},
     "output_type": "execute_result"
    }
   ],
   "source": [
    "T.age.apply(lambda x: 60 if x >= 60 else x)\n",
    "T.age.value_counts()"
   ]
  },
  {
   "cell_type": "code",
   "execution_count": 250,
   "metadata": {
    "ExecuteTime": {
     "end_time": "2024-11-05T08:58:04.562708900Z",
     "start_time": "2024-11-05T08:57:59.719752200Z"
    }
   },
   "outputs": [
    {
     "data": {
      "text/plain": "age\n20    136\n30     86\n10     58\n40     47\n0      38\n50     28\n60     11\n70      3\nName: count, dtype: int64"
     },
     "execution_count": 250,
     "metadata": {},
     "output_type": "execute_result"
    }
   ],
   "source": [
    "Age = 10 * (T[\"age\"] // 10)\n",
    "Age = Age.astype(int)\n",
    "Age.head()\n",
    "Age.value_counts()"
   ]
  },
  {
   "cell_type": "code",
   "execution_count": 251,
   "metadata": {
    "ExecuteTime": {
     "end_time": "2024-11-05T08:58:04.563916300Z",
     "start_time": "2024-11-05T08:57:59.734642300Z"
    }
   },
   "outputs": [
    {
     "data": {
      "text/plain": "0      20s\n1      30s\n2      20s\n3      30s\n4      30s\n      ... \n505    10s\n506    30s\n508    20s\n509    20s\n510    20s\nName: age, Length: 407, dtype: object"
     },
     "execution_count": 251,
     "metadata": {},
     "output_type": "execute_result"
    }
   ],
   "source": [
    "Age.astype(str) + \"s\""
   ]
  },
  {
   "cell_type": "code",
   "execution_count": 252,
   "metadata": {
    "scrolled": true,
    "ExecuteTime": {
     "end_time": "2024-11-05T08:58:04.563916300Z",
     "start_time": "2024-11-05T08:57:59.750215Z"
    }
   },
   "outputs": [
    {
     "data": {
      "text/plain": "age           0         10        20        30        40        50   60   70\nsex                                                                         \nfemale  0.647059  0.740741  0.680851  0.882353  0.625000  0.888889  1.0  NaN\nmale    0.523810  0.161290  0.168539  0.173077  0.225806  0.052632  0.0  0.0",
      "text/html": "<div>\n<style scoped>\n    .dataframe tbody tr th:only-of-type {\n        vertical-align: middle;\n    }\n\n    .dataframe tbody tr th {\n        vertical-align: top;\n    }\n\n    .dataframe thead th {\n        text-align: right;\n    }\n</style>\n<table border=\"1\" class=\"dataframe\">\n  <thead>\n    <tr style=\"text-align: right;\">\n      <th>age</th>\n      <th>0</th>\n      <th>10</th>\n      <th>20</th>\n      <th>30</th>\n      <th>40</th>\n      <th>50</th>\n      <th>60</th>\n      <th>70</th>\n    </tr>\n    <tr>\n      <th>sex</th>\n      <th></th>\n      <th></th>\n      <th></th>\n      <th></th>\n      <th></th>\n      <th></th>\n      <th></th>\n      <th></th>\n    </tr>\n  </thead>\n  <tbody>\n    <tr>\n      <th>female</th>\n      <td>0.647059</td>\n      <td>0.740741</td>\n      <td>0.680851</td>\n      <td>0.882353</td>\n      <td>0.625000</td>\n      <td>0.888889</td>\n      <td>1.0</td>\n      <td>NaN</td>\n    </tr>\n    <tr>\n      <th>male</th>\n      <td>0.523810</td>\n      <td>0.161290</td>\n      <td>0.168539</td>\n      <td>0.173077</td>\n      <td>0.225806</td>\n      <td>0.052632</td>\n      <td>0.0</td>\n      <td>0.0</td>\n    </tr>\n  </tbody>\n</table>\n</div>"
     },
     "execution_count": 252,
     "metadata": {},
     "output_type": "execute_result"
    }
   ],
   "source": [
    "T.groupby([\"sex\", Age])[\"survived\"].mean().unstack()"
   ]
  },
  {
   "cell_type": "code",
   "execution_count": 253,
   "metadata": {
    "ExecuteTime": {
     "end_time": "2024-11-05T08:58:04.713319500Z",
     "start_time": "2024-11-05T08:57:59.781358500Z"
    }
   },
   "outputs": [
    {
     "data": {
      "text/plain": "age           0         10        20        30        40        50   60   70\nsex                                                                         \nfemale  0.647059  0.740741  0.680851  0.882353  0.625000  0.888889  1.0  NaN\nmale    0.523810  0.161290  0.168539  0.173077  0.225806  0.052632  0.0  0.0",
      "text/html": "<div>\n<style scoped>\n    .dataframe tbody tr th:only-of-type {\n        vertical-align: middle;\n    }\n\n    .dataframe tbody tr th {\n        vertical-align: top;\n    }\n\n    .dataframe thead th {\n        text-align: right;\n    }\n</style>\n<table border=\"1\" class=\"dataframe\">\n  <thead>\n    <tr style=\"text-align: right;\">\n      <th>age</th>\n      <th>0</th>\n      <th>10</th>\n      <th>20</th>\n      <th>30</th>\n      <th>40</th>\n      <th>50</th>\n      <th>60</th>\n      <th>70</th>\n    </tr>\n    <tr>\n      <th>sex</th>\n      <th></th>\n      <th></th>\n      <th></th>\n      <th></th>\n      <th></th>\n      <th></th>\n      <th></th>\n      <th></th>\n    </tr>\n  </thead>\n  <tbody>\n    <tr>\n      <th>female</th>\n      <td>0.647059</td>\n      <td>0.740741</td>\n      <td>0.680851</td>\n      <td>0.882353</td>\n      <td>0.625000</td>\n      <td>0.888889</td>\n      <td>1.0</td>\n      <td>NaN</td>\n    </tr>\n    <tr>\n      <th>male</th>\n      <td>0.523810</td>\n      <td>0.161290</td>\n      <td>0.168539</td>\n      <td>0.173077</td>\n      <td>0.225806</td>\n      <td>0.052632</td>\n      <td>0.0</td>\n      <td>0.0</td>\n    </tr>\n  </tbody>\n</table>\n</div>"
     },
     "execution_count": 253,
     "metadata": {},
     "output_type": "execute_result"
    }
   ],
   "source": [
    "T.age = Age\n",
    "T.pivot_table(\"survived\", index=\"sex\", columns=\"age\")"
   ]
  },
  {
   "cell_type": "code",
   "execution_count": 254,
   "metadata": {
    "scrolled": false,
    "ExecuteTime": {
     "end_time": "2024-11-05T08:58:04.714113300Z",
     "start_time": "2024-11-05T08:57:59.812191100Z"
    }
   },
   "outputs": [
    {
     "data": {
      "text/plain": "         survived      pclass         age       sibsp       parch        fare\ncount  511.000000  511.000000  407.000000  511.000000  511.000000  511.000000\nmean     0.387476    2.326810   29.111794    0.563601    0.375734   31.819014\nstd      0.487651    0.828917   14.485598    1.144195    0.776946   47.348531\nmin      0.000000    1.000000    0.750000    0.000000    0.000000    0.000000\n25%      0.000000    2.000000   20.000000    0.000000    0.000000    7.925000\n50%      0.000000    3.000000   28.000000    0.000000    0.000000   14.458300\n75%      1.000000    3.000000   37.000000    1.000000    0.000000   30.070800\nmax      1.000000    3.000000   71.000000    8.000000    5.000000  512.329200",
      "text/html": "<div>\n<style scoped>\n    .dataframe tbody tr th:only-of-type {\n        vertical-align: middle;\n    }\n\n    .dataframe tbody tr th {\n        vertical-align: top;\n    }\n\n    .dataframe thead th {\n        text-align: right;\n    }\n</style>\n<table border=\"1\" class=\"dataframe\">\n  <thead>\n    <tr style=\"text-align: right;\">\n      <th></th>\n      <th>survived</th>\n      <th>pclass</th>\n      <th>age</th>\n      <th>sibsp</th>\n      <th>parch</th>\n      <th>fare</th>\n    </tr>\n  </thead>\n  <tbody>\n    <tr>\n      <th>count</th>\n      <td>511.000000</td>\n      <td>511.000000</td>\n      <td>407.000000</td>\n      <td>511.000000</td>\n      <td>511.000000</td>\n      <td>511.000000</td>\n    </tr>\n    <tr>\n      <th>mean</th>\n      <td>0.387476</td>\n      <td>2.326810</td>\n      <td>29.111794</td>\n      <td>0.563601</td>\n      <td>0.375734</td>\n      <td>31.819014</td>\n    </tr>\n    <tr>\n      <th>std</th>\n      <td>0.487651</td>\n      <td>0.828917</td>\n      <td>14.485598</td>\n      <td>1.144195</td>\n      <td>0.776946</td>\n      <td>47.348531</td>\n    </tr>\n    <tr>\n      <th>min</th>\n      <td>0.000000</td>\n      <td>1.000000</td>\n      <td>0.750000</td>\n      <td>0.000000</td>\n      <td>0.000000</td>\n      <td>0.000000</td>\n    </tr>\n    <tr>\n      <th>25%</th>\n      <td>0.000000</td>\n      <td>2.000000</td>\n      <td>20.000000</td>\n      <td>0.000000</td>\n      <td>0.000000</td>\n      <td>7.925000</td>\n    </tr>\n    <tr>\n      <th>50%</th>\n      <td>0.000000</td>\n      <td>3.000000</td>\n      <td>28.000000</td>\n      <td>0.000000</td>\n      <td>0.000000</td>\n      <td>14.458300</td>\n    </tr>\n    <tr>\n      <th>75%</th>\n      <td>1.000000</td>\n      <td>3.000000</td>\n      <td>37.000000</td>\n      <td>1.000000</td>\n      <td>0.000000</td>\n      <td>30.070800</td>\n    </tr>\n    <tr>\n      <th>max</th>\n      <td>1.000000</td>\n      <td>3.000000</td>\n      <td>71.000000</td>\n      <td>8.000000</td>\n      <td>5.000000</td>\n      <td>512.329200</td>\n    </tr>\n  </tbody>\n</table>\n</div>"
     },
     "execution_count": 254,
     "metadata": {},
     "output_type": "execute_result"
    }
   ],
   "source": [
    "titanic.describe()"
   ]
  },
  {
   "cell_type": "code",
   "execution_count": 255,
   "metadata": {
    "ExecuteTime": {
     "end_time": "2024-11-05T08:58:04.714113300Z",
     "start_time": "2024-11-05T08:57:59.842559800Z"
    }
   },
   "outputs": [
    {
     "data": {
      "text/plain": "        survived\nsex             \nfemale  0.742105\nmale    0.177570",
      "text/html": "<div>\n<style scoped>\n    .dataframe tbody tr th:only-of-type {\n        vertical-align: middle;\n    }\n\n    .dataframe tbody tr th {\n        vertical-align: top;\n    }\n\n    .dataframe thead th {\n        text-align: right;\n    }\n</style>\n<table border=\"1\" class=\"dataframe\">\n  <thead>\n    <tr style=\"text-align: right;\">\n      <th></th>\n      <th>survived</th>\n    </tr>\n    <tr>\n      <th>sex</th>\n      <th></th>\n    </tr>\n  </thead>\n  <tbody>\n    <tr>\n      <th>female</th>\n      <td>0.742105</td>\n    </tr>\n    <tr>\n      <th>male</th>\n      <td>0.177570</td>\n    </tr>\n  </tbody>\n</table>\n</div>"
     },
     "execution_count": 255,
     "metadata": {},
     "output_type": "execute_result"
    }
   ],
   "source": [
    "titanic.groupby(\"sex\")[[\"survived\"]].mean()"
   ]
  },
  {
   "cell_type": "code",
   "execution_count": 256,
   "metadata": {
    "scrolled": true,
    "ExecuteTime": {
     "end_time": "2024-11-05T08:58:04.714839400Z",
     "start_time": "2024-11-05T08:57:59.859226600Z"
    }
   },
   "outputs": [
    {
     "data": {
      "text/plain": "sex\nfemale    0.742105\nmale      0.177570\nName: survived, dtype: float64"
     },
     "execution_count": 256,
     "metadata": {},
     "output_type": "execute_result"
    }
   ],
   "source": [
    "titanic.groupby(\"sex\")[\"survived\"].mean()"
   ]
  },
  {
   "cell_type": "code",
   "execution_count": 257,
   "metadata": {
    "scrolled": true,
    "ExecuteTime": {
     "end_time": "2024-11-05T08:58:04.715551200Z",
     "start_time": "2024-11-05T08:57:59.874681900Z"
    }
   },
   "outputs": [
    {
     "name": "stderr",
     "output_type": "stream",
     "text": [
      "C:\\Users\\30520\\AppData\\Local\\Temp\\ipykernel_736\\4169659270.py:1: FutureWarning: The default of observed=False is deprecated and will be changed to True in a future version of pandas. Pass observed=False to retain current behavior or observed=True to adopt the future default and silence this warning.\n",
      "  titanic.groupby([\"sex\", \"class\"])[\"survived\"].aggregate(\"mean\").unstack()\n"
     ]
    },
    {
     "data": {
      "text/plain": "class      First    Second     Third\nsex                                 \nfemale  0.942308  0.911111  0.548387\nmale    0.283582  0.147541  0.150259",
      "text/html": "<div>\n<style scoped>\n    .dataframe tbody tr th:only-of-type {\n        vertical-align: middle;\n    }\n\n    .dataframe tbody tr th {\n        vertical-align: top;\n    }\n\n    .dataframe thead th {\n        text-align: right;\n    }\n</style>\n<table border=\"1\" class=\"dataframe\">\n  <thead>\n    <tr style=\"text-align: right;\">\n      <th>class</th>\n      <th>First</th>\n      <th>Second</th>\n      <th>Third</th>\n    </tr>\n    <tr>\n      <th>sex</th>\n      <th></th>\n      <th></th>\n      <th></th>\n    </tr>\n  </thead>\n  <tbody>\n    <tr>\n      <th>female</th>\n      <td>0.942308</td>\n      <td>0.911111</td>\n      <td>0.548387</td>\n    </tr>\n    <tr>\n      <th>male</th>\n      <td>0.283582</td>\n      <td>0.147541</td>\n      <td>0.150259</td>\n    </tr>\n  </tbody>\n</table>\n</div>"
     },
     "execution_count": 257,
     "metadata": {},
     "output_type": "execute_result"
    }
   ],
   "source": [
    "titanic.groupby([\"sex\", \"class\"])[\"survived\"].aggregate(\"mean\").unstack()"
   ]
  },
  {
   "cell_type": "markdown",
   "metadata": {},
   "source": [
    "1. 数据透视表"
   ]
  },
  {
   "cell_type": "code",
   "execution_count": 258,
   "metadata": {
    "scrolled": false,
    "ExecuteTime": {
     "end_time": "2024-11-05T08:58:04.716204700Z",
     "start_time": "2024-11-05T08:57:59.889616300Z"
    }
   },
   "outputs": [
    {
     "name": "stderr",
     "output_type": "stream",
     "text": [
      "C:\\Users\\30520\\AppData\\Local\\Temp\\ipykernel_736\\4049484128.py:1: FutureWarning: The default value of observed=False is deprecated and will change to observed=True in a future version of pandas. Specify observed=False to silence this warning and retain the current behavior\n",
      "  titanic.pivot_table(\"survived\", index=\"sex\", columns=\"class\")\n"
     ]
    },
    {
     "data": {
      "text/plain": "class      First    Second     Third\nsex                                 \nfemale  0.942308  0.911111  0.548387\nmale    0.283582  0.147541  0.150259",
      "text/html": "<div>\n<style scoped>\n    .dataframe tbody tr th:only-of-type {\n        vertical-align: middle;\n    }\n\n    .dataframe tbody tr th {\n        vertical-align: top;\n    }\n\n    .dataframe thead th {\n        text-align: right;\n    }\n</style>\n<table border=\"1\" class=\"dataframe\">\n  <thead>\n    <tr style=\"text-align: right;\">\n      <th>class</th>\n      <th>First</th>\n      <th>Second</th>\n      <th>Third</th>\n    </tr>\n    <tr>\n      <th>sex</th>\n      <th></th>\n      <th></th>\n      <th></th>\n    </tr>\n  </thead>\n  <tbody>\n    <tr>\n      <th>female</th>\n      <td>0.942308</td>\n      <td>0.911111</td>\n      <td>0.548387</td>\n    </tr>\n    <tr>\n      <th>male</th>\n      <td>0.283582</td>\n      <td>0.147541</td>\n      <td>0.150259</td>\n    </tr>\n  </tbody>\n</table>\n</div>"
     },
     "execution_count": 258,
     "metadata": {},
     "output_type": "execute_result"
    }
   ],
   "source": [
    "titanic.pivot_table(\"survived\", index=\"sex\", columns=\"class\")"
   ]
  },
  {
   "cell_type": "code",
   "execution_count": 259,
   "metadata": {
    "scrolled": true,
    "ExecuteTime": {
     "end_time": "2024-11-05T08:58:04.716775400Z",
     "start_time": "2024-11-05T08:57:59.920076400Z"
    }
   },
   "outputs": [
    {
     "name": "stderr",
     "output_type": "stream",
     "text": [
      "C:\\Users\\30520\\AppData\\Local\\Temp\\ipykernel_736\\1733314960.py:1: FutureWarning: The default value of observed=False is deprecated and will change to observed=True in a future version of pandas. Specify observed=False to silence this warning and retain the current behavior\n",
      "  titanic.pivot_table(\"survived\", index=\"sex\", columns=\"class\", aggfunc=\"mean\", margins=True)\n"
     ]
    },
    {
     "data": {
      "text/plain": "class      First    Second     Third       All\nsex                                           \nfemale  0.942308  0.911111  0.548387  0.742105\nmale    0.283582  0.147541  0.150259  0.177570\nAll     0.571429  0.471698  0.279720  0.387476",
      "text/html": "<div>\n<style scoped>\n    .dataframe tbody tr th:only-of-type {\n        vertical-align: middle;\n    }\n\n    .dataframe tbody tr th {\n        vertical-align: top;\n    }\n\n    .dataframe thead th {\n        text-align: right;\n    }\n</style>\n<table border=\"1\" class=\"dataframe\">\n  <thead>\n    <tr style=\"text-align: right;\">\n      <th>class</th>\n      <th>First</th>\n      <th>Second</th>\n      <th>Third</th>\n      <th>All</th>\n    </tr>\n    <tr>\n      <th>sex</th>\n      <th></th>\n      <th></th>\n      <th></th>\n      <th></th>\n    </tr>\n  </thead>\n  <tbody>\n    <tr>\n      <th>female</th>\n      <td>0.942308</td>\n      <td>0.911111</td>\n      <td>0.548387</td>\n      <td>0.742105</td>\n    </tr>\n    <tr>\n      <th>male</th>\n      <td>0.283582</td>\n      <td>0.147541</td>\n      <td>0.150259</td>\n      <td>0.177570</td>\n    </tr>\n    <tr>\n      <th>All</th>\n      <td>0.571429</td>\n      <td>0.471698</td>\n      <td>0.279720</td>\n      <td>0.387476</td>\n    </tr>\n  </tbody>\n</table>\n</div>"
     },
     "execution_count": 259,
     "metadata": {},
     "output_type": "execute_result"
    }
   ],
   "source": [
    "titanic.pivot_table(\"survived\", index=\"sex\", columns=\"class\", aggfunc=\"mean\", margins=True)"
   ]
  },
  {
   "cell_type": "code",
   "execution_count": 260,
   "metadata": {
    "scrolled": false,
    "ExecuteTime": {
     "end_time": "2024-11-05T08:58:05.002461200Z",
     "start_time": "2024-11-05T08:57:59.950151500Z"
    }
   },
   "outputs": [
    {
     "name": "stderr",
     "output_type": "stream",
     "text": [
      "C:\\Users\\30520\\AppData\\Local\\Temp\\ipykernel_736\\351026439.py:1: FutureWarning: The default value of observed=False is deprecated and will change to observed=True in a future version of pandas. Specify observed=False to silence this warning and retain the current behavior\n",
      "  titanic.pivot_table(index=\"sex\", columns=\"class\", aggfunc={\"survived\": \"sum\", \"fare\": \"mean\"})\n"
     ]
    },
    {
     "data": {
      "text/plain": "              fare                       survived             \nclass        First     Second      Third    First Second Third\nsex                                                           \nfemale  114.311937  19.539816  14.866132       49     41    51\nmale     65.031654  19.419056  13.014354       19      9    29",
      "text/html": "<div>\n<style scoped>\n    .dataframe tbody tr th:only-of-type {\n        vertical-align: middle;\n    }\n\n    .dataframe tbody tr th {\n        vertical-align: top;\n    }\n\n    .dataframe thead tr th {\n        text-align: left;\n    }\n\n    .dataframe thead tr:last-of-type th {\n        text-align: right;\n    }\n</style>\n<table border=\"1\" class=\"dataframe\">\n  <thead>\n    <tr>\n      <th></th>\n      <th colspan=\"3\" halign=\"left\">fare</th>\n      <th colspan=\"3\" halign=\"left\">survived</th>\n    </tr>\n    <tr>\n      <th>class</th>\n      <th>First</th>\n      <th>Second</th>\n      <th>Third</th>\n      <th>First</th>\n      <th>Second</th>\n      <th>Third</th>\n    </tr>\n    <tr>\n      <th>sex</th>\n      <th></th>\n      <th></th>\n      <th></th>\n      <th></th>\n      <th></th>\n      <th></th>\n    </tr>\n  </thead>\n  <tbody>\n    <tr>\n      <th>female</th>\n      <td>114.311937</td>\n      <td>19.539816</td>\n      <td>14.866132</td>\n      <td>49</td>\n      <td>41</td>\n      <td>51</td>\n    </tr>\n    <tr>\n      <th>male</th>\n      <td>65.031654</td>\n      <td>19.419056</td>\n      <td>13.014354</td>\n      <td>19</td>\n      <td>9</td>\n      <td>29</td>\n    </tr>\n  </tbody>\n</table>\n</div>"
     },
     "execution_count": 260,
     "metadata": {},
     "output_type": "execute_result"
    }
   ],
   "source": [
    "titanic.pivot_table(index=\"sex\", columns=\"class\", aggfunc={\"survived\": \"sum\", \"fare\": \"mean\"})"
   ]
  },
  {
   "cell_type": "markdown",
   "metadata": {},
   "source": [
    "### 7. 其他"
   ]
  },
  {
   "cell_type": "markdown",
   "metadata": {},
   "source": [
    "#### 7.1 多级索引：用于多维数据"
   ]
  },
  {
   "cell_type": "code",
   "execution_count": 261,
   "metadata": {
    "scrolled": true,
    "ExecuteTime": {
     "end_time": "2024-11-05T08:58:05.003520200Z",
     "start_time": "2024-11-05T08:57:59.983867400Z"
    }
   },
   "outputs": [
    {
     "data": {
      "text/plain": "               population    GDP\nBeiJing  2008        1771  11115\n         2018        2154  30320\nShangHai 2008        2141  14070\n         2018        2424  32680\nShenZhen 2008        1077   7806\n         2018        1303  24222\nHangZhou 2008         798   4789\n         2018         981  13468",
      "text/html": "<div>\n<style scoped>\n    .dataframe tbody tr th:only-of-type {\n        vertical-align: middle;\n    }\n\n    .dataframe tbody tr th {\n        vertical-align: top;\n    }\n\n    .dataframe thead th {\n        text-align: right;\n    }\n</style>\n<table border=\"1\" class=\"dataframe\">\n  <thead>\n    <tr style=\"text-align: right;\">\n      <th></th>\n      <th></th>\n      <th>population</th>\n      <th>GDP</th>\n    </tr>\n  </thead>\n  <tbody>\n    <tr>\n      <th rowspan=\"2\" valign=\"top\">BeiJing</th>\n      <th>2008</th>\n      <td>1771</td>\n      <td>11115</td>\n    </tr>\n    <tr>\n      <th>2018</th>\n      <td>2154</td>\n      <td>30320</td>\n    </tr>\n    <tr>\n      <th rowspan=\"2\" valign=\"top\">ShangHai</th>\n      <th>2008</th>\n      <td>2141</td>\n      <td>14070</td>\n    </tr>\n    <tr>\n      <th>2018</th>\n      <td>2424</td>\n      <td>32680</td>\n    </tr>\n    <tr>\n      <th rowspan=\"2\" valign=\"top\">ShenZhen</th>\n      <th>2008</th>\n      <td>1077</td>\n      <td>7806</td>\n    </tr>\n    <tr>\n      <th>2018</th>\n      <td>1303</td>\n      <td>24222</td>\n    </tr>\n    <tr>\n      <th rowspan=\"2\" valign=\"top\">HangZhou</th>\n      <th>2008</th>\n      <td>798</td>\n      <td>4789</td>\n    </tr>\n    <tr>\n      <th>2018</th>\n      <td>981</td>\n      <td>13468</td>\n    </tr>\n  </tbody>\n</table>\n</div>"
     },
     "execution_count": 261,
     "metadata": {},
     "output_type": "execute_result"
    }
   ],
   "source": [
    "base_data = np.array([[1771, 11115],\n",
    "                      [2154, 30320],\n",
    "                      [2141, 14070],\n",
    "                      [2424, 32680],\n",
    "                      [1077, 7806],\n",
    "                      [1303, 24222],\n",
    "                      [798, 4789],\n",
    "                      [981, 13468]])\n",
    "data = pd.DataFrame(base_data, index=[\n",
    "    [\"BeiJing\", \"BeiJing\", \"ShangHai\", \"ShangHai\", \"ShenZhen\", \"ShenZhen\", \"HangZhou\", \"HangZhou\"] \\\n",
    "    , [2008, 2018] * 4], columns=[\"population\", \"GDP\"])\n",
    "data"
   ]
  },
  {
   "cell_type": "code",
   "execution_count": 262,
   "metadata": {
    "scrolled": true,
    "ExecuteTime": {
     "end_time": "2024-11-05T08:58:05.003696500Z",
     "start_time": "2024-11-05T08:57:59.996407900Z"
    }
   },
   "outputs": [
    {
     "data": {
      "text/plain": "               population    GDP\ncity     year                   \nBeiJing  2008        1771  11115\n         2018        2154  30320\nShangHai 2008        2141  14070\n         2018        2424  32680\nShenZhen 2008        1077   7806\n         2018        1303  24222\nHangZhou 2008         798   4789\n         2018         981  13468",
      "text/html": "<div>\n<style scoped>\n    .dataframe tbody tr th:only-of-type {\n        vertical-align: middle;\n    }\n\n    .dataframe tbody tr th {\n        vertical-align: top;\n    }\n\n    .dataframe thead th {\n        text-align: right;\n    }\n</style>\n<table border=\"1\" class=\"dataframe\">\n  <thead>\n    <tr style=\"text-align: right;\">\n      <th></th>\n      <th></th>\n      <th>population</th>\n      <th>GDP</th>\n    </tr>\n    <tr>\n      <th>city</th>\n      <th>year</th>\n      <th></th>\n      <th></th>\n    </tr>\n  </thead>\n  <tbody>\n    <tr>\n      <th rowspan=\"2\" valign=\"top\">BeiJing</th>\n      <th>2008</th>\n      <td>1771</td>\n      <td>11115</td>\n    </tr>\n    <tr>\n      <th>2018</th>\n      <td>2154</td>\n      <td>30320</td>\n    </tr>\n    <tr>\n      <th rowspan=\"2\" valign=\"top\">ShangHai</th>\n      <th>2008</th>\n      <td>2141</td>\n      <td>14070</td>\n    </tr>\n    <tr>\n      <th>2018</th>\n      <td>2424</td>\n      <td>32680</td>\n    </tr>\n    <tr>\n      <th rowspan=\"2\" valign=\"top\">ShenZhen</th>\n      <th>2008</th>\n      <td>1077</td>\n      <td>7806</td>\n    </tr>\n    <tr>\n      <th>2018</th>\n      <td>1303</td>\n      <td>24222</td>\n    </tr>\n    <tr>\n      <th rowspan=\"2\" valign=\"top\">HangZhou</th>\n      <th>2008</th>\n      <td>798</td>\n      <td>4789</td>\n    </tr>\n    <tr>\n      <th>2018</th>\n      <td>981</td>\n      <td>13468</td>\n    </tr>\n  </tbody>\n</table>\n</div>"
     },
     "execution_count": 262,
     "metadata": {},
     "output_type": "execute_result"
    }
   ],
   "source": [
    "data.index.names = [\"city\", \"year\"]\n",
    "data"
   ]
  },
  {
   "cell_type": "code",
   "execution_count": 263,
   "metadata": {
    "scrolled": true,
    "ExecuteTime": {
     "end_time": "2024-11-05T08:58:05.003696500Z",
     "start_time": "2024-11-05T08:58:00.013579600Z"
    }
   },
   "outputs": [
    {
     "data": {
      "text/plain": "city      year\nBeiJing   2008    11115\n          2018    30320\nShangHai  2008    14070\n          2018    32680\nShenZhen  2008     7806\n          2018    24222\nHangZhou  2008     4789\n          2018    13468\nName: GDP, dtype: int32"
     },
     "execution_count": 263,
     "metadata": {},
     "output_type": "execute_result"
    }
   ],
   "source": [
    "data[\"GDP\"]"
   ]
  },
  {
   "cell_type": "code",
   "execution_count": 264,
   "metadata": {
    "scrolled": true,
    "ExecuteTime": {
     "end_time": "2024-11-05T08:58:05.004774100Z",
     "start_time": "2024-11-05T08:58:00.029231800Z"
    }
   },
   "outputs": [
    {
     "data": {
      "text/plain": "year\n2008    14070\n2018    32680\nName: GDP, dtype: int32"
     },
     "execution_count": 264,
     "metadata": {},
     "output_type": "execute_result"
    }
   ],
   "source": [
    "data.loc[\"ShangHai\", \"GDP\"]"
   ]
  },
  {
   "cell_type": "code",
   "execution_count": 265,
   "metadata": {
    "ExecuteTime": {
     "end_time": "2024-11-05T08:58:05.004774100Z",
     "start_time": "2024-11-05T08:58:00.044442800Z"
    }
   },
   "outputs": [
    {
     "data": {
      "text/plain": "32680"
     },
     "execution_count": 265,
     "metadata": {},
     "output_type": "execute_result"
    }
   ],
   "source": [
    "data.loc[\"ShangHai\", 2018][\"GDP\"]"
   ]
  },
  {
   "cell_type": "markdown",
   "metadata": {},
   "source": [
    "#### 7.2 高性能的Pandas：eval()"
   ]
  },
  {
   "cell_type": "code",
   "execution_count": 266,
   "metadata": {
    "ExecuteTime": {
     "end_time": "2024-11-05T08:58:05.085496200Z",
     "start_time": "2024-11-05T08:58:00.060063100Z"
    }
   },
   "outputs": [],
   "source": [
    "df1, df2, df3, df4 = (pd.DataFrame(np.random.random((10000, 100))) for i in range(4))"
   ]
  },
  {
   "cell_type": "code",
   "execution_count": 267,
   "metadata": {
    "ExecuteTime": {
     "end_time": "2024-11-05T08:58:13.604530600Z",
     "start_time": "2024-11-05T08:58:00.106236300Z"
    }
   },
   "outputs": [
    {
     "name": "stdout",
     "output_type": "stream",
     "text": [
      "8.89 ms ± 336 µs per loop (mean ± std. dev. of 7 runs, 100 loops each)\n"
     ]
    }
   ],
   "source": [
    "%timeit (df1+df2) / (df3+df4)"
   ]
  },
  {
   "cell_type": "markdown",
   "metadata": {},
   "source": [
    "* 减少了复合代数式计算中间过程的内存分配"
   ]
  },
  {
   "cell_type": "code",
   "execution_count": 268,
   "metadata": {
    "ExecuteTime": {
     "end_time": "2024-11-05T08:58:17.447617Z",
     "start_time": "2024-11-05T08:58:07.371710800Z"
    }
   },
   "outputs": [
    {
     "name": "stdout",
     "output_type": "stream",
     "text": [
      "9.63 ms ± 427 µs per loop (mean ± std. dev. of 7 runs, 100 loops each)\n"
     ]
    }
   ],
   "source": [
    "%timeit pd.eval(\"(df1+df2)/(df3+df4)\")"
   ]
  },
  {
   "cell_type": "code",
   "execution_count": 269,
   "metadata": {
    "ExecuteTime": {
     "end_time": "2024-11-05T08:58:17.448582100Z",
     "start_time": "2024-11-05T08:58:15.291647600Z"
    }
   },
   "outputs": [
    {
     "data": {
      "text/plain": "True"
     },
     "execution_count": 269,
     "metadata": {},
     "output_type": "execute_result"
    }
   ],
   "source": [
    "np.allclose((df1 + df2) / (df3 + df4), pd.eval(\"(df1+df2)/(df3+df4)\"))"
   ]
  },
  {
   "cell_type": "markdown",
   "metadata": {},
   "source": [
    "* 实现列间运算"
   ]
  },
  {
   "cell_type": "code",
   "execution_count": 270,
   "metadata": {
    "scrolled": true,
    "ExecuteTime": {
     "end_time": "2024-11-05T08:58:17.449630100Z",
     "start_time": "2024-11-05T08:58:15.338913300Z"
    }
   },
   "outputs": [
    {
     "data": {
      "text/plain": "          A         B         C\n0  0.444109  0.403663  0.865813\n1  0.294881  0.458937  0.235739\n2  0.312199  0.256650  0.393556\n3  0.080160  0.176736  0.385579\n4  0.830258  0.352358  0.186917",
      "text/html": "<div>\n<style scoped>\n    .dataframe tbody tr th:only-of-type {\n        vertical-align: middle;\n    }\n\n    .dataframe tbody tr th {\n        vertical-align: top;\n    }\n\n    .dataframe thead th {\n        text-align: right;\n    }\n</style>\n<table border=\"1\" class=\"dataframe\">\n  <thead>\n    <tr style=\"text-align: right;\">\n      <th></th>\n      <th>A</th>\n      <th>B</th>\n      <th>C</th>\n    </tr>\n  </thead>\n  <tbody>\n    <tr>\n      <th>0</th>\n      <td>0.444109</td>\n      <td>0.403663</td>\n      <td>0.865813</td>\n    </tr>\n    <tr>\n      <th>1</th>\n      <td>0.294881</td>\n      <td>0.458937</td>\n      <td>0.235739</td>\n    </tr>\n    <tr>\n      <th>2</th>\n      <td>0.312199</td>\n      <td>0.256650</td>\n      <td>0.393556</td>\n    </tr>\n    <tr>\n      <th>3</th>\n      <td>0.080160</td>\n      <td>0.176736</td>\n      <td>0.385579</td>\n    </tr>\n    <tr>\n      <th>4</th>\n      <td>0.830258</td>\n      <td>0.352358</td>\n      <td>0.186917</td>\n    </tr>\n  </tbody>\n</table>\n</div>"
     },
     "execution_count": 270,
     "metadata": {},
     "output_type": "execute_result"
    }
   ],
   "source": [
    "df = pd.DataFrame(np.random.random((1000, 3)), columns=list(\"ABC\"))\n",
    "df.head()"
   ]
  },
  {
   "cell_type": "code",
   "execution_count": 271,
   "metadata": {
    "ExecuteTime": {
     "end_time": "2024-11-05T08:58:17.449630100Z",
     "start_time": "2024-11-05T08:58:15.353806100Z"
    }
   },
   "outputs": [],
   "source": [
    "res_1 = pd.eval(\"(df.A+df.B)/(df.C-1)\")"
   ]
  },
  {
   "cell_type": "code",
   "execution_count": 272,
   "metadata": {
    "ExecuteTime": {
     "end_time": "2024-11-05T08:58:17.449630100Z",
     "start_time": "2024-11-05T08:58:15.369745900Z"
    }
   },
   "outputs": [],
   "source": [
    "res_2 = df.eval(\"(A+B)/(C-1)\")"
   ]
  },
  {
   "cell_type": "code",
   "execution_count": 273,
   "metadata": {
    "ExecuteTime": {
     "end_time": "2024-11-05T08:58:17.450647300Z",
     "start_time": "2024-11-05T08:58:15.384808500Z"
    }
   },
   "outputs": [
    {
     "data": {
      "text/plain": "True"
     },
     "execution_count": 273,
     "metadata": {},
     "output_type": "execute_result"
    }
   ],
   "source": [
    "np.allclose(res_1, res_2)"
   ]
  },
  {
   "cell_type": "code",
   "execution_count": 274,
   "metadata": {
    "scrolled": true,
    "ExecuteTime": {
     "end_time": "2024-11-05T08:58:17.450647300Z",
     "start_time": "2024-11-05T08:58:15.400142700Z"
    }
   },
   "outputs": [
    {
     "data": {
      "text/plain": "          A         B         C         D\n0  0.444109  0.403663  0.865813 -6.317854\n1  0.294881  0.458937  0.235739 -0.986336\n2  0.312199  0.256650  0.393556 -0.938006\n3  0.080160  0.176736  0.385579 -0.418112\n4  0.830258  0.352358  0.186917 -1.454484",
      "text/html": "<div>\n<style scoped>\n    .dataframe tbody tr th:only-of-type {\n        vertical-align: middle;\n    }\n\n    .dataframe tbody tr th {\n        vertical-align: top;\n    }\n\n    .dataframe thead th {\n        text-align: right;\n    }\n</style>\n<table border=\"1\" class=\"dataframe\">\n  <thead>\n    <tr style=\"text-align: right;\">\n      <th></th>\n      <th>A</th>\n      <th>B</th>\n      <th>C</th>\n      <th>D</th>\n    </tr>\n  </thead>\n  <tbody>\n    <tr>\n      <th>0</th>\n      <td>0.444109</td>\n      <td>0.403663</td>\n      <td>0.865813</td>\n      <td>-6.317854</td>\n    </tr>\n    <tr>\n      <th>1</th>\n      <td>0.294881</td>\n      <td>0.458937</td>\n      <td>0.235739</td>\n      <td>-0.986336</td>\n    </tr>\n    <tr>\n      <th>2</th>\n      <td>0.312199</td>\n      <td>0.256650</td>\n      <td>0.393556</td>\n      <td>-0.938006</td>\n    </tr>\n    <tr>\n      <th>3</th>\n      <td>0.080160</td>\n      <td>0.176736</td>\n      <td>0.385579</td>\n      <td>-0.418112</td>\n    </tr>\n    <tr>\n      <th>4</th>\n      <td>0.830258</td>\n      <td>0.352358</td>\n      <td>0.186917</td>\n      <td>-1.454484</td>\n    </tr>\n  </tbody>\n</table>\n</div>"
     },
     "execution_count": 274,
     "metadata": {},
     "output_type": "execute_result"
    }
   ],
   "source": [
    "df[\"D\"] = pd.eval(\"(df.A+df.B)/(df.C-1)\")\n",
    "df.head()"
   ]
  },
  {
   "cell_type": "code",
   "execution_count": 275,
   "metadata": {
    "scrolled": true,
    "ExecuteTime": {
     "end_time": "2024-11-05T08:58:17.450647300Z",
     "start_time": "2024-11-05T08:58:15.415667Z"
    }
   },
   "outputs": [
    {
     "data": {
      "text/plain": "          A         B         C         D\n0  0.444109  0.403663  0.865813 -6.317854\n1  0.294881  0.458937  0.235739 -0.986336\n2  0.312199  0.256650  0.393556 -0.938006\n3  0.080160  0.176736  0.385579 -0.418112\n4  0.830258  0.352358  0.186917 -1.454484",
      "text/html": "<div>\n<style scoped>\n    .dataframe tbody tr th:only-of-type {\n        vertical-align: middle;\n    }\n\n    .dataframe tbody tr th {\n        vertical-align: top;\n    }\n\n    .dataframe thead th {\n        text-align: right;\n    }\n</style>\n<table border=\"1\" class=\"dataframe\">\n  <thead>\n    <tr style=\"text-align: right;\">\n      <th></th>\n      <th>A</th>\n      <th>B</th>\n      <th>C</th>\n      <th>D</th>\n    </tr>\n  </thead>\n  <tbody>\n    <tr>\n      <th>0</th>\n      <td>0.444109</td>\n      <td>0.403663</td>\n      <td>0.865813</td>\n      <td>-6.317854</td>\n    </tr>\n    <tr>\n      <th>1</th>\n      <td>0.294881</td>\n      <td>0.458937</td>\n      <td>0.235739</td>\n      <td>-0.986336</td>\n    </tr>\n    <tr>\n      <th>2</th>\n      <td>0.312199</td>\n      <td>0.256650</td>\n      <td>0.393556</td>\n      <td>-0.938006</td>\n    </tr>\n    <tr>\n      <th>3</th>\n      <td>0.080160</td>\n      <td>0.176736</td>\n      <td>0.385579</td>\n      <td>-0.418112</td>\n    </tr>\n    <tr>\n      <th>4</th>\n      <td>0.830258</td>\n      <td>0.352358</td>\n      <td>0.186917</td>\n      <td>-1.454484</td>\n    </tr>\n  </tbody>\n</table>\n</div>"
     },
     "execution_count": 275,
     "metadata": {},
     "output_type": "execute_result"
    }
   ],
   "source": [
    "df.eval(\"D=(A+B)/(C-1)\", inplace=True)\n",
    "df.head()"
   ]
  },
  {
   "cell_type": "markdown",
   "metadata": {},
   "source": [
    "* 使用局部变量"
   ]
  },
  {
   "cell_type": "code",
   "execution_count": 276,
   "metadata": {
    "scrolled": true,
    "ExecuteTime": {
     "end_time": "2024-11-05T08:58:17.451631Z",
     "start_time": "2024-11-05T08:58:15.431860200Z"
    }
   },
   "outputs": [
    {
     "data": {
      "text/plain": "0   -0.706958\n1    0.295687\n2    0.318299\n3    0.136251\n4    0.809020\ndtype: float64"
     },
     "execution_count": 276,
     "metadata": {},
     "output_type": "execute_result"
    }
   ],
   "source": [
    "column_mean = df.mean(axis=1)\n",
    "res = df.eval(\"A+@column_mean\")\n",
    "res.head()"
   ]
  },
  {
   "cell_type": "markdown",
   "metadata": {},
   "source": [
    "#### 7.3 高性能的Pandas：query()"
   ]
  },
  {
   "cell_type": "code",
   "execution_count": 277,
   "metadata": {
    "ExecuteTime": {
     "end_time": "2024-11-05T08:58:17.452220900Z",
     "start_time": "2024-11-05T08:58:15.448208Z"
    }
   },
   "outputs": [
    {
     "data": {
      "text/plain": "          A         B         C         D\n0  0.444109  0.403663  0.865813 -6.317854\n1  0.294881  0.458937  0.235739 -0.986336\n2  0.312199  0.256650  0.393556 -0.938006\n3  0.080160  0.176736  0.385579 -0.418112\n4  0.830258  0.352358  0.186917 -1.454484",
      "text/html": "<div>\n<style scoped>\n    .dataframe tbody tr th:only-of-type {\n        vertical-align: middle;\n    }\n\n    .dataframe tbody tr th {\n        vertical-align: top;\n    }\n\n    .dataframe thead th {\n        text-align: right;\n    }\n</style>\n<table border=\"1\" class=\"dataframe\">\n  <thead>\n    <tr style=\"text-align: right;\">\n      <th></th>\n      <th>A</th>\n      <th>B</th>\n      <th>C</th>\n      <th>D</th>\n    </tr>\n  </thead>\n  <tbody>\n    <tr>\n      <th>0</th>\n      <td>0.444109</td>\n      <td>0.403663</td>\n      <td>0.865813</td>\n      <td>-6.317854</td>\n    </tr>\n    <tr>\n      <th>1</th>\n      <td>0.294881</td>\n      <td>0.458937</td>\n      <td>0.235739</td>\n      <td>-0.986336</td>\n    </tr>\n    <tr>\n      <th>2</th>\n      <td>0.312199</td>\n      <td>0.256650</td>\n      <td>0.393556</td>\n      <td>-0.938006</td>\n    </tr>\n    <tr>\n      <th>3</th>\n      <td>0.080160</td>\n      <td>0.176736</td>\n      <td>0.385579</td>\n      <td>-0.418112</td>\n    </tr>\n    <tr>\n      <th>4</th>\n      <td>0.830258</td>\n      <td>0.352358</td>\n      <td>0.186917</td>\n      <td>-1.454484</td>\n    </tr>\n  </tbody>\n</table>\n</div>"
     },
     "execution_count": 277,
     "metadata": {},
     "output_type": "execute_result"
    }
   ],
   "source": [
    "df.head()"
   ]
  },
  {
   "cell_type": "code",
   "execution_count": 278,
   "metadata": {
    "ExecuteTime": {
     "end_time": "2024-11-05T08:58:19.250685200Z",
     "start_time": "2024-11-05T08:58:15.478843600Z"
    }
   },
   "outputs": [
    {
     "name": "stdout",
     "output_type": "stream",
     "text": [
      "350 µs ± 32 µs per loop (mean ± std. dev. of 7 runs, 1,000 loops each)\n"
     ]
    }
   ],
   "source": [
    "%timeit df[(df.A < 0.5) & (df.B > 0.5)]"
   ]
  },
  {
   "cell_type": "code",
   "execution_count": 279,
   "metadata": {
    "ExecuteTime": {
     "end_time": "2024-11-05T08:58:19.914455700Z",
     "start_time": "2024-11-05T08:58:18.331686500Z"
    }
   },
   "outputs": [
    {
     "name": "stdout",
     "output_type": "stream",
     "text": [
      "1.81 ms ± 64.7 µs per loop (mean ± std. dev. of 7 runs, 100 loops each)\n"
     ]
    }
   ],
   "source": [
    "%timeit df.query(\"(A < 0.5)&(B > 0.5)\")"
   ]
  },
  {
   "cell_type": "code",
   "execution_count": 280,
   "metadata": {
    "scrolled": true,
    "ExecuteTime": {
     "end_time": "2024-11-05T08:58:19.915452200Z",
     "start_time": "2024-11-05T08:58:19.856791700Z"
    }
   },
   "outputs": [
    {
     "data": {
      "text/plain": "           A         B         C         D\n5   0.125739  0.557392  0.556752 -1.541193\n6   0.264407  0.738427  0.669857 -3.037572\n11  0.427045  0.719621  0.732786 -4.291193\n12  0.050538  0.864942  0.883998 -7.891950\n19  0.310231  0.558427  0.627987 -2.335022",
      "text/html": "<div>\n<style scoped>\n    .dataframe tbody tr th:only-of-type {\n        vertical-align: middle;\n    }\n\n    .dataframe tbody tr th {\n        vertical-align: top;\n    }\n\n    .dataframe thead th {\n        text-align: right;\n    }\n</style>\n<table border=\"1\" class=\"dataframe\">\n  <thead>\n    <tr style=\"text-align: right;\">\n      <th></th>\n      <th>A</th>\n      <th>B</th>\n      <th>C</th>\n      <th>D</th>\n    </tr>\n  </thead>\n  <tbody>\n    <tr>\n      <th>5</th>\n      <td>0.125739</td>\n      <td>0.557392</td>\n      <td>0.556752</td>\n      <td>-1.541193</td>\n    </tr>\n    <tr>\n      <th>6</th>\n      <td>0.264407</td>\n      <td>0.738427</td>\n      <td>0.669857</td>\n      <td>-3.037572</td>\n    </tr>\n    <tr>\n      <th>11</th>\n      <td>0.427045</td>\n      <td>0.719621</td>\n      <td>0.732786</td>\n      <td>-4.291193</td>\n    </tr>\n    <tr>\n      <th>12</th>\n      <td>0.050538</td>\n      <td>0.864942</td>\n      <td>0.883998</td>\n      <td>-7.891950</td>\n    </tr>\n    <tr>\n      <th>19</th>\n      <td>0.310231</td>\n      <td>0.558427</td>\n      <td>0.627987</td>\n      <td>-2.335022</td>\n    </tr>\n  </tbody>\n</table>\n</div>"
     },
     "execution_count": 280,
     "metadata": {},
     "output_type": "execute_result"
    }
   ],
   "source": [
    "df.query(\"(A < 0.5)&(B > 0.5)\").head()"
   ]
  },
  {
   "cell_type": "code",
   "execution_count": 281,
   "metadata": {
    "ExecuteTime": {
     "end_time": "2024-11-05T08:58:20.022651300Z",
     "start_time": "2024-11-05T08:58:19.872288200Z"
    }
   },
   "outputs": [
    {
     "data": {
      "text/plain": "True"
     },
     "execution_count": 281,
     "metadata": {},
     "output_type": "execute_result"
    }
   ],
   "source": [
    "np.allclose(df[(df.A < 0.5) & (df.B > 0.5)], df.query(\"(A < 0.5)&(B > 0.5)\"))"
   ]
  },
  {
   "cell_type": "markdown",
   "metadata": {},
   "source": [
    "eval()和query()的使用时机——小数组时，普通方法反而更快"
   ]
  },
  {
   "cell_type": "code",
   "execution_count": 282,
   "metadata": {
    "ExecuteTime": {
     "end_time": "2024-11-05T08:58:20.023729500Z",
     "start_time": "2024-11-05T08:58:19.887490Z"
    }
   },
   "outputs": [
    {
     "data": {
      "text/plain": "32000"
     },
     "execution_count": 282,
     "metadata": {},
     "output_type": "execute_result"
    }
   ],
   "source": [
    "df.values.nbytes"
   ]
  },
  {
   "cell_type": "code",
   "execution_count": 283,
   "metadata": {
    "ExecuteTime": {
     "end_time": "2024-11-05T08:58:25.972514100Z",
     "start_time": "2024-11-05T08:58:19.902247500Z"
    }
   },
   "outputs": [
    {
     "data": {
      "text/plain": "8000000"
     },
     "execution_count": 283,
     "metadata": {},
     "output_type": "execute_result"
    }
   ],
   "source": [
    "df1.values.nbytes"
   ]
  },
  {
   "cell_type": "markdown",
   "source": [
    "### 8. 总结\n",
    "\n",
    "本章主要介绍pandas，pandas是一个强大的数据分析工具，其核心类Dataframe类适合于处理任何类型的表格数据。Pandas对象的操作大部分都是向量化的，者可以保证我们得到与numpy相类似的简洁的代码，而且能够保证较高的性能，此外pandas还支持我们对含有缺失值的数据进行处理，而numpy则无法做到这一点。本章主要介绍了pandas对象的创建、pandas数据处理——特别是使用pandas处理缺失值以及如何使用pandas进行统计分析。在实际应用中，numpy为我们提供了高性能的数值计算方法，而pandas则为我们提供了方便快捷的数据处理方法，灵活应用这人两个强大的工具有助于我们提高数据操作的效率。"
   ],
   "metadata": {
    "collapsed": false
   }
  }
 ],
 "metadata": {
  "kernelspec": {
   "display_name": "Python 3",
   "language": "python",
   "name": "python3"
  },
  "language_info": {
   "codemirror_mode": {
    "name": "ipython",
    "version": 3
   },
   "file_extension": ".py",
   "mimetype": "text/x-python",
   "name": "python",
   "nbconvert_exporter": "python",
   "pygments_lexer": "ipython3",
   "version": "3.7.3"
  }
 },
 "nbformat": 4,
 "nbformat_minor": 2
}
