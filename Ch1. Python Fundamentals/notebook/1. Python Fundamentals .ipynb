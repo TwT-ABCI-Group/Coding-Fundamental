{
 "cells": [
  {
   "cell_type": "markdown",
   "id": "59a8492f",
   "metadata": {},
   "source": [
    "## Ch1. Python Fundamentals "
   ]
  },
  {
   "cell_type": "markdown",
   "id": "a15b6009",
   "metadata": {},
   "source": [
    "### 0. 本章内容\n",
    "本章介绍Python的基础知识，以帮助大家快速掌握一门效率极佳的编程工具。本章我们将会关注于Python最基本的用法，来时大家能够快速上手这一编程语言。如果你是一名编程新手，那么本章的一些知识点可能需要你慢慢消化，建议在阅读本教程的同时搭配推荐的学习资料进行进一步的学习；而如果你已经是一名具有一定编程经验的“老手”，本章的内容依然可以带你快速浏览Python中最常用的基础语法概念，以帮助你快速概览并使用这门语言。\n",
    "\n",
    "本章会从Python的基础数据结构类型开始逐步向数据结构等Python的核心概念深入，然后我们会介绍注入控制流语句等Python的语法结构，最后我们将学习如何组织与架构代码，最后的最后我们会向大家介绍Python开发者应该遵守的一些代码规范。\n"
   ]
  },
  {
   "cell_type": "markdown",
   "source": [
    "### 1. 基础数据类型\n",
    "在实际中，我们会遇到诸如数字、文本、布尔值等各种类型的数据（data），与其他编程语言纸样，Python在处理各类数据的过程中会将他们进行区别对待。Python的做法就是将这些数据赋予不同的数据类型。在Python中常用的数据类型包括整型（int）、浮点型（float）、布尔值（bool）与字符串（string）。这些数据类型在Python都是对象（Object）。"
   ],
   "metadata": {
    "collapsed": false
   },
   "id": "bff325c7cdecf72"
  },
  {
   "cell_type": "markdown",
   "source": [
    "#### 1.1 对象\n",
    "在Python中，万物皆对象。我们在编程中见到的诸如数据类型、数据结构等等概念在Python中皆为对象。利用对象的概念，Python可以让复杂的东西变得更为简洁易懂。变量、函数、属性与方法是理解对象的重要概念。"
   ],
   "metadata": {
    "collapsed": false
   },
   "id": "99dee0710b8c72bc"
  },
  {
   "cell_type": "markdown",
   "source": [
    "##### 1. 变量\n",
    "在python中，变量（variable）是我们赋予对象的一个名字。我们通过等号（=）来将变量赋予给对象。在python中，我们可以直接通过将一个新的对象赋予一个变量来改变变量的类型，python的这种特性被称为动态类型。\n",
    "需要我们注意的是Python是大小写敏感的，也就是说在python中我们需要区分大小写，“A”与“a”是不同的变量。当我们在为变量命名时，也应当遵循一些规则，在python中变量名必须遵守以下规范：\n",
    "   - 必须以字母或者下划线开头\n",
    "   - 只能由字母、数字、下划线组成"
   ],
   "metadata": {
    "collapsed": false
   },
   "id": "bc167c4fd13983a1"
  },
  {
   "cell_type": "code",
   "execution_count": 1,
   "outputs": [],
   "source": [
    "a = 1\n",
    "A = 2\n",
    "b = 3"
   ],
   "metadata": {
    "collapsed": false,
    "ExecuteTime": {
     "end_time": "2024-09-14T15:10:09.594491300Z",
     "start_time": "2024-09-14T15:10:09.006345600Z"
    }
   },
   "id": "7f034bf22040c18f"
  },
  {
   "cell_type": "code",
   "execution_count": 2,
   "outputs": [
    {
     "name": "stdout",
     "output_type": "stream",
     "text": [
      "1\n",
      "2\n"
     ]
    }
   ],
   "source": [
    "print(a)\n",
    "print(A)"
   ],
   "metadata": {
    "collapsed": false,
    "ExecuteTime": {
     "end_time": "2024-09-14T15:10:09.607099600Z",
     "start_time": "2024-09-14T15:10:09.013139300Z"
    }
   },
   "id": "cbe174c228b5239f"
  },
  {
   "cell_type": "code",
   "execution_count": 3,
   "outputs": [
    {
     "name": "stdout",
     "output_type": "stream",
     "text": [
      "4\n",
      "three\n"
     ]
    }
   ],
   "source": [
    "print(a + b)\n",
    "a = 'three'\n",
    "print(a)"
   ],
   "metadata": {
    "collapsed": false,
    "ExecuteTime": {
     "end_time": "2024-09-14T15:10:09.610886100Z",
     "start_time": "2024-09-14T15:10:09.028477800Z"
    }
   },
   "id": "fd74e12190362437"
  },
  {
   "cell_type": "markdown",
   "source": [
    "##### 2. 函数\n",
    "在本章的后面会详细介绍函数，在这里只介绍python中函数的基本形式。python中函数由函数名与参数以及函数体组成，调用函数只需要在函数名的后面中跟上一对圆括号，并在其中填入参数即可：\n",
    "``` python\n",
    "function_name(argument_1, argument_2, ..., argument_n)\n",
    "```"
   ],
   "metadata": {
    "collapsed": false
   },
   "id": "c4fc80d17081fb31"
  },
  {
   "cell_type": "markdown",
   "source": [
    "##### 3. 属性与方法\n",
    "在面像对象的过程中，变量被称为属性，而函数则被称为方法。我们可以通过属性来访问对象的数据，也可以通过方法来执行某种操作。在python中我们可以通过点号“.”来访问对象的属性与方法。例如：`object.attribute`，`object.method()`。\n",
    "在python中对象的类型及其行为是由类（class）定义的，从类构造对象的过程叫做实例化，因此对象也被称为类的实例。"
   ],
   "metadata": {
    "collapsed": false
   },
   "id": "c27df361a33fbed8"
  },
  {
   "cell_type": "markdown",
   "source": [
    "#### 1.2 数值类型\n",
    "在python中主要有两种数值类型——整数（int）与浮点数（float）。我们可以通过python内置的`type()`函数可以获取到我们指定的对象的数据类型。"
   ],
   "metadata": {
    "collapsed": false
   },
   "id": "df5e962fd61cb238"
  },
  {
   "cell_type": "code",
   "execution_count": 4,
   "outputs": [
    {
     "name": "stdout",
     "output_type": "stream",
     "text": [
      "<class 'int'>\n",
      "<class 'float'>\n"
     ]
    }
   ],
   "source": [
    "print(type(1))\n",
    "print(type(1.0))"
   ],
   "metadata": {
    "collapsed": false,
    "ExecuteTime": {
     "end_time": "2024-09-14T15:10:09.624055700Z",
     "start_time": "2024-09-14T15:10:09.045345800Z"
    }
   },
   "id": "cc3eba40b31b53ac"
  },
  {
   "cell_type": "markdown",
   "source": [
    "我们可以通过字面量的方法来定义数值类型，也可以使用构造器的方法来构造数值类型。数值类型之间的转换也是同理，我们可以用在整数后面直接添加小数点的方式来吧int类型的数据强制转化为float类型的数据，也可以使用`int()`、`float()`的构造器来进行强制类型转换。但需要注意的是，在从浮点型向整型强制转换的过程中，python会直接舍去浮点型数据不为零的小数部分。"
   ],
   "metadata": {
    "collapsed": false
   },
   "id": "2de13b9c7d020330"
  },
  {
   "cell_type": "code",
   "execution_count": 5,
   "outputs": [
    {
     "name": "stdout",
     "output_type": "stream",
     "text": [
      "<class 'int'>\n",
      "<class 'float'>\n",
      "<class 'float'>\n",
      "1\n"
     ]
    }
   ],
   "source": [
    "a = 1\n",
    "print(type(a))\n",
    "a = 1.\n",
    "print(type(a))\n",
    "print(type(float(1)))\n",
    "print(int(1.25))"
   ],
   "metadata": {
    "collapsed": false,
    "ExecuteTime": {
     "end_time": "2024-09-14T15:10:09.630841600Z",
     "start_time": "2024-09-14T15:10:09.061114300Z"
    }
   },
   "id": "50eb27feded4e966"
  },
  {
   "cell_type": "markdown",
   "source": [
    "除了最常见的int与float类型外，python中还有一些诸如decimal、fraction与complex等数据类型。一般来说如果float的精度不够，那么我们就可以选用decimal以获得准确的结果。\n",
    "在python中我们可以使用算术运算符来对数值进行计算，python中的算术运算符与数学中的概念类似，与许多其他编程语言中的算术运算符都极为相似。"
   ],
   "metadata": {
    "collapsed": false
   },
   "id": "93d51508f5c08eb6"
  },
  {
   "cell_type": "code",
   "execution_count": 6,
   "outputs": [
    {
     "name": "stdout",
     "output_type": "stream",
     "text": [
      "7\n",
      "2\n",
      "0.75\n",
      "12\n",
      "81\n",
      "21\n"
     ]
    }
   ],
   "source": [
    "print(3 + 4)\n",
    "print(4 - 2)\n",
    "print(3 / 4)\n",
    "print(3 * 4)\n",
    "print(3 ** 4)\n",
    "print(3 * (3 + 4))"
   ],
   "metadata": {
    "collapsed": false,
    "ExecuteTime": {
     "end_time": "2024-09-14T15:10:09.644143900Z",
     "start_time": "2024-09-14T15:10:09.077394300Z"
    }
   },
   "id": "b03163e72a639d31"
  },
  {
   "cell_type": "markdown",
   "source": [
    "#### 1.3 布尔值\n",
    "在python中，布尔类型只有True与False两种取值。在python中我们可以通过布尔运算符与相等和不等运算符，来组成布尔表达式或者进行不二运算。"
   ],
   "metadata": {
    "collapsed": false
   },
   "id": "1f36b3671f2a0ef9"
  },
  {
   "cell_type": "code",
   "execution_count": 7,
   "outputs": [
    {
     "name": "stdout",
     "output_type": "stream",
     "text": [
      "False\n",
      "True\n",
      "True\n",
      "False\n",
      "False\n",
      "True\n",
      "False\n"
     ]
    }
   ],
   "source": [
    "print(3 == 4)\n",
    "print(3 != 4)\n",
    "print(3 < 4)\n",
    "print(3 >= 4)\n",
    "print(not True)\n",
    "print(True or False)\n",
    "print(True and False)"
   ],
   "metadata": {
    "collapsed": false,
    "ExecuteTime": {
     "end_time": "2024-09-14T15:10:09.655756800Z",
     "start_time": "2024-09-14T15:10:09.093317400Z"
    }
   },
   "id": "8d55ff8baf0fe8fb"
  },
  {
   "cell_type": "markdown",
   "source": [
    "每个python对象都可以视作True或False，其中除了0，False，None外的对象被视作True，而0，False，None以及空字符串会被视作False。None是python中一个内置的特殊常量，他代表“没有值”，如果一个函数没有显式的返回一个值，那么它实际上返回的就是None。此外，我们可以使用bool构造器来判断一个对象究竟是True还是False。"
   ],
   "metadata": {
    "collapsed": false
   },
   "id": "3f5f036efa19b7a8"
  },
  {
   "cell_type": "code",
   "execution_count": 8,
   "outputs": [
    {
     "name": "stdout",
     "output_type": "stream",
     "text": [
      "False\n",
      "False\n",
      "False\n",
      "False\n",
      "True\n"
     ]
    }
   ],
   "source": [
    "print(bool(0))\n",
    "print(bool(None))\n",
    "print(bool(\"\"))\n",
    "print(bool(None))\n",
    "print(bool(1))"
   ],
   "metadata": {
    "collapsed": false,
    "ExecuteTime": {
     "end_time": "2024-09-14T15:10:09.670913400Z",
     "start_time": "2024-09-14T15:10:09.106863900Z"
    }
   },
   "id": "537549163c027d3d"
  },
  {
   "cell_type": "markdown",
   "source": [
    "#### 1.4 字符串\n",
    "在python中我们使用字符串类型来表示文本类型的数据。在python中字符串既可以用`\"\"`也可以用`''`来表示。Python在处理字符串方面十分强大。我们可以使用+来拼接字符串，也可以直接使用*来重复字符串的内容。\n",
    "在python中灵活的使用双引号或单引号可以让我们轻松的按照原样打印引号，而不需要使用转义字符。如果字符内容仍然需要转义，可以使用反斜杠“\\”来转义字符。当字符中包含变化的变量时，我们可以通过使用f-string（格式化字符串字面量）来处理。\n",
    "字符串在python中也是对象，我们可以通过执行相关的方法来对字符串进行一些操作"
   ],
   "metadata": {
    "collapsed": false
   },
   "id": "b1c5ee424949498d"
  },
  {
   "cell_type": "code",
   "execution_count": 9,
   "outputs": [
    {
     "name": "stdout",
     "output_type": "stream",
     "text": [
      "helloworld\n",
      "I'm Li Hua\n",
      "I'm \"Li Jiang\"\n",
      "count is 1\n",
      "PYTHON\n",
      "python\n"
     ]
    }
   ],
   "source": [
    "print('hello' + 'world')\n",
    "print(\"I'm Li Hua\")\n",
    "print(\"I'm \\\"Li Jiang\\\"\")\n",
    "counter = 1\n",
    "print(f'count is {counter}')\n",
    "print('python'.upper())\n",
    "print('PYTHON'.lower())"
   ],
   "metadata": {
    "collapsed": false,
    "ExecuteTime": {
     "end_time": "2024-09-14T15:10:09.686989600Z",
     "start_time": "2024-09-14T15:10:09.124829300Z"
    }
   },
   "id": "5cf12cbd35e975b2"
  },
  {
   "cell_type": "markdown",
   "source": [
    "### 2. 数据结构\n",
    "Python中提供了一些强大的数据结构以便于处理对象的集合。接下来我们会介绍列表、字典、元组以及集合，一系列基础的python数据结构。虽然每种数据结构都有各自的特点，但他们都有一个共同的特点，那就是他们都能储存多个对象。"
   ],
   "metadata": {
    "collapsed": false
   },
   "id": "20ffb4e3ff1fa925"
  },
  {
   "cell_type": "markdown",
   "source": [
    "#### 2.1 列表\n",
    "列表是python中最常见的一种数据结构，他可以储存不同数据类型的多个对象。列表用途广泛，我们可以通过以下的字面量方法，字面量方法就是会被python识别为特定类型对象的语法，来创建列表：\n",
    "```python\n",
    "[element_1, element_2, ..., element_n]\n",
    "```\n",
    "与字符串一致，我们可以使用+来对列表进行拼接。列表还有一个重要的特性就是他可以储存不同类型的对象，同时由于列表也是对象也可以包含其他列表作为自己的元素，我们将列表的这种用法称为嵌套列表。我们可以把嵌套列表写成多行，可以发现，这种嵌套列表可以很好的用来表示矩阵或者数据框。"
   ],
   "metadata": {
    "collapsed": false
   },
   "id": "c64b09899064c06d"
  },
  {
   "cell_type": "code",
   "execution_count": 10,
   "outputs": [
    {
     "name": "stdout",
     "output_type": "stream",
     "text": [
      "['a.csv', 'b.csv', 'c.csv', 1, 2, 3]\n"
     ]
    }
   ],
   "source": [
    "file_names = ['a.csv', 'b.csv', 'c.csv']\n",
    "numbers = [1, 2, 3]\n",
    "comb_list = file_names + numbers\n",
    "print(comb_list)"
   ],
   "metadata": {
    "collapsed": false,
    "ExecuteTime": {
     "end_time": "2024-09-14T15:10:09.697543100Z",
     "start_time": "2024-09-14T15:10:09.141121800Z"
    }
   },
   "id": "de0d873395f31bc6"
  },
  {
   "cell_type": "code",
   "execution_count": 11,
   "outputs": [],
   "source": [
    "mat_ls = [[1, 2, 3],\n",
    "          [5, 4, 6],\n",
    "          [7, 8, 9]]"
   ],
   "metadata": {
    "collapsed": false,
    "ExecuteTime": {
     "end_time": "2024-09-14T15:10:09.716063700Z",
     "start_time": "2024-09-14T15:10:09.155728700Z"
    }
   },
   "id": "b0c0bd1f73e0d38b"
  },
  {
   "cell_type": "markdown",
   "source": [
    "我们可以使用“跨行”的格式来表示这种嵌套列表。列表的方括号，支持“隐式”的代码跨行。同时我们可以通过索引与切片来访问列表中的元素。在文章后续我们会详细介绍索引与切片的用法，在这里大家先简要了解一下即可。"
   ],
   "metadata": {
    "collapsed": false
   },
   "id": "b875bab74be90cbe"
  },
  {
   "cell_type": "code",
   "execution_count": 12,
   "outputs": [
    {
     "name": "stdout",
     "output_type": "stream",
     "text": [
      "[5, 4, 6]\n",
      "[5]\n"
     ]
    }
   ],
   "source": [
    "print(mat_ls[1])\n",
    "print(mat_ls[1][:1])"
   ],
   "metadata": {
    "collapsed": false,
    "ExecuteTime": {
     "end_time": "2024-09-14T15:10:09.723046900Z",
     "start_time": "2024-09-14T15:10:09.171278600Z"
    }
   },
   "id": "2506c7c549de23b5"
  },
  {
   "cell_type": "markdown",
   "source": [
    "- **跨行**：\n",
    "    在这里为大家介绍一下python代码的跨行。在我们编写代码的过程中，代码可能过长，在这种情况下我们就可能需要将代码分成两行或者多行才能保证代码的可读性。在具体的操作上，我们可以通过圆括号或者反斜杠来把代码分成几行。例如：\n",
    "  ```python\n",
    "  mat_ls = (1 + 2 \n",
    "            + 3)\n",
    "  mat_ls = 1 + 2 \\ \n",
    "            + 3\n",
    "  ```\n",
    "    而根据python的代码风格指南希望我们尽可能使用隐式跨行（implicit line break）。在python中，当我们在使用包括圆括号、方括号、花括号的表达式时，这些括号可以支持我们进行隐式跨行而无需添加其他字符。"
   ],
   "metadata": {
    "collapsed": false
   },
   "id": "f812837eb46edbc9"
  },
  {
   "cell_type": "markdown",
   "source": [
    "我们可以通过`.append()`，`.insert()`方法来向列表中添加元素；`.append()`方法通常用来向列表的末尾追加元素，`.insert()`方法通常用来在索引处插入元素。我们可以通过`pop`，`del`来删除列表中的元素；`pop`是一个方法，而`del`是一个python的语法；`pop`在默认情况下用来移除并返回最后一个元素，而`del`则用来移除指定索引处的元素。"
   ],
   "metadata": {
    "collapsed": false
   },
   "id": "882ca39320b45780"
  },
  {
   "cell_type": "code",
   "execution_count": 13,
   "outputs": [
    {
     "name": "stdout",
     "output_type": "stream",
     "text": [
      "None\n",
      "['John', 'Tom', 'Linda', 'Brian']\n",
      "None\n",
      "['John', 'Kim', 'Tom', 'Linda', 'Brian']\n"
     ]
    }
   ],
   "source": [
    "usr = ['John', 'Tom', 'Linda']\n",
    "print(usr.append('Brian'))\n",
    "print(usr)\n",
    "print(usr.insert(1, 'Kim'))\n",
    "print(usr)"
   ],
   "metadata": {
    "collapsed": false,
    "ExecuteTime": {
     "end_time": "2024-09-14T15:10:09.729737400Z",
     "start_time": "2024-09-14T15:10:09.187120300Z"
    }
   },
   "id": "1c3826df8417992e"
  },
  {
   "cell_type": "code",
   "execution_count": 14,
   "outputs": [
    {
     "name": "stdout",
     "output_type": "stream",
     "text": [
      "Brian\n",
      "['John', 'Kim', 'Tom', 'Linda']\n",
      "['Kim', 'Tom', 'Linda']\n"
     ]
    }
   ],
   "source": [
    "print(usr.pop())\n",
    "print(usr)\n",
    "del usr[0]\n",
    "print(usr)"
   ],
   "metadata": {
    "collapsed": false,
    "ExecuteTime": {
     "end_time": "2024-09-14T15:10:09.740242500Z",
     "start_time": "2024-09-14T15:10:09.203370800Z"
    }
   },
   "id": "29982510c72e55f1"
  },
  {
   "cell_type": "markdown",
   "source": [
    "除更改列表中的元素外，我们还可以使用`len()`与`sort()`、`sorted()`，方法来获取列表的长度或者对列表进行排序。`len()`用来获取列表的长度；`sort()`、`sorted()`用来对列表进行排序，而他们的区别在于`sorted()`返回一个排序好的新列表而保持原列表不变，而`sort()`则是直接对原列表进行修改。"
   ],
   "metadata": {
    "collapsed": false
   },
   "id": "8d1747eb1061b890"
  },
  {
   "cell_type": "code",
   "execution_count": 15,
   "outputs": [
    {
     "name": "stdout",
     "output_type": "stream",
     "text": [
      "3\n",
      "True\n",
      "['Kim', 'Linda', 'Tom']\n",
      "['Kim', 'Tom', 'Linda']\n",
      "None\n",
      "['Kim', 'Linda', 'Tom']\n"
     ]
    }
   ],
   "source": [
    "print(len(usr))\n",
    "print('Linda' in usr)\n",
    "print(sorted(usr))\n",
    "print(usr)\n",
    "print(usr.sort())\n",
    "print(usr)"
   ],
   "metadata": {
    "collapsed": false,
    "ExecuteTime": {
     "end_time": "2024-09-14T15:10:09.750779100Z",
     "start_time": "2024-09-14T15:10:09.216210700Z"
    }
   },
   "id": "36b4170a99a381e7"
  },
  {
   "cell_type": "markdown",
   "source": [
    "要访问列表中的元素，可以通过元素的索引来引用一个元素，但在实际中我们不可能知道每一个元素的位置。那么我们可以通过字典这种数据结构来更好的对元素进行访问，字典可以让我们通过“键”来访问元素。"
   ],
   "metadata": {
    "collapsed": false
   },
   "id": "d67ca3b0faf04149"
  },
  {
   "cell_type": "markdown",
   "source": [
    "#### 2.2 字典\n",
    "字典（dictionary）是键到值（key-value）的映射。字典是键值对的数据结构，我们可以通过以下的字面量方法来创建字典：\n",
    "```python\n",
    "{\n",
    "    'key_1': value_1,\n",
    "    'key_2': value_2,\n",
    "    'key_n': value_n,\n",
    "}\n",
    "```\n",
    "列表通过索引来访问，而字典通过见来访问元素。与索引类似，字典将键放在方括号中来访问字典元素。同时我们也可以通过简单的字面量方法来修改集群的值以及添加新的键值对。除了直接在方括号中引用键外，我们还可以使用`get()`方法来访问字典中的元素，同时`get()`方法可以在见不存在的情况下返回一个默认值。"
   ],
   "metadata": {
    "collapsed": false
   },
   "id": "73ec48c42b257aeb"
  },
  {
   "cell_type": "code",
   "execution_count": 16,
   "outputs": [
    {
     "name": "stdout",
     "output_type": "stream",
     "text": [
      "1.1152\n",
      "{'EURUSD': 1.2, 'GBPUSD': 1.2454, 'AUDUSD': 0.6161}\n",
      "{'EURUSD': 1.2, 'GBPUSD': 1.2454, 'AUDUSD': 0.6161, 'CADUSD': 0.714}\n"
     ]
    }
   ],
   "source": [
    "exchange_rate = {\n",
    "    'EURUSD': 1.1152,\n",
    "    'GBPUSD': 1.2454,\n",
    "    'AUDUSD': 0.6161,\n",
    "}\n",
    "\n",
    "print(exchange_rate['EURUSD'])\n",
    "exchange_rate['EURUSD'] = 1.2\n",
    "print(exchange_rate)\n",
    "exchange_rate['CADUSD'] = 0.714\n",
    "print(exchange_rate)"
   ],
   "metadata": {
    "collapsed": false,
    "ExecuteTime": {
     "end_time": "2024-09-14T15:10:09.763525300Z",
     "start_time": "2024-09-14T15:10:09.232454500Z"
    }
   },
   "id": "bc30394a5f58fe9a"
  },
  {
   "cell_type": "markdown",
   "source": [
    "我们可以通过解包（unpack）的方法来合并两个或多个字典，然后再合并到一个新的字典中。在字典前加上两个星号（**）就可以进行解包。在合并字典的过程中，如果第二个字典中的键包含第一个字典中的键，那么第一个字典中对应键的值会被相应的覆盖。此外Python 3.9中引入了管道符号（|）来作为专门的字典合并运算符。除了字符串，很多对象诸如整数都可以当键。"
   ],
   "metadata": {
    "collapsed": false
   },
   "id": "71afcd162d3e106e"
  },
  {
   "cell_type": "code",
   "execution_count": 17,
   "outputs": [
    {
     "name": "stdout",
     "output_type": "stream",
     "text": [
      "1.1152\n",
      "N/A\n",
      "{1: 6, 2: 5, 3: 0.6161, 5: 8}\n",
      "{1: 6, 2: 5, 3: 0.6161, 5: 8}\n"
     ]
    }
   ],
   "source": [
    "exchange_rate = {\n",
    "    1: 1.1152,\n",
    "    2: 1.2454,\n",
    "    3: 0.6161,\n",
    "}\n",
    "\n",
    "currency = {\n",
    "    1: 6,\n",
    "    2: 5,\n",
    "    5: 8,\n",
    "}\n",
    "\n",
    "print(exchange_rate.get(1))\n",
    "print(exchange_rate.get(100, 'N/A'))\n",
    "\n",
    "print({**exchange_rate, **currency})\n",
    "print(exchange_rate | currency)\n"
   ],
   "metadata": {
    "collapsed": false,
    "ExecuteTime": {
     "end_time": "2024-09-14T15:10:09.772057200Z",
     "start_time": "2024-09-14T15:10:09.246392800Z"
    }
   },
   "id": "e527d72ce27062b8"
  },
  {
   "cell_type": "markdown",
   "source": [
    "#### 2.3 元组\n",
    "\n",
    "元组与列表类型十分相似，不过元组与列表之间有一个重大区别，那就是元组是不可变的（immutable）（我们会在后面面为大家详细讲解可变与不可变的概念，大家在此先记住元组是不可变的即可）。一旦被创建，那么元组中的元素就是不可改变的。在很多情况下元组与列表都可以互换使用，但是对于在整个程序中都不会发生改变的集合中，使用元组无疑是更安全的选择。我们可以通过使用多个逗号分隔值的方法来创建元组：\n",
    "```python\n",
    "usr_tuple = element_1, element_2, ..., element_n\n",
    "# 通常使用圆括号来时程序更易于阅读\n",
    "usr_tuple = (element_1, element_2, ..., element_n)\n",
    "```\n",
    "我们可以通过访问数组的方法来访问元组，但是不能改变元组的元素。而拼接元组会创建一个新的元组，并把这个元组绑定在原来的变量上。"
   ],
   "metadata": {
    "collapsed": false
   },
   "id": "6fc4a5f616cc7430"
  },
  {
   "cell_type": "code",
   "execution_count": 18,
   "outputs": [
    {
     "name": "stdout",
     "output_type": "stream",
     "text": [
      "('EUR', 'CNY', 'JPY', 'USD')\n"
     ]
    }
   ],
   "source": [
    "currencies = ('EUR', 'CNY', 'JPY',)\n",
    "currencies += ('USD',)\n",
    "print(currencies)"
   ],
   "metadata": {
    "collapsed": false,
    "ExecuteTime": {
     "end_time": "2024-09-14T15:10:09.774064Z",
     "start_time": "2024-09-14T15:10:09.263127600Z"
    }
   },
   "id": "526f7895b5bb7012"
  },
  {
   "cell_type": "markdown",
   "source": [
    "#### 2.4 集合\n",
    "\n",
    "在python中集合与数学中的概念一致，集合是一种没有重复元素的集合。我们可以将集合应用到集合论的运算中，但是在实践中，我们通常将集合应用于列表去重或者元组去重。我们通过使用花括号的字面量方法来创建集合：\n",
    "```python\n",
    "{element_1, element_2, ..., element_n}\n",
    "```\n",
    "在对列表或元组进行去重的过程中，我们使用set构造器的方法来构造集合。除此之外，我们还可以对集合进行交集与并集的集合间的运算。"
   ],
   "metadata": {
    "collapsed": false
   },
   "id": "47906d3169b982f6"
  },
  {
   "cell_type": "code",
   "execution_count": 19,
   "outputs": [
    {
     "name": "stdout",
     "output_type": "stream",
     "text": [
      "{'EUR', 'CNY', 'USD'}\n",
      "{1, 2, 3, 4, 5, 7}\n",
      "{3, 4}\n"
     ]
    }
   ],
   "source": [
    "usr_ls = ['USD', 'USD', 'CNY', 'CNY', 'EUR']\n",
    "usr_set = set(usr_ls)\n",
    "print(usr_set)\n",
    "\n",
    "usr_set1 = {1, 2, 3, 4}\n",
    "usr_set2 = {3, 4, 5, 7}\n",
    "\n",
    "print(usr_set1.union(usr_set2))\n",
    "print(usr_set1.intersection(usr_set2))"
   ],
   "metadata": {
    "collapsed": false,
    "ExecuteTime": {
     "end_time": "2024-09-14T15:10:09.774064Z",
     "start_time": "2024-09-14T15:10:09.279025100Z"
    }
   },
   "id": "b9fc1ce97d9b6717"
  },
  {
   "cell_type": "markdown",
   "source": [
    "#### 2.5 索引与切片\n",
    "\n",
    "索引与切片可以让我们访问一个序列的指定元素。我们可以通过索引来访问序列中的某一个元素，可以通过切片来访问序列中的某一段元素。在python中类似元组、列表、字符串等的序列结构都支持索引与切片。"
   ],
   "metadata": {
    "collapsed": false
   },
   "id": "27ae3001d785312c"
  },
  {
   "cell_type": "markdown",
   "source": [
    "##### 1. 索引\n",
    "\n",
    "Python的索引从0开始，也就是说序列的第一个元素使用0来引用；负索引从-1开始，我们可以使用负索引来从序列末尾引用元素。在python中，我们使用方括号来使用索引。具体索引的语法如下所示：\n",
    "```python\n",
    "sequence[index]\n",
    "```\n",
    "当我们希望提取多个元素时，就应该使用切片了。"
   ],
   "metadata": {
    "collapsed": false
   },
   "id": "c71f49f3282dc7e1"
  },
  {
   "cell_type": "code",
   "execution_count": 20,
   "outputs": [
    {
     "name": "stdout",
     "output_type": "stream",
     "text": [
      "p\n",
      "n\n",
      "y\n",
      "o\n"
     ]
    }
   ],
   "source": [
    "py_str = 'python'\n",
    "\n",
    "print(py_str[0])\n",
    "print(py_str[-1])\n",
    "print(py_str[1])\n",
    "print(py_str[-2])"
   ],
   "metadata": {
    "collapsed": false,
    "ExecuteTime": {
     "end_time": "2024-09-14T15:10:09.775055400Z",
     "start_time": "2024-09-14T15:10:09.295405500Z"
    }
   },
   "id": "e62f819f04ac5bf8"
  },
  {
   "cell_type": "markdown",
   "source": [
    "##### 2. 切片\n",
    "\n",
    "我们可以使用切片语法来从一个序列中获取一个以上的元素。切片的语法如下所示：\n",
    "```python\n",
    "sequence[start:stop:step]\n",
    "```\n",
    "Python使用左闭右开区间，切片区间包含start，但不包含stop。如果省略了start或stop。python会默认包含从开头到末尾的所有元素。step决定了切片的方向与步长，默认步长为1；如果步长为正，那么切片的方向为从左到右，若步长为负，那么切片的方向就为从右到左。"
   ],
   "metadata": {
    "collapsed": false
   },
   "id": "a76c31ef44d3e3ca"
  },
  {
   "cell_type": "code",
   "execution_count": 21,
   "outputs": [
    {
     "name": "stdout",
     "output_type": "stream",
     "text": [
      "pyt\n",
      "yt\n",
      "hon\n",
      "ho\n",
      "pto\n",
      "noh\n"
     ]
    }
   ],
   "source": [
    "print(py_str[:3])\n",
    "print(py_str[1:3])\n",
    "print(py_str[-3:])\n",
    "print(py_str[-3:-1])\n",
    "print(py_str[::2])\n",
    "print(py_str[-1:-4:-1])"
   ],
   "metadata": {
    "collapsed": false,
    "ExecuteTime": {
     "end_time": "2024-09-14T15:10:09.775055400Z",
     "start_time": "2024-09-14T15:10:09.309072400Z"
    }
   },
   "id": "51d948af36ce4c36"
  },
  {
   "cell_type": "markdown",
   "source": [
    "我们除了向上面使用单词的索引与切片操作，我们也可以使用多个索引与切片操作串联的方法来进行对序列元素的访问。"
   ],
   "metadata": {
    "collapsed": false
   },
   "id": "2191c6f3ccf76ea"
  },
  {
   "cell_type": "code",
   "execution_count": 22,
   "outputs": [
    {
     "name": "stdout",
     "output_type": "stream",
     "text": [
      "o\n"
     ]
    }
   ],
   "source": [
    "print(py_str[-3:][1])"
   ],
   "metadata": {
    "collapsed": false,
    "ExecuteTime": {
     "end_time": "2024-09-14T15:10:09.775055400Z",
     "start_time": "2024-09-14T15:10:09.324522400Z"
    }
   },
   "id": "77898b28c92a0f84"
  },
  {
   "cell_type": "markdown",
   "source": [
    "在实际中，在切片与索引列表的时候，使用连续索引显然会更有条理一些。"
   ],
   "metadata": {
    "collapsed": false
   },
   "id": "f2168e7e29bb8ed8"
  },
  {
   "cell_type": "markdown",
   "source": [
    "### 3. 控制流语句\n",
    "\n",
    "接下来我们会像大家介绍python的控制流语句，python中的主要语法结构包括if语句、for循环以及while循环，我们首先会介绍这些基础的控制流语句，最后会向大家介绍列表表达式的内容。"
   ],
   "metadata": {
    "collapsed": false
   },
   "id": "62e68cf9dd24d7f9"
  },
  {
   "cell_type": "markdown",
   "source": [
    "#### 3.1 代码块与pass语句\n",
    "\n",
    "代码块（code block），是python中的一个重要概念。代码块界定了一个源代码，这段代码会被用于一些特定的目的。例如：在python中使用代码块来界定循环体、函数体等重要的语法概念，这些部分在python中通过缩进来体现。python使用四个空格的缩进，这是python有别于其它语言的区别，不像其他的大多数语言使用花括号开表示代码块，其实用有特殊含义的空白来表示代码块。\n",
    "\n",
    "在python中，代码块的前一行总是以冒号结尾。一旦某一行没有缩进，那么代码块就自动结束了。因此，我们可以使用`pass`语句来创建一个空代码块。"
   ],
   "metadata": {
    "collapsed": false
   },
   "id": "7b63f7bdc65f3469"
  },
  {
   "cell_type": "code",
   "execution_count": 23,
   "outputs": [],
   "source": [
    "if True:\n",
    "    pass  # Do nothing "
   ],
   "metadata": {
    "collapsed": false,
    "ExecuteTime": {
     "end_time": "2024-09-14T15:10:09.775055400Z",
     "start_time": "2024-09-14T15:10:09.339621500Z"
    }
   },
   "id": "5989ff2b2470b308"
  },
  {
   "cell_type": "markdown",
   "source": [
    "#### 3.2 if语句与条件表达式\n",
    "\n",
    "我么可以使用如下cell中所示的方法来定义python中的if结构与条件表达式："
   ],
   "metadata": {
    "collapsed": false
   },
   "id": "43fcb4b366922fb8"
  },
  {
   "cell_type": "code",
   "execution_count": 24,
   "outputs": [
    {
     "name": "stdout",
     "output_type": "stream",
     "text": [
      "i is between 5 and 10\n"
     ]
    }
   ],
   "source": [
    "i = 5\n",
    "\n",
    "if i < 5:\n",
    "    print('i is smaller than 5')\n",
    "elif i <= 10:\n",
    "    print('i is between 5 and 10')\n",
    "else:\n",
    "    print('i is bigger than 10')"
   ],
   "metadata": {
    "collapsed": false,
    "ExecuteTime": {
     "end_time": "2024-09-14T15:10:09.775055400Z",
     "start_time": "2024-09-14T15:10:09.355571900Z"
    }
   },
   "id": "65aa3fcdd54a28eb"
  },
  {
   "cell_type": "markdown",
   "source": [
    "Python不允许代码文本与逻辑不在同一缩进级别上，否则python就会产生SyntaxError异常。在pythonic的编程风格中，if语句本身不需要任何的圆括号，而要检查检查一个值是否为True，我们甚至不需要显式的去写这样一个表达式。"
   ],
   "metadata": {
    "collapsed": false
   },
   "id": "1acaf6c047b16177"
  },
  {
   "cell_type": "code",
   "execution_count": 25,
   "outputs": [
    {
     "name": "stdout",
     "output_type": "stream",
     "text": [
      "False\n"
     ]
    }
   ],
   "source": [
    "ls = []\n",
    "\n",
    "if ls:\n",
    "    print('True')\n",
    "else:\n",
    "    print('False')"
   ],
   "metadata": {
    "collapsed": false,
    "ExecuteTime": {
     "end_time": "2024-09-14T15:10:09.775055400Z",
     "start_time": "2024-09-14T15:10:09.370794500Z"
    }
   },
   "id": "556960a39c7b54fd"
  },
  {
   "cell_type": "markdown",
   "source": [
    "条件表达式或者三目运算符可以让我们以一种更紧凑的方式来编写if/else语句。"
   ],
   "metadata": {
    "collapsed": false
   },
   "id": "61c23abd5b43fb"
  },
  {
   "cell_type": "code",
   "execution_count": 26,
   "outputs": [
    {
     "name": "stdout",
     "output_type": "stream",
     "text": [
      "False\n"
     ]
    }
   ],
   "source": [
    "print('True') if ls else print('False')"
   ],
   "metadata": {
    "collapsed": false,
    "ExecuteTime": {
     "end_time": "2024-09-14T15:10:09.775055400Z",
     "start_time": "2024-09-14T15:10:09.386069300Z"
    }
   },
   "id": "55b44272a2056fb1"
  },
  {
   "cell_type": "markdown",
   "source": [
    "#### 3.3 for循环与while循环\n",
    "\n",
    "在python中，我们可以使用循环语句来进行迭代，或者来执行一种反复的操作。"
   ],
   "metadata": {
    "collapsed": false
   },
   "id": "d49d1bdd78175b7"
  },
  {
   "cell_type": "code",
   "execution_count": 27,
   "outputs": [
    {
     "name": "stdout",
     "output_type": "stream",
     "text": [
      "1\n",
      "2\n",
      "3\n",
      "4\n"
     ]
    }
   ],
   "source": [
    "ls = [1, 2, 3, 4]\n",
    "for i in ls:\n",
    "    print(i)"
   ],
   "metadata": {
    "collapsed": false,
    "ExecuteTime": {
     "end_time": "2024-09-14T15:10:09.775055400Z",
     "start_time": "2024-09-14T15:10:09.401880Z"
    }
   },
   "id": "76efb0d2a21746d"
  },
  {
   "cell_type": "markdown",
   "source": [
    "在python中，如果我们在for循环中需要一个计数器变量，那么，我们可以使用内置的range函数与enumerate函数。 range函数会为我们提供李哥数字序列，我们可以只提供一个stop参数、同时提供stop与start参数、含可以提供一个可选的step参数。与切片类似，range产生的区间包括start但不包含stop，step决定了步长，默认为1；此外，range会延迟求值，即只要我们不明确的要求求值，那么range就不会产生指定的序列，但是我们可以将range转换为一个列表来解决这个问题，不过在大部分的时候我们没有必要把range包装成一个列表。"
   ],
   "metadata": {
    "collapsed": false
   },
   "id": "9b402795ab53e14e"
  },
  {
   "cell_type": "code",
   "execution_count": 28,
   "outputs": [
    {
     "name": "stdout",
     "output_type": "stream",
     "text": [
      "0\n",
      "1\n",
      "2\n",
      "3\n",
      "4\n",
      "[0, 1, 2, 3, 4]\n",
      "[0, 1, 2, 3, 4]\n",
      "[0, 2, 4]\n"
     ]
    }
   ],
   "source": [
    "for i in range(0, 5):\n",
    "    print(i)\n",
    "\n",
    "print(list(range(0, 5)))\n",
    "print(list(range(5)))\n",
    "print(list(range(0, 5, 2)))"
   ],
   "metadata": {
    "collapsed": false,
    "ExecuteTime": {
     "end_time": "2024-09-14T15:10:09.776055500Z",
     "start_time": "2024-09-14T15:10:09.418175800Z"
    }
   },
   "id": "da896c27e3fd0d7"
  },
  {
   "cell_type": "markdown",
   "source": [
    "当我们切实的在迭代序列中需要一个计时器变量，我们可以使用enumerate。enumerate会返回一系列(index, element)元组。在默认情况下，索引从0开始，每循环一次加1。"
   ],
   "metadata": {
    "collapsed": false
   },
   "id": "d830c4f56cfbd3a9"
  },
  {
   "cell_type": "code",
   "execution_count": 29,
   "outputs": [
    {
     "name": "stdout",
     "output_type": "stream",
     "text": [
      "0 a\n",
      "1 b\n",
      "2 c\n",
      "3 d\n"
     ]
    }
   ],
   "source": [
    "str_ls = ['a', 'b', 'c', 'd']\n",
    "\n",
    "for i, s in enumerate(str_ls):\n",
    "    print(i, s)"
   ],
   "metadata": {
    "collapsed": false,
    "ExecuteTime": {
     "end_time": "2024-09-14T15:10:09.776055500Z",
     "start_time": "2024-09-14T15:10:09.435167300Z"
    }
   },
   "id": "98c273dbc13cb242"
  },
  {
   "cell_type": "markdown",
   "source": [
    "在元组与集合中进行循环与在列表中进行循环类似。在字典中进行循环时，python会按照键进行循环，`items()`方法可以以元组的形式同时获得键与和其相对应的值。"
   ],
   "metadata": {
    "collapsed": false
   },
   "id": "bdf438477805d270"
  },
  {
   "cell_type": "code",
   "execution_count": 30,
   "outputs": [
    {
     "name": "stdout",
     "output_type": "stream",
     "text": [
      "a\n",
      "b\n",
      "c\n",
      "a 1\n",
      "b 2\n",
      "c 3\n"
     ]
    }
   ],
   "source": [
    "dict_py = {\n",
    "    'a': 1,\n",
    "    'b': 2,\n",
    "    'c': 3,\n",
    "}\n",
    "\n",
    "for i in dict_py:\n",
    "    print(i)\n",
    "\n",
    "for i, s in dict_py.items():\n",
    "    print(i, s)"
   ],
   "metadata": {
    "collapsed": false,
    "ExecuteTime": {
     "end_time": "2024-09-14T15:10:09.776055500Z",
     "start_time": "2024-09-14T15:10:09.449952300Z"
    }
   },
   "id": "b5dd098f418404c2"
  },
  {
   "cell_type": "markdown",
   "source": [
    "在python中我们可以使用break语句来跳出循环，而可以使用continue来跳过本次循环并继续下次的循环："
   ],
   "metadata": {
    "collapsed": false
   },
   "id": "9ea21c965bd59c7b"
  },
  {
   "cell_type": "code",
   "execution_count": 31,
   "outputs": [
    {
     "name": "stdout",
     "output_type": "stream",
     "text": [
      "0\n",
      "1\n",
      "0\n",
      "1\n",
      "3\n",
      "4\n",
      "5\n",
      "6\n",
      "7\n",
      "8\n",
      "9\n"
     ]
    }
   ],
   "source": [
    "for i in range(10):\n",
    "    if i == 2:\n",
    "        break\n",
    "    else:\n",
    "        print(i)\n",
    "\n",
    "for i in range(10):\n",
    "    if i == 2:\n",
    "        continue\n",
    "    else:\n",
    "        print(i)"
   ],
   "metadata": {
    "collapsed": false,
    "ExecuteTime": {
     "end_time": "2024-09-14T15:10:09.776055500Z",
     "start_time": "2024-09-14T15:10:09.465148700Z"
    }
   },
   "id": "fe206c1eca3496b8"
  },
  {
   "cell_type": "markdown",
   "source": [
    "除for循环外，我们在python中也可以使用while循环。while循环在达到某种条件后会自动结束循环，其余for循环不同的地方在于，for循环可以一次都不执行而while循环至少会执行一次。"
   ],
   "metadata": {
    "collapsed": false
   },
   "id": "d39b96d0068cac11"
  },
  {
   "cell_type": "code",
   "execution_count": 32,
   "outputs": [
    {
     "name": "stdout",
     "output_type": "stream",
     "text": [
      "0\n"
     ]
    }
   ],
   "source": [
    "n = 0\n",
    "\n",
    "while n <= 0:\n",
    "    print(n)\n",
    "    n += 2"
   ],
   "metadata": {
    "collapsed": false,
    "ExecuteTime": {
     "end_time": "2024-09-14T15:10:09.776055500Z",
     "start_time": "2024-09-14T15:10:09.480530100Z"
    }
   },
   "id": "22a784ab3c693982"
  },
  {
   "cell_type": "markdown",
   "source": [
    "我们在python中可以使用增强赋值的写法，如：n += 1，其与n = n + 1的写法是一致的，其他的所有算数运算符均可采用增强赋值的写法。"
   ],
   "metadata": {
    "collapsed": false
   },
   "id": "34c4209987a64380"
  },
  {
   "cell_type": "markdown",
   "source": [
    "#### 3.4 列表、字典与集合推导式\n",
    "\n",
    "列表、字典、元组推导式在技术上是一种快速创建对应数据结构的方法，不过在实际中也有许多人用他们来代替for循环。推导式是一种更为简洁的创建列表、字典与集合的方式，它让我们为难可以减少在程序中大量的运用for循环，时我们的代码更加简洁。"
   ],
   "metadata": {
    "collapsed": false
   },
   "id": "a54ecdee852aa08f"
  },
  {
   "cell_type": "code",
   "execution_count": 33,
   "outputs": [
    {
     "name": "stdout",
     "output_type": "stream",
     "text": [
      "['EUR', 'CNY']\n"
     ]
    }
   ],
   "source": [
    "currency_pairs = ['USDJPY', 'EURUSD', 'JPYEUR', 'CNYUSD', 'USDCNY']\n",
    "\n",
    "usd_quote = []\n",
    "for p in currency_pairs:\n",
    "    if p[3:] == 'USD':\n",
    "        usd_quote.append(p[:3])\n",
    "print(usd_quote)"
   ],
   "metadata": {
    "collapsed": false,
    "ExecuteTime": {
     "end_time": "2024-09-14T15:10:09.776055500Z",
     "start_time": "2024-09-14T15:10:09.494954300Z"
    }
   },
   "id": "fcaa5367741c872"
  },
  {
   "cell_type": "code",
   "execution_count": 34,
   "outputs": [
    {
     "data": {
      "text/plain": "['EUR', 'CNY']"
     },
     "execution_count": 34,
     "metadata": {},
     "output_type": "execute_result"
    }
   ],
   "source": [
    "[p[:3] for p in currency_pairs if p[3:] == 'USD']"
   ],
   "metadata": {
    "collapsed": false,
    "ExecuteTime": {
     "end_time": "2024-09-14T15:10:09.776055500Z",
     "start_time": "2024-09-14T15:10:09.512461400Z"
    }
   },
   "id": "548186483f1b722e"
  },
  {
   "cell_type": "code",
   "execution_count": 35,
   "outputs": [
    {
     "data": {
      "text/plain": "['JPYUSD', 'USDEUR', 'EURJPY', 'USDCNY', 'CNYUSD']"
     },
     "execution_count": 35,
     "metadata": {},
     "output_type": "execute_result"
    }
   ],
   "source": [
    "[p[3:] + p[:3] for p in currency_pairs]"
   ],
   "metadata": {
    "collapsed": false,
    "ExecuteTime": {
     "end_time": "2024-09-14T15:10:09.776055500Z",
     "start_time": "2024-09-14T15:10:09.526288700Z"
    }
   },
   "id": "37f850d6abc35b27"
  },
  {
   "cell_type": "code",
   "execution_count": 36,
   "outputs": [
    {
     "data": {
      "text/plain": "{1: 23.0, 2: 45.0, 3: 78.0}"
     },
     "execution_count": 36,
     "metadata": {},
     "output_type": "execute_result"
    }
   ],
   "source": [
    "dict_num = {\n",
    "    1: 0.23,\n",
    "    2: 0.45,\n",
    "    3: 0.78,\n",
    "}\n",
    "{k: v * 100 for (k, v) in dict_num.items()}"
   ],
   "metadata": {
    "collapsed": false,
    "ExecuteTime": {
     "end_time": "2024-09-14T15:10:09.776055500Z",
     "start_time": "2024-09-14T15:10:09.544252200Z"
    }
   },
   "id": "9bc3b0a71c87630"
  },
  {
   "cell_type": "code",
   "execution_count": 37,
   "outputs": [
    {
     "data": {
      "text/plain": "{'CNYUSD', 'EURUSD', 'JPYUSD'}"
     },
     "execution_count": 37,
     "metadata": {},
     "output_type": "execute_result"
    }
   ],
   "source": [
    "{s + 'USD' for s in ['EUR', 'CNY', 'JPY']}"
   ],
   "metadata": {
    "collapsed": false,
    "ExecuteTime": {
     "end_time": "2024-09-14T15:10:09.777055500Z",
     "start_time": "2024-09-14T15:10:09.558846800Z"
    }
   },
   "id": "f720277522ecf5eb"
  },
  {
   "cell_type": "markdown",
   "source": [
    "### 4. 组织代码\n",
    "\n",
    "在python中当脚本越来越复杂时，我们应该组织代码以保持其代码的可维护性。我们在本节首先介绍如何让代码形成可维护的结构，首先介绍函数的基本知识，然后如何将代码拆分成不同的模块。"
   ],
   "metadata": {
    "collapsed": false
   },
   "id": "aeecf53f47614fc9"
  },
  {
   "cell_type": "markdown",
   "source": [
    "#### 4.1 函数\n",
    "\n",
    "函数pyhton中最重要的结构，它可以使我们在程序的任何地方重用同样的代码。首先我们为您先了解一下如何定义一个函数。\n",
    "\n",
    "在python中我们使用def关键字来定义一个函数，def代表函数定义。在python中并不区分单纯的函数与子程序，在python中合作子程序对应的就是一段没有返回值的函数。python中的函数遵循和代码块同样的语法，即函数的定义的第一行以冒号结束，函数的主题需要缩进。\n",
    "```python\n",
    "def function_name(required_argument, optional_argument=default_value, ....):\n",
    "    return value1, value2, ...\n",
    "```\n",
    "在python的函数定义中：\n",
    "**必须参数**没有默认值，参数之间以逗号隔开。为参数提供默认值之后它就变成了**可选参数**，如果没有有意义的默认值，我们通常用None作为可选参数的默认值。return语句定义了函数的**返回值**，如果省略了返回值，那么函数自动返回None，同时python允许我们使用逗号隔开的多个返回值。"
   ],
   "metadata": {
    "collapsed": false
   },
   "id": "c23003693fda8580"
  },
  {
   "cell_type": "code",
   "execution_count": 38,
   "outputs": [],
   "source": [
    "def convert_str(str_name, c_arg):\n",
    "    if c_arg == 'lower':\n",
    "        return str_name.lower()\n",
    "    elif c_arg == 'upper':\n",
    "        return str_name.upper()\n",
    "    else:\n",
    "        print('Error')"
   ],
   "metadata": {
    "collapsed": false,
    "ExecuteTime": {
     "end_time": "2024-09-14T15:10:09.777055500Z",
     "start_time": "2024-09-14T15:10:09.575820400Z"
    }
   },
   "id": "f77a38be3e9811aa"
  },
  {
   "cell_type": "markdown",
   "source": [
    "在定义一个函数后，我们来看一下如何调用我们已经定义好的函数。我们可以通过如下的方式调用函数：\n",
    "```python\n",
    "value_1, value_2, ...,value_n = function_name(positional_arg, arg_name=value, ...)\n",
    "```\n",
    "在调用函数的过程中，如果将一个值作为位置参数进行传递，那么该值将会被传递给对应位置上的参数，如果以`arg_name=value`的这种方式传递参数，那么就是关键字参数，使用关键字参数方法传递参数最大的好处就是可以以任意顺序传递参数。"
   ],
   "metadata": {
    "collapsed": false
   },
   "id": "96ad803b84db2833"
  },
  {
   "cell_type": "code",
   "execution_count": 39,
   "outputs": [
    {
     "data": {
      "text/plain": "'HELLO'"
     },
     "execution_count": 39,
     "metadata": {},
     "output_type": "execute_result"
    }
   ],
   "source": [
    "convert_str('hello', c_arg='upper')"
   ],
   "metadata": {
    "collapsed": false,
    "ExecuteTime": {
     "end_time": "2024-09-14T15:10:09.779562Z",
     "start_time": "2024-09-14T15:10:09.590060700Z"
    }
   },
   "id": "90a043050a235b65"
  },
  {
   "cell_type": "markdown",
   "source": [
    "#### 4.2 模块与import语句\n",
    "\n",
    "当我们在为大型项目编写文件的时候，在一定的时候会需要将代码分成不同的文件，从而保持一种可维护的结构。Python的拓展名为.py，通常我们会把主要的文件称为脚本，当我们想在主脚本中获取来自其他文件的概念时，就需要先导入包含这一功能的文件。在这种情况下，被导入的python文件被称为模块。在导入模块使，我们需要先确保模块与我们的脚本位于同一目录下，然后我们可以使用import语句来导入相应的模块，之后便可以是同点号来访问模块中的相应的功能。\n",
    "\n",
    "在python中，我们需要理解的一种行为是，模块只会被导入一次。如果我们导入的模块发生了更改，那么我们就需要重启python解释器才能让更改体现出来。在编写模块的时候，我们通常把类与函数放在模块中，同时在一般墙宽下，我们不会在模块中输出任何东西。此外再导入模块的时候，未了未来引用方便，我们通常会给所引用的模块起一个别名，这样使用起来会更加方便。\n"
   ],
   "metadata": {
    "collapsed": false
   },
   "id": "9fdf6cdc762f18cc"
  },
  {
   "cell_type": "code",
   "execution_count": 40,
   "outputs": [
    {
     "name": "stdout",
     "output_type": "stream",
     "text": [
      "   0\n",
      "0  1\n",
      "1  2\n",
      "2  3\n"
     ]
    }
   ],
   "source": [
    "import pandas as pd\n",
    "\n",
    "df = pd.DataFrame([1, 2, 3])\n",
    "print(df)"
   ],
   "metadata": {
    "collapsed": false,
    "ExecuteTime": {
     "end_time": "2024-09-14T15:10:10.373364Z",
     "start_time": "2024-09-14T15:10:09.606123300Z"
    }
   },
   "id": "97c84fefbf08be6e"
  },
  {
   "cell_type": "markdown",
   "source": [
    "在有些时候，我们只希望使用模块中的某一个方法或功能，此时我们可以使用import x from y这样的语法，我们只导入了指定的对象。这些对象被直接导入主脚本的命名空间（namespace）中，也就是说，如果看不见这些import语句，那么我们就说不清这些导入的对象是在我们的脚本中定义的还是在另一个模块中定义的，这就可能会造成冲突。此外，我们在编写脚本的时候，也要注意不要让我们的脚本和已经存在的包重名。"
   ],
   "metadata": {
    "collapsed": false
   },
   "id": "61dd64c6c7d2883b"
  },
  {
   "cell_type": "code",
   "execution_count": 41,
   "outputs": [
    {
     "name": "stdout",
     "output_type": "stream",
     "text": [
      "   0\n",
      "0  1\n",
      "1  2\n",
      "2  3\n"
     ]
    }
   ],
   "source": [
    "from pandas import DataFrame\n",
    "\n",
    "df = DataFrame([1, 2, 3])\n",
    "print(df)"
   ],
   "metadata": {
    "collapsed": false,
    "ExecuteTime": {
     "end_time": "2024-09-14T15:10:10.374368100Z",
     "start_time": "2024-09-14T15:10:10.292694100Z"
    }
   },
   "id": "1b5234ebc2ef2742"
  },
  {
   "cell_type": "markdown",
   "source": [
    "### 5. 高级Python概念\n",
    "\n",
    "接下来我们会介绍一些更为高级的python概念，本节将会主要介绍三个主题：类和对象以及可变与不可变对象。"
   ],
   "metadata": {
    "collapsed": false
   },
   "id": "c5f251a360be5e6"
  },
  {
   "cell_type": "markdown",
   "source": [
    "#### 5.1 类和对象\n",
    "\n",
    "本节介绍有关雷雨对象的概念。类定义了一类新的对象，类类似于一个模板，它反映了这一类对象的属性与方法。举一个现实中的例子：赛车可以看作是一个类，赛车有颜色这个属性，那么红色的赛车就是赛车这个类的一个具体的实例即对象。类（class）可以让我们定义自己的数据结构，这些数据类型将数据（属性）与函数（方法）放在了一起，因而可以帮助我们万宁快速的架构与组织代码。首先，我们来看一下如何在python中定义一个类："
   ],
   "metadata": {
    "collapsed": false
   },
   "id": "fc62f1e3fcb1d3cb"
  },
  {
   "cell_type": "code",
   "execution_count": 42,
   "outputs": [],
   "source": [
    "class Car:\n",
    "    def __init__(self, color, speed=0):\n",
    "        self.color = color\n",
    "        self.speed = speed\n",
    "        \n",
    "    def accelerate(self,mph):\n",
    "        self.speed += mph"
   ],
   "metadata": {
    "collapsed": false,
    "ExecuteTime": {
     "end_time": "2024-09-14T15:10:10.374368100Z",
     "start_time": "2024-09-14T15:10:10.305607800Z"
    }
   },
   "id": "ac1e96eb2bf23c36"
  },
  {
   "cell_type": "markdown",
   "source": [
    "这是一个简单的汽车类，类中包含一个特殊的初始化方法——`__init__()`，类似于C++中构造函数的概念，每当我们实例化一个对象时，该方法都被首先调用来创建一个类，该方法的第一个参数是被命名为self的类实例。每调用一次类，实际上就是调用的__init__方法。"
   ],
   "metadata": {
    "collapsed": false
   },
   "id": "2138d31caf98264c"
  },
  {
   "cell_type": "code",
   "execution_count": 43,
   "outputs": [],
   "source": [
    "car1 = Car('red')\n",
    "car2 = Car('blue', 1)"
   ],
   "metadata": {
    "collapsed": false,
    "ExecuteTime": {
     "end_time": "2024-09-14T15:10:10.374368100Z",
     "start_time": "2024-09-14T15:10:10.321567100Z"
    }
   },
   "id": "2aa6971835667f6f"
  },
  {
   "cell_type": "code",
   "execution_count": 44,
   "outputs": [
    {
     "name": "stdout",
     "output_type": "stream",
     "text": [
      "<__main__.Car object at 0x0000028A25A5C490>\n",
      "<__main__.Car object at 0x0000028A25ABFFA0>\n"
     ]
    }
   ],
   "source": [
    "print(car1)\n",
    "print(car2)"
   ],
   "metadata": {
    "collapsed": false,
    "ExecuteTime": {
     "end_time": "2024-09-14T15:10:10.375371300Z",
     "start_time": "2024-09-14T15:10:10.336269200Z"
    }
   },
   "id": "d162b3df2ef367b4"
  },
  {
   "cell_type": "markdown",
   "source": [
    "在默认情况下，我们直接打印对象，python输出的是对象的内存位置，我们可以看到——这两个对象是相互独立的。python也允许我们直接修改对象而无需调用对象。"
   ],
   "metadata": {
    "collapsed": false
   },
   "id": "8e7f6170f2187bf0"
  },
  {
   "cell_type": "code",
   "execution_count": 45,
   "outputs": [
    {
     "name": "stdout",
     "output_type": "stream",
     "text": [
      "red\n",
      "1\n",
      "12\n",
      "green\n",
      "blue\n"
     ]
    }
   ],
   "source": [
    "print(car1.color)\n",
    "print(car2.speed)\n",
    "car1.accelerate(12)\n",
    "print(car1.speed)\n",
    "car1.color = 'green'\n",
    "print(car1.color)\n",
    "print(car2.color)"
   ],
   "metadata": {
    "collapsed": false,
    "ExecuteTime": {
     "end_time": "2024-09-14T15:10:10.399793100Z",
     "start_time": "2024-09-14T15:10:10.352600900Z"
    }
   },
   "id": "f007636050a98699"
  },
  {
   "cell_type": "markdown",
   "source": [
    "类定义了对象的属性与方法，将数据与函数组合到一起，从而是我们五年可以方便的通过点号语法访问。`myobject.attribute`，`myobject.method()`。"
   ],
   "metadata": {
    "collapsed": false
   },
   "id": "f6c13f14a11b658f"
  },
  {
   "cell_type": "markdown",
   "source": [
    "#### 5.2 可变与不可变的Python对象\n",
    "\n",
    "在python中，可以修改值的对象是可变的（mutable），而不能修改的就称为不可变的（immutable）。可变的数据类型包括——列表、字典、集合；不可变的数据类型包括——整数、浮点数、布尔值、字符串、日期时间、元组。"
   ],
   "metadata": {
    "collapsed": false
   },
   "id": "bd79cb2e09811e89"
  },
  {
   "cell_type": "code",
   "execution_count": 46,
   "outputs": [
    {
     "name": "stdout",
     "output_type": "stream",
     "text": [
      "[1, 5, 3]\n",
      "[1, 5, 3]\n"
     ]
    }
   ],
   "source": [
    "a = [1, 2, 3]\n",
    "b = a\n",
    "a[1] = 5\n",
    "print(a)\n",
    "print(b)"
   ],
   "metadata": {
    "collapsed": false,
    "ExecuteTime": {
     "end_time": "2024-09-14T15:10:10.406920800Z",
     "start_time": "2024-09-14T15:10:10.367427300Z"
    }
   },
   "id": "e4b7619d0a22c2c3"
  },
  {
   "cell_type": "markdown",
   "source": [
    "在python中，变量是我们赋予给对象的名称，在上面的代码中，我们让两个变量都指向了同一个对象`list[1, 2, 2]`，因此直线该列表的两个变量都会体现出变化。如果我们将对象替换为不可变对象，那么修改两个变量将不会对其彼此产生影响。如果想让可变对象互相之间不产生影响，我们就必须显式的复制可变对象。"
   ],
   "metadata": {
    "collapsed": false
   },
   "id": "3db25c5656cf5b7a"
  },
  {
   "cell_type": "code",
   "execution_count": 47,
   "outputs": [
    {
     "name": "stdout",
     "output_type": "stream",
     "text": [
      "[1, 5, 3]\n",
      "[1, 2, 3]\n"
     ]
    }
   ],
   "source": [
    "a = [1, 2, 3]\n",
    "b = a.copy()\n",
    "\n",
    "a[1] = 5\n",
    "print(a)\n",
    "print(b)"
   ],
   "metadata": {
    "collapsed": false,
    "ExecuteTime": {
     "end_time": "2024-09-14T15:10:10.486476300Z",
     "start_time": "2024-09-14T15:10:10.382326300Z"
    }
   },
   "id": "63cc79a942d2c1e1"
  },
  {
   "cell_type": "markdown",
   "source": [
    "python的`copy()`方法创建的是一份浅拷贝，我们为您确实会得到一份副本，但是如果可变对象中包含有可变元素，那么这些元素仍然是共享的。如果我们我你想要复制所有的可变元素，那么我们为你就需要使用copy标准库中的`deepcopy()`来进行深拷贝。"
   ],
   "metadata": {
    "collapsed": false
   },
   "id": "d02225380ed71e2a"
  },
  {
   "cell_type": "code",
   "execution_count": 48,
   "outputs": [],
   "source": [
    "import copy\n",
    "b = copy.deepcopy(a)"
   ],
   "metadata": {
    "collapsed": false,
    "ExecuteTime": {
     "end_time": "2024-09-14T15:10:10.496156400Z",
     "start_time": "2024-09-14T15:10:10.397287200Z"
    }
   },
   "id": "b2366ee332351217"
  },
  {
   "cell_type": "markdown",
   "source": [
    "#### 5.3 可变对象作为参数\n",
    "\n",
    "在python中，当我们把变量到处传递时，我们实际上传递的是指向对象的一个名称。也就是说具体行为是取决于对象是可变的还是不可变的。如果对象是可变的，为了保持元对象不变，那么我们就需要传递对象的副本。\n",
    "还有一种情况就是我们在定义函数时默认参数对可变对象的使用。在编写函数时，一般来说我们不应该使用可变对象来作为默认参数，这是因为默认参数的值是函数定义的一部分，他只会被求值一次，而不应在每次调用函数时都被求值，因此对可变参数的默认参数使用通常会导致出人意料的结果。"
   ],
   "metadata": {
    "collapsed": false
   },
   "id": "65df38f54d3f9b86"
  },
  {
   "cell_type": "markdown",
   "source": [
    "### 6. Python编程风格指南——PEP8\n",
    "\n",
    "在大型项目中，通常是由很多不同的人开发同一个项目，此时遵守一致的代码风格就显得尤为重要。如果使用相同的代码风格，那么我们写出的代码可读性就会更高，团队之间协作的效率也会大大提高。在这一部分我们将为大家介绍python官方给出的一些规范的编程风格惯例。"
   ],
   "metadata": {
    "collapsed": false
   },
   "id": "27450a1b9b206d4c"
  },
  {
   "cell_type": "markdown",
   "source": [
    "#### 6.1 PEP8\n",
    "\n",
    "在这里我们将学习python官方的代码风格指南。Python使用通常的Python改进提案（Python Enhancement Proposals, PEP）来讨论语言新特性的引入，而我们再次讨论的python语言风格指南就是其中之一，代码风格指南的代码为8，因此我们一般也将此提案称之为PEP8。PEP8为我们提供了一个可供参考的风格手册，一些重要的风格指南如下：\n",
    "\n",
    "1. 在文件顶部使用文档字符串（docstring）来解释这个脚本（script）或者模块（module）做了什么。文档字符串是一种特殊的字符串，我们也称之为“文档注释”，它用三个引号“\"\"\" \"\"\"”来表示引用。除了作为代码的文档，它还可以用来编写跨越多行的字符串，如果字符串中有很多双引号或者单引号，我们也可以使用文档字符串来避免转义。\n",
    "\n",
    "2. 所有的导入语句都应该在文件顶部，一行一个的导入。从标准库导入的内容放在最前，然后是第三方包，最后才应该是我们自己编写的模块。\n",
    "\n",
    "3. 用大写字母与下划线表示常量。\n",
    "\n",
    "4. 每行代码的长度不应该超过79个字符，并且应尽可能的利用圆括号、方括号或花括号进行隐式跨行。\n",
    "\n",
    "5. 自己编写的类应该使用首字母大写（CapitalizedWords）的名称。\n",
    "\n",
    "6. 行内注释应该和代码至少相隔两个空格。代码块应该用4个空格进行缩进。\n",
    "\n",
    "7. 在能够提高可读性的情况下，函数和参数应该使用小写字母和下划线命名。不要在参数名和默认值之间使用空格。\n",
    "\n",
    "8. 函数的文档字符串应当列出函数参数并解释其意义。\n",
    "\n",
    "9. 冒号前后不要使用空格。\n",
    "\n",
    "10. 可以在算术运算符前后使用空格。如果同时使用了优先级不同的运算符，则应当考虑在优先级最低的运算符前后添加空格。\n",
    "\n",
    "11. 变量名称使用小写字母。在可以提升可读性的前提下使用下划线。为变量赋值时，在等号前后添加空格。不过在调用函数时，不要在关键字参数前后使用空格。\n",
    "\n",
    "12. 在进行索引与切片时，不要在方括号前后使用空格。\n",
    "\n",
    "以上是对PEP8的一个简要介绍，推荐大家在使用python之后去看一下PEP8的[原文](https://peps.python.org/pep-0008/)。PEP8明确指出，该指南只是建议，我们应当首先考虑自己的编程风格，毕竟统一性的编程风格才是重要的。这里我们推荐大家去学习阅读一下[Google开源项目风格指南](https://zh-google-styleguide.readthedocs.io/en/latest/google-python-styleguide/python_language_rules.html)。该指南和PEP8比较接近。"
   ],
   "metadata": {
    "collapsed": false
   },
   "id": "3f5e07c353f0fe6a"
  },
  {
   "cell_type": "markdown",
   "source": [
    "#### 6.2 类型提示\n",
    "\n",
    "Python在3.5版本之后引入了类型提示（type hint），以进一步增强语言的静态分析的能力。类型提示也称为类型标注，该特性允许我们像C++一样声明变量的数据类型。在python中类型提示不是强制性的，他也不会影响python解释器执行代码（不过会有类似pydantic这种在运行时强制使用类型标注的第三方包），类型标注的主要目的是让编辑器在代码执行前可以捕获更多的错误，该特性也可以增强编辑器的自动补全功能。一般来说，类型提示在较大型的项目中才更加有用。\n",
    "\n",
    "一下是一段没有使用类型提示的代码："
   ],
   "metadata": {
    "collapsed": false
   },
   "id": "89c2e6b859ae1100"
  },
  {
   "cell_type": "code",
   "execution_count": 49,
   "outputs": [
    {
     "name": "stdout",
     "output_type": "stream",
     "text": [
      "hello 1!\n"
     ]
    }
   ],
   "source": [
    "def hello_name(name):\n",
    "    return f'hello {name}!'\n",
    "\n",
    "\n",
    "x = 1\n",
    "print(hello_name(x))"
   ],
   "metadata": {
    "collapsed": false,
    "ExecuteTime": {
     "end_time": "2024-09-14T15:10:10.499719500Z",
     "start_time": "2024-09-14T15:10:10.412577600Z"
    }
   },
   "id": "57dbfc01a418e9b6"
  },
  {
   "cell_type": "markdown",
   "source": [
    "现在我们为其添加上类型标注："
   ],
   "metadata": {
    "collapsed": false
   },
   "id": "19c0007775dbd772"
  },
  {
   "cell_type": "code",
   "execution_count": 50,
   "outputs": [
    {
     "name": "stdout",
     "output_type": "stream",
     "text": [
      "hello John!\n",
      "hello 1!\n"
     ]
    }
   ],
   "source": [
    "x: int = 1\n",
    "s: str = 'John'\n",
    "\n",
    "\n",
    "def hello_name(name: str) -> str:\n",
    "    return f'hello {name}!'\n",
    "\n",
    "\n",
    "print(hello_name(s))\n",
    "\n",
    "print(hello_name(x))"
   ],
   "metadata": {
    "collapsed": false,
    "ExecuteTime": {
     "end_time": "2024-09-14T15:10:10.499719500Z",
     "start_time": "2024-09-14T15:10:10.428010700Z"
    }
   },
   "id": "ce3af336f6fd834a"
  },
  {
   "cell_type": "markdown",
   "source": [
    "可以看到，在添加类型标注之后，编辑器在运行代码之前为我们捕捉到了更多的异常。"
   ],
   "metadata": {
    "collapsed": false
   },
   "id": "28516138423d3d21"
  },
  {
   "cell_type": "markdown",
   "source": [
    "### 7. 总结\n",
    "\n",
    "本章我们带大家快速回顾了python的基础知识，主要介绍了一些基础的数值类型，常见的基础数据结构。然后介绍了一些简单的控制流语句，最后介绍了在python中如何组织代码的一些方法，简要的介绍了类与对象等高级python概念，最后为大家介绍了python的编码规范。在掌握了这些基础概念的前提下，我们已经可以完成一些较为简易的工作。希望在快速浏览本章内容后，我们可以掌握Python中最常用的基础语法概念并使用这门语言。"
   ],
   "metadata": {
    "collapsed": false
   },
   "id": "f1300dcdda458100"
  }
 ],
 "metadata": {
  "kernelspec": {
   "display_name": "Python 3 (ipykernel)",
   "language": "python",
   "name": "python3"
  },
  "language_info": {
   "codemirror_mode": {
    "name": "ipython",
    "version": 3
   },
   "file_extension": ".py",
   "mimetype": "text/x-python",
   "name": "python",
   "nbconvert_exporter": "python",
   "pygments_lexer": "ipython3",
   "version": "3.9.15"
  }
 },
 "nbformat": 4,
 "nbformat_minor": 5
}
