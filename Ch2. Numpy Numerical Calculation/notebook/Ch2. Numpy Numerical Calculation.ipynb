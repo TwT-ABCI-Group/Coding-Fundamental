{
 "cells": [
  {
   "cell_type": "markdown",
   "source": [
    "## Ch2. Numpy Numerical Calculation"
   ],
   "metadata": {
    "collapsed": false
   },
   "id": "c6b3bcf0012f6521"
  },
  {
   "cell_type": "markdown",
   "source": [
    "### 0. Introduction\n",
    "\n",
    "NumPy(Numerical Python)是Python语言的一个扩展程序库，支持大量的维度数组与矩阵运算，此外也针对数组运算提供大量的数学函数库。NumPy的前身Numeric最早是由 Jim Hugunin与其它协作者共同开发，2005年，Travis Oliphant在Numeric中结合了另一个同性质的程序库Numarray的特色，并加入了其它扩展而开发了NumPy。 NumPy为开放源代码并且由许多协作者共同维护开发。本章将为大家介绍python中nmupy库的使用，我们主要将其用于数值计算，包括：\n",
    "\n",
    "1. 一个强大的N维数组对象 ndarray\n",
    "2. 广播功能函数\n",
    "3. 整合 C/C++/Fortran 代码的工具\n",
    "4. 线性代数、傅里叶变换、随机数生成等功能\n",
    "\n",
    "NumPy通常与SciPy（Scientific Python）和Matplotlib（绘图库）一起使用，这种组合广泛用于替代MatLab，是一个强大的科学计算环境，有助于我们通过Python学习数据科学或者机器学习。"
   ],
   "metadata": {
    "collapsed": false
   },
   "id": "9848a9ff9414c929"
  },
  {
   "cell_type": "markdown",
   "source": [
    "### 1. Numpy的优势以及为什么要使用Numpy\n",
    "\n",
    "#### 1.1 Python循环\n",
    "\n",
    "在python中，循环操作是十分费时的，涉及到大规模的循环操作，会导致程序运行十分缓慢。我们以下面一个求100万个数的倒数的程序为例。我们首先使用for循环来实现，来看看程序的运行性能。我们可以使用`%timeit`来统计运行时间，它是ipython中统计运行时间的魔术方法，通过多次运行取平均值的方式来实现。"
   ],
   "metadata": {
    "collapsed": false
   },
   "id": "35238bed2bac4b9f"
  },
  {
   "cell_type": "code",
   "execution_count": 2,
   "outputs": [
    {
     "name": "stdout",
     "output_type": "stream",
     "text": [
      "76.2 ms ± 1.88 ms per loop (mean ± std. dev. of 7 runs, 10 loops each)\n"
     ]
    }
   ],
   "source": [
    "def compute_reciprocals(values):\n",
    "    res = []\n",
    "    for value in values:\n",
    "        res.append(1 / value)\n",
    "    return res\n",
    "\n",
    "values = list(range(1, 1000000))\n",
    "\n",
    "%timeit compute_reciprocals(values)"
   ],
   "metadata": {
    "collapsed": false,
    "ExecuteTime": {
     "end_time": "2024-10-31T13:10:24.700874400Z",
     "start_time": "2024-10-31T13:10:18.498928800Z"
    }
   },
   "id": "99245918ce492a2e"
  },
  {
   "cell_type": "markdown",
   "source": [
    "我们看到，使用python的for循环程序运行较为缓慢，这是因为在循环中每遍历到一个元素，python就要判断它的类型并查找适用于该数据类型的正确的操作方式。为了更直观的为大家提供一个对比，我们使用numpy来实现相同的功能并计算其运行时间。"
   ],
   "metadata": {
    "collapsed": false
   },
   "id": "599bc0c239889b2a"
  },
  {
   "cell_type": "code",
   "execution_count": 3,
   "outputs": [
    {
     "name": "stdout",
     "output_type": "stream",
     "text": [
      "1.88 ms ± 71 µs per loop (mean ± std. dev. of 7 runs, 1,000 loops each)\n"
     ]
    }
   ],
   "source": [
    "import numpy as np\n",
    "\n",
    "values = np.arange(1, 1000000)\n",
    "\n",
    "%timeit 1 / values"
   ],
   "metadata": {
    "collapsed": false,
    "ExecuteTime": {
     "end_time": "2024-10-31T13:15:29.525782200Z",
     "start_time": "2024-10-31T13:15:14.138413300Z"
    }
   },
   "id": "fad688ab98a86f8c"
  },
  {
   "cell_type": "markdown",
   "source": [
    "可以看到实现相同的计算，我们使用numpy的运行速度是python循环的几十倍。所以，numpy的优势就在于它可以向量化操作，使得需要大量for循环的运算的速度大大提升。\n",
    "\n",
    "#### 1.2 为什么numpy如此高校\n",
    "\n",
    "Numpy的底层是C语言实现的，其实其内部计算仍然是for循环，但是C语言的for循环的运行速度要远远快于python，C在执行时代码整体编译，速度更快。此外，numpy数组是连续的单一类型储存，与分散的多变类型储存相比，这种存储结构与一些更加高效的底层处理方式更加的契合。而且Python语言在执行时有线程锁，无法实现真正的多线程并行，但是C语言可以。\n",
    "\n",
    "#### 1.3 应该在什么时候使用numpy？\n",
    "\n",
    "当我们在python中，需要也能用大量的for循环才能实现的向量化、矩阵化操作时，我们就需要优先考虑使用Numpy。"
   ],
   "metadata": {
    "collapsed": false
   },
   "id": "d2f908ba9f157ad9"
  },
  {
   "cell_type": "markdown",
   "source": [
    "### 2. Numpy常规数组\n",
    "\n",
    "#### 2.1 Numpy常规数组的创建"
   ],
   "metadata": {
    "collapsed": false
   },
   "id": "830ab00c95c0d7c1"
  },
  {
   "cell_type": "code",
   "execution_count": null,
   "outputs": [],
   "source": [],
   "metadata": {
    "collapsed": false
   },
   "id": "4d50e3ae13d41005"
  },
  {
   "cell_type": "code",
   "execution_count": null,
   "outputs": [],
   "source": [],
   "metadata": {
    "collapsed": false
   },
   "id": "4164529a4a98cbbb"
  },
  {
   "cell_type": "code",
   "execution_count": null,
   "outputs": [],
   "source": [],
   "metadata": {
    "collapsed": false
   },
   "id": "5f04b1d10516b09a"
  },
  {
   "cell_type": "code",
   "execution_count": null,
   "outputs": [],
   "source": [],
   "metadata": {
    "collapsed": false
   },
   "id": "24963205840b4809"
  },
  {
   "cell_type": "code",
   "execution_count": null,
   "outputs": [],
   "source": [],
   "metadata": {
    "collapsed": false
   },
   "id": "edf9235230e410b7"
  },
  {
   "cell_type": "code",
   "execution_count": null,
   "outputs": [],
   "source": [],
   "metadata": {
    "collapsed": false
   },
   "id": "4f511a089e8d102b"
  },
  {
   "cell_type": "code",
   "execution_count": null,
   "outputs": [],
   "source": [],
   "metadata": {
    "collapsed": false
   },
   "id": "b4e3c6a47f73240c"
  },
  {
   "cell_type": "code",
   "execution_count": null,
   "outputs": [],
   "source": [],
   "metadata": {
    "collapsed": false
   },
   "id": "97f2694314ba110"
  },
  {
   "cell_type": "code",
   "execution_count": null,
   "outputs": [],
   "source": [],
   "metadata": {
    "collapsed": false
   },
   "id": "b45e088062d55ad7"
  },
  {
   "cell_type": "code",
   "execution_count": null,
   "outputs": [],
   "source": [],
   "metadata": {
    "collapsed": false
   },
   "id": "ae844f0711cea111"
  },
  {
   "cell_type": "code",
   "execution_count": null,
   "outputs": [],
   "source": [],
   "metadata": {
    "collapsed": false
   },
   "id": "17f3b2358b9d14ef"
  },
  {
   "cell_type": "code",
   "execution_count": null,
   "outputs": [],
   "source": [],
   "metadata": {
    "collapsed": false
   },
   "id": "c8496817c4452d0f"
  },
  {
   "cell_type": "code",
   "execution_count": null,
   "outputs": [],
   "source": [],
   "metadata": {
    "collapsed": false
   },
   "id": "985793dcbcc589e"
  },
  {
   "cell_type": "code",
   "execution_count": null,
   "outputs": [],
   "source": [],
   "metadata": {
    "collapsed": false
   },
   "id": "9adcebe3945e58c5"
  },
  {
   "cell_type": "code",
   "execution_count": null,
   "outputs": [],
   "source": [],
   "metadata": {
    "collapsed": false
   },
   "id": "ce181f5df3e5bc43"
  },
  {
   "cell_type": "code",
   "execution_count": null,
   "outputs": [],
   "source": [],
   "metadata": {
    "collapsed": false
   },
   "id": "824d0d4e703d09f8"
  },
  {
   "cell_type": "code",
   "execution_count": null,
   "outputs": [],
   "source": [],
   "metadata": {
    "collapsed": false
   },
   "id": "5241f4b72fff623f"
  },
  {
   "cell_type": "code",
   "execution_count": null,
   "outputs": [],
   "source": [],
   "metadata": {
    "collapsed": false
   },
   "id": "3a3dd25a9eac9382"
  },
  {
   "cell_type": "code",
   "execution_count": null,
   "outputs": [],
   "source": [],
   "metadata": {
    "collapsed": false
   },
   "id": "f9c1fabe1ae68afc"
  },
  {
   "cell_type": "code",
   "execution_count": null,
   "outputs": [],
   "source": [],
   "metadata": {
    "collapsed": false
   },
   "id": "d44f3471f88d813b"
  },
  {
   "cell_type": "code",
   "execution_count": null,
   "outputs": [],
   "source": [],
   "metadata": {
    "collapsed": false
   },
   "id": "95ec5001e540dd3"
  },
  {
   "cell_type": "code",
   "execution_count": null,
   "outputs": [],
   "source": [],
   "metadata": {
    "collapsed": false
   },
   "id": "c9c0389bf5bba0bb"
  },
  {
   "cell_type": "code",
   "execution_count": null,
   "outputs": [],
   "source": [],
   "metadata": {
    "collapsed": false
   },
   "id": "bb41d52334bd74da"
  },
  {
   "cell_type": "code",
   "execution_count": null,
   "outputs": [],
   "source": [],
   "metadata": {
    "collapsed": false
   },
   "id": "79d03dd599d1c3d2"
  },
  {
   "cell_type": "code",
   "execution_count": null,
   "outputs": [],
   "source": [],
   "metadata": {
    "collapsed": false
   },
   "id": "fdbcedf28f4e0256"
  },
  {
   "cell_type": "code",
   "execution_count": null,
   "outputs": [],
   "source": [],
   "metadata": {
    "collapsed": false
   },
   "id": "1275315469adf541"
  },
  {
   "cell_type": "code",
   "execution_count": null,
   "outputs": [],
   "source": [],
   "metadata": {
    "collapsed": false
   },
   "id": "ff10a96f631d731d"
  },
  {
   "cell_type": "code",
   "execution_count": null,
   "outputs": [],
   "source": [],
   "metadata": {
    "collapsed": false
   },
   "id": "798c02098066a15e"
  },
  {
   "cell_type": "code",
   "execution_count": null,
   "outputs": [],
   "source": [],
   "metadata": {
    "collapsed": false
   },
   "id": "32cfe2e0096da05"
  },
  {
   "cell_type": "code",
   "execution_count": null,
   "outputs": [],
   "source": [],
   "metadata": {
    "collapsed": false
   },
   "id": "8d058ed6d9574e1f"
  },
  {
   "cell_type": "code",
   "execution_count": null,
   "outputs": [],
   "source": [],
   "metadata": {
    "collapsed": false
   },
   "id": "9467b58dda4d801b"
  }
 ],
 "metadata": {
  "kernelspec": {
   "display_name": "Python 3",
   "language": "python",
   "name": "python3"
  },
  "language_info": {
   "codemirror_mode": {
    "name": "ipython",
    "version": 2
   },
   "file_extension": ".py",
   "mimetype": "text/x-python",
   "name": "python",
   "nbconvert_exporter": "python",
   "pygments_lexer": "ipython2",
   "version": "2.7.6"
  }
 },
 "nbformat": 4,
 "nbformat_minor": 5
}
