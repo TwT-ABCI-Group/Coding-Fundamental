{
 "cells": [
  {
   "cell_type": "markdown",
   "source": [
    "## Ch2. Numpy Numerical Calculation"
   ],
   "metadata": {
    "collapsed": false
   },
   "id": "c6b3bcf0012f6521"
  },
  {
   "cell_type": "markdown",
   "source": [
    "### 0. Introduction\n",
    "\n",
    "NumPy(Numerical Python)是Python语言的一个扩展程序库，支持大量的维度数组与矩阵运算，此外也针对数组运算提供大量的数学函数库。NumPy的前身Numeric最早是由 Jim Hugunin与其它协作者共同开发，2005年，Travis Oliphant在Numeric中结合了另一个同性质的程序库Numarray的特色，并加入了其它扩展而开发了NumPy。 NumPy为开放源代码并且由许多协作者共同维护开发。本章将为大家介绍python中nmupy库的使用，我们主要将其用于数值计算，包括：\n",
    "\n",
    "1. 一个强大的N维数组对象 ndarray\n",
    "2. 广播功能函数\n",
    "3. 整合 C/C++/Fortran 代码的工具\n",
    "4. 线性代数、傅里叶变换、随机数生成等功能\n",
    "\n",
    "NumPy通常与SciPy（Scientific Python）和Matplotlib（绘图库）一起使用，这种组合广泛用于替代MatLab，是一个强大的科学计算环境，有助于我们通过Python学习数据科学或者机器学习。"
   ],
   "metadata": {
    "collapsed": false
   },
   "id": "9848a9ff9414c929"
  },
  {
   "cell_type": "markdown",
   "source": [
    "### 1. Numpy的优势以及为什么要使用Numpy\n",
    "\n",
    "#### 1.1 Python循环\n",
    "\n",
    "在python中，循环操作是十分费时的，涉及到大规模的循环操作，会导致程序运行十分缓慢。我们以下面一个求100万个数的倒数的程序为例。我们首先使用for循环来实现，来看看程序的运行性能。我们可以使用`%timeit`来统计运行时间，它是ipython中统计运行时间的魔术方法，通过多次运行取平均值的方式来实现。"
   ],
   "metadata": {
    "collapsed": false
   },
   "id": "35238bed2bac4b9f"
  },
  {
   "cell_type": "code",
   "execution_count": 2,
   "outputs": [
    {
     "name": "stdout",
     "output_type": "stream",
     "text": [
      "76.1 ms ± 831 µs per loop (mean ± std. dev. of 7 runs, 10 loops each)\n"
     ]
    }
   ],
   "source": [
    "def compute_reciprocals(values):\n",
    "    res = []\n",
    "    for value in values:\n",
    "        res.append(1 / value)\n",
    "    return res\n",
    "\n",
    "\n",
    "values = list(range(1, 1000000))\n",
    "\n",
    "%timeit compute_reciprocals(values)"
   ],
   "metadata": {
    "collapsed": false,
    "ExecuteTime": {
     "end_time": "2024-11-01T06:07:52.234887800Z",
     "start_time": "2024-11-01T06:07:45.955187100Z"
    }
   },
   "id": "99245918ce492a2e"
  },
  {
   "cell_type": "markdown",
   "source": [
    "我们看到，使用python的for循环程序运行较为缓慢，这是因为在循环中每遍历到一个元素，python就要判断它的类型并查找适用于该数据类型的正确的操作方式。为了更直观的为大家提供一个对比，我们使用numpy来实现相同的功能并计算其运行时间。"
   ],
   "metadata": {
    "collapsed": false
   },
   "id": "599bc0c239889b2a"
  },
  {
   "cell_type": "code",
   "execution_count": 3,
   "outputs": [
    {
     "name": "stdout",
     "output_type": "stream",
     "text": [
      "1.95 ms ± 53.6 µs per loop (mean ± std. dev. of 7 runs, 1,000 loops each)\n"
     ]
    }
   ],
   "source": [
    "import numpy as np  # 导入numpy \n",
    "\n",
    "values = np.arange(1, 1000000)\n",
    "\n",
    "%timeit 1 /values"
   ],
   "metadata": {
    "collapsed": false,
    "ExecuteTime": {
     "end_time": "2024-11-01T06:08:08.183685100Z",
     "start_time": "2024-11-01T06:07:52.236890Z"
    }
   },
   "id": "fad688ab98a86f8c"
  },
  {
   "cell_type": "markdown",
   "source": [
    "可以看到实现相同的计算，我们使用numpy的运行速度是python循环的几十倍。所以，numpy的优势就在于它可以向量化操作，使得需要大量for循环的运算的速度大大提升。\n",
    "\n",
    "#### 1.2 为什么numpy如此高校\n",
    "\n",
    "Numpy的底层是C语言实现的，其实其内部计算仍然是for循环，但是C语言的for循环的运行速度要远远快于python，C在执行时代码整体编译，速度更快。此外，numpy数组是连续的单一类型储存，与分散的多变类型储存相比，这种存储结构与一些更加高效的底层处理方式更加的契合。而且Python语言在执行时有线程锁，无法实现真正的多线程并行，但是C语言可以。\n",
    "\n",
    "#### 1.3 应该在什么时候使用numpy？\n",
    "\n",
    "当我们在python中，需要也能用大量的for循环才能实现的向量化、矩阵化操作时，我们就需要优先考虑使用Numpy。"
   ],
   "metadata": {
    "collapsed": false
   },
   "id": "d2f908ba9f157ad9"
  },
  {
   "cell_type": "markdown",
   "source": [
    "### 2. Numpy常规数组\n",
    "\n",
    "`numpy.ndarray`是numpy中重要的专用类，它能够方便快捷的处理n维数组。与基于列表或`array`类的python方法相比，`ndarray`具有如下的特点：\n",
    "\n",
    "1. ndarray具有内建的维度\n",
    "2. ndarray对象是不可变的，其长度大小固定\n",
    "3. 整个数组内只允许拥有一种数据类型\n",
    "\n",
    "#### 2.1 Numpy常规数组的创建\n",
    "\n",
    "Numpy为我们提供了多种创建数组的方式，我们可以使用多样的接口来灵活的创建我们所需要的多维数组。"
   ],
   "metadata": {
    "collapsed": false
   },
   "id": "830ab00c95c0d7c1"
  },
  {
   "cell_type": "markdown",
   "source": [
    "##### 2.1.1 从列表开始创建"
   ],
   "metadata": {
    "collapsed": false
   },
   "id": "33c415a6873dc4e0"
  },
  {
   "cell_type": "code",
   "execution_count": 4,
   "outputs": [
    {
     "data": {
      "text/plain": "array([1, 2, 3, 4, 5, 6])"
     },
     "execution_count": 4,
     "metadata": {},
     "output_type": "execute_result"
    }
   ],
   "source": [
    "x = np.array([1, 2, 3, 4, 5, 6])\n",
    "x"
   ],
   "metadata": {
    "collapsed": false,
    "ExecuteTime": {
     "end_time": "2024-11-01T06:08:08.229867Z",
     "start_time": "2024-11-01T06:08:08.185693800Z"
    }
   },
   "id": "c1f1c05c1c70185b"
  },
  {
   "cell_type": "code",
   "execution_count": 5,
   "outputs": [
    {
     "data": {
      "text/plain": "numpy.ndarray"
     },
     "execution_count": 5,
     "metadata": {},
     "output_type": "execute_result"
    }
   ],
   "source": [
    "type(x)"
   ],
   "metadata": {
    "collapsed": false,
    "ExecuteTime": {
     "end_time": "2024-11-01T06:08:30.178051800Z",
     "start_time": "2024-11-01T06:08:30.164143500Z"
    }
   },
   "id": "5f04b1d10516b09a"
  },
  {
   "cell_type": "markdown",
   "source": [
    "可以看到通过`np.array`方法创建的数组的数据类型为`numpy.ndarray`。在创建数组的过程中我们可以通过`dtype`参数来指定数组的数据类型"
   ],
   "metadata": {
    "collapsed": false
   },
   "id": "a346f52488cfb643"
  },
  {
   "cell_type": "code",
   "execution_count": 7,
   "outputs": [
    {
     "data": {
      "text/plain": "numpy.float32"
     },
     "execution_count": 7,
     "metadata": {},
     "output_type": "execute_result"
    }
   ],
   "source": [
    "x = np.array([1, 2, 3, 4, 5, 6], dtype='float32')\n",
    "type(x[0])"
   ],
   "metadata": {
    "collapsed": false,
    "ExecuteTime": {
     "end_time": "2024-11-01T06:11:05.501910200Z",
     "start_time": "2024-11-01T06:11:05.476711700Z"
    }
   },
   "id": "edf9235230e410b7"
  },
  {
   "cell_type": "markdown",
   "source": [
    "我们可以通过多维列表的形式来创建多维数组，只需要在`np.array`中传入多维列表即可"
   ],
   "metadata": {
    "collapsed": false
   },
   "id": "274304fb2aa54832"
  },
  {
   "cell_type": "code",
   "execution_count": 8,
   "outputs": [
    {
     "data": {
      "text/plain": "array([[1, 2, 3],\n       [4, 5, 6],\n       [7, 8, 9]])"
     },
     "execution_count": 8,
     "metadata": {},
     "output_type": "execute_result"
    }
   ],
   "source": [
    "x = np.array(\n",
    "    [\n",
    "        [1, 2, 3],\n",
    "        [4, 5, 6],\n",
    "        [7, 8, 9],\n",
    "    ]\n",
    ")\n",
    "x"
   ],
   "metadata": {
    "collapsed": false,
    "ExecuteTime": {
     "end_time": "2024-11-01T06:13:29.386651500Z",
     "start_time": "2024-11-01T06:13:29.359128200Z"
    }
   },
   "id": "b4e3c6a47f73240c"
  },
  {
   "cell_type": "markdown",
   "source": [
    "##### 2.1.2 通过实例化ndarray对象创建数组\n",
    "\n",
    "Numpy中为我们提供了各种常用的矩阵数组的对象类型，我们可以通过直接实例化相关对象的方式来快速的创建我们所需的多维数组。"
   ],
   "metadata": {
    "collapsed": false
   },
   "id": "a00a128521746c2b"
  },
  {
   "cell_type": "markdown",
   "source": [
    "1. 创建一个所有元素全都是0的矩阵"
   ],
   "metadata": {
    "collapsed": false
   },
   "id": "cf9afb30e829a34b"
  },
  {
   "cell_type": "code",
   "execution_count": 9,
   "outputs": [
    {
     "data": {
      "text/plain": "array([[0., 0., 0., 0., 0.],\n       [0., 0., 0., 0., 0.],\n       [0., 0., 0., 0., 0.],\n       [0., 0., 0., 0., 0.],\n       [0., 0., 0., 0., 0.]], dtype=float32)"
     },
     "execution_count": 9,
     "metadata": {},
     "output_type": "execute_result"
    }
   ],
   "source": [
    "x = np.zeros(shape=(5, 5), dtype='float32')\n",
    "x"
   ],
   "metadata": {
    "collapsed": false,
    "ExecuteTime": {
     "end_time": "2024-11-01T06:34:56.482971400Z",
     "start_time": "2024-11-01T06:34:56.440585500Z"
    }
   },
   "id": "ae844f0711cea111"
  },
  {
   "cell_type": "markdown",
   "source": [
    "2. 创建一个所有值都是1的矩阵"
   ],
   "metadata": {
    "collapsed": false
   },
   "id": "8420766f931c1aac"
  },
  {
   "cell_type": "code",
   "execution_count": 10,
   "outputs": [
    {
     "data": {
      "text/plain": "array([[1., 1., 1., 1., 1.],\n       [1., 1., 1., 1., 1.],\n       [1., 1., 1., 1., 1.],\n       [1., 1., 1., 1., 1.],\n       [1., 1., 1., 1., 1.]], dtype=float32)"
     },
     "execution_count": 10,
     "metadata": {},
     "output_type": "execute_result"
    }
   ],
   "source": [
    "x = np.ones(shape=(5, 5), dtype='float32')\n",
    "x"
   ],
   "metadata": {
    "collapsed": false,
    "ExecuteTime": {
     "end_time": "2024-11-01T06:36:09.760432600Z",
     "start_time": "2024-11-01T06:36:09.729893500Z"
    }
   },
   "id": "c8496817c4452d0f"
  },
  {
   "cell_type": "markdown",
   "source": [
    "3. 创建一个单位矩阵"
   ],
   "metadata": {
    "collapsed": false
   },
   "id": "2fe40c82b137fcb4"
  },
  {
   "cell_type": "code",
   "execution_count": 12,
   "outputs": [
    {
     "data": {
      "text/plain": "array([[1., 0., 0.],\n       [0., 1., 0.],\n       [0., 0., 1.]])"
     },
     "execution_count": 12,
     "metadata": {},
     "output_type": "execute_result"
    }
   ],
   "source": [
    "x = np.eye(3)\n",
    "x"
   ],
   "metadata": {
    "collapsed": false,
    "ExecuteTime": {
     "end_time": "2024-11-01T06:37:46.027303100Z",
     "start_time": "2024-11-01T06:37:45.988241800Z"
    }
   },
   "id": "9adcebe3945e58c5"
  },
  {
   "cell_type": "markdown",
   "source": [
    "4. 创建一个所有位置的值全都一致的矩阵"
   ],
   "metadata": {
    "collapsed": false
   },
   "id": "59516697d5f53ca6"
  },
  {
   "cell_type": "code",
   "execution_count": 13,
   "outputs": [
    {
     "data": {
      "text/plain": "array([[4.5, 4.5, 4.5, 4.5],\n       [4.5, 4.5, 4.5, 4.5],\n       [4.5, 4.5, 4.5, 4.5]])"
     },
     "execution_count": 13,
     "metadata": {},
     "output_type": "execute_result"
    }
   ],
   "source": [
    "x = np.full((3, 4), 4.5)\n",
    "x"
   ],
   "metadata": {
    "collapsed": false,
    "ExecuteTime": {
     "end_time": "2024-11-01T06:38:53.765859Z",
     "start_time": "2024-11-01T06:38:53.725540200Z"
    }
   },
   "id": "824d0d4e703d09f8"
  },
  {
   "cell_type": "markdown",
   "source": [
    "5. 创建一个与目标数组形状一致，值全部为0的数组"
   ],
   "metadata": {
    "collapsed": false
   },
   "id": "df87eec9b9a9dbbc"
  },
  {
   "cell_type": "code",
   "execution_count": 14,
   "outputs": [
    {
     "data": {
      "text/plain": "array([[0., 0., 0., 0.],\n       [0., 0., 0., 0.],\n       [0., 0., 0., 0.]])"
     },
     "execution_count": 14,
     "metadata": {},
     "output_type": "execute_result"
    }
   ],
   "source": [
    "y = np.zeros_like(x)\n",
    "y"
   ],
   "metadata": {
    "collapsed": false,
    "ExecuteTime": {
     "end_time": "2024-11-01T06:41:25.320850700Z",
     "start_time": "2024-11-01T06:41:25.244783300Z"
    }
   },
   "id": "3a3dd25a9eac9382"
  },
  {
   "cell_type": "markdown",
   "source": [
    "6. 创建一个与目标数组形状一致，值全部为1的数组"
   ],
   "metadata": {
    "collapsed": false
   },
   "id": "bf68ef228e7ef684"
  },
  {
   "cell_type": "code",
   "execution_count": 15,
   "outputs": [
    {
     "data": {
      "text/plain": "array([[1., 1., 1., 1.],\n       [1., 1., 1., 1.],\n       [1., 1., 1., 1.]])"
     },
     "execution_count": 15,
     "metadata": {},
     "output_type": "execute_result"
    }
   ],
   "source": [
    "y = np.ones_like(x)\n",
    "y"
   ],
   "metadata": {
    "collapsed": false,
    "ExecuteTime": {
     "end_time": "2024-11-01T06:42:17.620597300Z",
     "start_time": "2024-11-01T06:42:17.580360700Z"
    }
   },
   "id": "d44f3471f88d813b"
  },
  {
   "cell_type": "markdown",
   "source": [
    "7. 创建具有特定数据分布的数组\n",
    "\n",
    "除了规定的形状的一些常用数组，我们还可以方便的生成具有特定数据分布的数组，numpy依然为我们提供了易于使用的接口。\n",
    "\n",
    "- 创建一个线性序列数组，步长为2"
   ],
   "metadata": {
    "collapsed": false
   },
   "id": "2a4737ca3f559f94"
  },
  {
   "cell_type": "code",
   "execution_count": 17,
   "outputs": [
    {
     "data": {
      "text/plain": "array([ 1,  3,  5,  7,  9, 11, 13])"
     },
     "execution_count": 17,
     "metadata": {},
     "output_type": "execute_result"
    }
   ],
   "source": [
    "x = np.arange(1, 15, 2)\n",
    "x"
   ],
   "metadata": {
    "collapsed": false,
    "ExecuteTime": {
     "end_time": "2024-11-01T06:45:24.138437700Z",
     "start_time": "2024-11-01T06:45:24.096319900Z"
    }
   },
   "id": "c9c0389bf5bba0bb"
  },
  {
   "cell_type": "markdown",
   "source": [
    "- 创建一个均匀分布的数组"
   ],
   "metadata": {
    "collapsed": false
   },
   "id": "f89cf32ee0b82dcb"
  },
  {
   "cell_type": "code",
   "execution_count": 18,
   "outputs": [
    {
     "data": {
      "text/plain": "array([0.        , 0.33333333, 0.66666667, 1.        ])"
     },
     "execution_count": 18,
     "metadata": {},
     "output_type": "execute_result"
    }
   ],
   "source": [
    "x = np.linspace(0, 1, 4)\n",
    "x"
   ],
   "metadata": {
    "collapsed": false,
    "ExecuteTime": {
     "end_time": "2024-11-01T06:46:19.941945800Z",
     "start_time": "2024-11-01T06:46:19.859025500Z"
    }
   },
   "id": "79d03dd599d1c3d2"
  },
  {
   "cell_type": "markdown",
   "source": [
    "- 创建一个lg分布的数组，等比数列"
   ],
   "metadata": {
    "collapsed": false
   },
   "id": "349a6e45b179d089"
  },
  {
   "cell_type": "code",
   "execution_count": 19,
   "outputs": [
    {
     "data": {
      "text/plain": "array([1.e+00, 1.e+01, 1.e+02, 1.e+03, 1.e+04, 1.e+05, 1.e+06, 1.e+07,\n       1.e+08, 1.e+09])"
     },
     "execution_count": 19,
     "metadata": {},
     "output_type": "execute_result"
    }
   ],
   "source": [
    "x = np.logspace(0, 9, 10)\n",
    "x"
   ],
   "metadata": {
    "collapsed": false,
    "ExecuteTime": {
     "end_time": "2024-11-01T06:47:58.945814800Z",
     "start_time": "2024-11-01T06:47:58.914725100Z"
    }
   },
   "id": "1275315469adf541"
  },
  {
   "cell_type": "markdown",
   "source": [
    "- 创建一个在0~1之间随机均匀分布的数组"
   ],
   "metadata": {
    "collapsed": false
   },
   "id": "fe2d777271897509"
  },
  {
   "cell_type": "code",
   "execution_count": 20,
   "outputs": [
    {
     "data": {
      "text/plain": "array([[0.71857801, 0.48944732, 0.88292336],\n       [0.40261572, 0.95263665, 0.56675313],\n       [0.31273015, 0.19218281, 0.05108257]])"
     },
     "execution_count": 20,
     "metadata": {},
     "output_type": "execute_result"
    }
   ],
   "source": [
    "x = np.random.random((3, 3))\n",
    "x"
   ],
   "metadata": {
    "collapsed": false,
    "ExecuteTime": {
     "end_time": "2024-11-01T06:49:25.105596900Z",
     "start_time": "2024-11-01T06:49:25.071061100Z"
    }
   },
   "id": "798c02098066a15e"
  },
  {
   "cell_type": "markdown",
   "source": [
    "- 创建一个符合标准正态分布的随机数数组"
   ],
   "metadata": {
    "collapsed": false
   },
   "id": "5f0e1b9e8793bf80"
  },
  {
   "cell_type": "code",
   "execution_count": 21,
   "outputs": [
    {
     "data": {
      "text/plain": "array([[-2.5614564 ,  0.79586196,  0.42111676],\n       [ 0.09859233, -0.01271687, -0.3173927 ],\n       [ 2.67134469,  0.58334699, -0.53536362]])"
     },
     "execution_count": 21,
     "metadata": {},
     "output_type": "execute_result"
    }
   ],
   "source": [
    "x = np.random.normal(0, 1, (3, 3))\n",
    "x"
   ],
   "metadata": {
    "collapsed": false,
    "ExecuteTime": {
     "end_time": "2024-11-01T06:50:33.497827400Z",
     "start_time": "2024-11-01T06:50:33.459885700Z"
    }
   },
   "id": "8d058ed6d9574e1f"
  },
  {
   "cell_type": "markdown",
   "source": [
    "- 创建一个随机整数构成的数组"
   ],
   "metadata": {
    "collapsed": false
   },
   "id": "e6c38dfbd57330c8"
  },
  {
   "cell_type": "code",
   "execution_count": 22,
   "outputs": [
    {
     "data": {
      "text/plain": "array([[6, 7, 9],\n       [3, 1, 5],\n       [2, 7, 6]])"
     },
     "execution_count": 22,
     "metadata": {},
     "output_type": "execute_result"
    }
   ],
   "source": [
    "x = np.random.randint(0, 10, (3, 3))\n",
    "x"
   ],
   "metadata": {
    "collapsed": false,
    "ExecuteTime": {
     "end_time": "2024-11-01T06:51:31.272594500Z",
     "start_time": "2024-11-01T06:51:31.214768100Z"
    }
   },
   "id": "d353c3055d2b9156"
  },
  {
   "cell_type": "markdown",
   "source": [
    "#### 2.2 Numpy常规数组的采样与重排列\n",
    "\n",
    "在一些情境下，我们需要对数据进行随机采样或者随机的重排列来模拟或者获取随机性，numpy也为我们提供了一系列的方法来快捷地进行随机采样与重排列操作。\n",
    "\n",
    "##### 2.2.1 Numpy常规数组的重排列"
   ],
   "metadata": {
    "collapsed": false
   },
   "id": "e55b2b128e731341"
  },
  {
   "cell_type": "code",
   "execution_count": 23,
   "outputs": [
    {
     "data": {
      "text/plain": "array([1, 4, 5, 2, 6, 3])"
     },
     "execution_count": 23,
     "metadata": {},
     "output_type": "execute_result"
    }
   ],
   "source": [
    "x = np.array([1, 2, 3, 4, 5, 6])\n",
    "np.random.permutation(x)  # 产生一个新的列表"
   ],
   "metadata": {
    "collapsed": false,
    "ExecuteTime": {
     "end_time": "2024-11-01T06:56:12.772284500Z",
     "start_time": "2024-11-01T06:56:12.678243100Z"
    }
   },
   "id": "fec77550361f76bb"
  },
  {
   "cell_type": "markdown",
   "source": [
    "##### 2.2.2 Numpy常规数组的随机采样\n",
    "\n",
    "1. 按指定形状采样"
   ],
   "metadata": {
    "collapsed": false
   },
   "id": "35f81688f734183c"
  },
  {
   "cell_type": "code",
   "execution_count": 24,
   "outputs": [
    {
     "data": {
      "text/plain": "array([10, 11, 12, 13, 14, 15, 16, 17, 18, 19, 20, 21, 22, 23, 24])"
     },
     "execution_count": 24,
     "metadata": {},
     "output_type": "execute_result"
    }
   ],
   "source": [
    "x = np.arange(10, 25)\n",
    "x"
   ],
   "metadata": {
    "collapsed": false,
    "ExecuteTime": {
     "end_time": "2024-11-01T06:58:09.675968200Z",
     "start_time": "2024-11-01T06:58:09.622574600Z"
    }
   },
   "id": "d3fc54336ceeb64"
  },
  {
   "cell_type": "code",
   "execution_count": 25,
   "outputs": [
    {
     "data": {
      "text/plain": "array([[13, 18, 24, 13],\n       [17, 13, 13, 20],\n       [17, 16, 10, 22]])"
     },
     "execution_count": 25,
     "metadata": {},
     "output_type": "execute_result"
    }
   ],
   "source": [
    "np.random.choice(x, size=(3, 4))"
   ],
   "metadata": {
    "collapsed": false,
    "ExecuteTime": {
     "end_time": "2024-11-01T06:58:43.020452100Z",
     "start_time": "2024-11-01T06:58:42.922620500Z"
    }
   },
   "id": "336809e49cc1a952"
  },
  {
   "cell_type": "markdown",
   "source": [
    "2. 按照指定概率采样"
   ],
   "metadata": {
    "collapsed": false
   },
   "id": "f507aca1125ab7fd"
  },
  {
   "cell_type": "code",
   "execution_count": 26,
   "outputs": [
    {
     "data": {
      "text/plain": "array([[13, 23, 22, 20],\n       [17, 19, 11, 24],\n       [13, 24, 22, 12]])"
     },
     "execution_count": 26,
     "metadata": {},
     "output_type": "execute_result"
    }
   ],
   "source": [
    "np.random.choice(x, size=(3, 4), p=(x / np.sum(x)))"
   ],
   "metadata": {
    "collapsed": false,
    "ExecuteTime": {
     "end_time": "2024-11-01T06:59:47.626177500Z",
     "start_time": "2024-11-01T06:59:47.564322600Z"
    }
   },
   "id": "fc13b9996f3586e7"
  },
  {
   "cell_type": "markdown",
   "source": [
    "#### 2.3 Numpy数组的性质与Numpy数组元素的访问\n",
    "\n",
    "##### 2.3.1 Numpy数组的元属性"
   ],
   "metadata": {
    "collapsed": false
   },
   "id": "32ae8eb3ed0d218a"
  },
  {
   "cell_type": "code",
   "execution_count": 29,
   "outputs": [
    {
     "data": {
      "text/plain": "array([[ 1,  4, 14,  7],\n       [ 2,  7,  7,  1],\n       [ 5, 14,  5, 10]])"
     },
     "execution_count": 29,
     "metadata": {},
     "output_type": "execute_result"
    }
   ],
   "source": [
    "x = np.random.randint(1, 15, (3, 4))\n",
    "x"
   ],
   "metadata": {
    "collapsed": false,
    "ExecuteTime": {
     "end_time": "2024-11-01T07:12:52.349423400Z",
     "start_time": "2024-11-01T07:12:52.273068100Z"
    }
   },
   "id": "1beedb2ca954eeea"
  },
  {
   "cell_type": "markdown",
   "source": [
    "1. 查看数组的形状"
   ],
   "metadata": {
    "collapsed": false
   },
   "id": "a8647d9c5982189d"
  },
  {
   "cell_type": "code",
   "execution_count": 30,
   "outputs": [
    {
     "data": {
      "text/plain": "(3, 4)"
     },
     "execution_count": 30,
     "metadata": {},
     "output_type": "execute_result"
    }
   ],
   "source": [
    "x.shape"
   ],
   "metadata": {
    "collapsed": false,
    "ExecuteTime": {
     "end_time": "2024-11-01T07:12:55.285054100Z",
     "start_time": "2024-11-01T07:12:55.266182600Z"
    }
   },
   "id": "6036f5eb07ee94d1"
  },
  {
   "cell_type": "markdown",
   "source": [
    "2. 查看数组的维度"
   ],
   "metadata": {
    "collapsed": false
   },
   "id": "e6dcfcd2caeda78"
  },
  {
   "cell_type": "code",
   "execution_count": 31,
   "outputs": [
    {
     "data": {
      "text/plain": "2"
     },
     "execution_count": 31,
     "metadata": {},
     "output_type": "execute_result"
    }
   ],
   "source": [
    "x.ndim"
   ],
   "metadata": {
    "collapsed": false,
    "ExecuteTime": {
     "end_time": "2024-11-01T07:13:32.482103200Z",
     "start_time": "2024-11-01T07:13:32.408100500Z"
    }
   },
   "id": "bd7df33e61d0e761"
  },
  {
   "cell_type": "markdown",
   "source": [
    "3. 查看数组的大小（元素个数）"
   ],
   "metadata": {
    "collapsed": false
   },
   "id": "a9716322116aba32"
  },
  {
   "cell_type": "code",
   "execution_count": 32,
   "outputs": [
    {
     "data": {
      "text/plain": "12"
     },
     "execution_count": 32,
     "metadata": {},
     "output_type": "execute_result"
    }
   ],
   "source": [
    "x.size"
   ],
   "metadata": {
    "collapsed": false,
    "ExecuteTime": {
     "end_time": "2024-11-01T07:14:20.442257800Z",
     "start_time": "2024-11-01T07:14:20.376037700Z"
    }
   },
   "id": "2352fa8476c07133"
  },
  {
   "cell_type": "markdown",
   "source": [
    "4. 查看数组的类型"
   ],
   "metadata": {
    "collapsed": false
   },
   "id": "adc72f5b70d216fa"
  },
  {
   "cell_type": "code",
   "execution_count": 33,
   "outputs": [
    {
     "data": {
      "text/plain": "dtype('int32')"
     },
     "execution_count": 33,
     "metadata": {},
     "output_type": "execute_result"
    }
   ],
   "source": [
    "x.dtype"
   ],
   "metadata": {
    "collapsed": false,
    "ExecuteTime": {
     "end_time": "2024-11-01T07:14:53.977913100Z",
     "start_time": "2024-11-01T07:14:53.840942400Z"
    }
   },
   "id": "24d55bada5b6462a"
  },
  {
   "cell_type": "markdown",
   "source": [
    "##### 2.3.2 数组的索引"
   ],
   "metadata": {
    "collapsed": false
   },
   "id": "ca129744d105eb67"
  },
  {
   "cell_type": "markdown",
   "source": [
    "1. 一维数组的索引与列表的索引方式一致"
   ],
   "metadata": {
    "collapsed": false
   },
   "id": "741fcf6c37e02186"
  },
  {
   "cell_type": "code",
   "execution_count": 37,
   "outputs": [
    {
     "data": {
      "text/plain": "array([ 1.        ,  2.28571429,  3.57142857,  4.85714286,  6.14285714,\n        7.42857143,  8.71428571, 10.        ])"
     },
     "execution_count": 37,
     "metadata": {},
     "output_type": "execute_result"
    }
   ],
   "source": [
    "x = np.linspace(1, 10, 8)\n",
    "x"
   ],
   "metadata": {
    "collapsed": false,
    "ExecuteTime": {
     "end_time": "2024-11-01T07:17:46.171754400Z",
     "start_time": "2024-11-01T07:17:46.126701400Z"
    }
   },
   "id": "edf0cfa0bff49581"
  },
  {
   "cell_type": "code",
   "execution_count": 38,
   "outputs": [
    {
     "data": {
      "text/plain": "1.0"
     },
     "execution_count": 38,
     "metadata": {},
     "output_type": "execute_result"
    }
   ],
   "source": [
    "x[0]"
   ],
   "metadata": {
    "collapsed": false,
    "ExecuteTime": {
     "end_time": "2024-11-01T07:17:48.076211300Z",
     "start_time": "2024-11-01T07:17:48.053367500Z"
    }
   },
   "id": "fae209fe886b32df"
  },
  {
   "cell_type": "code",
   "execution_count": 39,
   "outputs": [
    {
     "data": {
      "text/plain": "10.0"
     },
     "execution_count": 39,
     "metadata": {},
     "output_type": "execute_result"
    }
   ],
   "source": [
    "x[-1]"
   ],
   "metadata": {
    "collapsed": false,
    "ExecuteTime": {
     "end_time": "2024-11-01T07:17:48.698782800Z",
     "start_time": "2024-11-01T07:17:48.679806700Z"
    }
   },
   "id": "25bd5dfef7b8a634"
  },
  {
   "cell_type": "markdown",
   "source": [
    "2. 多维数组的索引——以二维数组为例"
   ],
   "metadata": {
    "collapsed": false
   },
   "id": "422ad18080f74549"
  },
  {
   "cell_type": "code",
   "execution_count": 44,
   "outputs": [
    {
     "data": {
      "text/plain": "array([[9, 9, 1, 8],\n       [9, 2, 9, 4],\n       [3, 7, 9, 9]])"
     },
     "execution_count": 44,
     "metadata": {},
     "output_type": "execute_result"
    }
   ],
   "source": [
    "x = np.random.randint(1, 10, (3, 4))\n",
    "x"
   ],
   "metadata": {
    "collapsed": false,
    "ExecuteTime": {
     "end_time": "2024-11-01T07:19:11.070518Z",
     "start_time": "2024-11-01T07:19:11.007991800Z"
    }
   },
   "id": "3efb93e1f48b186b"
  },
  {
   "cell_type": "code",
   "execution_count": 45,
   "outputs": [
    {
     "data": {
      "text/plain": "9"
     },
     "execution_count": 45,
     "metadata": {},
     "output_type": "execute_result"
    }
   ],
   "source": [
    "x[0, 0]"
   ],
   "metadata": {
    "collapsed": false,
    "ExecuteTime": {
     "end_time": "2024-11-01T07:19:24.445472900Z",
     "start_time": "2024-11-01T07:19:24.384810200Z"
    }
   },
   "id": "78db7878b202f553"
  },
  {
   "cell_type": "code",
   "execution_count": 46,
   "outputs": [
    {
     "data": {
      "text/plain": "9"
     },
     "execution_count": 46,
     "metadata": {},
     "output_type": "execute_result"
    }
   ],
   "source": [
    "x[1][2]"
   ],
   "metadata": {
    "collapsed": false,
    "ExecuteTime": {
     "end_time": "2024-11-01T07:19:32.729272800Z",
     "start_time": "2024-11-01T07:19:32.683232100Z"
    }
   },
   "id": "47c56c0b01da1388"
  },
  {
   "cell_type": "code",
   "execution_count": 47,
   "outputs": [
    {
     "data": {
      "text/plain": "array([[9, 9, 1, 8],\n       [9, 2, 9, 4],\n       [5, 7, 9, 9]])"
     },
     "execution_count": 47,
     "metadata": {},
     "output_type": "execute_result"
    }
   ],
   "source": [
    "x[2][0] = 5.678\n",
    "x"
   ],
   "metadata": {
    "collapsed": false,
    "ExecuteTime": {
     "end_time": "2024-11-01T07:20:08.531656200Z",
     "start_time": "2024-11-01T07:20:08.477178Z"
    }
   },
   "id": "492ed3cf206f357b"
  },
  {
   "cell_type": "markdown",
   "source": [
    "注意numpy中数组的数据类型是固定的，向一个整数类型的数组中插入一个浮点数类型，浮点数类型会向下取整"
   ],
   "metadata": {
    "collapsed": false
   },
   "id": "2c8868c338f547d8"
  },
  {
   "cell_type": "markdown",
   "source": [
    "##### 2.3.3 数组的切片"
   ],
   "metadata": {
    "collapsed": false
   },
   "id": "89cdc6c06b9141db"
  },
  {
   "cell_type": "markdown",
   "source": [
    "1. 一维数组的切片——与列表的操作一致"
   ],
   "metadata": {
    "collapsed": false
   },
   "id": "199aabcfb9bbd577"
  },
  {
   "cell_type": "code",
   "execution_count": 48,
   "outputs": [
    {
     "data": {
      "text/plain": "array([0, 1, 2, 3, 4, 5, 6, 7, 8, 9])"
     },
     "execution_count": 48,
     "metadata": {},
     "output_type": "execute_result"
    }
   ],
   "source": [
    "x = np.arange(10)\n",
    "x"
   ],
   "metadata": {
    "collapsed": false,
    "ExecuteTime": {
     "end_time": "2024-11-01T07:24:25.931389800Z",
     "start_time": "2024-11-01T07:24:25.850127600Z"
    }
   },
   "id": "726ffc871dd2e85f"
  },
  {
   "cell_type": "code",
   "execution_count": 49,
   "outputs": [
    {
     "data": {
      "text/plain": "array([0, 1, 2])"
     },
     "execution_count": 49,
     "metadata": {},
     "output_type": "execute_result"
    }
   ],
   "source": [
    "x[:3]"
   ],
   "metadata": {
    "collapsed": false,
    "ExecuteTime": {
     "end_time": "2024-11-01T07:24:44.152375900Z",
     "start_time": "2024-11-01T07:24:44.047074800Z"
    }
   },
   "id": "29280498701d3f35"
  },
  {
   "cell_type": "code",
   "execution_count": 50,
   "outputs": [
    {
     "data": {
      "text/plain": "array([3, 4, 5, 6, 7, 8, 9])"
     },
     "execution_count": 50,
     "metadata": {},
     "output_type": "execute_result"
    }
   ],
   "source": [
    "x[3:]"
   ],
   "metadata": {
    "collapsed": false,
    "ExecuteTime": {
     "end_time": "2024-11-01T07:24:49.716923900Z",
     "start_time": "2024-11-01T07:24:49.633259400Z"
    }
   },
   "id": "710974fd2e1be48d"
  },
  {
   "cell_type": "code",
   "execution_count": 51,
   "outputs": [
    {
     "data": {
      "text/plain": "array([9, 8, 7, 6, 5, 4, 3, 2, 1, 0])"
     },
     "execution_count": 51,
     "metadata": {},
     "output_type": "execute_result"
    }
   ],
   "source": [
    "x[::-1]"
   ],
   "metadata": {
    "collapsed": false,
    "ExecuteTime": {
     "end_time": "2024-11-01T07:25:05.305610700Z",
     "start_time": "2024-11-01T07:25:05.240039300Z"
    }
   },
   "id": "b45fddbf29103fa0"
  },
  {
   "cell_type": "markdown",
   "source": [
    "2. 多维数组的索引——以二维数组为例"
   ],
   "metadata": {
    "collapsed": false
   },
   "id": "1783841be5f3eea3"
  },
  {
   "cell_type": "code",
   "execution_count": 52,
   "outputs": [
    {
     "data": {
      "text/plain": "array([[ 1,  1,  7,  3],\n       [11, 12, 14,  4],\n       [ 9,  2,  3,  6]])"
     },
     "execution_count": 52,
     "metadata": {},
     "output_type": "execute_result"
    }
   ],
   "source": [
    "x = np.random.randint(1, 15, (3, 4))\n",
    "x"
   ],
   "metadata": {
    "collapsed": false,
    "ExecuteTime": {
     "end_time": "2024-11-01T07:26:31.202333800Z",
     "start_time": "2024-11-01T07:26:31.120835900Z"
    }
   },
   "id": "670f17b26eefe697"
  },
  {
   "cell_type": "code",
   "execution_count": 53,
   "outputs": [
    {
     "data": {
      "text/plain": "array([[ 1,  1,  7],\n       [11, 12, 14]])"
     },
     "execution_count": 53,
     "metadata": {},
     "output_type": "execute_result"
    }
   ],
   "source": [
    "x[:2, :3]"
   ],
   "metadata": {
    "collapsed": false,
    "ExecuteTime": {
     "end_time": "2024-11-01T07:29:49.987685500Z",
     "start_time": "2024-11-01T07:29:49.893211100Z"
    }
   },
   "id": "a5f23fbb07b7b391"
  },
  {
   "cell_type": "code",
   "execution_count": 54,
   "outputs": [
    {
     "data": {
      "text/plain": "array([[ 1,  7],\n       [11, 14]])"
     },
     "execution_count": 54,
     "metadata": {},
     "output_type": "execute_result"
    }
   ],
   "source": [
    "x[:2, 0:3:2]"
   ],
   "metadata": {
    "collapsed": false,
    "ExecuteTime": {
     "end_time": "2024-11-01T07:30:19.248909600Z",
     "start_time": "2024-11-01T07:30:19.121514500Z"
    }
   },
   "id": "3d5f61a70d8fc359"
  },
  {
   "cell_type": "code",
   "execution_count": 55,
   "outputs": [
    {
     "data": {
      "text/plain": "array([[ 6,  3,  2,  9],\n       [ 4, 14, 12, 11],\n       [ 3,  7,  1,  1]])"
     },
     "execution_count": 55,
     "metadata": {},
     "output_type": "execute_result"
    }
   ],
   "source": [
    "x[::-1, ::-1]"
   ],
   "metadata": {
    "collapsed": false,
    "ExecuteTime": {
     "end_time": "2024-11-01T07:30:34.493375Z",
     "start_time": "2024-11-01T07:30:34.395006400Z"
    }
   },
   "id": "65fdfa2875ef828c"
  },
  {
   "cell_type": "markdown",
   "source": [
    "3. 获取数组的行和列"
   ],
   "metadata": {
    "collapsed": false
   },
   "id": "f122a7999435af18"
  },
  {
   "cell_type": "code",
   "execution_count": 56,
   "outputs": [
    {
     "data": {
      "text/plain": "array([11, 12, 14,  4])"
     },
     "execution_count": 56,
     "metadata": {},
     "output_type": "execute_result"
    }
   ],
   "source": [
    "x[1, :]"
   ],
   "metadata": {
    "collapsed": false,
    "ExecuteTime": {
     "end_time": "2024-11-01T07:31:33.885863Z",
     "start_time": "2024-11-01T07:31:33.737696300Z"
    }
   },
   "id": "e2701f949ccd754f"
  },
  {
   "cell_type": "code",
   "execution_count": 57,
   "outputs": [
    {
     "data": {
      "text/plain": "array([11, 12, 14,  4])"
     },
     "execution_count": 57,
     "metadata": {},
     "output_type": "execute_result"
    }
   ],
   "source": [
    "x[1]"
   ],
   "metadata": {
    "collapsed": false,
    "ExecuteTime": {
     "end_time": "2024-11-01T07:32:00.205058500Z",
     "start_time": "2024-11-01T07:32:00.036712500Z"
    }
   },
   "id": "a7448dfde9f4e209"
  },
  {
   "cell_type": "code",
   "execution_count": 58,
   "outputs": [
    {
     "data": {
      "text/plain": "array([ 7, 14,  3])"
     },
     "execution_count": 58,
     "metadata": {},
     "output_type": "execute_result"
    }
   ],
   "source": [
    "x[:, 2]"
   ],
   "metadata": {
    "collapsed": false,
    "ExecuteTime": {
     "end_time": "2024-11-01T07:32:21.467455300Z",
     "start_time": "2024-11-01T07:32:21.419066700Z"
    }
   },
   "id": "18b226cb56881a2a"
  },
  {
   "cell_type": "markdown",
   "source": [
    "需要注意的一点是，当我们在对数组进行切片操作时，numpy返回的是数组的一个视图而非副本，当我们在对视图进行修改时，相应的原数组也会发生改变"
   ],
   "metadata": {
    "collapsed": false
   },
   "id": "84e3ca41f44f83cb"
  },
  {
   "cell_type": "code",
   "execution_count": 59,
   "outputs": [
    {
     "data": {
      "text/plain": "array([[ 9,  5,  4,  2, 12, 14,  4,  2],\n       [14, 13,  7, 10,  7, 11, 13,  9],\n       [ 7,  3,  6,  8, 12,  1,  8, 10],\n       [ 2,  6,  2,  2,  1,  5,  9, 10],\n       [ 4,  2,  7,  3,  4,  1, 12,  4],\n       [ 8,  6,  9,  6, 14, 12, 11,  8]])"
     },
     "execution_count": 59,
     "metadata": {},
     "output_type": "execute_result"
    }
   ],
   "source": [
    "x = np.random.randint(1, 15, (6, 8))\n",
    "x"
   ],
   "metadata": {
    "collapsed": false,
    "ExecuteTime": {
     "end_time": "2024-11-01T07:47:43.928129800Z",
     "start_time": "2024-11-01T07:47:43.856519900Z"
    }
   },
   "id": "ec2d2ebc409ad2e2"
  },
  {
   "cell_type": "code",
   "execution_count": 60,
   "outputs": [
    {
     "data": {
      "text/plain": "array([[ 9,  5],\n       [14, 13]])"
     },
     "execution_count": 60,
     "metadata": {},
     "output_type": "execute_result"
    }
   ],
   "source": [
    "x1 = x[:2, :2]\n",
    "x1"
   ],
   "metadata": {
    "collapsed": false,
    "ExecuteTime": {
     "end_time": "2024-11-01T07:48:08.820273800Z",
     "start_time": "2024-11-01T07:48:08.745653600Z"
    }
   },
   "id": "f546373bd211e839"
  },
  {
   "cell_type": "code",
   "execution_count": 62,
   "outputs": [
    {
     "data": {
      "text/plain": "array([[ 0,  5],\n       [14, 13]])"
     },
     "execution_count": 62,
     "metadata": {},
     "output_type": "execute_result"
    }
   ],
   "source": [
    "x1[0][0] = 0\n",
    "x1"
   ],
   "metadata": {
    "collapsed": false,
    "ExecuteTime": {
     "end_time": "2024-11-01T07:48:27.538562600Z",
     "start_time": "2024-11-01T07:48:27.486936700Z"
    }
   },
   "id": "6f631a07ee829233"
  },
  {
   "cell_type": "code",
   "execution_count": 63,
   "outputs": [
    {
     "data": {
      "text/plain": "array([[ 0,  5,  4,  2, 12, 14,  4,  2],\n       [14, 13,  7, 10,  7, 11, 13,  9],\n       [ 7,  3,  6,  8, 12,  1,  8, 10],\n       [ 2,  6,  2,  2,  1,  5,  9, 10],\n       [ 4,  2,  7,  3,  4,  1, 12,  4],\n       [ 8,  6,  9,  6, 14, 12, 11,  8]])"
     },
     "execution_count": 63,
     "metadata": {},
     "output_type": "execute_result"
    }
   ],
   "source": [
    "x"
   ],
   "metadata": {
    "collapsed": false,
    "ExecuteTime": {
     "end_time": "2024-11-01T07:48:29.510821900Z",
     "start_time": "2024-11-01T07:48:29.443096700Z"
    }
   },
   "id": "e04ecd4eb85679d8"
  },
  {
   "cell_type": "markdown",
   "source": [
    "因此为了安全地进行操作，我们建议在操作的时候使用`copy`创建一个数组的安全副本。"
   ],
   "metadata": {
    "collapsed": false
   },
   "id": "51fb8f1a298a653f"
  },
  {
   "cell_type": "code",
   "execution_count": 64,
   "outputs": [
    {
     "data": {
      "text/plain": "array([[ 0,  5],\n       [14, 13]])"
     },
     "execution_count": 64,
     "metadata": {},
     "output_type": "execute_result"
    }
   ],
   "source": [
    "x1 = x[:2, :2].copy()\n",
    "x1"
   ],
   "metadata": {
    "collapsed": false,
    "ExecuteTime": {
     "end_time": "2024-11-01T07:50:12.156966100Z",
     "start_time": "2024-11-01T07:50:12.015369300Z"
    }
   },
   "id": "e8dbc38fb31f1a73"
  },
  {
   "cell_type": "code",
   "execution_count": 65,
   "outputs": [
    {
     "data": {
      "text/plain": "array([[ 0,  5],\n       [14,  0]])"
     },
     "execution_count": 65,
     "metadata": {},
     "output_type": "execute_result"
    }
   ],
   "source": [
    "x1[1][1] = 0\n",
    "x1"
   ],
   "metadata": {
    "collapsed": false,
    "ExecuteTime": {
     "end_time": "2024-11-01T07:50:25.235665700Z",
     "start_time": "2024-11-01T07:50:25.164798200Z"
    }
   },
   "id": "f9d3879e597b8545"
  },
  {
   "cell_type": "code",
   "execution_count": 66,
   "outputs": [
    {
     "data": {
      "text/plain": "array([[ 0,  5,  4,  2, 12, 14,  4,  2],\n       [14, 13,  7, 10,  7, 11, 13,  9],\n       [ 7,  3,  6,  8, 12,  1,  8, 10],\n       [ 2,  6,  2,  2,  1,  5,  9, 10],\n       [ 4,  2,  7,  3,  4,  1, 12,  4],\n       [ 8,  6,  9,  6, 14, 12, 11,  8]])"
     },
     "execution_count": 66,
     "metadata": {},
     "output_type": "execute_result"
    }
   ],
   "source": [
    "x"
   ],
   "metadata": {
    "collapsed": false,
    "ExecuteTime": {
     "end_time": "2024-11-01T07:50:30.508631100Z",
     "start_time": "2024-11-01T07:50:30.450033900Z"
    }
   },
   "id": "d3e8740b9da21d6a"
  },
  {
   "cell_type": "markdown",
   "source": [
    "#### 2.4 数组的形状的操作\n",
    "\n",
    "当我们需要改变数组的形状的时候，我们可以使用`reshape`与`ravel`等方法。\n",
    "\n",
    "##### 2.4.1 使用reshape进行操作"
   ],
   "metadata": {
    "collapsed": false
   },
   "id": "63296d3a5c6a38c5"
  },
  {
   "cell_type": "code",
   "execution_count": 67,
   "outputs": [
    {
     "data": {
      "text/plain": "array([[ 4, 10,  7,  3],\n       [ 3, 14,  4, 12],\n       [ 9, 10,  5, 11]])"
     },
     "execution_count": 67,
     "metadata": {},
     "output_type": "execute_result"
    }
   ],
   "source": [
    "x = np.random.randint(1, 15, (3, 4))\n",
    "x"
   ],
   "metadata": {
    "collapsed": false,
    "ExecuteTime": {
     "end_time": "2024-11-01T07:53:19.100073800Z",
     "start_time": "2024-11-01T07:53:18.988758600Z"
    }
   },
   "id": "556950c10954d886"
  },
  {
   "cell_type": "code",
   "execution_count": 69,
   "outputs": [
    {
     "data": {
      "text/plain": "array([[ 4, 10,  7,  3,  3, 14],\n       [ 4, 12,  9, 10,  5, 11]])"
     },
     "execution_count": 69,
     "metadata": {},
     "output_type": "execute_result"
    }
   ],
   "source": [
    "x = x.reshape(2, 6)\n",
    "x"
   ],
   "metadata": {
    "collapsed": false,
    "ExecuteTime": {
     "end_time": "2024-11-01T07:53:38.952556700Z",
     "start_time": "2024-11-01T07:53:38.923639400Z"
    }
   },
   "id": "18290f3c330bab45"
  },
  {
   "cell_type": "markdown",
   "source": [
    "注意改变数组的形状时必须保证数组中的元素的个数一致。`reshape`操作返回的是一个视图而不是副本"
   ],
   "metadata": {
    "collapsed": false
   },
   "id": "af0876d2b8436787"
  },
  {
   "cell_type": "markdown",
   "source": [
    "##### 2.4.2 数组的展平\n",
    "\n",
    "在numpy中我们可以使用`flatten`与`ravel`方法来将多维数组展开成一维数组。需要注意的是`flatten`返回的是副本，而`ravel`返回的是一个视图"
   ],
   "metadata": {
    "collapsed": false
   },
   "id": "7c8d446882389258"
  },
  {
   "cell_type": "code",
   "execution_count": 70,
   "outputs": [
    {
     "data": {
      "text/plain": "array([[14,  8,  7,  4,  7, 12],\n       [ 5, 10,  8,  1, 14, 14],\n       [ 8,  2,  6, 10,  1, 11],\n       [ 5,  6, 14,  4,  5, 14],\n       [13, 14, 13,  7,  1,  9]])"
     },
     "execution_count": 70,
     "metadata": {},
     "output_type": "execute_result"
    }
   ],
   "source": [
    "x = np.random.randint(1, 15, (5, 6))\n",
    "x"
   ],
   "metadata": {
    "collapsed": false,
    "ExecuteTime": {
     "end_time": "2024-11-01T07:57:51.975092Z",
     "start_time": "2024-11-01T07:57:51.906534200Z"
    }
   },
   "id": "fbd6e59b1478c0c0"
  },
  {
   "cell_type": "code",
   "execution_count": 71,
   "outputs": [
    {
     "data": {
      "text/plain": "array([14,  8,  7,  4,  7, 12,  5, 10,  8,  1, 14, 14,  8,  2,  6, 10,  1,\n       11,  5,  6, 14,  4,  5, 14, 13, 14, 13,  7,  1,  9])"
     },
     "execution_count": 71,
     "metadata": {},
     "output_type": "execute_result"
    }
   ],
   "source": [
    "x1 = x.flatten()\n",
    "x1"
   ],
   "metadata": {
    "collapsed": false,
    "ExecuteTime": {
     "end_time": "2024-11-01T07:58:03.010147Z",
     "start_time": "2024-11-01T07:58:02.928696700Z"
    }
   },
   "id": "73d6a244236e76d2"
  },
  {
   "cell_type": "code",
   "execution_count": 72,
   "outputs": [
    {
     "data": {
      "text/plain": "array([14,  8,  7,  4,  7, 12,  5, 10,  8,  1, 14, 14,  8,  2,  6, 10,  1,\n       11,  5,  6, 14,  4,  5, 14, 13, 14, 13,  7,  1,  9])"
     },
     "execution_count": 72,
     "metadata": {},
     "output_type": "execute_result"
    }
   ],
   "source": [
    "x2 = x.ravel()\n",
    "x2"
   ],
   "metadata": {
    "collapsed": false,
    "ExecuteTime": {
     "end_time": "2024-11-01T07:58:15.807431200Z",
     "start_time": "2024-11-01T07:58:15.677160600Z"
    }
   },
   "id": "567ba2723e0ed6a3"
  },
  {
   "cell_type": "code",
   "execution_count": 74,
   "outputs": [],
   "source": [
    "x[0] = 1"
   ],
   "metadata": {
    "collapsed": false,
    "ExecuteTime": {
     "end_time": "2024-11-01T07:58:44.790252700Z",
     "start_time": "2024-11-01T07:58:44.713725900Z"
    }
   },
   "id": "286b4059e319a061"
  },
  {
   "cell_type": "code",
   "execution_count": 75,
   "outputs": [
    {
     "data": {
      "text/plain": "array([[ 1,  1,  1,  1,  1,  1],\n       [ 5, 10,  8,  1, 14, 14],\n       [ 8,  2,  6, 10,  1, 11],\n       [ 5,  6, 14,  4,  5, 14],\n       [13, 14, 13,  7,  1,  9]])"
     },
     "execution_count": 75,
     "metadata": {},
     "output_type": "execute_result"
    }
   ],
   "source": [
    "x"
   ],
   "metadata": {
    "collapsed": false,
    "ExecuteTime": {
     "end_time": "2024-11-01T07:58:47.555284500Z",
     "start_time": "2024-11-01T07:58:47.482137500Z"
    }
   },
   "id": "5a214f7cf3b82764"
  },
  {
   "cell_type": "markdown",
   "source": [
    "#### 2.4 数组的拼接操作\n",
    "\n",
    "在很多情况下我们需要对数组进行拼接，比如需要更新数组数据等。Numpy中提供了两种操作方式——水平拼接与垂直拼接， 需要注意的是，数组的拼接操作返回的都是副本而非视图。"
   ],
   "metadata": {
    "collapsed": false
   },
   "id": "bf272cf9c99ce6eb"
  },
  {
   "cell_type": "code",
   "execution_count": 77,
   "outputs": [
    {
     "data": {
      "text/plain": "(array([[6, 9, 5, 3],\n        [5, 2, 7, 1],\n        [4, 5, 6, 4]]),\n array([[13,  1,  7, 14],\n        [ 8,  7,  3,  1],\n        [ 2,  5,  3, 14]]))"
     },
     "execution_count": 77,
     "metadata": {},
     "output_type": "execute_result"
    }
   ],
   "source": [
    "x1 = np.random.randint(1, 12, (3, 4))\n",
    "x2 = np.random.randint(1, 15, (3, 4))\n",
    "x1, x2"
   ],
   "metadata": {
    "collapsed": false,
    "ExecuteTime": {
     "end_time": "2024-11-01T08:06:19.169930200Z",
     "start_time": "2024-11-01T08:06:19.100405700Z"
    }
   },
   "id": "8cdda26c9ab40ced"
  },
  {
   "cell_type": "markdown",
   "source": [
    "##### 2.4.1 水平拼接"
   ],
   "metadata": {
    "collapsed": false
   },
   "id": "26add18022b93210"
  },
  {
   "cell_type": "code",
   "execution_count": 78,
   "outputs": [
    {
     "data": {
      "text/plain": "array([[ 6,  9,  5,  3, 13,  1,  7, 14],\n       [ 5,  2,  7,  1,  8,  7,  3,  1],\n       [ 4,  5,  6,  4,  2,  5,  3, 14]])"
     },
     "execution_count": 78,
     "metadata": {},
     "output_type": "execute_result"
    }
   ],
   "source": [
    "x = np.hstack([x1, x2])\n",
    "x"
   ],
   "metadata": {
    "collapsed": false,
    "ExecuteTime": {
     "end_time": "2024-11-01T08:06:55.156707200Z",
     "start_time": "2024-11-01T08:06:55.084110Z"
    }
   },
   "id": "280d400dec9e2203"
  },
  {
   "cell_type": "markdown",
   "source": [
    "##### 2.4.2 垂直拼接"
   ],
   "metadata": {
    "collapsed": false
   },
   "id": "ab90d06965ac4ccb"
  },
  {
   "cell_type": "code",
   "execution_count": 79,
   "outputs": [
    {
     "data": {
      "text/plain": "array([[ 6,  9,  5,  3],\n       [ 5,  2,  7,  1],\n       [ 4,  5,  6,  4],\n       [13,  1,  7, 14],\n       [ 8,  7,  3,  1],\n       [ 2,  5,  3, 14]])"
     },
     "execution_count": 79,
     "metadata": {},
     "output_type": "execute_result"
    }
   ],
   "source": [
    "x = np.vstack([x1, x2])\n",
    "x"
   ],
   "metadata": {
    "collapsed": false,
    "ExecuteTime": {
     "end_time": "2024-11-01T08:07:37.999370600Z",
     "start_time": "2024-11-01T08:07:37.859118500Z"
    }
   },
   "id": "363fdf0205997e2e"
  },
  {
   "cell_type": "markdown",
   "source": [
    "#### 2.5 数组的分割\n",
    "\n",
    "Numpy也为我们提供了方便的数组分割操作的接口。"
   ],
   "metadata": {
    "collapsed": false
   },
   "id": "8ea4251e8676ae69"
  },
  {
   "cell_type": "markdown",
   "source": [
    "##### 2.5.1 split方法"
   ],
   "metadata": {
    "collapsed": false
   },
   "id": "f75b6bd81149b8c9"
  },
  {
   "cell_type": "code",
   "execution_count": 80,
   "outputs": [
    {
     "data": {
      "text/plain": "array([ 7, 11,  9, 13,  7,  8,  8,  8,  9, 14])"
     },
     "execution_count": 80,
     "metadata": {},
     "output_type": "execute_result"
    }
   ],
   "source": [
    "x = np.random.randint(1, 15, 10)\n",
    "x"
   ],
   "metadata": {
    "collapsed": false,
    "ExecuteTime": {
     "end_time": "2024-11-01T08:09:51.790108700Z",
     "start_time": "2024-11-01T08:09:51.643058600Z"
    }
   },
   "id": "45439f20df2095cb"
  },
  {
   "cell_type": "code",
   "execution_count": 81,
   "outputs": [
    {
     "data": {
      "text/plain": "(array([ 7, 11]), array([ 9, 13,  7,  8]), array([ 8,  8,  9, 14]))"
     },
     "execution_count": 81,
     "metadata": {},
     "output_type": "execute_result"
    }
   ],
   "source": [
    "x1, x2, x3 = np.split(x, [2, 6])\n",
    "x1, x2, x3"
   ],
   "metadata": {
    "collapsed": false,
    "ExecuteTime": {
     "end_time": "2024-11-01T08:10:32.578017500Z",
     "start_time": "2024-11-01T08:10:32.401822600Z"
    }
   },
   "id": "6500f97999c5c9fc"
  },
  {
   "cell_type": "markdown",
   "source": [
    "##### 2.5.2 水平分割的hsplit方法"
   ],
   "metadata": {
    "collapsed": false
   },
   "id": "37ba2e90e028ccea"
  },
  {
   "cell_type": "code",
   "execution_count": 84,
   "outputs": [
    {
     "data": {
      "text/plain": "array([[ 0,  1,  2,  3,  4],\n       [ 5,  6,  7,  8,  9],\n       [10, 11, 12, 13, 14],\n       [15, 16, 17, 18, 19],\n       [20, 21, 22, 23, 24]])"
     },
     "execution_count": 84,
     "metadata": {},
     "output_type": "execute_result"
    }
   ],
   "source": [
    "x = np.arange(0, 25).reshape((5, 5))\n",
    "x"
   ],
   "metadata": {
    "collapsed": false,
    "ExecuteTime": {
     "end_time": "2024-11-01T08:13:18.750402Z",
     "start_time": "2024-11-01T08:13:18.659439600Z"
    }
   },
   "id": "3a69e63890dbfe0d"
  },
  {
   "cell_type": "code",
   "execution_count": 85,
   "outputs": [
    {
     "data": {
      "text/plain": "(array([[ 0],\n        [ 5],\n        [10],\n        [15],\n        [20]]),\n array([[ 1],\n        [ 6],\n        [11],\n        [16],\n        [21]]),\n array([[ 2,  3,  4],\n        [ 7,  8,  9],\n        [12, 13, 14],\n        [17, 18, 19],\n        [22, 23, 24]]))"
     },
     "execution_count": 85,
     "metadata": {},
     "output_type": "execute_result"
    }
   ],
   "source": [
    "left, middle, right = np.hsplit(x, [1, 2])\n",
    "left, middle, right"
   ],
   "metadata": {
    "collapsed": false,
    "ExecuteTime": {
     "end_time": "2024-11-01T08:14:34.750007800Z",
     "start_time": "2024-11-01T08:14:34.583039500Z"
    }
   },
   "id": "57e6d7050c265cd"
  },
  {
   "cell_type": "markdown",
   "source": [
    "##### 2.5.3 垂直分割vsplit的用法"
   ],
   "metadata": {
    "collapsed": false
   },
   "id": "4b87cbf142e82b54"
  },
  {
   "cell_type": "code",
   "execution_count": 86,
   "outputs": [
    {
     "data": {
      "text/plain": "(array([[0, 1, 2, 3, 4],\n        [5, 6, 7, 8, 9]]),\n array([[10, 11, 12, 13, 14]]),\n array([[15, 16, 17, 18, 19],\n        [20, 21, 22, 23, 24]]))"
     },
     "execution_count": 86,
     "metadata": {},
     "output_type": "execute_result"
    }
   ],
   "source": [
    "upper, middle, lower = np.vsplit(x, [2, 3])\n",
    "upper, middle, lower"
   ],
   "metadata": {
    "collapsed": false,
    "ExecuteTime": {
     "end_time": "2024-11-01T08:16:13.683126900Z",
     "start_time": "2024-11-01T08:16:13.580695100Z"
    }
   },
   "id": "8b0b32df0c0de8fb"
  },
  {
   "cell_type": "markdown",
   "source": [
    "#### 2.7 使用Numpy进行数值运算\n",
    "\n",
    "##### 2.7.1 使用Numpy进行向量化运算"
   ],
   "metadata": {
    "collapsed": false
   },
   "id": "d2bc9d4063ef2fe5"
  },
  {
   "cell_type": "markdown",
   "source": [
    "1. 四则运算——加减乘除"
   ],
   "metadata": {
    "collapsed": false
   },
   "id": "b05962cbcaac3ee6"
  },
  {
   "cell_type": "code",
   "execution_count": 87,
   "outputs": [
    {
     "data": {
      "text/plain": "array([ 1,  2,  3,  4,  5,  6,  7,  8,  9, 10, 11, 12, 13, 14, 15, 16, 17,\n       18, 19, 20, 21, 22, 23, 24, 25])"
     },
     "execution_count": 87,
     "metadata": {},
     "output_type": "execute_result"
    }
   ],
   "source": [
    "x = np.arange(1, 26)\n",
    "x"
   ],
   "metadata": {
    "collapsed": false,
    "ExecuteTime": {
     "end_time": "2024-11-01T08:19:55.031371100Z",
     "start_time": "2024-11-01T08:19:54.935121700Z"
    }
   },
   "id": "4253ba8d7dd6a578"
  },
  {
   "cell_type": "code",
   "execution_count": 88,
   "outputs": [
    {
     "data": {
      "text/plain": "array([ 3,  4,  5,  6,  7,  8,  9, 10, 11, 12, 13, 14, 15, 16, 17, 18, 19,\n       20, 21, 22, 23, 24, 25, 26, 27])"
     },
     "execution_count": 88,
     "metadata": {},
     "output_type": "execute_result"
    }
   ],
   "source": [
    "x + 2"
   ],
   "metadata": {
    "collapsed": false,
    "ExecuteTime": {
     "end_time": "2024-11-01T08:20:00.377698800Z",
     "start_time": "2024-11-01T08:20:00.205757800Z"
    }
   },
   "id": "7c1972cd4a2924f4"
  },
  {
   "cell_type": "code",
   "execution_count": 89,
   "outputs": [
    {
     "data": {
      "text/plain": "array([  4,   8,  12,  16,  20,  24,  28,  32,  36,  40,  44,  48,  52,\n        56,  60,  64,  68,  72,  76,  80,  84,  88,  92,  96, 100])"
     },
     "execution_count": 89,
     "metadata": {},
     "output_type": "execute_result"
    }
   ],
   "source": [
    "x * 4"
   ],
   "metadata": {
    "collapsed": false,
    "ExecuteTime": {
     "end_time": "2024-11-01T08:20:11.115342300Z",
     "start_time": "2024-11-01T08:20:10.998060200Z"
    }
   },
   "id": "fe4a94a89c82b5e2"
  },
  {
   "cell_type": "code",
   "execution_count": 90,
   "outputs": [
    {
     "data": {
      "text/plain": "array([-2, -1,  0,  1,  2,  3,  4,  5,  6,  7,  8,  9, 10, 11, 12, 13, 14,\n       15, 16, 17, 18, 19, 20, 21, 22])"
     },
     "execution_count": 90,
     "metadata": {},
     "output_type": "execute_result"
    }
   ],
   "source": [
    "x - 3"
   ],
   "metadata": {
    "collapsed": false,
    "ExecuteTime": {
     "end_time": "2024-11-01T08:20:16.864909300Z",
     "start_time": "2024-11-01T08:20:16.727704800Z"
    }
   },
   "id": "ac685a22575be48b"
  },
  {
   "cell_type": "code",
   "execution_count": 91,
   "outputs": [
    {
     "data": {
      "text/plain": "array([ 0.5,  1. ,  1.5,  2. ,  2.5,  3. ,  3.5,  4. ,  4.5,  5. ,  5.5,\n        6. ,  6.5,  7. ,  7.5,  8. ,  8.5,  9. ,  9.5, 10. , 10.5, 11. ,\n       11.5, 12. , 12.5])"
     },
     "execution_count": 91,
     "metadata": {},
     "output_type": "execute_result"
    }
   ],
   "source": [
    "x / 2"
   ],
   "metadata": {
    "collapsed": false,
    "ExecuteTime": {
     "end_time": "2024-11-01T08:20:22.823129100Z",
     "start_time": "2024-11-01T08:20:22.737596900Z"
    }
   },
   "id": "7ff8c6ea4fee49ae"
  },
  {
   "cell_type": "code",
   "execution_count": 92,
   "outputs": [
    {
     "data": {
      "text/plain": "array([  1,   4,   9,  16,  25,  36,  49,  64,  81, 100, 121, 144, 169,\n       196, 225, 256, 289, 324, 361, 400, 441, 484, 529, 576, 625])"
     },
     "execution_count": 92,
     "metadata": {},
     "output_type": "execute_result"
    }
   ],
   "source": [
    "x ** 2"
   ],
   "metadata": {
    "collapsed": false,
    "ExecuteTime": {
     "end_time": "2024-11-01T08:20:28.134936500Z",
     "start_time": "2024-11-01T08:20:28.044563100Z"
    }
   },
   "id": "ca112ef2e14a1b45"
  },
  {
   "cell_type": "markdown",
   "source": [
    "2. 绝对值、三角函数、指数、对数"
   ],
   "metadata": {
    "collapsed": false
   },
   "id": "893375fab55f8724"
  },
  {
   "cell_type": "code",
   "execution_count": 93,
   "outputs": [
    {
     "data": {
      "text/plain": "array([ 1,  2,  3,  4,  5,  6,  7,  8,  9, 10, 11, 12, 13, 14, 15, 16, 17,\n       18, 19, 20, 21, 22, 23, 24, 25])"
     },
     "execution_count": 93,
     "metadata": {},
     "output_type": "execute_result"
    }
   ],
   "source": [
    "abs(x)"
   ],
   "metadata": {
    "collapsed": false,
    "ExecuteTime": {
     "end_time": "2024-11-01T08:21:41.447711900Z",
     "start_time": "2024-11-01T08:21:41.337490900Z"
    }
   },
   "id": "be73cdbd9dd53ec3"
  },
  {
   "cell_type": "code",
   "execution_count": 94,
   "outputs": [
    {
     "data": {
      "text/plain": "array([ 1,  2,  3,  4,  5,  6,  7,  8,  9, 10, 11, 12, 13, 14, 15, 16, 17,\n       18, 19, 20, 21, 22, 23, 24, 25])"
     },
     "execution_count": 94,
     "metadata": {},
     "output_type": "execute_result"
    }
   ],
   "source": [
    "np.abs(x)"
   ],
   "metadata": {
    "collapsed": false,
    "ExecuteTime": {
     "end_time": "2024-11-01T08:21:59.322445900Z",
     "start_time": "2024-11-01T08:21:59.198130100Z"
    }
   },
   "id": "fec2385818bf47d9"
  },
  {
   "cell_type": "code",
   "execution_count": 96,
   "outputs": [
    {
     "data": {
      "text/plain": "array([0.        , 0.34906585, 0.6981317 , 1.04719755, 1.3962634 ,\n       1.74532925, 2.0943951 , 2.44346095, 2.7925268 , 3.14159265])"
     },
     "execution_count": 96,
     "metadata": {},
     "output_type": "execute_result"
    }
   ],
   "source": [
    "theta = np.linspace(0, np.pi, 10)\n",
    "theta"
   ],
   "metadata": {
    "collapsed": false,
    "ExecuteTime": {
     "end_time": "2024-11-01T08:22:42.576220500Z",
     "start_time": "2024-11-01T08:22:42.541679100Z"
    }
   },
   "id": "60c2df53dbffcb19"
  },
  {
   "cell_type": "code",
   "execution_count": 97,
   "outputs": [
    {
     "data": {
      "text/plain": "(array([0.00000000e+00, 3.42020143e-01, 6.42787610e-01, 8.66025404e-01,\n        9.84807753e-01, 9.84807753e-01, 8.66025404e-01, 6.42787610e-01,\n        3.42020143e-01, 1.22464680e-16]),\n array([ 1.        ,  0.93969262,  0.76604444,  0.5       ,  0.17364818,\n        -0.17364818, -0.5       , -0.76604444, -0.93969262, -1.        ]),\n array([ 0.00000000e+00,  3.63970234e-01,  8.39099631e-01,  1.73205081e+00,\n         5.67128182e+00, -5.67128182e+00, -1.73205081e+00, -8.39099631e-01,\n        -3.63970234e-01, -1.22464680e-16]))"
     },
     "execution_count": 97,
     "metadata": {},
     "output_type": "execute_result"
    }
   ],
   "source": [
    "np.sin(theta), np.cos(theta), np.tan(theta)"
   ],
   "metadata": {
    "collapsed": false,
    "ExecuteTime": {
     "end_time": "2024-11-01T08:23:20.315726600Z",
     "start_time": "2024-11-01T08:23:20.212851100Z"
    }
   },
   "id": "4cc88d91ab27880e"
  },
  {
   "cell_type": "code",
   "execution_count": 98,
   "outputs": [
    {
     "name": "stderr",
     "output_type": "stream",
     "text": [
      "C:\\Users\\30520\\AppData\\Local\\Temp\\ipykernel_24612\\3488186434.py:1: RuntimeWarning: invalid value encountered in arcsin\n",
      "  np.arcsin(theta), np.arccos(theta), np.arctan(theta)\n",
      "C:\\Users\\30520\\AppData\\Local\\Temp\\ipykernel_24612\\3488186434.py:1: RuntimeWarning: invalid value encountered in arccos\n",
      "  np.arcsin(theta), np.arccos(theta), np.arctan(theta)\n"
     ]
    },
    {
     "data": {
      "text/plain": "(array([0.        , 0.35657406, 0.7727847 ,        nan,        nan,\n               nan,        nan,        nan,        nan,        nan]),\n array([1.57079633, 1.21422226, 0.79801163,        nan,        nan,\n               nan,        nan,        nan,        nan,        nan]),\n array([0.        , 0.33584237, 0.60947097, 0.80844879, 0.94928224,\n        1.05049817, 1.12533883, 1.18233656, 1.226925  , 1.26262726]))"
     },
     "execution_count": 98,
     "metadata": {},
     "output_type": "execute_result"
    }
   ],
   "source": [
    "np.arcsin(theta), np.arccos(theta), np.arctan(theta)"
   ],
   "metadata": {
    "collapsed": false,
    "ExecuteTime": {
     "end_time": "2024-11-01T08:23:49.916008500Z",
     "start_time": "2024-11-01T08:23:49.748645100Z"
    }
   },
   "id": "c7c0252a1a18e1b2"
  },
  {
   "cell_type": "code",
   "execution_count": 99,
   "outputs": [
    {
     "data": {
      "text/plain": "array([2.71828183e+00, 7.38905610e+00, 2.00855369e+01, 5.45981500e+01,\n       1.48413159e+02, 4.03428793e+02, 1.09663316e+03, 2.98095799e+03,\n       8.10308393e+03, 2.20264658e+04, 5.98741417e+04, 1.62754791e+05,\n       4.42413392e+05, 1.20260428e+06, 3.26901737e+06, 8.88611052e+06,\n       2.41549528e+07, 6.56599691e+07, 1.78482301e+08, 4.85165195e+08,\n       1.31881573e+09, 3.58491285e+09, 9.74480345e+09, 2.64891221e+10,\n       7.20048993e+10])"
     },
     "execution_count": 99,
     "metadata": {},
     "output_type": "execute_result"
    }
   ],
   "source": [
    "np.exp(x)"
   ],
   "metadata": {
    "collapsed": false,
    "ExecuteTime": {
     "end_time": "2024-11-01T08:24:19.950477500Z",
     "start_time": "2024-11-01T08:24:19.855418100Z"
    }
   },
   "id": "8b358f6c0b5d049c"
  },
  {
   "cell_type": "code",
   "execution_count": 100,
   "outputs": [
    {
     "data": {
      "text/plain": "(array([0.        , 0.69314718, 1.09861229, 1.38629436, 1.60943791,\n        1.79175947, 1.94591015, 2.07944154, 2.19722458, 2.30258509,\n        2.39789527, 2.48490665, 2.56494936, 2.63905733, 2.7080502 ,\n        2.77258872, 2.83321334, 2.89037176, 2.94443898, 2.99573227,\n        3.04452244, 3.09104245, 3.13549422, 3.17805383, 3.21887582]),\n array([0.        , 1.        , 1.5849625 , 2.        , 2.32192809,\n        2.5849625 , 2.80735492, 3.        , 3.169925  , 3.32192809,\n        3.45943162, 3.5849625 , 3.70043972, 3.80735492, 3.9068906 ,\n        4.        , 4.08746284, 4.169925  , 4.24792751, 4.32192809,\n        4.39231742, 4.45943162, 4.52356196, 4.5849625 , 4.64385619]),\n array([0.        , 0.30103   , 0.47712125, 0.60205999, 0.69897   ,\n        0.77815125, 0.84509804, 0.90308999, 0.95424251, 1.        ,\n        1.04139269, 1.07918125, 1.11394335, 1.14612804, 1.17609126,\n        1.20411998, 1.23044892, 1.25527251, 1.2787536 , 1.30103   ,\n        1.32221929, 1.34242268, 1.36172784, 1.38021124, 1.39794001]))"
     },
     "execution_count": 100,
     "metadata": {},
     "output_type": "execute_result"
    }
   ],
   "source": [
    "np.log(x), np.log2(x), np.log10(x)"
   ],
   "metadata": {
    "collapsed": false,
    "ExecuteTime": {
     "end_time": "2024-11-01T08:25:02.892961200Z",
     "start_time": "2024-11-01T08:25:02.804069100Z"
    }
   },
   "id": "ce18d1c198bb7a97"
  },
  {
   "cell_type": "markdown",
   "source": [
    "3. 两个数组之间的运算"
   ],
   "metadata": {
    "collapsed": false
   },
   "id": "b445b17a7a294ec4"
  },
  {
   "cell_type": "code",
   "execution_count": 103,
   "outputs": [
    {
     "data": {
      "text/plain": "(array([1., 2., 3., 4., 5.]), array([1., 2., 3., 4., 5.]))"
     },
     "execution_count": 103,
     "metadata": {},
     "output_type": "execute_result"
    }
   ],
   "source": [
    "x1 = np.linspace(1, 5, 5)\n",
    "x2 = np.linspace(1, 5, 5)\n",
    "x1, x2"
   ],
   "metadata": {
    "collapsed": false,
    "ExecuteTime": {
     "end_time": "2024-11-01T08:26:31.640975500Z",
     "start_time": "2024-11-01T08:26:31.513319900Z"
    }
   },
   "id": "b638376ba521407"
  },
  {
   "cell_type": "code",
   "execution_count": 104,
   "outputs": [
    {
     "data": {
      "text/plain": "array([ 2.,  4.,  6.,  8., 10.])"
     },
     "execution_count": 104,
     "metadata": {},
     "output_type": "execute_result"
    }
   ],
   "source": [
    "x1 + x2"
   ],
   "metadata": {
    "collapsed": false,
    "ExecuteTime": {
     "end_time": "2024-11-01T08:26:39.174055Z",
     "start_time": "2024-11-01T08:26:39.075140800Z"
    }
   },
   "id": "3acb2b6088f744f7"
  },
  {
   "cell_type": "code",
   "execution_count": 105,
   "outputs": [
    {
     "data": {
      "text/plain": "array([0., 0., 0., 0., 0.])"
     },
     "execution_count": 105,
     "metadata": {},
     "output_type": "execute_result"
    }
   ],
   "source": [
    "x1 - x2"
   ],
   "metadata": {
    "collapsed": false,
    "ExecuteTime": {
     "end_time": "2024-11-01T08:26:44.701815500Z",
     "start_time": "2024-11-01T08:26:44.584993100Z"
    }
   },
   "id": "1ca14c93b6e900ab"
  },
  {
   "cell_type": "code",
   "execution_count": 106,
   "outputs": [
    {
     "data": {
      "text/plain": "array([ 1.,  4.,  9., 16., 25.])"
     },
     "execution_count": 106,
     "metadata": {},
     "output_type": "execute_result"
    }
   ],
   "source": [
    "x1 * x2"
   ],
   "metadata": {
    "collapsed": false,
    "ExecuteTime": {
     "end_time": "2024-11-01T08:26:50.160558900Z",
     "start_time": "2024-11-01T08:26:50.007959500Z"
    }
   },
   "id": "3555f404fb61590c"
  },
  {
   "cell_type": "code",
   "execution_count": 107,
   "outputs": [
    {
     "data": {
      "text/plain": "array([1., 1., 1., 1., 1.])"
     },
     "execution_count": 107,
     "metadata": {},
     "output_type": "execute_result"
    }
   ],
   "source": [
    "x1 / x2"
   ],
   "metadata": {
    "collapsed": false,
    "ExecuteTime": {
     "end_time": "2024-11-01T08:27:04.836021200Z",
     "start_time": "2024-11-01T08:27:04.721841100Z"
    }
   },
   "id": "6f00fa5bc111af73"
  },
  {
   "cell_type": "markdown",
   "source": [
    "##### 2.7.2 矩阵运算"
   ],
   "metadata": {
    "collapsed": false
   },
   "id": "222d09db61a2ed00"
  },
  {
   "cell_type": "markdown",
   "source": [
    "1. 矩阵的转置"
   ],
   "metadata": {
    "collapsed": false
   },
   "id": "40dd5bb531c8f8ff"
  },
  {
   "cell_type": "code",
   "execution_count": 109,
   "outputs": [
    {
     "data": {
      "text/plain": "array([[ 4,  9,  6,  3],\n       [ 4,  8,  2, 11],\n       [ 2, 10,  8,  3]])"
     },
     "execution_count": 109,
     "metadata": {},
     "output_type": "execute_result"
    }
   ],
   "source": [
    "x = np.random.randint(1, 12, (3, 4))\n",
    "x"
   ],
   "metadata": {
    "collapsed": false,
    "ExecuteTime": {
     "end_time": "2024-11-01T08:29:25.975694200Z",
     "start_time": "2024-11-01T08:29:25.912167500Z"
    }
   },
   "id": "13372516e530d6c3"
  },
  {
   "cell_type": "code",
   "execution_count": 110,
   "outputs": [
    {
     "data": {
      "text/plain": "array([[ 4,  4,  2],\n       [ 9,  8, 10],\n       [ 6,  2,  8],\n       [ 3, 11,  3]])"
     },
     "execution_count": 110,
     "metadata": {},
     "output_type": "execute_result"
    }
   ],
   "source": [
    "x.T"
   ],
   "metadata": {
    "collapsed": false,
    "ExecuteTime": {
     "end_time": "2024-11-01T08:29:35.339988Z",
     "start_time": "2024-11-01T08:29:35.185251800Z"
    }
   },
   "id": "afa11b19f547221e"
  },
  {
   "cell_type": "markdown",
   "source": [
    "2. 矩阵乘法"
   ],
   "metadata": {
    "collapsed": false
   },
   "id": "ecc3eed605b4b0e0"
  },
  {
   "cell_type": "code",
   "execution_count": 112,
   "outputs": [
    {
     "data": {
      "text/plain": "(array([[1, 2, 3],\n        [2, 3, 4]]),\n array([[2, 2, 2],\n        [2, 2, 2]]))"
     },
     "execution_count": 112,
     "metadata": {},
     "output_type": "execute_result"
    }
   ],
   "source": [
    "x = np.array(\n",
    "    [\n",
    "        [1, 2, 3],\n",
    "        [2, 3, 4],\n",
    "    ]\n",
    ")\n",
    "\n",
    "y = np.array(\n",
    "    [\n",
    "        [2, 2, 2],\n",
    "        [2, 2, 2],\n",
    "    ]\n",
    ")\n",
    "x, y"
   ],
   "metadata": {
    "collapsed": false,
    "ExecuteTime": {
     "end_time": "2024-11-01T08:32:16.085168300Z",
     "start_time": "2024-11-01T08:32:16.039971900Z"
    }
   },
   "id": "f23ba62ddf005c49"
  },
  {
   "cell_type": "code",
   "execution_count": 114,
   "outputs": [
    {
     "data": {
      "text/plain": "array([[ 6,  6,  6],\n       [10, 10, 10],\n       [14, 14, 14]])"
     },
     "execution_count": 114,
     "metadata": {},
     "output_type": "execute_result"
    }
   ],
   "source": [
    "x.T.dot(y)"
   ],
   "metadata": {
    "collapsed": false,
    "ExecuteTime": {
     "end_time": "2024-11-01T08:32:32.709601900Z",
     "start_time": "2024-11-01T08:32:32.669253200Z"
    }
   },
   "id": "5c70523aa6fc6c69"
  },
  {
   "cell_type": "markdown",
   "source": [
    "在numpy中矩阵的乘法需要注意与x*y的区别，x*y为x与y中的元素的逐元素相乘。"
   ],
   "metadata": {
    "collapsed": false
   },
   "id": "f10fa5b687461c59"
  },
  {
   "cell_type": "code",
   "execution_count": 115,
   "outputs": [
    {
     "data": {
      "text/plain": "array([[2, 4, 6],\n       [4, 6, 8]])"
     },
     "execution_count": 115,
     "metadata": {},
     "output_type": "execute_result"
    }
   ],
   "source": [
    "x * y"
   ],
   "metadata": {
    "collapsed": false,
    "ExecuteTime": {
     "end_time": "2024-11-01T08:33:42.252216300Z",
     "start_time": "2024-11-01T08:33:42.079206400Z"
    }
   },
   "id": "cb8d795806823413"
  },
  {
   "cell_type": "markdown",
   "source": [
    "##### 2.7.3 广播运算\n",
    "\n",
    "广播运算是numpy中最主要的特性之一，其计算规则为：如果两个数组在维度上不一致，那么连个数组就会沿着维度为1的维度进行扩展以匹配另一个数组的形状。"
   ],
   "metadata": {
    "collapsed": false
   },
   "id": "9ecc9168eb2c539f"
  },
  {
   "cell_type": "code",
   "execution_count": 116,
   "outputs": [
    {
     "data": {
      "text/plain": "(array([[1., 1., 1.],\n        [1., 1., 1.],\n        [1., 1., 1.]]),\n array([1., 2., 3.]))"
     },
     "execution_count": 116,
     "metadata": {},
     "output_type": "execute_result"
    }
   ],
   "source": [
    "x = np.ones((3, 3))\n",
    "y = np.linspace(1, 3, 3)\n",
    "x, y"
   ],
   "metadata": {
    "collapsed": false,
    "ExecuteTime": {
     "end_time": "2024-11-01T08:37:08.987627900Z",
     "start_time": "2024-11-01T08:37:08.873244500Z"
    }
   },
   "id": "fcdb2b5ef9442e22"
  },
  {
   "cell_type": "code",
   "execution_count": 117,
   "outputs": [
    {
     "data": {
      "text/plain": "array([[2., 3., 4.],\n       [2., 3., 4.],\n       [2., 3., 4.]])"
     },
     "execution_count": 117,
     "metadata": {},
     "output_type": "execute_result"
    }
   ],
   "source": [
    "x + y"
   ],
   "metadata": {
    "collapsed": false,
    "ExecuteTime": {
     "end_time": "2024-11-01T08:37:15.934737100Z",
     "start_time": "2024-11-01T08:37:15.759118300Z"
    }
   },
   "id": "56f44625b220404f"
  },
  {
   "cell_type": "markdown",
   "source": [
    "#### 2.8 比较运算、布尔数组以及掩码"
   ],
   "metadata": {
    "collapsed": false
   },
   "id": "c9630eb9925de76f"
  },
  {
   "cell_type": "markdown",
   "source": [
    "##### 2.8.1 比较运算"
   ],
   "metadata": {
    "collapsed": false
   },
   "id": "6ae242abbe0fbcde"
  },
  {
   "cell_type": "code",
   "execution_count": 119,
   "outputs": [
    {
     "data": {
      "text/plain": "array([[80, 93, 24, 72, 37,  6, 76, 64, 16, 86],\n       [60, 51,  9, 18, 28, 69, 77, 22,  5,  3],\n       [51, 73, 36, 72, 27, 77, 36, 76, 46, 42],\n       [74, 43, 75, 39, 56,  3, 66, 30, 42, 97],\n       [93, 12, 97, 43, 84, 41, 51, 49, 72,  5],\n       [49, 71, 42, 39, 72, 35, 60, 56, 67, 67],\n       [46, 36, 27, 12, 29, 84, 52, 32, 35,  4],\n       [63, 71, 75, 45, 52, 43, 66, 35, 60, 61],\n       [31, 19, 59, 36, 66, 37, 15, 23, 10, 93],\n       [69, 41, 42, 61, 13, 92, 75, 54, 57, 27]])"
     },
     "execution_count": 119,
     "metadata": {},
     "output_type": "execute_result"
    }
   ],
   "source": [
    "x = np.random.randint(1, 100, (10, 10))\n",
    "x"
   ],
   "metadata": {
    "collapsed": false,
    "ExecuteTime": {
     "end_time": "2024-11-01T08:41:07.645656900Z",
     "start_time": "2024-11-01T08:41:07.567971100Z"
    }
   },
   "id": "3767ff01a0b56ae9"
  },
  {
   "cell_type": "code",
   "execution_count": 120,
   "outputs": [
    {
     "data": {
      "text/plain": "array([[ True,  True, False,  True, False, False,  True,  True, False,\n         True],\n       [ True,  True, False, False, False,  True,  True, False, False,\n        False],\n       [ True,  True, False,  True, False,  True, False,  True, False,\n        False],\n       [ True, False,  True, False,  True, False,  True, False, False,\n         True],\n       [ True, False,  True, False,  True, False,  True, False,  True,\n        False],\n       [False,  True, False, False,  True, False,  True,  True,  True,\n         True],\n       [False, False, False, False, False,  True,  True, False, False,\n        False],\n       [ True,  True,  True, False,  True, False,  True, False,  True,\n         True],\n       [False, False,  True, False,  True, False, False, False, False,\n         True],\n       [ True, False, False,  True, False,  True,  True,  True,  True,\n        False]])"
     },
     "execution_count": 120,
     "metadata": {},
     "output_type": "execute_result"
    }
   ],
   "source": [
    "x > 50"
   ],
   "metadata": {
    "collapsed": false,
    "ExecuteTime": {
     "end_time": "2024-11-01T08:41:23.623709800Z",
     "start_time": "2024-11-01T08:41:23.541206500Z"
    }
   },
   "id": "33ae8b6b2a403778"
  },
  {
   "cell_type": "markdown",
   "source": [
    "##### 2.8.2 操作布尔数组"
   ],
   "metadata": {
    "collapsed": false
   },
   "id": "68ba01c6778bbe1d"
  },
  {
   "cell_type": "code",
   "execution_count": 124,
   "outputs": [
    {
     "data": {
      "text/plain": "49"
     },
     "execution_count": 124,
     "metadata": {},
     "output_type": "execute_result"
    }
   ],
   "source": [
    "np.sum(x > 50)"
   ],
   "metadata": {
    "collapsed": false,
    "ExecuteTime": {
     "end_time": "2024-11-01T08:43:40.962301900Z",
     "start_time": "2024-11-01T08:43:40.919386900Z"
    }
   },
   "id": "308c51916fba6090"
  },
  {
   "cell_type": "code",
   "execution_count": 125,
   "outputs": [
    {
     "data": {
      "text/plain": "True"
     },
     "execution_count": 125,
     "metadata": {},
     "output_type": "execute_result"
    }
   ],
   "source": [
    "np.all(x > 0)"
   ],
   "metadata": {
    "collapsed": false,
    "ExecuteTime": {
     "end_time": "2024-11-01T08:44:01.760837100Z",
     "start_time": "2024-11-01T08:44:01.559358800Z"
    }
   },
   "id": "5158c40e6f310372"
  },
  {
   "cell_type": "code",
   "execution_count": 126,
   "outputs": [
    {
     "data": {
      "text/plain": "False"
     },
     "execution_count": 126,
     "metadata": {},
     "output_type": "execute_result"
    }
   ],
   "source": [
    "np.any(x == 50)"
   ],
   "metadata": {
    "collapsed": false,
    "ExecuteTime": {
     "end_time": "2024-11-01T08:44:20.281610800Z",
     "start_time": "2024-11-01T08:44:20.095354500Z"
    }
   },
   "id": "ef396f914a9904df"
  },
  {
   "cell_type": "code",
   "execution_count": 127,
   "outputs": [
    {
     "data": {
      "text/plain": "array([False, False, False, False, False, False, False, False, False,\n       False])"
     },
     "execution_count": 127,
     "metadata": {},
     "output_type": "execute_result"
    }
   ],
   "source": [
    "np.all(x < 50, axis=1)"
   ],
   "metadata": {
    "collapsed": false,
    "ExecuteTime": {
     "end_time": "2024-11-01T08:45:20.872903500Z",
     "start_time": "2024-11-01T08:45:20.829490300Z"
    }
   },
   "id": "4e21ac0936cbe908"
  },
  {
   "cell_type": "code",
   "execution_count": 128,
   "outputs": [
    {
     "data": {
      "text/plain": "array([[False, False,  True, False,  True, False, False, False,  True,\n        False],\n       [False, False, False,  True,  True, False, False,  True, False,\n        False],\n       [False, False,  True, False,  True, False,  True, False,  True,\n         True],\n       [False,  True, False,  True, False, False, False,  True,  True,\n        False],\n       [False, False, False,  True, False,  True, False,  True, False,\n        False],\n       [ True, False,  True,  True, False,  True, False, False, False,\n        False],\n       [ True,  True,  True, False,  True, False, False,  True,  True,\n        False],\n       [False, False, False,  True, False,  True, False,  True, False,\n        False],\n       [ True,  True, False,  True, False,  True, False,  True, False,\n        False],\n       [False,  True,  True, False, False, False, False, False, False,\n         True]])"
     },
     "execution_count": 128,
     "metadata": {},
     "output_type": "execute_result"
    }
   ],
   "source": [
    "(x > 15) & (x < 50)"
   ],
   "metadata": {
    "collapsed": false,
    "ExecuteTime": {
     "end_time": "2024-11-01T08:45:57.238815Z",
     "start_time": "2024-11-01T08:45:57.119339700Z"
    }
   },
   "id": "f654eb3edada5f5c"
  },
  {
   "cell_type": "code",
   "execution_count": 129,
   "outputs": [
    {
     "data": {
      "text/plain": "39"
     },
     "execution_count": 129,
     "metadata": {},
     "output_type": "execute_result"
    }
   ],
   "source": [
    "np.sum((x > 15) & (x < 50))"
   ],
   "metadata": {
    "collapsed": false,
    "ExecuteTime": {
     "end_time": "2024-11-01T08:46:23.345715900Z",
     "start_time": "2024-11-01T08:46:23.303319800Z"
    }
   },
   "id": "347f49cfb6483fa"
  },
  {
   "cell_type": "markdown",
   "source": [
    "##### 2.8.3 布尔数组作为掩码"
   ],
   "metadata": {
    "collapsed": false
   },
   "id": "c7cd5c65b2ba0237"
  },
  {
   "cell_type": "code",
   "execution_count": 121,
   "outputs": [
    {
     "data": {
      "text/plain": "array([[7, 2, 3, 7, 9],\n       [2, 1, 4, 9, 6],\n       [7, 6, 9, 1, 7],\n       [9, 3, 1, 1, 6],\n       [1, 2, 6, 7, 3]])"
     },
     "execution_count": 121,
     "metadata": {},
     "output_type": "execute_result"
    }
   ],
   "source": [
    "x1 = np.random.randint(1, 10, (5, 5))\n",
    "x1"
   ],
   "metadata": {
    "collapsed": false,
    "ExecuteTime": {
     "end_time": "2024-11-01T08:42:14.266054200Z",
     "start_time": "2024-11-01T08:42:14.126581900Z"
    }
   },
   "id": "4a4726081cdbbde1"
  },
  {
   "cell_type": "code",
   "execution_count": 122,
   "outputs": [
    {
     "data": {
      "text/plain": "array([[ True, False, False,  True,  True],\n       [False, False, False,  True,  True],\n       [ True,  True,  True, False,  True],\n       [ True, False, False, False,  True],\n       [False, False,  True,  True, False]])"
     },
     "execution_count": 122,
     "metadata": {},
     "output_type": "execute_result"
    }
   ],
   "source": [
    "x1 > 5"
   ],
   "metadata": {
    "collapsed": false,
    "ExecuteTime": {
     "end_time": "2024-11-01T08:42:21.361614100Z",
     "start_time": "2024-11-01T08:42:21.232062600Z"
    }
   },
   "id": "fe2b40adcc52638a"
  },
  {
   "cell_type": "code",
   "execution_count": 123,
   "outputs": [
    {
     "data": {
      "text/plain": "array([7, 7, 9, 9, 6, 7, 6, 9, 7, 9, 6, 6, 7])"
     },
     "execution_count": 123,
     "metadata": {},
     "output_type": "execute_result"
    }
   ],
   "source": [
    "x1[x1 > 5]"
   ],
   "metadata": {
    "collapsed": false,
    "ExecuteTime": {
     "end_time": "2024-11-01T08:42:31.811350300Z",
     "start_time": "2024-11-01T08:42:31.646782500Z"
    }
   },
   "id": "bf613536f359722b"
  },
  {
   "cell_type": "markdown",
   "source": [
    "#### 2.9 其他相关操作\n",
    "\n",
    "##### 2.9.1 数值排序"
   ],
   "metadata": {
    "collapsed": false
   },
   "id": "2b103111d65f839c"
  },
  {
   "cell_type": "code",
   "execution_count": 132,
   "outputs": [
    {
     "data": {
      "text/plain": "array([], shape=(10, 0), dtype=int32)"
     },
     "execution_count": 132,
     "metadata": {},
     "output_type": "execute_result"
    }
   ],
   "source": [
    "x = np.random.randint(1, 20, (10, 0))\n",
    "x"
   ],
   "metadata": {
    "collapsed": false,
    "ExecuteTime": {
     "end_time": "2024-11-01T08:50:04.220190200Z",
     "start_time": "2024-11-01T08:50:04.135493300Z"
    }
   },
   "id": "a4dcbbb986fd4390"
  },
  {
   "cell_type": "markdown",
   "source": [
    "1. 产生新的排序数组"
   ],
   "metadata": {
    "collapsed": false
   },
   "id": "e3bb03222f85a903"
  },
  {
   "cell_type": "code",
   "execution_count": 133,
   "outputs": [
    {
     "data": {
      "text/plain": "array([], shape=(10, 0), dtype=int32)"
     },
     "execution_count": 133,
     "metadata": {},
     "output_type": "execute_result"
    }
   ],
   "source": [
    "np.sort(x)"
   ],
   "metadata": {
    "collapsed": false,
    "ExecuteTime": {
     "end_time": "2024-11-01T08:50:39.674710300Z",
     "start_time": "2024-11-01T08:50:39.575946100Z"
    }
   },
   "id": "8d17481313ff4933"
  },
  {
   "cell_type": "markdown",
   "source": [
    "2. 对原数组进行排序"
   ],
   "metadata": {
    "collapsed": false
   },
   "id": "15479d0dcd3db0d8"
  },
  {
   "cell_type": "code",
   "execution_count": 135,
   "outputs": [
    {
     "data": {
      "text/plain": "array([], shape=(10, 0), dtype=int32)"
     },
     "execution_count": 135,
     "metadata": {},
     "output_type": "execute_result"
    }
   ],
   "source": [
    "x.sort()\n",
    "x"
   ],
   "metadata": {
    "collapsed": false,
    "ExecuteTime": {
     "end_time": "2024-11-01T08:54:33.468146200Z",
     "start_time": "2024-11-01T08:54:33.394015500Z"
    }
   },
   "id": "47619f69fe7e8d33"
  },
  {
   "cell_type": "markdown",
   "source": [
    "3. 获得排序索引"
   ],
   "metadata": {
    "collapsed": false
   },
   "id": "bd45be32bc815aa4"
  },
  {
   "cell_type": "code",
   "execution_count": 136,
   "outputs": [
    {
     "data": {
      "text/plain": "array([], shape=(10, 0), dtype=int64)"
     },
     "execution_count": 136,
     "metadata": {},
     "output_type": "execute_result"
    }
   ],
   "source": [
    "i = np.argsort(x)\n",
    "i"
   ],
   "metadata": {
    "collapsed": false,
    "ExecuteTime": {
     "end_time": "2024-11-01T08:55:38.995700900Z",
     "start_time": "2024-11-01T08:55:38.919709600Z"
    }
   },
   "id": "308d7465fa0af550"
  },
  {
   "cell_type": "markdown",
   "source": [
    "##### 2.9.2 最大值最小值"
   ],
   "metadata": {
    "collapsed": false
   },
   "id": "1a1dfa4b279e8620"
  },
  {
   "cell_type": "code",
   "execution_count": 138,
   "outputs": [
    {
     "data": {
      "text/plain": "(37, 22)"
     },
     "execution_count": 138,
     "metadata": {},
     "output_type": "execute_result"
    }
   ],
   "source": [
    "x = np.random.randint(20, 50, size=10)\n",
    "np.max(x), np.min(x)"
   ],
   "metadata": {
    "collapsed": false,
    "ExecuteTime": {
     "end_time": "2024-11-01T08:57:15.810053800Z",
     "start_time": "2024-11-01T08:57:15.747826Z"
    }
   },
   "id": "69b8b12acdbec6c4"
  },
  {
   "cell_type": "code",
   "execution_count": 139,
   "outputs": [
    {
     "data": {
      "text/plain": "(0, 2)"
     },
     "execution_count": 139,
     "metadata": {},
     "output_type": "execute_result"
    }
   ],
   "source": [
    "np.argmax(x), np.argmin(x)"
   ],
   "metadata": {
    "collapsed": false,
    "ExecuteTime": {
     "end_time": "2024-11-01T08:57:54.412075100Z",
     "start_time": "2024-11-01T08:57:54.275996900Z"
    }
   },
   "id": "edacc9d409804c7e"
  },
  {
   "cell_type": "markdown",
   "source": [
    "##### 2.9.3 求和、求积"
   ],
   "metadata": {
    "collapsed": false
   },
   "id": "993b751019f2539c"
  },
  {
   "cell_type": "code",
   "execution_count": 144,
   "outputs": [
    {
     "data": {
      "text/plain": "array([[0.98880194, 0.92618177, 0.3017475 , 0.1766572 ],\n       [0.70331712, 0.08324094, 0.23133599, 0.79045493],\n       [0.14156755, 0.58376208, 0.06529043, 0.82588802]])"
     },
     "execution_count": 144,
     "metadata": {},
     "output_type": "execute_result"
    }
   ],
   "source": [
    "x = np.random.random((3, 4))\n",
    "x"
   ],
   "metadata": {
    "collapsed": false,
    "ExecuteTime": {
     "end_time": "2024-11-01T09:01:50.739789300Z",
     "start_time": "2024-11-01T09:01:50.631728800Z"
    }
   },
   "id": "96354419ae2d334"
  },
  {
   "cell_type": "markdown",
   "source": [
    "1. 全体求和"
   ],
   "metadata": {
    "collapsed": false
   },
   "id": "e83607b0435c4b7"
  },
  {
   "cell_type": "code",
   "execution_count": 145,
   "outputs": [
    {
     "data": {
      "text/plain": "5.818245455256784"
     },
     "execution_count": 145,
     "metadata": {},
     "output_type": "execute_result"
    }
   ],
   "source": [
    "np.sum(x)"
   ],
   "metadata": {
    "collapsed": false,
    "ExecuteTime": {
     "end_time": "2024-11-01T09:01:52.912468400Z",
     "start_time": "2024-11-01T09:01:52.787546600Z"
    }
   },
   "id": "56f4c9703b37e70b"
  },
  {
   "cell_type": "markdown",
   "source": [
    "2. 按行求和"
   ],
   "metadata": {
    "collapsed": false
   },
   "id": "398feb7188787174"
  },
  {
   "cell_type": "code",
   "execution_count": 146,
   "outputs": [
    {
     "data": {
      "text/plain": "array([2.39338841, 1.80834897, 1.61650807])"
     },
     "execution_count": 146,
     "metadata": {},
     "output_type": "execute_result"
    }
   ],
   "source": [
    "np.sum(x, axis=1)"
   ],
   "metadata": {
    "collapsed": false,
    "ExecuteTime": {
     "end_time": "2024-11-01T09:01:54.179142800Z",
     "start_time": "2024-11-01T09:01:54.144494800Z"
    }
   },
   "id": "5836df0283c7e1c5"
  },
  {
   "cell_type": "markdown",
   "source": [
    "3. 按列求和"
   ],
   "metadata": {
    "collapsed": false
   },
   "id": "b39969b4dc7b489e"
  },
  {
   "cell_type": "code",
   "execution_count": 147,
   "outputs": [
    {
     "data": {
      "text/plain": "array([1.8336866 , 1.59318479, 0.59837392, 1.79300015])"
     },
     "execution_count": 147,
     "metadata": {},
     "output_type": "execute_result"
    }
   ],
   "source": [
    "np.sum(x, axis=0)"
   ],
   "metadata": {
    "collapsed": false,
    "ExecuteTime": {
     "end_time": "2024-11-01T09:02:20.657148200Z",
     "start_time": "2024-11-01T09:02:20.502020700Z"
    }
   },
   "id": "3c5ce2306963815b"
  },
  {
   "cell_type": "markdown",
   "source": [
    "##### 2.9.4 求积"
   ],
   "metadata": {
    "collapsed": false
   },
   "id": "18803f92e51b277b"
  },
  {
   "cell_type": "code",
   "execution_count": 148,
   "outputs": [
    {
     "data": {
      "text/plain": "2.328945411807964e-06"
     },
     "execution_count": 148,
     "metadata": {},
     "output_type": "execute_result"
    }
   ],
   "source": [
    "np.prod(x)"
   ],
   "metadata": {
    "collapsed": false,
    "ExecuteTime": {
     "end_time": "2024-11-01T09:02:56.490270200Z",
     "start_time": "2024-11-01T09:02:56.249057400Z"
    }
   },
   "id": "6fdf60d9e63c35de"
  },
  {
   "cell_type": "markdown",
   "source": [
    "##### 2.9.5 中位数、均值、方差、标准差"
   ],
   "metadata": {
    "collapsed": false
   },
   "id": "3ae0c482c2ab3cf"
  },
  {
   "cell_type": "code",
   "execution_count": 149,
   "outputs": [],
   "source": [
    "x = np.random.normal(0, 1, size=10000)"
   ],
   "metadata": {
    "collapsed": false,
    "ExecuteTime": {
     "end_time": "2024-11-01T09:04:42.318262800Z",
     "start_time": "2024-11-01T09:04:42.185125Z"
    }
   },
   "id": "7d9e585aee4f6724"
  },
  {
   "cell_type": "code",
   "execution_count": 150,
   "outputs": [
    {
     "data": {
      "text/plain": "(array([  2.,   1.,  11.,   9.,   7.,  19.,  29.,  40.,  53.,  62.,  89.,\n        120., 132., 202., 225., 287., 322., 407., 435., 485., 516., 547.,\n        588., 533., 564., 559., 580., 516., 442., 438., 355., 289., 280.,\n        194., 148., 140., 113.,  69.,  69.,  46.,  26.,  20.,  10.,   6.,\n          4.,   4.,   4.,   2.,   0.,   1.]),\n array([-3.52200172, -3.37377404, -3.22554635, -3.07731867, -2.92909098,\n        -2.7808633 , -2.63263562, -2.48440793, -2.33618025, -2.18795256,\n        -2.03972488, -1.8914972 , -1.74326951, -1.59504183, -1.44681414,\n        -1.29858646, -1.15035877, -1.00213109, -0.85390341, -0.70567572,\n        -0.55744804, -0.40922035, -0.26099267, -0.11276499,  0.0354627 ,\n         0.18369038,  0.33191807,  0.48014575,  0.62837343,  0.77660112,\n         0.9248288 ,  1.07305649,  1.22128417,  1.36951185,  1.51773954,\n         1.66596722,  1.81419491,  1.96242259,  2.11065028,  2.25887796,\n         2.40710564,  2.55533333,  2.70356101,  2.8517887 ,  3.00001638,\n         3.14824406,  3.29647175,  3.44469943,  3.59292712,  3.7411548 ,\n         3.88938248]),\n <BarContainer object of 50 artists>)"
     },
     "execution_count": 150,
     "metadata": {},
     "output_type": "execute_result"
    },
    {
     "data": {
      "text/plain": "<Figure size 640x480 with 1 Axes>",
      "image/png": "[encoded data removed]"
     },
     "metadata": {},
     "output_type": "display_data"
    }
   ],
   "source": [
    "import matplotlib.pyplot as plt\n",
    "\n",
    "plt.hist(x, bins=50)"
   ],
   "metadata": {
    "collapsed": false,
    "ExecuteTime": {
     "end_time": "2024-11-01T09:05:12.328217100Z",
     "start_time": "2024-11-01T09:05:11.721713400Z"
    }
   },
   "id": "f8af3bac190f7551"
  },
  {
   "cell_type": "markdown",
   "source": [
    "1. 中位数"
   ],
   "metadata": {
    "collapsed": false
   },
   "id": "39fa39bcafaf9ffa"
  },
  {
   "cell_type": "code",
   "execution_count": 151,
   "outputs": [
    {
     "data": {
      "text/plain": "0.0015149872607518981"
     },
     "execution_count": 151,
     "metadata": {},
     "output_type": "execute_result"
    }
   ],
   "source": [
    "np.median(x)"
   ],
   "metadata": {
    "collapsed": false,
    "ExecuteTime": {
     "end_time": "2024-11-01T09:10:44.772883600Z",
     "start_time": "2024-11-01T09:10:44.614326600Z"
    }
   },
   "id": "272de8ca9cb62b91"
  },
  {
   "cell_type": "markdown",
   "source": [
    "2. 均值"
   ],
   "metadata": {
    "collapsed": false
   },
   "id": "31016ff6057860a2"
  },
  {
   "cell_type": "code",
   "execution_count": 152,
   "outputs": [
    {
     "data": {
      "text/plain": "-0.0030815283536774433"
     },
     "execution_count": 152,
     "metadata": {},
     "output_type": "execute_result"
    }
   ],
   "source": [
    "np.mean(x)"
   ],
   "metadata": {
    "collapsed": false,
    "ExecuteTime": {
     "end_time": "2024-11-01T09:10:53.408720500Z",
     "start_time": "2024-11-01T09:10:53.284706100Z"
    }
   },
   "id": "52a8beaa0ec5612a"
  },
  {
   "cell_type": "markdown",
   "source": [
    "3. 方差与标准差"
   ],
   "metadata": {
    "collapsed": false
   },
   "id": "c7d6cea78ff5414f"
  },
  {
   "cell_type": "code",
   "execution_count": 153,
   "outputs": [
    {
     "data": {
      "text/plain": "1.0277333725899978"
     },
     "execution_count": 153,
     "metadata": {},
     "output_type": "execute_result"
    }
   ],
   "source": [
    "np.var(x)"
   ],
   "metadata": {
    "collapsed": false,
    "ExecuteTime": {
     "end_time": "2024-11-01T09:11:02.468846Z",
     "start_time": "2024-11-01T09:11:02.326505900Z"
    }
   },
   "id": "2ee00d3bc8c41302"
  },
  {
   "cell_type": "code",
   "execution_count": 154,
   "outputs": [
    {
     "data": {
      "text/plain": "1.0137718543094387"
     },
     "execution_count": 154,
     "metadata": {},
     "output_type": "execute_result"
    }
   ],
   "source": [
    "np.std(x)"
   ],
   "metadata": {
    "collapsed": false,
    "ExecuteTime": {
     "end_time": "2024-11-01T09:11:10.759735400Z",
     "start_time": "2024-11-01T09:11:10.573458300Z"
    }
   },
   "id": "9ac3df410eecdc38"
  }
 ],
 "metadata": {
  "kernelspec": {
   "display_name": "Python 3",
   "language": "python",
   "name": "python3"
  },
  "language_info": {
   "codemirror_mode": {
    "name": "ipython",
    "version": 2
   },
   "file_extension": ".py",
   "mimetype": "text/x-python",
   "name": "python",
   "nbconvert_exporter": "python",
   "pygments_lexer": "ipython2",
   "version": "2.7.6"
  }
 },
 "nbformat": 4,
 "nbformat_minor": 5
}
